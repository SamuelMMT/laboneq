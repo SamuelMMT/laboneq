{
 "cells": [
  {
   "attachments": {},
   "cell_type": "markdown",
   "metadata": {},
   "source": [
    "## Imports"
   ]
  },
  {
   "cell_type": "code",
   "execution_count": 1,
   "metadata": {},
   "outputs": [],
   "source": [
    "#Initial Imports\n",
    "%config IPCompleter.greedy=True\n",
    "\n",
    "# convenience import for all QCCS software functionality\n",
    "from laboneq.simple import *\n",
    "\n",
    "# helper import - needed to extract qubit and readout parameters from measurement data\n",
    "from tuneup_helper import *\n",
    "\n",
    "# plotting and fitting functionality\n",
    "from laboneq.analysis.fitting import (\n",
    "    lorentzian,\n",
    "    oscillatory,\n",
    "    oscillatory_decay,\n",
    ")\n",
    "\n",
    "# for saving results and pulse sheets\n",
    "from pathlib import Path\n",
    "import time\n",
    "\n",
    "import matplotlib.pyplot as plt\n",
    "import numpy as np"
   ]
  },
  {
   "attachments": {},
   "cell_type": "markdown",
   "metadata": {},
   "source": [
    "## Descriptor"
   ]
  },
  {
   "cell_type": "code",
   "execution_count": 8,
   "metadata": {},
   "outputs": [],
   "source": [
    "#DESCRITPTOR \n",
    "#Define initial PHYSICAL device setup, Logical Signal Lines of the Instrument are defined here and later in a Signal Map mapped to the Experimental Signal lines \n",
    "\n",
    "#Fill in missing address\n",
    "\n",
    "descriptor_setup_small= \"\"\"\\\n",
    "instruments:\n",
    "  SHFSG:\n",
    "  - address: DEV12265\n",
    "    uid: device_shfsg_1\n",
    "  SHFQA:\n",
    "  - address: DEV12249\n",
    "    uid: device_shfqa_1\n",
    "  PQSC:\n",
    "  - address: DEV10----\n",
    "    uid: device_pqsc\n",
    "connections:\n",
    "  device_shfsg:\n",
    "    - iq_signal: q0/drive_line\n",
    "      ports: SGCHANNELS/0/OUTPUT\n",
    "  device_shfqa:\n",
    "    - iq_signal: q0/measure_line\n",
    "      ports: QACHANNELS/0/OUTPUT\n",
    "    - acquire_signal: q0/acquire_line\n",
    "      ports: QACHANNELS/0/INPUT\n",
    "  device_pqsc:\n",
    "    - to: device_shfsg_1\n",
    "      port: ZSYNCS/0\n",
    "    - to: device_shfqa_1\n",
    "      port: ZSYNCS/1\n",
    "\"\"\""
   ]
  },
  {
   "attachments": {},
   "cell_type": "markdown",
   "metadata": {},
   "source": [
    "## Device Setup"
   ]
  },
  {
   "cell_type": "code",
   "execution_count": 9,
   "metadata": {},
   "outputs": [],
   "source": [
    "# define the DeviceSetup from descriptor - additionally include information on the dataserver used to connect to the instruments \n",
    "#with the device set\n",
    "device_setup = DeviceSetup.from_descriptor(\n",
    "    #or with example import and yaml also possible: yaml_text=descriptor_shfsg_shfqa_pqsc\n",
    "    descriptor_setup_small,\n",
    "    server_host=\"192.168.1.10\", #IP-Address of the LabOne (NOT Q) dataserver used to communicate with the instrument\n",
    "    server_port=\"8004\",\n",
    "    setup_name=\"psi\",\n",
    ") "
   ]
  },
  {
   "attachments": {},
   "cell_type": "markdown",
   "metadata": {},
   "source": [
    "Create and Connect to a QCCS Session\n",
    "\n",
    "Establishes the connection to the instruments and readies them for experiments\n",
    "QCCS monitor is a software to monitor all the devices in one. It can be started as follows:\n",
    "LabOne needs to run, be connected to the server and then run\n",
    "\n",
    "https://docs.zhinst.com/labone_q_user_manual/components/qccs_monitor/"
   ]
  },
  {
   "cell_type": "code",
   "execution_count": 10,
   "metadata": {},
   "outputs": [
    {
     "name": "stdout",
     "output_type": "stream",
     "text": [
      "[2023.10.16 14:40:47.742] INFO    Logging initialized from [Default inline config in laboneq.controller.laboneq_logging] logdir is u:\\LabOneQ Software Local Samuel\\laboneq\\LabPC_Software\\Qubit_Characterization\\laboneq_output\\log\n"
     ]
    },
    {
     "ename": "AttributeError",
     "evalue": "'NoneType' object has no attribute 'uid'",
     "output_type": "error",
     "traceback": [
      "\u001b[1;31m---------------------------------------------------------------------------\u001b[0m",
      "\u001b[1;31mAttributeError\u001b[0m                            Traceback (most recent call last)",
      "Cell \u001b[1;32mIn[10], line 6\u001b[0m\n\u001b[0;32m      4\u001b[0m \u001b[39m# create and connect to a session\u001b[39;00m\n\u001b[0;32m      5\u001b[0m session \u001b[39m=\u001b[39m Session(device_setup\u001b[39m=\u001b[39mdevice_setup)\n\u001b[1;32m----> 6\u001b[0m session\u001b[39m.\u001b[39mconnect(do_emulation\u001b[39m=\u001b[39memulate)\n",
      "File \u001b[1;32m\\\\home\\home\\sam68451\\LabOneQ Software Local Samuel\\laboneq\\laboneq\\_observability\\tracing\\_tracer.py:73\u001b[0m, in \u001b[0;36mtrace.<locals>.outer_wrapper.<locals>.wrapper\u001b[1;34m(*args, **kwargs)\u001b[0m\n\u001b[0;32m     71\u001b[0m             tracing\u001b[39m.\u001b[39menable_tracing()\n\u001b[0;32m     72\u001b[0m         \u001b[39mreturn\u001b[39;00m res\n\u001b[1;32m---> 73\u001b[0m \u001b[39mreturn\u001b[39;00m func(\u001b[39m*\u001b[39margs, \u001b[39m*\u001b[39m\u001b[39m*\u001b[39mkwargs)\n",
      "File \u001b[1;32m\\\\home\\home\\sam68451\\LabOneQ Software Local Samuel\\laboneq\\laboneq\\dsl\\session.py:236\u001b[0m, in \u001b[0;36mSession.connect\u001b[1;34m(self, do_emulation, ignore_version_mismatch, reset_devices)\u001b[0m\n\u001b[0;32m    234\u001b[0m     \u001b[39mself\u001b[39m\u001b[39m.\u001b[39mdisconnect()\n\u001b[0;32m    235\u001b[0m \u001b[39mself\u001b[39m\u001b[39m.\u001b[39m_connection_state\u001b[39m.\u001b[39memulated \u001b[39m=\u001b[39m do_emulation\n\u001b[1;32m--> 236\u001b[0m LabOneQFacade\u001b[39m.\u001b[39mconnect(\u001b[39mself\u001b[39m)\n\u001b[0;32m    237\u001b[0m \u001b[39mself\u001b[39m\u001b[39m.\u001b[39m_connection_state\u001b[39m.\u001b[39mconnected \u001b[39m=\u001b[39m \u001b[39mTrue\u001b[39;00m\n\u001b[0;32m    238\u001b[0m \u001b[39mreturn\u001b[39;00m \u001b[39mself\u001b[39m\u001b[39m.\u001b[39m_connection_state\n",
      "File \u001b[1;32m\\\\home\\home\\sam68451\\LabOneQ Software Local Samuel\\laboneq\\laboneq\\dsl\\laboneq_facade.py:38\u001b[0m, in \u001b[0;36mLabOneQFacade.connect\u001b[1;34m(session)\u001b[0m\n\u001b[0;32m     35\u001b[0m run_parameters\u001b[39m.\u001b[39mignore_version_mismatch \u001b[39m=\u001b[39m session\u001b[39m.\u001b[39m_ignore_version_mismatch\n\u001b[0;32m     36\u001b[0m run_parameters\u001b[39m.\u001b[39mreset_devices \u001b[39m=\u001b[39m session\u001b[39m.\u001b[39m_reset_devices\n\u001b[1;32m---> 38\u001b[0m target_setup \u001b[39m=\u001b[39m convert_dsl_to_target_setup(session\u001b[39m.\u001b[39m_device_setup)\n\u001b[0;32m     40\u001b[0m controller \u001b[39m=\u001b[39m ctrl\u001b[39m.\u001b[39mController(\n\u001b[0;32m     41\u001b[0m     run_parameters\u001b[39m=\u001b[39mrun_parameters,\n\u001b[0;32m     42\u001b[0m     target_setup\u001b[39m=\u001b[39mtarget_setup,\n\u001b[0;32m     43\u001b[0m     user_functions\u001b[39m=\u001b[39msession\u001b[39m.\u001b[39m_user_functions,\n\u001b[0;32m     44\u001b[0m )\n\u001b[0;32m     45\u001b[0m controller\u001b[39m.\u001b[39mconnect()\n",
      "File \u001b[1;32m\\\\home\\home\\sam68451\\LabOneQ Software Local Samuel\\laboneq\\laboneq\\implementation\\legacy_adapters\\converters_target_setup.py:21\u001b[0m, in \u001b[0;36mconvert_dsl_to_target_setup\u001b[1;34m(device_setup)\u001b[0m\n\u001b[0;32m     20\u001b[0m \u001b[39mdef\u001b[39;00m \u001b[39mconvert_dsl_to_target_setup\u001b[39m(device_setup: DeviceSetup) \u001b[39m-\u001b[39m\u001b[39m>\u001b[39m TargetSetup:\n\u001b[1;32m---> 21\u001b[0m     new_setup \u001b[39m=\u001b[39m convert_device_setup_to_setup(device_setup)\n\u001b[0;32m     22\u001b[0m     target_setup \u001b[39m=\u001b[39m TargetSetupGenerator\u001b[39m.\u001b[39mfrom_setup(new_setup)\n\u001b[0;32m     23\u001b[0m     \u001b[39mreturn\u001b[39;00m target_setup\n",
      "File \u001b[1;32m\\\\home\\home\\sam68451\\LabOneQ Software Local Samuel\\laboneq\\laboneq\\implementation\\legacy_adapters\\device_setup_converter.py:599\u001b[0m, in \u001b[0;36mconvert_device_setup_to_setup\u001b[1;34m(device_setup)\u001b[0m\n\u001b[0;32m    593\u001b[0m     servers[name] \u001b[39m=\u001b[39m convert_dataserver(server)\n\u001b[0;32m    595\u001b[0m calibration \u001b[39m=\u001b[39m calibration_converter\u001b[39m.\u001b[39mconvert_calibration(\n\u001b[0;32m    596\u001b[0m     device_setup\u001b[39m.\u001b[39mget_calibration(),\n\u001b[0;32m    597\u001b[0m     uid_formatter\u001b[39m=\u001b[39mcalibration_converter\u001b[39m.\u001b[39mformat_ls_pc_uid,\n\u001b[0;32m    598\u001b[0m )\n\u001b[1;32m--> 599\u001b[0m (legacy_instruments, legacy_logical_signal_groups) \u001b[39m=\u001b[39m recombine_shfqcs(\n\u001b[0;32m    600\u001b[0m     device_setup\u001b[39m.\u001b[39minstruments,\n\u001b[0;32m    601\u001b[0m     device_setup\u001b[39m.\u001b[39mlogical_signal_groups,\n\u001b[0;32m    602\u001b[0m )\n\u001b[0;32m    604\u001b[0m lsgs, ls_legacy_to_new_map \u001b[39m=\u001b[39m convert_logical_signal_groups_with_ls_mapping(\n\u001b[0;32m    605\u001b[0m     legacy_logical_signal_groups\n\u001b[0;32m    606\u001b[0m )\n\u001b[0;32m    608\u001b[0m converters \u001b[39m=\u001b[39m [\n\u001b[0;32m    609\u001b[0m     InstrumentConverter(\n\u001b[0;32m    610\u001b[0m         instr,\n\u001b[1;32m   (...)\u001b[0m\n\u001b[0;32m    614\u001b[0m     \u001b[39mfor\u001b[39;00m instr \u001b[39min\u001b[39;00m legacy_instruments\n\u001b[0;32m    615\u001b[0m ]\n",
      "File \u001b[1;32m\\\\home\\home\\sam68451\\LabOneQ Software Local Samuel\\laboneq\\laboneq\\implementation\\legacy_adapters\\device_setup_converter.py:556\u001b[0m, in \u001b[0;36mrecombine_shfqcs\u001b[1;34m(instruments, logical_signal_groups)\u001b[0m\n\u001b[0;32m    548\u001b[0m shfqcs \u001b[39m=\u001b[39m {\n\u001b[0;32m    549\u001b[0m     uid: combine_shfqa_and_shfsg(\n\u001b[0;32m    550\u001b[0m         shfqa, virtual_shfsgs[uid \u001b[39m+\u001b[39m VIRTUAL_SHFSG_UID_SUFFIX]\n\u001b[0;32m    551\u001b[0m     )\n\u001b[0;32m    552\u001b[0m     \u001b[39mfor\u001b[39;00m uid, shfqa \u001b[39min\u001b[39;00m (virtual_shfqas \u001b[39m|\u001b[39m extra_virtual_shfqas)\u001b[39m.\u001b[39mitems()\n\u001b[0;32m    553\u001b[0m }\n\u001b[0;32m    555\u001b[0m \u001b[39m# replace SHFQAs with their SHFQC and drop SHFSGs:\u001b[39;00m\n\u001b[1;32m--> 556\u001b[0m instruments \u001b[39m=\u001b[39m [\n\u001b[0;32m    557\u001b[0m     shfqcs\u001b[39m.\u001b[39mget(instr\u001b[39m.\u001b[39muid, instr)\n\u001b[0;32m    558\u001b[0m     \u001b[39mfor\u001b[39;00m instr \u001b[39min\u001b[39;00m instruments\n\u001b[0;32m    559\u001b[0m     \u001b[39mif\u001b[39;00m instr\u001b[39m.\u001b[39muid \u001b[39mnot\u001b[39;00m \u001b[39min\u001b[39;00m virtual_shfsgs\n\u001b[0;32m    560\u001b[0m ]\n\u001b[0;32m    562\u001b[0m \u001b[39mfor\u001b[39;00m instr \u001b[39min\u001b[39;00m instruments:\n\u001b[0;32m    563\u001b[0m     \u001b[39m# drop any connections that still refer to the old \"_sg\" ID (e.g. PQSC's zsync)\u001b[39;00m\n\u001b[0;32m    564\u001b[0m     instr\u001b[39m.\u001b[39mconnections \u001b[39m=\u001b[39m [\n\u001b[0;32m    565\u001b[0m         conn \u001b[39mfor\u001b[39;00m conn \u001b[39min\u001b[39;00m instr\u001b[39m.\u001b[39mconnections \u001b[39mif\u001b[39;00m conn\u001b[39m.\u001b[39mremote_path \u001b[39mnot\u001b[39;00m \u001b[39min\u001b[39;00m virtual_shfsgs\n\u001b[0;32m    566\u001b[0m     ]\n",
      "File \u001b[1;32m\\\\home\\home\\sam68451\\LabOneQ Software Local Samuel\\laboneq\\laboneq\\implementation\\legacy_adapters\\device_setup_converter.py:559\u001b[0m, in \u001b[0;36m<listcomp>\u001b[1;34m(.0)\u001b[0m\n\u001b[0;32m    548\u001b[0m shfqcs \u001b[39m=\u001b[39m {\n\u001b[0;32m    549\u001b[0m     uid: combine_shfqa_and_shfsg(\n\u001b[0;32m    550\u001b[0m         shfqa, virtual_shfsgs[uid \u001b[39m+\u001b[39m VIRTUAL_SHFSG_UID_SUFFIX]\n\u001b[0;32m    551\u001b[0m     )\n\u001b[0;32m    552\u001b[0m     \u001b[39mfor\u001b[39;00m uid, shfqa \u001b[39min\u001b[39;00m (virtual_shfqas \u001b[39m|\u001b[39m extra_virtual_shfqas)\u001b[39m.\u001b[39mitems()\n\u001b[0;32m    553\u001b[0m }\n\u001b[0;32m    555\u001b[0m \u001b[39m# replace SHFQAs with their SHFQC and drop SHFSGs:\u001b[39;00m\n\u001b[0;32m    556\u001b[0m instruments \u001b[39m=\u001b[39m [\n\u001b[0;32m    557\u001b[0m     shfqcs\u001b[39m.\u001b[39mget(instr\u001b[39m.\u001b[39muid, instr)\n\u001b[0;32m    558\u001b[0m     \u001b[39mfor\u001b[39;00m instr \u001b[39min\u001b[39;00m instruments\n\u001b[1;32m--> 559\u001b[0m     \u001b[39mif\u001b[39;00m instr\u001b[39m.\u001b[39muid \u001b[39mnot\u001b[39;00m \u001b[39min\u001b[39;00m virtual_shfsgs\n\u001b[0;32m    560\u001b[0m ]\n\u001b[0;32m    562\u001b[0m \u001b[39mfor\u001b[39;00m instr \u001b[39min\u001b[39;00m instruments:\n\u001b[0;32m    563\u001b[0m     \u001b[39m# drop any connections that still refer to the old \"_sg\" ID (e.g. PQSC's zsync)\u001b[39;00m\n\u001b[0;32m    564\u001b[0m     instr\u001b[39m.\u001b[39mconnections \u001b[39m=\u001b[39m [\n\u001b[0;32m    565\u001b[0m         conn \u001b[39mfor\u001b[39;00m conn \u001b[39min\u001b[39;00m instr\u001b[39m.\u001b[39mconnections \u001b[39mif\u001b[39;00m conn\u001b[39m.\u001b[39mremote_path \u001b[39mnot\u001b[39;00m \u001b[39min\u001b[39;00m virtual_shfsgs\n\u001b[0;32m    566\u001b[0m     ]\n",
      "\u001b[1;31mAttributeError\u001b[0m: 'NoneType' object has no attribute 'uid'"
     ]
    }
   ],
   "source": [
    "# perform experiments in emulation mode only? - if True, also generate dummy data for fitting\n",
    "emulate = False\n",
    "\n",
    "# create and connect to a session\n",
    "session = Session(device_setup=device_setup)\n",
    "session.connect(do_emulation=emulate)"
   ]
  }
 ],
 "metadata": {
  "kernelspec": {
   "display_name": "laboneq_env",
   "language": "python",
   "name": "python3"
  },
  "language_info": {
   "codemirror_mode": {
    "name": "ipython",
    "version": 3
   },
   "file_extension": ".py",
   "mimetype": "text/x-python",
   "name": "python",
   "nbconvert_exporter": "python",
   "pygments_lexer": "ipython3",
   "version": "3.11.5"
  },
  "orig_nbformat": 4
 },
 "nbformat": 4,
 "nbformat_minor": 2
}
