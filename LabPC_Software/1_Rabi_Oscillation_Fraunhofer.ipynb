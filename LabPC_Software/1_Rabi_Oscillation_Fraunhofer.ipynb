{
 "cells": [
  {
   "attachments": {},
   "cell_type": "markdown",
   "metadata": {},
   "source": [
    "# Imports"
   ]
  },
  {
   "cell_type": "code",
   "execution_count": 26,
   "metadata": {},
   "outputs": [],
   "source": [
    "#Initial Imports\n",
    "%config IPCompleter.greedy=True\n",
    "\n",
    "from laboneq.contrib.example_helpers.plotting.plot_helpers import *\n",
    "\n",
    "# LabOne Q:\n",
    "from laboneq.simple import *\n",
    "\n",
    "# Helpers:\n",
    "from laboneq.analysis.fitting import oscillatory\n",
    "from laboneq.contrib.example_helpers.plotting.plot_helpers import (\n",
    "    plot_results,\n",
    "    plot_simulation,\n",
    ")\n",
    "\n",
    "\n",
    "from laboneq.contrib.example_helpers.generate_example_datastore import (\n",
    "    generate_example_datastore,\n",
    "    get_first_named_entry,\n",
    ")\n",
    "\n",
    "# plotting and fitting functionality\n",
    "from laboneq.analysis.fitting import (\n",
    "    lorentzian,\n",
    "    oscillatory,\n",
    "    oscillatory_decay,\n",
    ")\n",
    "from pathlib import Path\n",
    "import time\n",
    "\n",
    "from tuneup_helper import *\n",
    "\n",
    "import numpy as np\n",
    "import matplotlib.pyplot as plt"
   ]
  },
  {
   "attachments": {},
   "cell_type": "markdown",
   "metadata": {},
   "source": [
    "# Single Qubit Rabi"
   ]
  },
  {
   "attachments": {},
   "cell_type": "markdown",
   "metadata": {},
   "source": [
    "## Calibration\n",
    "\n",
    "\n",
    "We go for a minimal signal line calibration here -- please refer to our calibration_reference.ipynb notebook for detailed info."
   ]
  },
  {
   "attachments": {},
   "cell_type": "markdown",
   "metadata": {},
   "source": [
    "When executing experiments on qubits, you will typically need to first determine the parameters of your quantum devices through a set of calibration experiments. Examples of calibration values are resonator and qubit transition frequencies or signal delays due to differing cable lengths or properties. Subsequent experiments can then reuse the previously determined, calibrated values.\n",
    "\n",
    "To support this workflow, LabOne Q introduces calibration objects associated with device setups or experiments.\n",
    "https://docs.zhinst.com/labone_q_user_manual/concepts/instrument_calibration/\n",
    "https://docs.zhinst.com/labone_q_user_manual/concepts/experiment_calibration/\n",
    "https://docs.zhinst.com/labone_q_user_manual/concepts/instrument_calibration/calibration_properties/\n",
    "\n",
    "There are two types of calibration: baseline and experimental calibration. The baseline calibration is defined as a property of the device setup, while the experimental calibration is defined as part of an experiment.\n",
    "https://github.com/zhinst/laboneq/blob/main/examples/03_superconducting_qubits/00_qubit_tuneup_shfsg_shfqa_shfqc.ipynb"
   ]
  },
  {
   "attachments": {},
   "cell_type": "markdown",
   "metadata": {},
   "source": [
    "### Baseline Calibration\n",
    "\n",
    "In a typical workflow, you might begin with a baseline calibration for your instruments, along with some guesses of your qubit parameters. After acquiring data, you may want to update your calibration and use an experiment calibration kept separate from your baseline one."
   ]
  },
  {
   "attachments": {},
   "cell_type": "markdown",
   "metadata": {},
   "source": [
    "## Device Setup and Descriptor"
   ]
  },
  {
   "cell_type": "code",
   "execution_count": 27,
   "metadata": {},
   "outputs": [],
   "source": [
    "#DESCRITPTOR \n",
    "#Define initial PHYSICAL device setup, Logical Signal Lines of the Instrument are defined here and later in a Signal Map mapped to the Experimental Signal lines \n",
    "\n",
    "#Fill in missing address\n",
    "\n",
    "descriptor_setup_small= \"\"\"\\\n",
    "instruments:\n",
    "  SHFSG:\n",
    "  - address: DEV12265\n",
    "    uid: device_shfsg_1\n",
    "  SHFQA:\n",
    "  - address: DEV12249\n",
    "    uid: device_shfqa_1\n",
    "  PQSC:\n",
    "  - address: DEV10094\n",
    "    uid: device_pqsc\n",
    "connections:\n",
    "  device_shfsg:\n",
    "    - iq_signal: q0/drive_line\n",
    "      ports: SGCHANNELS/0/OUTPUT\n",
    "  device_shfqa:\n",
    "    - iq_signal: q0/measure_line\n",
    "      ports: QACHANNELS/0/OUTPUT\n",
    "    - acquire_signal: q0/acquire_line\n",
    "      ports: QACHANNELS/0/INPUT\n",
    "  device_pqsc:\n",
    "    - to: device_shfsg_1\n",
    "      port: ZSYNCS/0\n",
    "    - to: device_shfqa_1\n",
    "      port: ZSYNCS/1\n",
    "\"\"\"\n",
    "\n",
    "# define the DeviceSetup from descriptor - additionally include information on the dataserver used to connect to the instruments \n",
    "#with the device set\n",
    "device_setup = DeviceSetup.from_descriptor(\n",
    "    #or with example import and yaml also possible: yaml_text=descriptor_shfsg_shfqa_pqsc\n",
    "    descriptor_setup_small,\n",
    "    server_host=\"192.168.1.10\", #IP-Address of the LabOne (NOT Q) dataserver used to communicate with the instrument\n",
    "    server_port=\"8004\",\n",
    "    setup_name=\"psi\",\n",
    ") \n",
    "\n",
    "# define shortcut to logical signals for convenience\n",
    "lsg = {\n",
    "    qubit_name: device_setup.logical_signal_groups[qubit_name].logical_signals\n",
    "    for qubit_name in device_setup.logical_signal_groups.keys()\n",
    "}\n"
   ]
  },
  {
   "cell_type": "code",
   "execution_count": 28,
   "metadata": {},
   "outputs": [],
   "source": [
    "# a function to define a collection of single qubit control and readout parameters as a python dictionary\n",
    "\n",
    "\n",
    "def single_qubit_parameters():\n",
    "    return {\n",
    "        \"freq\": 100e6,  # qubit 0 drive frequency in [Hz] - relative to local oscillator for qubit drive upconversion\n",
    "        \"ro_freq\": 5e6,  # 50e6,\n",
    "        \"ro_delay\": 0,  # 15e-9,#100e-9,\n",
    "        \"ro_int_delay\": 0,  # 40-9,\n",
    "        \"qb_len_spec\": 1e-6,\n",
    "        \"qb_len\": 700e-9,\n",
    "        \"qb_amp_spec\": 1.0,\n",
    "        \"pi_amp\": 1,\n",
    "        \"freq_ef\": -500e6,\n",
    "    }\n",
    "\n",
    "\n",
    "# for sake of simplicity, give all qubits the same initial parameters\n",
    "qubit_parameters = {\n",
    "    k: single_qubit_parameters() for k in device_setup.logical_signal_groups.keys()\n",
    "}\n",
    "\n",
    "\n",
    "# up / downconversion settings - to convert between IF and RF frequencies\n",
    "def single_lo_settings():\n",
    "    return {\n",
    "        # SHFQA LO Frequency\n",
    "        \"shfqa_lo\": 8.0e9,\n",
    "        # SHFSG LO Frequencies, one center frequency per two channels on SHFQC\n",
    "        \"shfsg_lo\": 5.0e9,\n",
    "    }\n",
    "\n",
    "\n",
    "lo_settings = {\n",
    "    k: single_lo_settings() for k in device_setup.logical_signal_groups.keys()\n",
    "}"
   ]
  },
  {
   "cell_type": "code",
   "execution_count": 29,
   "metadata": {},
   "outputs": [],
   "source": [
    "def define_calibration(parameters):\n",
    "    my_calibration = Calibration()\n",
    "\n",
    "    my_calibration[\"/logical_signal_groups/q0/drive_line\"] = SignalCalibration(\n",
    "        oscillator=Oscillator(\n",
    "            uid=\"q0_drive_osc\",\n",
    "            frequency=parameters[\"qb0_freq\"],\n",
    "            modulation_type=ModulationType.HARDWARE,\n",
    "        ),\n",
    "        mixer_calibration=MixerCalibration(\n",
    "            voltage_offsets=[0.0, 0.0],\n",
    "            correction_matrix=[\n",
    "                [1.0, 0.0],\n",
    "                [0.0, 1.0],\n",
    "            ],\n",
    "        ),\n",
    "    )\n",
    "    ## common oscillator for readout pulse and signal acquisition\n",
    "    my_calibration[\"/logical_signal_groups/q0/measure_line\"] = SignalCalibration(\n",
    "        oscillator=Oscillator(\n",
    "            uid=\"q0_measure_osc\",\n",
    "            frequency=parameters[\"ro_freq_q0\"],\n",
    "            modulation_type=ModulationType.SOFTWARE,\n",
    "        ),\n",
    "        mixer_calibration=MixerCalibration(\n",
    "            voltage_offsets=[0.0, 0.0],\n",
    "            correction_matrix=[\n",
    "                [1.0, 0.0],\n",
    "                [0.0, 1.0],\n",
    "            ],\n",
    "        ),\n",
    "    )\n",
    "    my_calibration[\"/logical_signal_groups/q0/acquire_line\"] = SignalCalibration(\n",
    "        oscillator=Oscillator(\n",
    "            uid=\"q0_acquire_osc\",\n",
    "            frequency=parameters[\"ro_freq_q0\"],\n",
    "            modulation_type=ModulationType.SOFTWARE,\n",
    "        ),\n",
    "    )\n",
    "    return my_calibration"
   ]
  },
  {
   "cell_type": "code",
   "execution_count": 30,
   "metadata": {},
   "outputs": [
    {
     "ename": "KeyError",
     "evalue": "'qb0_freq'",
     "output_type": "error",
     "traceback": [
      "\u001b[1;31m---------------------------------------------------------------------------\u001b[0m",
      "\u001b[1;31mKeyError\u001b[0m                                  Traceback (most recent call last)",
      "Cell \u001b[1;32mIn[30], line 2\u001b[0m\n\u001b[0;32m      1\u001b[0m \u001b[39m## define Calibration object\u001b[39;00m\n\u001b[1;32m----> 2\u001b[0m my_calibration \u001b[39m=\u001b[39m define_calibration(parameters\u001b[39m=\u001b[39mqubit_parameters)\n\u001b[0;32m      3\u001b[0m \u001b[39m## apply calibration to device setup\u001b[39;00m\n\u001b[0;32m      4\u001b[0m device_setup\u001b[39m.\u001b[39mset_calibration(my_calibration)\n",
      "Cell \u001b[1;32mIn[29], line 7\u001b[0m, in \u001b[0;36mdefine_calibration\u001b[1;34m(parameters)\u001b[0m\n\u001b[0;32m      1\u001b[0m \u001b[39mdef\u001b[39;00m \u001b[39mdefine_calibration\u001b[39m(parameters):\n\u001b[0;32m      2\u001b[0m     my_calibration \u001b[39m=\u001b[39m Calibration()\n\u001b[0;32m      4\u001b[0m     my_calibration[\u001b[39m\"\u001b[39m\u001b[39m/logical_signal_groups/q0/drive_line\u001b[39m\u001b[39m\"\u001b[39m] \u001b[39m=\u001b[39m SignalCalibration(\n\u001b[0;32m      5\u001b[0m         oscillator\u001b[39m=\u001b[39mOscillator(\n\u001b[0;32m      6\u001b[0m             uid\u001b[39m=\u001b[39m\u001b[39m\"\u001b[39m\u001b[39mq0_drive_osc\u001b[39m\u001b[39m\"\u001b[39m,\n\u001b[1;32m----> 7\u001b[0m             frequency\u001b[39m=\u001b[39mparameters[\u001b[39m\"\u001b[39m\u001b[39mqb0_freq\u001b[39m\u001b[39m\"\u001b[39m],\n\u001b[0;32m      8\u001b[0m             modulation_type\u001b[39m=\u001b[39mModulationType\u001b[39m.\u001b[39mHARDWARE,\n\u001b[0;32m      9\u001b[0m         ),\n\u001b[0;32m     10\u001b[0m         mixer_calibration\u001b[39m=\u001b[39mMixerCalibration(\n\u001b[0;32m     11\u001b[0m             voltage_offsets\u001b[39m=\u001b[39m[\u001b[39m0.0\u001b[39m, \u001b[39m0.0\u001b[39m],\n\u001b[0;32m     12\u001b[0m             correction_matrix\u001b[39m=\u001b[39m[\n\u001b[0;32m     13\u001b[0m                 [\u001b[39m1.0\u001b[39m, \u001b[39m0.0\u001b[39m],\n\u001b[0;32m     14\u001b[0m                 [\u001b[39m0.0\u001b[39m, \u001b[39m1.0\u001b[39m],\n\u001b[0;32m     15\u001b[0m             ],\n\u001b[0;32m     16\u001b[0m         ),\n\u001b[0;32m     17\u001b[0m     )\n\u001b[0;32m     18\u001b[0m     \u001b[39m## common oscillator for readout pulse and signal acquisition\u001b[39;00m\n\u001b[0;32m     19\u001b[0m     my_calibration[\u001b[39m\"\u001b[39m\u001b[39m/logical_signal_groups/q0/measure_line\u001b[39m\u001b[39m\"\u001b[39m] \u001b[39m=\u001b[39m SignalCalibration(\n\u001b[0;32m     20\u001b[0m         oscillator\u001b[39m=\u001b[39mOscillator(\n\u001b[0;32m     21\u001b[0m             uid\u001b[39m=\u001b[39m\u001b[39m\"\u001b[39m\u001b[39mq0_measure_osc\u001b[39m\u001b[39m\"\u001b[39m,\n\u001b[1;32m   (...)\u001b[0m\n\u001b[0;32m     31\u001b[0m         ),\n\u001b[0;32m     32\u001b[0m     )\n",
      "\u001b[1;31mKeyError\u001b[0m: 'qb0_freq'"
     ]
    }
   ],
   "source": [
    "## define Calibration object\n",
    "my_calibration = define_calibration(parameters=qubit_parameters)\n",
    "## apply calibration to device setup\n",
    "device_setup.set_calibration(my_calibration)"
   ]
  },
  {
   "cell_type": "code",
   "execution_count": null,
   "metadata": {},
   "outputs": [],
   "source": []
  },
  {
   "attachments": {},
   "cell_type": "markdown",
   "metadata": {},
   "source": [
    "## Amplitude Rabi Experiment - Explicitly Single Qubit\n",
    "\n",
    "\n",
    "Sweep the pulse amplitude of a qubit drive pulse to determine the ideal amplitudes for specific qubit rotation angles."
   ]
  },
  {
   "cell_type": "code",
   "execution_count": null,
   "metadata": {},
   "outputs": [],
   "source": [
    "## define pulses\n",
    "\n",
    "# qubit drive pulse - unit amplitude, but will be scaled with sweep parameter\n",
    "x90 = pulse_library.gaussian(uid=\"x90\", length=100e-9, amplitude=1.0)\n",
    "\n",
    "# readout drive pulse\n",
    "readout_pulse = pulse_library.const(uid=\"readout_pulse\", length=400e-9, amplitude=1.0)\n",
    "# readout integration weights\n",
    "readout_weighting_function = pulse_library.const(\n",
    "    uid=\"readout_weighting_function\", length=400e-9, amplitude=1.0\n",
    ")\n",
    "\n",
    "# set up sweep parameter - drive amplitude\n",
    "start = 0.1\n",
    "stop = 1\n",
    "count = 10\n",
    "sweep_parameter = LinearSweepParameter(\n",
    "    uid=\"amplitude\", start=start, stop=stop, count=count\n",
    ")\n",
    "\n",
    "# number of averages\n",
    "average_exponent = 1  # used for 2^n averages, n=average_exponent, maximum: n = 17\n",
    "\n",
    "# Create Experiment\n",
    "exp = Experiment(\n",
    "    uid=\"Amplitude Rabi\",\n",
    "    signals=[\n",
    "        ExperimentSignal(\"drive\"),\n",
    "        ExperimentSignal(\"measure\"),\n",
    "        ExperimentSignal(\"acquire\"),\n",
    "    ],\n",
    ")\n",
    "## experimental pulse sequence\n",
    "# outer loop - real-time, cyclic averaging in standard integration mode\n",
    "with exp.acquire_loop_rt(\n",
    "    uid=\"shots\",\n",
    "    count=pow(2, average_exponent),\n",
    "    averaging_mode=AveragingMode.CYCLIC,\n",
    "    acquisition_type=AcquisitionType.INTEGRATION,\n",
    "):\n",
    "    # inner loop - real-time sweep of qubit drive pulse amplitude\n",
    "    with exp.sweep(\n",
    "        uid=\"sweep\", parameter=sweep_parameter, alignment=SectionAlignment.RIGHT\n",
    "    ):\n",
    "        # qubit excitation - pulse amplitude will be swept\n",
    "        with exp.section(uid=\"qubit_excitation\", alignment=SectionAlignment.RIGHT):\n",
    "            exp.play(signal=\"drive\", pulse=x90, amplitude=sweep_parameter)\n",
    "        # qubit readout pulse and data acquisition\n",
    "        with exp.section(uid=\"qubit_readout\", play_after=\"qubit_excitation\"):\n",
    "            # play readout pulse\n",
    "            exp.play(signal=\"measure\", pulse=readout_pulse)\n",
    "            # signal data acquisition\n",
    "            exp.acquire(\n",
    "                signal=\"acquire\",\n",
    "                handle=\"ac_0\",\n",
    "                kernel=readout_weighting_function,\n",
    "            )\n",
    "        # relax time after readout - for signal processing and qubit relaxation to ground state\n",
    "        with exp.section(uid=\"relax\", play_after=\"qubit_readout\"):\n",
    "            exp.delay(signal=\"measure\", time=1e-6)\n",
    "\n",
    "def map_qubit(qubit_id):\n",
    "    return {\n",
    "        \"drive\": device_setup.logical_signal_groups[f\"q{qubit_id}\"].logical_signals[\n",
    "            \"drive_line\"\n",
    "        ],\n",
    "        \"measure\": device_setup.logical_signal_groups[f\"q{qubit_id}\"].logical_signals[\n",
    "            \"measure_line\"\n",
    "        ],\n",
    "        \"acquire\": device_setup.logical_signal_groups[f\"q{qubit_id}\"].logical_signals[\n",
    "            \"acquire_line\"\n",
    "        ],\n",
    "    }\n",
    "\n",
    "# set signal map to qubit 0\n",
    "exp.set_signal_map(map_qubit(0))\n"
   ]
  },
  {
   "attachments": {},
   "cell_type": "markdown",
   "metadata": {},
   "source": [
    "## Connect to Session\n"
   ]
  },
  {
   "cell_type": "code",
   "execution_count": null,
   "metadata": {},
   "outputs": [],
   "source": [
    "# perform experiments in emulation mode only? - if True, also generate dummy data for fitting\n",
    "emulate = False\n",
    "#Before connecting to a session make sure to run LabOne and the QCCS Monitor with the approporiate setup file\n",
    "# create and connect to a session\n",
    "session = Session(device_setup=device_setup)\n",
    "session.connect(do_emulation=emulate)\n",
    "\n"
   ]
  },
  {
   "attachments": {},
   "cell_type": "markdown",
   "metadata": {},
   "source": [
    "## Run experiment"
   ]
  },
  {
   "cell_type": "code",
   "execution_count": null,
   "metadata": {},
   "outputs": [],
   "source": [
    "\n",
    "# run experiment on qubit 0\n",
    "results = session.run(exp)\n",
    "results.save('rabi_results.yaml')"
   ]
  },
  {
   "attachments": {},
   "cell_type": "markdown",
   "metadata": {},
   "source": [
    "## Extract data and use it to adjust calibration"
   ]
  },
  {
   "attachments": {},
   "cell_type": "markdown",
   "metadata": {},
   "source": [
    "use the name that was used as a handle for the aquisition line in the experiment section"
   ]
  },
  {
   "cell_type": "code",
   "execution_count": null,
   "metadata": {},
   "outputs": [],
   "source": [
    "Rabi_res = results.get_data(\"ac_0\")"
   ]
  },
  {
   "attachments": {},
   "cell_type": "markdown",
   "metadata": {},
   "source": []
  },
  {
   "attachments": {},
   "cell_type": "markdown",
   "metadata": {},
   "source": [
    "## Plot Results\n"
   ]
  },
  {
   "cell_type": "code",
   "execution_count": null,
   "metadata": {},
   "outputs": [],
   "source": [
    "# plot measurement results\n",
    "plot_result_2d(results, \"ac_0\")"
   ]
  },
  {
   "cell_type": "code",
   "execution_count": null,
   "metadata": {},
   "outputs": [],
   "source": [
    "# use pulse sheet viewer to display the pulse sequence - only recommended for small number of averages and sweep steps to avoid performance issues\n",
    "show_pulse_sheet(\"Amplitude Rabi\", session.compiled_experiment)"
   ]
  },
  {
   "attachments": {},
   "cell_type": "markdown",
   "metadata": {},
   "source": [
    "#Define new qubit parameters and set them to the calibration"
   ]
  },
  {
   "cell_type": "code",
   "execution_count": null,
   "metadata": {},
   "outputs": [],
   "source": [
    "new_qubit_parameters = {\n",
    "    ## freqs are relative to local oscillator for qubit drive upconversion\n",
    "    \"ro_freq_q0\": 50e6,  ## readout frequency of qubit 0 in [Hz]\n",
    "    \"ro_amp\": 1.0,  ## readout amplitude\n",
    "    \"ro_len\": 2.1e-6,  ## readout pulse length in [s]\n",
    "    \"qb0_freq\": 100e6,  ## qubit 0 drive frequency in [Hz]\n",
    "}"
   ]
  },
  {
   "cell_type": "code",
   "execution_count": null,
   "metadata": {},
   "outputs": [],
   "source": [
    "my_calibration = define_calibration(parameters=new_qubit_parameters)\n",
    "device_setup.set_calibration(my_calibration)"
   ]
  },
  {
   "attachments": {},
   "cell_type": "markdown",
   "metadata": {},
   "source": [
    "## Second qubit"
   ]
  },
  {
   "cell_type": "code",
   "execution_count": null,
   "metadata": {},
   "outputs": [],
   "source": [
    "# set signal map to qubit 1\n",
    "exp.set_signal_map(map_qubit(1))\n",
    "\n",
    "# create and connect to session\n",
    "session = Session(device_setup=device_setup)\n",
    "session.connect(do_emulation=use_emulation)\n",
    "\n",
    "# run experiment on qubit 1\n",
    "my_results = session.run(exp)"
   ]
  },
  {
   "attachments": {},
   "cell_type": "markdown",
   "metadata": {},
   "source": [
    "# Amplitude Rabi with Scalability\n"
   ]
  },
  {
   "attachments": {},
   "cell_type": "markdown",
   "metadata": {},
   "source": [
    "## Device Setup"
   ]
  },
  {
   "cell_type": "code",
   "execution_count": null,
   "metadata": {},
   "outputs": [],
   "source": [
    "#DESCRITPTOR \n",
    "#Define initial PHYSICAL device setup, Logical Signal Lines of the Instrument are defined here and later in a Signal Map mapped to the Experimental Signal lines \n",
    "\n",
    "#Fill in missing address\n",
    "\n",
    "\n",
    "\"\"\"Descriptor for a QCCS consisting of SHFSG, SHFQA, and PQSC\n",
    "\"\"\"\n",
    "\n",
    "descriptor_shfsg_shfqa_pqsc = \"\"\"\n",
    "instruments:\n",
    "  SHFQA:\n",
    "  - address: DEV12249\n",
    "    uid: device_shfqa\n",
    "  SHFSG:\n",
    "  - address: DEV12265\n",
    "    uid: device_shfsg\n",
    "  PQSC:\n",
    "  - address: DEV10094\n",
    "    uid: device_pqsc\n",
    "\n",
    "connections:\n",
    "  device_shfqa:\n",
    "    - iq_signal: q0/measure_line\n",
    "      ports: [QACHANNELS/0/OUTPUT]\n",
    "    - acquire_signal: q0/acquire_line\n",
    "      ports: [QACHANNELS/0/INPUT]\n",
    "    - iq_signal: q1/measure_line\n",
    "      ports: [QACHANNELS/0/OUTPUT]\n",
    "    - acquire_signal: q1/acquire_line\n",
    "      ports: [QACHANNELS/0/INPUT]\n",
    "    - iq_signal: q2/measure_line\n",
    "      ports: [QACHANNELS/0/OUTPUT]\n",
    "    - acquire_signal: q2/acquire_line\n",
    "      ports: [QACHANNELS/0/INPUT]\n",
    "    - iq_signal: q3/measure_line\n",
    "      ports: [QACHANNELS/0/OUTPUT]\n",
    "    - acquire_signal: q3/acquire_line\n",
    "      ports: [QACHANNELS/0/INPUT]\n",
    "    - iq_signal: q4/measure_line\n",
    "      ports: [QACHANNELS/0/OUTPUT]\n",
    "    - acquire_signal: q4/acquire_line\n",
    "      ports: [QACHANNELS/0/INPUT]\n",
    "    - iq_signal: q5/measure_line\n",
    "      ports: [QACHANNELS/0/OUTPUT]\n",
    "    - acquire_signal: q5/acquire_line\n",
    "      ports: [QACHANNELS/0/INPUT]\n",
    "\n",
    "  device_shfsg:\n",
    "    - iq_signal: q0/drive_line\n",
    "      ports: SGCHANNELS/0/OUTPUT\n",
    "    - iq_signal: q0/drive_line_ef\n",
    "      ports: SGCHANNELS/0/OUTPUT\n",
    "    - iq_signal: q1/drive_line\n",
    "      ports: SGCHANNELS/1/OUTPUT\n",
    "    - iq_signal: q1/drive_line_ef\n",
    "      ports: SGCHANNELS/1/OUTPUT\n",
    "    - iq_signal: q2/drive_line\n",
    "      ports: SGCHANNELS/2/OUTPUT\n",
    "    - iq_signal: q2/drive_line_ef\n",
    "      ports: SGCHANNELS/2/OUTPUT\n",
    "    - iq_signal: q3/drive_line\n",
    "      ports: SGCHANNELS/3/OUTPUT\n",
    "    - iq_signal: q3/drive_line_ef\n",
    "      ports: SGCHANNELS/3/OUTPUT\n",
    "    - iq_signal: q4/drive_line\n",
    "      ports: SGCHANNELS/4/OUTPUT\n",
    "    - iq_signal: q4/drive_line_ef\n",
    "      ports: SGCHANNELS/4/OUTPUT\n",
    "    - iq_signal: q5/drive_line\n",
    "      ports: SGCHANNELS/5/OUTPUT\n",
    "    - iq_signal: q5/drive_line_ef\n",
    "      ports: SGCHANNELS/5/OUTPUT\n",
    "\n",
    "  device_pqsc:\n",
    "    # - internal_clock_signal\n",
    "    - to: device_shfqa\n",
    "      port: ZSYNCS/0\n",
    "    - to: device_shfsg\n",
    "      port: ZSYNCS/1\n",
    "\"\"\"\n",
    "\n",
    "# define the DeviceSetup from descriptor - additionally include information on the dataserver used to connect to the instruments \n",
    "#with the device set\n",
    "device_setup = DeviceSetup.from_descriptor(\n",
    "    #or with example import and yaml also possible: yaml_text=descriptor_shfsg_shfqa_pqsc\n",
    "    descriptor_shfsg_shfqa_pqsc,\n",
    "    server_host=\"192.168.1.10\", #IP-Address of the LabOne (NOT Q) dataserver used to communicate with the instrument\n",
    "    server_port=\"8004\",\n",
    "    setup_name=\"psi\",\n",
    ") \n",
    "\n",
    "# define shortcut to logical signals for convenience\n",
    "lsg = {\n",
    "    qubit_name: device_setup.logical_signal_groups[qubit_name].logical_signals\n",
    "    for qubit_name in device_setup.logical_signal_groups.keys()\n",
    "}"
   ]
  },
  {
   "attachments": {},
   "cell_type": "markdown",
   "metadata": {},
   "source": [
    "## Qubit Parameters"
   ]
  },
  {
   "cell_type": "code",
   "execution_count": null,
   "metadata": {},
   "outputs": [],
   "source": [
    "# a function to define a collection of single qubit control and readout parameters as a python dictionary\n",
    "\n",
    "\n",
    "def single_qubit_parameters():\n",
    "    return {\n",
    "        \"freq\": 100e6,  # qubit 0 drive frequency in [Hz] - relative to local oscillator for qubit drive upconversion\n",
    "        \"ro_freq\": 5e6,  # 50e6,\n",
    "        \"ro_delay\": 0,  # 15e-9,#100e-9,\n",
    "        \"ro_int_delay\": 0,  # 40-9,\n",
    "        \"qb_len_spec\": 1e-6,\n",
    "        \"qb_len\": 700e-9,\n",
    "        \"qb_amp_spec\": 1.0,\n",
    "        \"pi_amp\": 1,\n",
    "        \"freq_ef\": -500e6,\n",
    "    }\n",
    "\n",
    "\n",
    "# for sake of simplicity, give all qubits the same initial parameters\n",
    "qubit_parameters = {\n",
    "    k: single_qubit_parameters() for k in device_setup.logical_signal_groups.keys()\n",
    "}\n",
    "qubit_parameters['q0'] = single_qubit_parameters()\n",
    "\n",
    "# up / downconversion settings - to convert between IF and RF frequencies\n",
    "def single_lo_settings():\n",
    "    return {\n",
    "        # SHFQA LO Frequency\n",
    "        \"shfqa_lo\": 8.0e9,\n",
    "        # SHFSG LO Frequencies, one center frequency per two channels on SHFQC\n",
    "        \"shfsg_lo\": 5.0e9,\n",
    "    }\n",
    "\n",
    "\n",
    "lo_settings = {\n",
    "    k: single_lo_settings() for k in device_setup.logical_signal_groups.keys()\n",
    "}"
   ]
  },
  {
   "attachments": {},
   "cell_type": "markdown",
   "metadata": {},
   "source": [
    "## Calibration"
   ]
  },
  {
   "cell_type": "code",
   "execution_count": null,
   "metadata": {},
   "outputs": [],
   "source": [
    "# function that defines the device settings for qubit and readout parameters\n",
    "\n",
    "\n",
    "def define_calibration(device_setup, parameters, lo_settings):\n",
    "    # Define LOs\n",
    "    def single_oscillator(id, qubit, lo_type):\n",
    "        oscillator = Oscillator()\n",
    "        oscillator.uid = f\"{id}\" + f\"{qubit}\" + \"_osc\"\n",
    "        oscillator.frequency = lo_settings[qubit][lo_type]\n",
    "        return oscillator\n",
    "\n",
    "    readout_lo_dict = {\n",
    "        k: single_oscillator(\"readout_lo_\", k, \"shfqa_lo\")\n",
    "        for k in device_setup.logical_signal_groups.keys()\n",
    "    }\n",
    "\n",
    "    drive_lo_dict = {\n",
    "        k: single_oscillator(\"drive_lo_\", k, \"shfsg_lo\")\n",
    "        for k in device_setup.logical_signal_groups.keys()\n",
    "    }\n",
    "\n",
    "    # the calibration object will later be applied to the device setup\n",
    "    calibration = Calibration()\n",
    "\n",
    "    # qubits q0-q3 are multiplexed on one acquisition line\n",
    "    calibration[\n",
    "        device_setup.logical_signal_groups[\"q0\"].logical_signals[\"acquire_line\"]\n",
    "    ] = SignalCalibration(\n",
    "        oscillator=Oscillator(\n",
    "            frequency=parameters[\"q0\"][\"ro_freq\"],\n",
    "            modulation_type=ModulationType.SOFTWARE,\n",
    "        ),\n",
    "        # add an offset between the readout pulse and the start of the data acquisition - to compensate for round-trip time of readout pulse\n",
    "        port_delay=parameters[\"q0\"][\"ro_delay\"] + parameters[\"q0\"][\"ro_int_delay\"],\n",
    "        local_oscillator=readout_lo_dict[\"q0\"],\n",
    "        range=5,\n",
    "    )\n",
    "\n",
    "    for logical_signal_group in device_setup.logical_signal_groups.keys():\n",
    "        # measure line\n",
    "        calibration[\n",
    "            device_setup.logical_signal_groups[logical_signal_group].logical_signals[\n",
    "                \"measure_line\"\n",
    "            ]\n",
    "        ] = SignalCalibration(\n",
    "            oscillator=Oscillator(\n",
    "                frequency=parameters[logical_signal_group][\"ro_freq\"],\n",
    "                modulation_type=ModulationType.SOFTWARE,\n",
    "            ),\n",
    "            port_delay=parameters[\"q0\"][\"ro_delay\"],\n",
    "            local_oscillator=readout_lo_dict[\"q0\"],\n",
    "            range=5,\n",
    "        )\n",
    "\n",
    "        calibration[\n",
    "            device_setup.logical_signal_groups[logical_signal_group].logical_signals[\n",
    "                \"drive_line\"\n",
    "            ]\n",
    "        ] = SignalCalibration(\n",
    "            # each logical signal can have an oscillator associated with it\n",
    "            oscillator=Oscillator(\n",
    "                frequency=parameters[logical_signal_group][\"freq\"],\n",
    "                modulation_type=ModulationType.HARDWARE,\n",
    "            ),\n",
    "            # DANGER! Verify which qubits share the same LOs!\n",
    "            local_oscillator=drive_lo_dict[logical_signal_group],\n",
    "            range=5,\n",
    "        )\n",
    "    return calibration"
   ]
  },
  {
   "attachments": {},
   "cell_type": "markdown",
   "metadata": {},
   "source": [
    "## Apply Calibration, Connect"
   ]
  },
  {
   "cell_type": "code",
   "execution_count": null,
   "metadata": {},
   "outputs": [
    {
     "name": "stdout",
     "output_type": "stream",
     "text": [
      "[2023.11.09 13:21:25.212] INFO    Logging initialized from [Default inline config in laboneq.controller.laboneq_logging] logdir is u:\\LabOneQ Software Local Samuel\\laboneq\\LabPC_Software\\laboneq_output\\log\n",
      "[2023.11.09 13:21:25.223] INFO    VERSION: laboneq 2.18.0\n",
      "[2023.11.09 13:21:25.235] INFO    Connecting to data server at 192.168.1.10:8004\n",
      "[2023.11.09 13:21:25.244] INFO    Connected to Zurich Instruments LabOne Data Server version 23.06 at 192.168.1.10:8004\n",
      "[2023.11.09 13:21:25.305] INFO    Configuring the device setup\n",
      "[2023.11.09 13:21:25.401] INFO    The device setup is configured\n"
     ]
    },
    {
     "data": {
      "text/plain": [
       "<laboneq.dsl.session.ConnectionState at 0x1cf4713dfd0>"
      ]
     },
     "execution_count": 5,
     "metadata": {},
     "output_type": "execute_result"
    }
   ],
   "source": [
    "# define Calibration object based on qubit control and readout parameters\n",
    "calibration = define_calibration(device_setup, qubit_parameters, lo_settings)\n",
    "# apply calibration to device setup\n",
    "device_setup.set_calibration(calibration)\n",
    "\n",
    "# perform experiments in emulation mode only? - if True, also generate dummy data for fitting\n",
    "emulate = False\n",
    "\n",
    "# create and connect to a session\n",
    "session = Session(device_setup=device_setup)\n",
    "session.connect(do_emulation=emulate)"
   ]
  },
  {
   "attachments": {},
   "cell_type": "markdown",
   "metadata": {},
   "source": [
    "## Rabi Oscillation Experiment:"
   ]
  },
  {
   "cell_type": "code",
   "execution_count": null,
   "metadata": {},
   "outputs": [
    {
     "name": "stdout",
     "output_type": "stream",
     "text": [
      "[2023.11.09 13:30:21.529] INFO    Starting LabOne Q Compiler run...\n",
      "[2023.11.09 13:30:21.551] INFO    Schedule completed\n",
      "[2023.11.09 13:30:21.651] INFO     ────────────────────────────────────────────────────────────────── \n",
      "[2023.11.09 13:30:21.657] INFO     \u001b[1m \u001b[0m\u001b[1mDevice      \u001b[0m\u001b[1m \u001b[0m \u001b[1m \u001b[0m\u001b[1mAWG\u001b[0m\u001b[1m \u001b[0m \u001b[1m \u001b[0m\u001b[1mSeqC LOC\u001b[0m\u001b[1m \u001b[0m \u001b[1m \u001b[0m\u001b[1mCT entries\u001b[0m\u001b[1m \u001b[0m \u001b[1m \u001b[0m\u001b[1mWaveforms\u001b[0m\u001b[1m \u001b[0m \u001b[1m \u001b[0m\u001b[1mSamples\u001b[0m\u001b[1m \u001b[0m \n",
      "[2023.11.09 13:30:21.659] INFO     ────────────────────────────────────────────────────────────────── \n",
      "[2023.11.09 13:30:21.662] INFO      device_shfqa     0         10            0           1      4000  \n",
      "[2023.11.09 13:30:21.664] INFO      device_shfsg     0        133           61           2      5632  \n",
      "[2023.11.09 13:30:21.669] INFO     ────────────────────────────────────────────────────────────────── \n",
      "[2023.11.09 13:30:21.672] INFO     \u001b[1m \u001b[0m\u001b[1mTOTAL       \u001b[0m\u001b[1m \u001b[0m \u001b[1m \u001b[0m\u001b[1m   \u001b[0m\u001b[1m \u001b[0m \u001b[1m \u001b[0m\u001b[1m     143\u001b[0m\u001b[1m \u001b[0m \u001b[1m \u001b[0m\u001b[1m        61\u001b[0m\u001b[1m \u001b[0m \u001b[1m \u001b[0m\u001b[1m         \u001b[0m\u001b[1m \u001b[0m \u001b[1m \u001b[0m\u001b[1m   9632\u001b[0m\u001b[1m \u001b[0m \n",
      "[2023.11.09 13:30:21.680] INFO     ────────────────────────────────────────────────────────────────── \n",
      "[2023.11.09 13:30:21.682] INFO    Finished LabOne Q Compiler run.\n"
     ]
    }
   ],
   "source": [
    "# range of pulse amplitude scan\n",
    "\n",
    "\n",
    "def create_rabi_amp_sweep(qubit, amp_num, uid=\"rabi_amp\"):\n",
    "    amp_min = 0\n",
    "    amp_max = min([qubit_parameters[qubit][\"pi_amp\"] * 2.2, 1.0])\n",
    "    return LinearSweepParameter(uid=uid, start=amp_min, stop=amp_max, count=amp_num)\n",
    "\n",
    "\n",
    "# define number of averages\n",
    "# used for 2^num_averages, maximum: num_averages = 17\n",
    "num_averages = 10\n",
    "\n",
    "# pulse parameters and definitions\n",
    "envelope_duration = 2.0e-6\n",
    "sigma = 0.2\n",
    "flat_duration = 1.0e-6\n",
    "\n",
    "def create_readout_pulse(\n",
    "    qubit, length=envelope_duration, amplitude=0.9, width=flat_duration, sigma=sigma\n",
    "):\n",
    "    readout_pulse = pulse_library.gaussian_square(\n",
    "        uid=f\"readout_pulse_{qubit}\",\n",
    "        length=length,\n",
    "        amplitude=amplitude,\n",
    "        width=width,\n",
    "        sigma=sigma,\n",
    "    )\n",
    "    return readout_pulse\n",
    "\n",
    "\n",
    "readout_pulse = create_readout_pulse(\"q0\")\n",
    "\n",
    "def create_rabi_drive_pulse(qubit):\n",
    "    return pulse_library.gaussian(\n",
    "        uid=f\"gaussian_drive_q{qubit}\",\n",
    "        length=qubit_parameters[qubit][\"qb_len\"],\n",
    "        amplitude=1,\n",
    "    )\n",
    "\n",
    "# qubit drive frequency - defined in calibration on device setup as baseline reference\n",
    "lsg[\"q0\"][\"drive_line\"].oscillator.frequency = qubit_parameters[\"q0\"][\"freq\"]\n",
    "# set oscillator type to hardware to ensure optimal use of the instrument functionality\n",
    "lsg[\"q0\"][\"drive_line\"].oscillator.modulation_type = ModulationType.HARDWARE\n",
    "\n",
    "# function that returns an amplitude Rabi experiment\n",
    "\n",
    "\n",
    "def amplitude_rabi(drive_pulse, readout_pulse, amplitude_sweep):\n",
    "    exp_rabi = Experiment(\n",
    "        uid=\"Amplitude Rabi\",\n",
    "        signals=[\n",
    "            ExperimentSignal(\"drive\"),\n",
    "            ExperimentSignal(\"measure\"),\n",
    "            ExperimentSignal(\"acquire\"),\n",
    "        ],\n",
    "    )\n",
    "\n",
    "    ## define Rabi experiment pulse sequence\n",
    "    # outer loop - real-time, cyclic averaging\n",
    "    with exp_rabi.acquire_loop_rt(\n",
    "        uid=\"rabi_shots\",\n",
    "        count=2**num_averages,\n",
    "        averaging_mode=AveragingMode.CYCLIC,\n",
    "        acquisition_type=AcquisitionType.INTEGRATION,\n",
    "    ):\n",
    "        # inner loop - real time sweep of Rabi ampitudes\n",
    "        with exp_rabi.sweep(uid=\"rabi_sweep\", parameter=amplitude_sweep):\n",
    "            # play qubit excitation pulse - pulse amplitude is swept\n",
    "            with exp_rabi.section(\n",
    "                uid=\"qubit_excitation\", alignment=SectionAlignment.RIGHT\n",
    "            ):\n",
    "                exp_rabi.play(\n",
    "                    signal=\"drive\", pulse=drive_pulse, amplitude=amplitude_sweep\n",
    "                )\n",
    "            # readout pulse and data acquisition\n",
    "            with exp_rabi.section(uid=\"readout_section\", play_after=\"qubit_excitation\"):\n",
    "                # play readout pulse on measure line\n",
    "                exp_rabi.play(signal=\"measure\", pulse=readout_pulse)\n",
    "                # trigger signal data acquisition\n",
    "                exp_rabi.acquire(\n",
    "                    signal=\"acquire\",\n",
    "                    handle=\"amp_rabi\",\n",
    "                    kernel=readout_pulse,\n",
    "                )\n",
    "            with exp_rabi.section(uid=\"delay\", length=1e-6):\n",
    "                # relax time after readout - for qubit relaxation to groundstate and signal processing\n",
    "                exp_rabi.reserve(signal=\"measure\")\n",
    "    return exp_rabi\n",
    "\n",
    "# set signal map for qubit 0 - no experimental calibration necessary, calibration taken from DeviceSetup, i.e. baseline\n",
    "device_setup.set_calibration(\n",
    "    define_calibration(device_setup, qubit_parameters, lo_settings)\n",
    ")\n",
    "\n",
    "drive_pulse = create_rabi_drive_pulse(\"q0\")\n",
    "readout_pulse = create_readout_pulse(\"q0\", length=1000e-9, width=900e-9, sigma=0.2)\n",
    "\n",
    "exp_rabi = amplitude_rabi(\n",
    "    drive_pulse, readout_pulse, create_rabi_amp_sweep(qubit=\"q0\", amp_num=61)\n",
    ")\n",
    "\n",
    "# signal map for qubit 0\n",
    "def signal_map_default(qubit):\n",
    "    signal_map = {\n",
    "        \"drive\": device_setup.logical_signal_groups[f\"{qubit}\"].logical_signals[\n",
    "            \"drive_line\"\n",
    "        ],\n",
    "        \"measure\": device_setup.logical_signal_groups[f\"{qubit}\"].logical_signals[\n",
    "            \"measure_line\"\n",
    "        ],\n",
    "        \"acquire\": device_setup.logical_signal_groups[f\"{qubit}\"].logical_signals[\n",
    "            \"acquire_line\"\n",
    "        ],\n",
    "    }\n",
    "    return signal_map\n",
    "\n",
    "exp_rabi.set_signal_map(signal_map_default(\"q0\"))\n",
    "\n",
    "# compile the experiment on the open instrument session\n",
    "compiled_rabi = session.compile(exp_rabi)"
   ]
  },
  {
   "attachments": {},
   "cell_type": "markdown",
   "metadata": {},
   "source": [
    "### show pulse sheet"
   ]
  },
  {
   "cell_type": "code",
   "execution_count": null,
   "metadata": {},
   "outputs": [],
   "source": [
    "#show_pulse_sheet(\"Pulse_Sheets/Amplitude_Rabi\", compiled_rabi)"
   ]
  },
  {
   "cell_type": "code",
   "execution_count": null,
   "metadata": {},
   "outputs": [
    {
     "data": {
      "image/png": "[encoded data removed]",
      "text/plain": [
       "<Figure size 600x600 with 3 Axes>"
      ]
     },
     "metadata": {},
     "output_type": "display_data"
    }
   ],
   "source": [
    "# Simulate experiment\n",
    "plot_simulation(compiled_rabi, 0, 100e-6)"
   ]
  },
  {
   "attachments": {},
   "cell_type": "markdown",
   "metadata": {},
   "source": [
    "### Run, Save and Plot Results"
   ]
  },
  {
   "cell_type": "code",
   "execution_count": null,
   "metadata": {},
   "outputs": [
    {
     "name": "stdout",
     "output_type": "stream",
     "text": [
      "[2023.11.09 13:30:28.370] INFO    Configuring the device setup\n",
      "[2023.11.09 13:30:28.380] INFO    The device setup is configured\n",
      "[2023.11.09 13:30:28.431] INFO    Starting near-time execution...\n",
      "[2023.11.09 13:30:28.504] INFO    Finished near-time execution.\n",
      "[2023.11.09 13:30:28.543] WARNING instance of class NumpyArrayRepr may not serialize properly\n",
      "[2023.11.09 13:30:28.546] WARNING instance of class NumpyArrayRepr may not serialize properly\n",
      "[2023.11.09 13:30:28.548] WARNING instance of class NumpyArrayRepr may not serialize properly\n",
      "[2023.11.09 13:30:28.551] WARNING instance of class NumpyArrayRepr may not serialize properly\n",
      "[2023.11.09 13:30:28.554] WARNING instance of class NumpyArrayRepr may not serialize properly\n",
      "[2023.11.09 13:30:28.559] WARNING instance of class NumpyArrayRepr may not serialize properly\n",
      "[2023.11.09 13:30:28.568] WARNING instance of class NumpyArrayRepr may not serialize properly\n",
      "[2023.11.09 13:30:28.575] WARNING instance of class NumpyArrayRepr may not serialize properly\n",
      "[2023.11.09 13:30:28.579] WARNING instance of class NumpyArrayRepr may not serialize properly\n",
      "File saved as Results/20231109T133028_rabi_results.json\n"
     ]
    }
   ],
   "source": [
    "# run the compiled experiemnt\n",
    "rabi_results = session.run(compiled_rabi)\n",
    "timestamp = time.strftime(\"%Y%m%dT%H%M%S\")\n",
    "Path(\"Results\").mkdir(parents=True, exist_ok=True)\n",
    "session.save_results(f\"Results/{timestamp}_rabi_results.json\")\n",
    "print(f\"File saved as Results/{timestamp}_rabi_results.json\")\n",
    "\n",
    "# get measurement data returned by the instruments\n",
    "rabi_res = rabi_results.get_data(\"amp_rabi\")\n",
    "\n",
    "# define amplitude axis from qubit parameters\n",
    "rabi_amp = rabi_results.get_axis(\"amp_rabi\")[0]\n"
   ]
  },
  {
   "cell_type": "code",
   "execution_count": 37,
   "metadata": {},
   "outputs": [
    {
     "name": "stdout",
     "output_type": "stream",
     "text": [
      "Fitted parameters: [ 9.41324548e+00 -3.70731253e-10 -1.08984513e-11  4.10156250e-02]\n"
     ]
    },
    {
     "data": {
      "image/png": "[encoded data removed]",
      "text/plain": [
       "<Figure size 640x480 with 1 Axes>"
      ]
     },
     "metadata": {},
     "output_type": "display_data"
    }
   ],
   "source": [
    "# plot measurement data\n",
    "fig = plt.figure()\n",
    "\n",
    "# angle used to rotate data in IQ plane to maximize signal in I component \n",
    "data_rot = -2*np.pi/3\n",
    "\n",
    "\n",
    "# increase number of plot points for smooth plotting of fit results\n",
    "amp_plot = np.linspace(rabi_amp[0], rabi_amp[-1], 5 * len(rabi_amp))\n",
    "\n",
    "# fit measurement results - assume sinusoidal oscillation with drive amplitude\n",
    "popt, pcov = oscillatory.fit(rabi_amp, rabi_res, 10, 0, 1, 1.2, plot=False)\n",
    "print(f\"Fitted parameters: {popt}\")\n",
    "\n",
    "# plot fit results together with measurement data\n",
    "plt.plot(amp_plot, oscillatory(amp_plot, *popt), \"-r\");\n",
    "\n",
    "pi_half_amp = np.pi/2/popt[0]\n",
    "pi_amp = np.pi/popt[0]\n",
    "plt.plot([pi_half_amp, pi_amp],func_osc(np.array([pi_half_amp, pi_amp]),*popt), 'sr', markersize=7)\n",
    "\n",
    "# plot measurement data\n",
    "#plt.plot(rabi_amp, np.real(rabi_res*np.exp(1j*data_rot)), '.b', label='data')\n",
    "plt.ylabel('Quadrature, $I$ (a.u.)')\n",
    "plt.xlabel('Pulse Amplitude, $A_p$ (a.u.)')\n",
    "plt.legend();"
   ]
  },
  {
   "cell_type": "code",
   "execution_count": 38,
   "metadata": {},
   "outputs": [
    {
     "name": "stdout",
     "output_type": "stream",
     "text": [
      "0.16687085557452794\n",
      "0.3337417111490559\n"
     ]
    }
   ],
   "source": [
    "# update qubit parameters - pulse amplitudes for pi and pi/2 pulses\n",
    "\n",
    "qubit_parameters['pi_half_amp'] = pi_half_amp\n",
    "print(qubit_parameters['pi_half_amp'])\n",
    "\n",
    "qubit_parameters['pi_amp'] = pi_amp\n",
    "print(qubit_parameters['pi_amp'])"
   ]
  }
 ],
 "metadata": {
  "kernelspec": {
   "display_name": "laboneq_env",
   "language": "python",
   "name": "python3"
  },
  "language_info": {
   "codemirror_mode": {
    "name": "ipython",
    "version": 3
   },
   "file_extension": ".py",
   "mimetype": "text/x-python",
   "name": "python",
   "nbconvert_exporter": "python",
   "pygments_lexer": "ipython3",
   "version": "3.11.5"
  },
  "orig_nbformat": 4
 },
 "nbformat": 4,
 "nbformat_minor": 2
}
