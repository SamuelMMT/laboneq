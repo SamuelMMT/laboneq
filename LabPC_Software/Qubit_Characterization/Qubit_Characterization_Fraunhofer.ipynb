{
 "cells": [
  {
   "attachments": {},
   "cell_type": "markdown",
   "metadata": {},
   "source": [
    "https://github.com/zhinst/blogs/blob/master/Hands-on%20Superconducting%20Qubit%20Characterization/Single-Qubit-Tuneup.md\n",
    "but using SHFQA and SHFSG\n",
    "https://github.com/zhinst/laboneq/blob/main/examples/03_superconducting_qubits/00_qubit_tuneup_shfsg_shfqa_shfqc.ipynb"
   ]
  },
  {
   "attachments": {},
   "cell_type": "markdown",
   "metadata": {},
   "source": [
    "This Script is for: 1. General Explanation, 2. Qubit and Readout Resonator Spectroscopy and 3. Pulsed Qubit Control and Rabi Oscillations"
   ]
  },
  {
   "attachments": {},
   "cell_type": "markdown",
   "metadata": {},
   "source": [
    "1. General Explanation\n",
    "What do I need for a SINGLE Qubit Measurement. Hardware: SHFQC, Software: LabOne Q\n"
   ]
  },
  {
   "cell_type": "code",
   "execution_count": null,
   "metadata": {},
   "outputs": [],
   "source": [
    "#Hardware Setup\n",
    "from IPython.display import Image\n",
    "Image(filename='ZI_Image1.png')"
   ]
  },
  {
   "cell_type": "code",
   "execution_count": null,
   "metadata": {},
   "outputs": [],
   "source": [
    "#Further Explanation Setup\n",
    "from IPython.display import Image\n",
    "Image(filename='ZI_Image2.png')"
   ]
  },
  {
   "attachments": {},
   "cell_type": "markdown",
   "metadata": {},
   "source": [
    "Explanation Spectroscopy\n",
    "1. Resonator Spectroscopy\n",
    "2. Qubit Spectroscopy"
   ]
  },
  {
   "attachments": {},
   "cell_type": "markdown",
   "metadata": {},
   "source": [
    "Resonator Spectroscopy:"
   ]
  },
  {
   "cell_type": "code",
   "execution_count": null,
   "metadata": {},
   "outputs": [],
   "source": [
    "from IPython.display import Image\n",
    "Image(filename='ZI_Image3.png')"
   ]
  },
  {
   "attachments": {},
   "cell_type": "markdown",
   "metadata": {},
   "source": [
    "2. Qubit Spectroscopy Setup"
   ]
  },
  {
   "cell_type": "code",
   "execution_count": null,
   "metadata": {},
   "outputs": [],
   "source": [
    "from IPython.display import Image\n",
    "Image(filename='ZI_Image5.png')"
   ]
  },
  {
   "cell_type": "code",
   "execution_count": null,
   "metadata": {},
   "outputs": [],
   "source": [
    "from IPython.display import Image\n",
    "Image(filename='ZI_Image4.png')"
   ]
  },
  {
   "attachments": {},
   "cell_type": "markdown",
   "metadata": {},
   "source": [
    "Roles of Readout Power"
   ]
  },
  {
   "cell_type": "code",
   "execution_count": null,
   "metadata": {},
   "outputs": [],
   "source": [
    "from IPython.display import Image\n",
    "Image(filename='ZI_Image6.png')"
   ]
  },
  {
   "attachments": {},
   "cell_type": "markdown",
   "metadata": {},
   "source": [
    "In the following image you can see the Software Architecture for a bigger setup"
   ]
  },
  {
   "cell_type": "code",
   "execution_count": null,
   "metadata": {},
   "outputs": [],
   "source": [
    "from IPython.display import Image\n",
    "Image(filename='flowchart_QCCS.png')"
   ]
  },
  {
   "attachments": {},
   "cell_type": "markdown",
   "metadata": {},
   "source": [
    "The Code for reading out a single Qubit:"
   ]
  },
  {
   "attachments": {},
   "cell_type": "markdown",
   "metadata": {},
   "source": [
    "1. Imports"
   ]
  },
  {
   "cell_type": "code",
   "execution_count": null,
   "metadata": {},
   "outputs": [],
   "source": [
    "#Initial Imports\n",
    "%config IPCompleter.greedy=True\n",
    "\n",
    "# convenience import for all QCCS software functionality\n",
    "from laboneq.simple import *\n",
    "\n",
    "# helper import - needed to extract qubit and readout parameters from measurement data\n",
    "from tuneup_helper import *\n",
    "\n",
    "# plotting and fitting functionality\n",
    "from laboneq.analysis.fitting import (\n",
    "    lorentzian,\n",
    "    oscillatory,\n",
    "    oscillatory_decay,\n",
    ")\n",
    "\n",
    "# for saving results and pulse sheets\n",
    "from pathlib import Path\n",
    "import time\n",
    "\n",
    "import matplotlib.pyplot as plt\n",
    "import numpy as np"
   ]
  },
  {
   "attachments": {},
   "cell_type": "markdown",
   "metadata": {},
   "source": [
    "Create Device Setup"
   ]
  },
  {
   "cell_type": "code",
   "execution_count": null,
   "metadata": {},
   "outputs": [],
   "source": [
    "#DESCRITPTOR \n",
    "#Define initial PHYSICAL device setup, Logical Signal Lines of the Instrument are defined here and later in a Signal Map mapped to the Experimental Signal lines \n",
    "\n",
    "#Fill in missing address\n",
    "\n",
    "descriptor_setup_small= \"\"\"\\\n",
    "instruments:\n",
    "  SHFSG:\n",
    "  - address: DEV12265\n",
    "    uid: device_shfsg_1\n",
    "  SHFQA:\n",
    "  - address: DEV12249\n",
    "    uid: device_shfqa_1\n",
    "  PQSC:\n",
    "  - address: DEV10----\n",
    "    uid: device_pqsc\n",
    "connections:\n",
    "  device_shfsg:\n",
    "    - iq_signal: q0/drive_line\n",
    "      ports: SGCHANNELS/0/OUTPUT\n",
    "  device_shfqa:\n",
    "    - iq_signal: q0/measure_line\n",
    "      ports: QACHANNELS/0/OUTPUT\n",
    "    - acquire_signal: q0/acquire_line\n",
    "      ports: QACHANNELS/0/INPUT\n",
    "  device_pqsc:\n",
    "    - to: device_shfsg_1\n",
    "      port: ZSYNCS/0\n",
    "    - to: device_shfqa_1\n",
    "      port: ZSYNCS/1\n",
    "\"\"\"\n",
    "#Example to understand better:\n",
    "\"\"\"  device_shfqa:\n",
    "    - iq_signal: q0/measure_line\n",
    "      ports: QACHANNELS/0/OUTPUT\n",
    "    - acquire_signal: q0/acquire_line\n",
    "      ports: QACHANNELS/0/INPUT\n",
    "    - iq_signal: q1/measure_line\n",
    "      ports: QACHANNELS/0/OUTPUT\n",
    "    - acquire_signal: q1/acquire_line\n",
    "      ports: QACHANNELS/0/INPUT\n",
    "q0 and q1 are signal groups, but use the same physical \n",
    "Here, we have four logical signal lines, two named measure_line, which are iq_signal types \n",
    "for sending qubit readout pulses, and two named acquire_line, for data acquisition on the input of SHFQA. \n",
    "Two of the measure and acquire lines are in the logical group q0 and the others are in q1. As both line pairs use \n",
    "the same physical channel on the instrument, the output signals are added, resulting in a frequency multiplexing.\n",
    " On the input side, each logical signal line has its own integration weights.\"\"\""
   ]
  },
  {
   "cell_type": "code",
   "execution_count": null,
   "metadata": {},
   "outputs": [],
   "source": [
    "# define the DeviceSetup from descriptor - additionally include information on the dataserver used to connect to the instruments \n",
    "#with the device set\n",
    "device_setup = DeviceSetup.from_descriptor(\n",
    "    #or with example import and yaml also possible: yaml_text=descriptor_shfsg_shfqa_pqsc\n",
    "    descriptor_setup_small,\n",
    "    server_host=\"192.168.1.10\", #IP-Address of the LabOne (NOT Q) dataserver used to communicate with the instrument\n",
    "    server_port=\"8004\",\n",
    "    setup_name=\"psi\",\n",
    ") \n",
    "\n",
    "# define shortcut to logical signals for convenience\n",
    "lsg = {\n",
    "    qubit_name: device_setup.logical_signal_groups[qubit_name].logical_signals\n",
    "    for qubit_name in device_setup.logical_signal_groups.keys()\n",
    "}"
   ]
  },
  {
   "attachments": {},
   "cell_type": "markdown",
   "metadata": {},
   "source": [
    "Qubit Parameters\n",
    "\n",
    "A python dictionary containing all parameters needed to control and readout the qubits - frequencies, pulse lengths, timings\n",
    "\n",
    "May initially contain only the design parameters and will be updated with measurement results during the tuneup procedure"
   ]
  },
  {
   "cell_type": "code",
   "execution_count": null,
   "metadata": {},
   "outputs": [],
   "source": [
    "\"\"\"\n",
    "# a function to define a collection of single qubit control and readout parameters as a python dictionary\n",
    "def single_qubit_parameters():\n",
    "    return {\n",
    "        \"freq\": 100e6,  # qubit 0 drive frequency in [Hz] - relative to local oscillator for qubit drive upconversion\n",
    "        \"ro_freq\": 5e6,  # 50e6,\n",
    "        \"ro_delay\": 0,  # 15e-9,#100e-9,\n",
    "        \"ro_int_delay\": 0,  # 40-9,\n",
    "        \"qb_len_spec\": 1e-6,\n",
    "        \"qb_len\": 700e-9,\n",
    "        \"qb_amp_spec\": 1.0,\n",
    "        \"pi_amp\": 1,\n",
    "        \"freq_ef\": -500e6,\n",
    "    }\n",
    "\n",
    "\n",
    "# for sake of simplicity, give all qubits the same initial parameters\n",
    "qubit_parameters = {\n",
    "    k: single_qubit_parameters() for k in device_setup.logical_signal_groups.keys()\n",
    "}\n",
    "\n",
    "\n",
    "# up / downconversion settings - to convert between IF and RF frequencies\n",
    "def single_lo_settings():\n",
    "    return {\n",
    "        # SHFQA LO Frequency\n",
    "        \"shfqa_lo\": 8.0e9,\n",
    "        # SHFSG LO Frequencies, one center frequency per two channels on SHFQC\n",
    "        \"shfsg_lo\": 5.0e9,\n",
    "    }\n",
    "\n",
    "\n",
    "lo_settings = {\n",
    "    k: single_lo_settings() for k in device_setup.logical_signal_groups.keys()\n",
    "}\n",
    "\"\"\"\n",
    "# a collection of qubit control and readout parameters as a python dictionary\n",
    "qubit_parameters = {\n",
    "    'ro_freq' :  10e6,           # readout frequency of qubit 0 in [Hz] - relative to local oscillator for readout drive upconversion\n",
    "    'ro_amp' : 0.5,              # readout amplitude\n",
    "    'ro_amp_spec': 0.05,         # readout amplitude for spectroscopy\n",
    "    'ro_len' : 1.0e-6,           # readout pulse length in [s]\n",
    "    'ro_len_spec' : 1.0e-6,      # readout pulse length for resonator spectroscopy in [s]\n",
    "    'ro_delay': 100e-9,          # readout delay after last drive signal in [s]\n",
    "    'ro_int_delay' : 180e-9,     # readout line offset calibration - delay between readout pulse and start of signal acquisition in [s]\n",
    "    \n",
    "    'qb_freq': 20e6,             # qubit 0 drive frequency in [Hz] - relative to local oscillator for qubit drive upconversion\n",
    "    'qb_amp_spec': 0.01,         # drive amplitude of qubit spectroscopy\n",
    "    'qb_len_spec': 15e-6,        # drive pulse length for qubit spectroscopy in [s]\n",
    "    'qb_len' : 4e-7,             # qubit drive pulse length in [s]\n",
    "    'pi_amp' : 0.5,              # qubit drive amplitude for pi pulse\n",
    "    'pi_half_amp' : 0.25,        # qubit drive amplitude for pi/2 pulse\n",
    "    'qb_t1' : 100e-6,            # qubit T1 time\n",
    "    'qb_t2' : 100e-6,            # qubit T2 time\n",
    "    'relax' : 200e-6             # delay time after each measurement for qubit reset in [s]\n",
    "}\n",
    "\n",
    "# up / downconversion settings - to convert between IF and RF frequencies\n",
    "lo_settings = {\n",
    "    'qb_lo': 4.0e9,              # qubit LO frequency in [Hz]\n",
    "    'ro_lo': 7.0e9               # readout LO frequency in [Hz]\n",
    "}\n"
   ]
  },
  {
   "cell_type": "code",
   "execution_count": null,
   "metadata": {},
   "outputs": [],
   "source": [
    "qubit_parameters['ro_int_delay']= 350e-9"
   ]
  },
  {
   "attachments": {},
   "cell_type": "markdown",
   "metadata": {},
   "source": [
    "Calibration"
   ]
  },
  {
   "cell_type": "code",
   "execution_count": null,
   "metadata": {},
   "outputs": [],
   "source": [
    "\"\"\"\n",
    "# function that defines the device settings for qubit and readout parameters\n",
    "def define_calibration(device_setup, parameters, lo_settings):\n",
    "    # Define LOs\n",
    "    def single_oscillator(id, qubit, lo_type):\n",
    "        oscillator = Oscillator()\n",
    "        oscillator.uid = f\"{id}\" + f\"{qubit}\" + \"_osc\"\n",
    "        oscillator.frequency = lo_settings[qubit][lo_type]\n",
    "        return oscillator\n",
    "\n",
    "    readout_lo_dict = {\n",
    "        k: single_oscillator(\"readout_lo_\", k, \"shfqa_lo\")\n",
    "        for k in device_setup.logical_signal_groups.keys()\n",
    "    }\n",
    "\n",
    "    drive_lo_dict = {\n",
    "        k: single_oscillator(\"drive_lo_\", k, \"shfsg_lo\")\n",
    "        for k in device_setup.logical_signal_groups.keys()\n",
    "    }\n",
    "\n",
    "    # the calibration object will later be applied to the device setup\n",
    "    calibration = Calibration()\n",
    "\n",
    "    # qubits q0-q3 are multiplexed on one acquisition line\n",
    "    calibration[\n",
    "        device_setup.logical_signal_groups[\"q0\"].logical_signals[\"acquire_line\"]\n",
    "    ] = SignalCalibration(\n",
    "        oscillator=Oscillator(\n",
    "            frequency=parameters[\"q0\"][\"ro_freq\"],\n",
    "            modulation_type=ModulationType.SOFTWARE,\n",
    "        ),\n",
    "        # add an offset between the readout pulse and the start of the data acquisition - to compensate for round-trip time of readout pulse\n",
    "        port_delay=parameters[\"q0\"][\"ro_delay\"] + parameters[\"q0\"][\"ro_int_delay\"],\n",
    "        local_oscillator=readout_lo_dict[\"q0\"],\n",
    "        range=5,\n",
    "    )\n",
    "\n",
    "    for logical_signal_group in device_setup.logical_signal_groups.keys():\n",
    "        # measure line\n",
    "        calibration[\n",
    "            device_setup.logical_signal_groups[logical_signal_group].logical_signals[\n",
    "                \"measure_line\"\n",
    "            ]\n",
    "        ] = SignalCalibration(\n",
    "            oscillator=Oscillator(\n",
    "                frequency=parameters[logical_signal_group][\"ro_freq\"],\n",
    "                modulation_type=ModulationType.SOFTWARE,\n",
    "            ),\n",
    "            port_delay=parameters[\"q0\"][\"ro_delay\"],\n",
    "            local_oscillator=readout_lo_dict[\"q0\"],\n",
    "            range=5,\n",
    "        )\n",
    "\n",
    "        calibration[\n",
    "            device_setup.logical_signal_groups[logical_signal_group].logical_signals[\n",
    "                \"drive_line\"\n",
    "            ]\n",
    "        ] = SignalCalibration(\n",
    "            # each logical signal can have an oscillator associated with it\n",
    "            oscillator=Oscillator(\n",
    "                frequency=parameters[logical_signal_group][\"freq\"],\n",
    "                modulation_type=ModulationType.HARDWARE,\n",
    "            ),\n",
    "            # DANGER! Verify which qubits share the same LOs!\n",
    "            local_oscillator=drive_lo_dict[logical_signal_group],\n",
    "            range=5,\n",
    "        )\n",
    "    return calibration\n",
    "\n",
    "\"\"\"\n",
    "# function that defines a setup calibration containing the qubit / readout parameters \n",
    "def define_calibration(parameters):\n",
    "\n",
    "     # the calibration object will later be applied to the device setup\n",
    "    my_calibration = Calibration()\n",
    "\n",
    "    my_calibration[\"/logical_signal_groups/q0/drive_line\"] = \\\n",
    "        SignalCalibration(\n",
    "           # each logical signal can have an oscillator associated with it\n",
    "            oscillator=Oscillator(\n",
    "                frequency=parameters['qb_freq'],\n",
    "                modulation_type=ModulationType.HARDWARE\n",
    "            ),\n",
    "            local_oscillator=Oscillator(\n",
    "                frequency=lo_settings['qb_lo'],\n",
    "            ),\n",
    "            range=-30\n",
    "        )\n",
    "    \n",
    "    # readout drive line\n",
    "    my_calibration[\"/logical_signal_groups/q0/measure_line\"] = \\\n",
    "         SignalCalibration(\n",
    "            oscillator=Oscillator(\n",
    "                frequency=parameters['ro_freq'],\n",
    "                modulation_type=ModulationType.SOFTWARE\n",
    "            ),\n",
    "            port_delay=parameters['ro_delay'],\n",
    "            local_oscillator=Oscillator(\n",
    "                frequency=lo_settings['ro_lo'],\n",
    "            ),\n",
    "           range=-30\n",
    "       )\n",
    "    # acquisition line\n",
    "    my_calibration[\"/logical_signal_groups/q0/acquire_line\"] = \\\n",
    "         SignalCalibration(\n",
    "            oscillator=Oscillator(\n",
    "                frequency=parameters['ro_freq'],\n",
    "                modulation_type=ModulationType.SOFTWARE\n",
    "            ),\n",
    "            # add an offset between the readout pulse and the start of the data acquisition - to compensate for round-trip time of readout pulse \n",
    "            port_delay=parameters['ro_delay'] + parameters['ro_int_delay'],\n",
    "            local_oscillator=Oscillator(\n",
    "                frequency=lo_settings['ro_lo'],\n",
    "            ),\n",
    "            range=-30\n",
    "        )\n",
    "  \n",
    "    return my_calibration\n",
    "\n",
    "\n",
    "# define Calibration object based on qubit control and readout parameters\n",
    "my_calibration = define_calibration(parameters=qubit_parameters)\n",
    "# apply calibration to device setup\n",
    "device_setup.set_calibration(my_calibration)\n"
   ]
  },
  {
   "attachments": {},
   "cell_type": "markdown",
   "metadata": {},
   "source": [
    "Set qubit control and readout calibration, and apply it to the device setup"
   ]
  },
  {
   "cell_type": "code",
   "execution_count": null,
   "metadata": {},
   "outputs": [],
   "source": [
    "# define Calibration object based on qubit control and readout parameters\n",
    "calibration = define_calibration(device_setup, qubit_parameters, lo_settings)\n",
    "# apply calibration to device setup\n",
    "device_setup.set_calibration(calibration)"
   ]
  },
  {
   "attachments": {},
   "cell_type": "markdown",
   "metadata": {},
   "source": [
    "Create and Connect to a QCCS Session\n",
    "\n",
    "Establishes the connection to the instruments and readies them for experiments\n",
    "QCCS monitor is a software to monitor all the devices in one. It can be started as follows:\n",
    "LabOne needs to run, be connected to the server and then "
   ]
  },
  {
   "cell_type": "code",
   "execution_count": null,
   "metadata": {},
   "outputs": [],
   "source": [
    "# perform experiments in emulation mode only? - if True, also generate dummy data for fitting\n",
    "emulate = False\n",
    "\n",
    "# create and connect to a session\n",
    "session = Session(device_setup=device_setup)\n",
    "session.connect(do_emulation=emulate)"
   ]
  },
  {
   "attachments": {},
   "cell_type": "markdown",
   "metadata": {},
   "source": [
    "Signal Lines: LabOne Q abstracts the real, physical channels in your system into logical signal lines, which are grouped in logical signal groups. Logical signal lines abstract instruments, physical channels, and hardware calibration settings into a single Python object. This separates the hardware from the quantum experiments — which you can define freely, and whose experimental signal lines are mapped only later to the logical signal lines. This allows for instrumentation-agnostic experiment definitions, which can be re-used later."
   ]
  }
 ],
 "metadata": {
  "kernelspec": {
   "display_name": "laboneq_dev",
   "language": "python",
   "name": "python3"
  },
  "language_info": {
   "codemirror_mode": {
    "name": "ipython",
    "version": 3
   },
   "file_extension": ".py",
   "mimetype": "text/x-python",
   "name": "python",
   "nbconvert_exporter": "python",
   "pygments_lexer": "ipython3",
   "version": "3.11.5"
  },
  "orig_nbformat": 4
 },
 "nbformat": 4,
 "nbformat_minor": 2
}
