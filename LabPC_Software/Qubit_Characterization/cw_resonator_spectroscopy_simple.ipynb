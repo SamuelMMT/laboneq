{
 "cells": [
  {
   "cell_type": "code",
   "execution_count": 1,
   "metadata": {},
   "outputs": [],
   "source": [
    "# LabOne Q:\n",
    "from laboneq.simple import *\n",
    "\n",
    "# Helpers:\n",
    "from laboneq.contrib.example_helpers.plotting.plot_helpers import *\n",
    "#from laboneq.contrib.example_helpers.example_notebook_helper import create_device_setup"
   ]
  },
  {
   "cell_type": "code",
   "execution_count": 2,
   "metadata": {},
   "outputs": [],
   "source": [
    "# create device setup\n",
    "device_setup_simple = \"\"\"\\\n",
    "instruments:\n",
    "  SHFQA:\n",
    "  - address: DEV12249\n",
    "    uid: device_shfqa\n",
    "\n",
    "connections:\n",
    "  device_shfqa:\n",
    "    - iq_signal: q0/measure_line\n",
    "      ports: QACHANNELS/0/OUTPUT\n",
    "    - acquire_signal: q0/acquire_line\n",
    "      ports: QACHANNELS/0/INPUT\n",
    "\"\"\"\n",
    "# define the DeviceSetup from descriptor - additionally include information on the dataserver used to connect to the instruments \n",
    "#with the device set\n",
    "device_setup = DeviceSetup.from_descriptor(\n",
    "    #or with example import and yaml also possible: yaml_text=descriptor_shfsg_shfqa_pqsc\n",
    "    device_setup_simple,\n",
    "    server_host=\"127.0.0.1\", #IP-Address of the LabOne (NOT Q) dataserver used to communicate with the instrument\n",
    "    server_port=\"8004\",\n",
    "    setup_name=\"simple_setup\",\n",
    ") \n",
    "\n",
    "\n",
    "\n",
    "use_emulation = False"
   ]
  },
  {
   "cell_type": "code",
   "execution_count": null,
   "metadata": {},
   "outputs": [],
   "source": [
    "# define sweep parameter - sweep over frequency of readout pulse\n",
    "start = -78.35e6\n",
    "stop = -78.25e6\n",
    "count = 200\n",
    "\n",
    "frequency_sweep_parameter = LinearSweepParameter(\n",
    "    uid=\"frequency_sweep\", start=start, stop=stop, count=count\n",
    ")\n",
    "\n",
    "# define number of averages\n",
    "average_exponent = 12  # used for 2^n averages, n=average_exponent, maximum: n = 17\n",
    "\n",
    "# Create Experiment - uses only a readout pulse and a data acquisition line\n",
    "exp = Experiment(\n",
    "    uid=\"Resonator Spectroscopy\",\n",
    "    signals=[\n",
    "        ExperimentSignal(\"measure\"),\n",
    "        ExperimentSignal(\"acquire\"),\n",
    "    ],\n",
    ")\n",
    "\n",
    "## experimental pulse sequence\n",
    "# Define an acquisition loop of type SPECTROSCOPY\n",
    "with exp.acquire_loop_rt(\n",
    "    uid=\"shots\",\n",
    "    count=pow(2, average_exponent),\n",
    "    averaging_mode=AveragingMode.SEQUENTIAL,\n",
    "    acquisition_type=AcquisitionType.SPECTROSCOPY,\n",
    "):\n",
    "    with exp.sweep(uid=\"sweep\", parameter=frequency_sweep_parameter):\n",
    "        # readout pulse and data acquisition\n",
    "        with exp.section(uid=\"spectroscopy\"):\n",
    "            exp.acquire(\n",
    "                signal=\"acquire\",\n",
    "                handle=\"ac_0\",\n",
    "                length=15e-6,\n",
    "            )\n",
    "        # relax time after readout - for signal processing and qubit relaxation to ground state\n",
    "        with exp.section(uid=\"relax\", play_after=\"spectroscopy\"):\n",
    "            exp.delay(signal=\"acquire\", time=1e-6)"
   ]
  },
  {
   "cell_type": "code",
   "execution_count": null,
   "metadata": {},
   "outputs": [],
   "source": [
    "# calibration for qubit 0\n",
    "# The start of acquisition is delayed by 250 ns to compensate for the reference signal propagation within the SHFQA.\n",
    "exp_calib = Calibration()\n",
    "exp_calib[\"acquire\"] = SignalCalibration(\n",
    "    oscillator=Oscillator(\n",
    "        frequency=frequency_sweep_parameter,\n",
    "        modulation_type=ModulationType.HARDWARE,\n",
    "    ),\n",
    "    port_delay=250e-9,\n",
    ")"
   ]
  },
  {
   "cell_type": "code",
   "execution_count": null,
   "metadata": {},
   "outputs": [],
   "source": [
    "# signal map for qubit 0\n",
    "def map_qubit(qubit_id):\n",
    "    return {\n",
    "        \"measure\": f\"/logical_signal_groups/q{qubit_id}/measure_line\",\n",
    "        \"acquire\": f\"/logical_signal_groups/q{qubit_id}/acquire_line\",\n",
    "    }"
   ]
  },
  {
   "cell_type": "code",
   "execution_count": 3,
   "metadata": {},
   "outputs": [
    {
     "name": "stdout",
     "output_type": "stream",
     "text": [
      "[2023.10.16 18:47:14.634] INFO    Logging initialized from [Default inline config in laboneq.controller.laboneq_logging] logdir is t:\\MQV Cryo-Team\\0 Measurements\\1 Measurement scripts\\LabOneQ Software\\laboneq\\LabPC_Software\\Qubit_Characterization\\laboneq_output\\log\n",
      "[2023.10.16 18:47:14.637] INFO    VERSION: laboneq 2.15.0\n",
      "[2023.10.16 18:47:14.639] INFO    Connecting to data server at 127.0.0.1:8004\n",
      "[2023.10.16 18:47:14.772] INFO    Connected to Zurich Instruments LabOne Data Server version 23.06 at 127.0.0.1:8004\n",
      "[2023.10.16 18:47:15.125] INFO    Configuring the device setup\n",
      "[2023.10.16 18:47:15.265] INFO    The device setup is configured\n"
     ]
    },
    {
     "data": {
      "text/plain": [
       "<laboneq.dsl.session.ConnectionState at 0x2300e2c5310>"
      ]
     },
     "execution_count": 3,
     "metadata": {},
     "output_type": "execute_result"
    }
   ],
   "source": [
    "# create and connect to session\n",
    "session = Session(device_setup=device_setup)\n",
    "session.connect(do_emulation=use_emulation)\n",
    "\n",
    "\"\"\"\n",
    "#QCCS: {\n",
    "    \"host\": \"127.0.0.1\",\n",
    "    \"port\": 8004,\n",
    "    \"slug\": \"my_qccs_setup\",\n",
    "    \"racks\": [[\n",
    "      { \"height\": 2, \"width\": 1, \"devtype\": \"SHFQA2\", \"devid\": \"dev12249\" },\n",
    "      { \"height\": 2, \"width\": 1, \"devtype\": \"SHFSG8\", \"devid\": \"dev12265\" }\n",
    "    ]]\n",
    "  }\n",
    "\n",
    ".\\bin\\qccs-monitor-server.exe --resdir=.\\res -p 8008 .\\config\\my_setup.json --addr 127.0.0.1\n",
    "\"\"\""
   ]
  },
  {
   "cell_type": "code",
   "execution_count": null,
   "metadata": {},
   "outputs": [],
   "source": [
    "\n",
    "\n",
    "# set experiment calibration and signal map\n",
    "exp.set_calibration(exp_calib)\n",
    "exp.set_signal_map(map_qubit(0))\n",
    "\n",
    "# run experiment\n",
    "my_results = session.run(exp)\n",
    "\n",
    "# plot measurement results\n",
    "plot_result_2d(my_results, \"ac_0\")"
   ]
  },
  {
   "cell_type": "code",
   "execution_count": null,
   "metadata": {},
   "outputs": [],
   "source": [
    "# use pulse sheet viewer to display the pulse sequence - only recommended for small number of averages and sweep steps to avoid performance issues\n",
    "show_pulse_sheet(\"Resonator Spectroscopy\", session.compiled_experiment)"
   ]
  },
  {
   "attachments": {},
   "cell_type": "markdown",
   "metadata": {},
   "source": [
    "Optional:"
   ]
  },
  {
   "cell_type": "code",
   "execution_count": null,
   "metadata": {},
   "outputs": [],
   "source": [
    "# Run the same experiment on qubit 1\n",
    "exp.set_calibration(exp_calib)\n",
    "exp.set_signal_map(map_qubit(1))\n",
    "my_results = session.run(exp)"
   ]
  }
 ],
 "metadata": {
  "kernelspec": {
   "display_name": "laboneq_env",
   "language": "python",
   "name": "python3"
  },
  "language_info": {
   "codemirror_mode": {
    "name": "ipython",
    "version": 3
   },
   "file_extension": ".py",
   "mimetype": "text/x-python",
   "name": "python",
   "nbconvert_exporter": "python",
   "pygments_lexer": "ipython3",
   "version": "3.11.5"
  },
  "orig_nbformat": 4
 },
 "nbformat": 4,
 "nbformat_minor": 2
}
