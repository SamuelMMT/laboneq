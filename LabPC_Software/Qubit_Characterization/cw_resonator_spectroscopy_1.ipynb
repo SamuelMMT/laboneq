{
 "cells": [
  {
   "attachments": {},
   "cell_type": "markdown",
   "metadata": {},
   "source": [
    "https://www.youtube.com/watch?v=aRaGHNZeVkI&list=PLjxUCNDRYw8k1_HTzXDohUHKhYKYFQrbn&index=2"
   ]
  },
  {
   "attachments": {},
   "cell_type": "markdown",
   "metadata": {},
   "source": [
    "Standard Imports"
   ]
  },
  {
   "cell_type": "code",
   "execution_count": 1,
   "metadata": {},
   "outputs": [],
   "source": [
    "# LabOne Q:\n",
    "from laboneq.simple import *\n",
    "\n",
    "# Helpers:\n",
    "from laboneq.contrib.example_helpers.plotting.plot_helpers import plot_results\n",
    "from laboneq.contrib.example_helpers.generate_example_datastore import (\n",
    "    generate_example_datastore,\n",
    "    get_first_named_entry,\n",
    ")\n",
    "\n",
    "from pathlib import Path\n",
    "import time"
   ]
  },
  {
   "attachments": {},
   "cell_type": "markdown",
   "metadata": {},
   "source": [
    "Load device setup for MQV Fraunhofer"
   ]
  },
  {
   "cell_type": "code",
   "execution_count": 3,
   "metadata": {},
   "outputs": [],
   "source": [
    "\n",
    "#DESCRITPTOR \n",
    "#Define initial PHYSICAL device setup, Logical Signal Lines of the Instrument are defined here and later in a Signal Map mapped to the Experimental Signal lines \n",
    "\n",
    "#Fill in missing address\n",
    "\n",
    "descriptor_setup_small= \"\"\"\\\n",
    "instruments:\n",
    "  SHFSG:\n",
    "  - address: DEV12265\n",
    "    uid: device_shfsg_1\n",
    "  SHFQA:\n",
    "  - address: DEV12249\n",
    "    uid: device_shfqa_1\n",
    "  PQSC:\n",
    "  - address: DEV10----\n",
    "    uid: device_pqsc\n",
    "connections:\n",
    "  device_shfsg:\n",
    "    - iq_signal: q0/drive_line\n",
    "      ports: SGCHANNELS/0/OUTPUT\n",
    "  device_shfqa:\n",
    "    - iq_signal: q0/measure_line\n",
    "      ports: QACHANNELS/0/OUTPUT\n",
    "    - acquire_signal: q0/acquire_line\n",
    "      ports: QACHANNELS/0/INPUT\n",
    "  device_pqsc:\n",
    "    - to: device_shfsg_1\n",
    "      port: ZSYNCS/0\n",
    "    - to: device_shfqa_1\n",
    "      port: ZSYNCS/1\n",
    "\"\"\"\n",
    "\n",
    "\n",
    "# define the DeviceSetup from descriptor - additionally include information on the dataserver used to connect to the instruments \n",
    "#with the device set\n",
    "device_setup = DeviceSetup.from_descriptor(\n",
    "    #or with example import and yaml also possible: yaml_text=descriptor_shfsg_shfqa_pqsc\n",
    "    descriptor_setup_small,\n",
    "    server_host=\"127.0.0.1\", #IP-Address of the LabOne (NOT Q) dataserver used to communicate with the instrument\n",
    "    server_port=\"8004\",\n",
    "    setup_name=\"psi\",\n",
    ") \n",
    "emulate = False\n"
   ]
  },
  {
   "cell_type": "code",
   "execution_count": 4,
   "metadata": {},
   "outputs": [
    {
     "name": "stdout",
     "output_type": "stream",
     "text": [
      "[2023.10.09 10:34:57.674] INFO    Logging initialized from [Default inline config in laboneq.controller.laboneq_logging] logdir is u:\\LabOneQ Software Local Samuel\\laboneq\\LabPC_Software\\Qubit_Characterization\\laboneq_output\\log\n"
     ]
    },
    {
     "ename": "AttributeError",
     "evalue": "'NoneType' object has no attribute 'uid'",
     "output_type": "error",
     "traceback": [
      "\u001b[1;31m---------------------------------------------------------------------------\u001b[0m",
      "\u001b[1;31mAttributeError\u001b[0m                            Traceback (most recent call last)",
      "Cell \u001b[1;32mIn[4], line 3\u001b[0m\n\u001b[0;32m      1\u001b[0m \u001b[39m# create and connect to a session\u001b[39;00m\n\u001b[0;32m      2\u001b[0m session \u001b[39m=\u001b[39m Session(device_setup\u001b[39m=\u001b[39mdevice_setup)\n\u001b[1;32m----> 3\u001b[0m session\u001b[39m.\u001b[39mconnect(do_emulation\u001b[39m=\u001b[39memulate)\n",
      "File \u001b[1;32m\\\\home\\home\\sam68451\\LabOneQ Software Local Samuel\\laboneq\\laboneq\\_observability\\tracing\\_tracer.py:73\u001b[0m, in \u001b[0;36mtrace.<locals>.outer_wrapper.<locals>.wrapper\u001b[1;34m(*args, **kwargs)\u001b[0m\n\u001b[0;32m     71\u001b[0m             tracing\u001b[39m.\u001b[39menable_tracing()\n\u001b[0;32m     72\u001b[0m         \u001b[39mreturn\u001b[39;00m res\n\u001b[1;32m---> 73\u001b[0m \u001b[39mreturn\u001b[39;00m func(\u001b[39m*\u001b[39margs, \u001b[39m*\u001b[39m\u001b[39m*\u001b[39mkwargs)\n",
      "File \u001b[1;32m\\\\home\\home\\sam68451\\LabOneQ Software Local Samuel\\laboneq\\laboneq\\dsl\\session.py:236\u001b[0m, in \u001b[0;36mSession.connect\u001b[1;34m(self, do_emulation, ignore_version_mismatch, reset_devices)\u001b[0m\n\u001b[0;32m    234\u001b[0m     \u001b[39mself\u001b[39m\u001b[39m.\u001b[39mdisconnect()\n\u001b[0;32m    235\u001b[0m \u001b[39mself\u001b[39m\u001b[39m.\u001b[39m_connection_state\u001b[39m.\u001b[39memulated \u001b[39m=\u001b[39m do_emulation\n\u001b[1;32m--> 236\u001b[0m LabOneQFacade\u001b[39m.\u001b[39mconnect(\u001b[39mself\u001b[39m)\n\u001b[0;32m    237\u001b[0m \u001b[39mself\u001b[39m\u001b[39m.\u001b[39m_connection_state\u001b[39m.\u001b[39mconnected \u001b[39m=\u001b[39m \u001b[39mTrue\u001b[39;00m\n\u001b[0;32m    238\u001b[0m \u001b[39mreturn\u001b[39;00m \u001b[39mself\u001b[39m\u001b[39m.\u001b[39m_connection_state\n",
      "File \u001b[1;32m\\\\home\\home\\sam68451\\LabOneQ Software Local Samuel\\laboneq\\laboneq\\dsl\\laboneq_facade.py:38\u001b[0m, in \u001b[0;36mLabOneQFacade.connect\u001b[1;34m(session)\u001b[0m\n\u001b[0;32m     35\u001b[0m run_parameters\u001b[39m.\u001b[39mignore_version_mismatch \u001b[39m=\u001b[39m session\u001b[39m.\u001b[39m_ignore_version_mismatch\n\u001b[0;32m     36\u001b[0m run_parameters\u001b[39m.\u001b[39mreset_devices \u001b[39m=\u001b[39m session\u001b[39m.\u001b[39m_reset_devices\n\u001b[1;32m---> 38\u001b[0m target_setup \u001b[39m=\u001b[39m convert_dsl_to_target_setup(session\u001b[39m.\u001b[39m_device_setup)\n\u001b[0;32m     40\u001b[0m controller \u001b[39m=\u001b[39m ctrl\u001b[39m.\u001b[39mController(\n\u001b[0;32m     41\u001b[0m     run_parameters\u001b[39m=\u001b[39mrun_parameters,\n\u001b[0;32m     42\u001b[0m     target_setup\u001b[39m=\u001b[39mtarget_setup,\n\u001b[0;32m     43\u001b[0m     user_functions\u001b[39m=\u001b[39msession\u001b[39m.\u001b[39m_user_functions,\n\u001b[0;32m     44\u001b[0m )\n\u001b[0;32m     45\u001b[0m controller\u001b[39m.\u001b[39mconnect()\n",
      "File \u001b[1;32m\\\\home\\home\\sam68451\\LabOneQ Software Local Samuel\\laboneq\\laboneq\\implementation\\legacy_adapters\\converters_target_setup.py:21\u001b[0m, in \u001b[0;36mconvert_dsl_to_target_setup\u001b[1;34m(device_setup)\u001b[0m\n\u001b[0;32m     20\u001b[0m \u001b[39mdef\u001b[39;00m \u001b[39mconvert_dsl_to_target_setup\u001b[39m(device_setup: DeviceSetup) \u001b[39m-\u001b[39m\u001b[39m>\u001b[39m TargetSetup:\n\u001b[1;32m---> 21\u001b[0m     new_setup \u001b[39m=\u001b[39m convert_device_setup_to_setup(device_setup)\n\u001b[0;32m     22\u001b[0m     target_setup \u001b[39m=\u001b[39m TargetSetupGenerator\u001b[39m.\u001b[39mfrom_setup(new_setup)\n\u001b[0;32m     23\u001b[0m     \u001b[39mreturn\u001b[39;00m target_setup\n",
      "File \u001b[1;32m\\\\home\\home\\sam68451\\LabOneQ Software Local Samuel\\laboneq\\laboneq\\implementation\\legacy_adapters\\device_setup_converter.py:599\u001b[0m, in \u001b[0;36mconvert_device_setup_to_setup\u001b[1;34m(device_setup)\u001b[0m\n\u001b[0;32m    593\u001b[0m     servers[name] \u001b[39m=\u001b[39m convert_dataserver(server)\n\u001b[0;32m    595\u001b[0m calibration \u001b[39m=\u001b[39m calibration_converter\u001b[39m.\u001b[39mconvert_calibration(\n\u001b[0;32m    596\u001b[0m     device_setup\u001b[39m.\u001b[39mget_calibration(),\n\u001b[0;32m    597\u001b[0m     uid_formatter\u001b[39m=\u001b[39mcalibration_converter\u001b[39m.\u001b[39mformat_ls_pc_uid,\n\u001b[0;32m    598\u001b[0m )\n\u001b[1;32m--> 599\u001b[0m (legacy_instruments, legacy_logical_signal_groups) \u001b[39m=\u001b[39m recombine_shfqcs(\n\u001b[0;32m    600\u001b[0m     device_setup\u001b[39m.\u001b[39minstruments,\n\u001b[0;32m    601\u001b[0m     device_setup\u001b[39m.\u001b[39mlogical_signal_groups,\n\u001b[0;32m    602\u001b[0m )\n\u001b[0;32m    604\u001b[0m lsgs, ls_legacy_to_new_map \u001b[39m=\u001b[39m convert_logical_signal_groups_with_ls_mapping(\n\u001b[0;32m    605\u001b[0m     legacy_logical_signal_groups\n\u001b[0;32m    606\u001b[0m )\n\u001b[0;32m    608\u001b[0m converters \u001b[39m=\u001b[39m [\n\u001b[0;32m    609\u001b[0m     InstrumentConverter(\n\u001b[0;32m    610\u001b[0m         instr,\n\u001b[1;32m   (...)\u001b[0m\n\u001b[0;32m    614\u001b[0m     \u001b[39mfor\u001b[39;00m instr \u001b[39min\u001b[39;00m legacy_instruments\n\u001b[0;32m    615\u001b[0m ]\n",
      "File \u001b[1;32m\\\\home\\home\\sam68451\\LabOneQ Software Local Samuel\\laboneq\\laboneq\\implementation\\legacy_adapters\\device_setup_converter.py:556\u001b[0m, in \u001b[0;36mrecombine_shfqcs\u001b[1;34m(instruments, logical_signal_groups)\u001b[0m\n\u001b[0;32m    548\u001b[0m shfqcs \u001b[39m=\u001b[39m {\n\u001b[0;32m    549\u001b[0m     uid: combine_shfqa_and_shfsg(\n\u001b[0;32m    550\u001b[0m         shfqa, virtual_shfsgs[uid \u001b[39m+\u001b[39m VIRTUAL_SHFSG_UID_SUFFIX]\n\u001b[0;32m    551\u001b[0m     )\n\u001b[0;32m    552\u001b[0m     \u001b[39mfor\u001b[39;00m uid, shfqa \u001b[39min\u001b[39;00m (virtual_shfqas \u001b[39m|\u001b[39m extra_virtual_shfqas)\u001b[39m.\u001b[39mitems()\n\u001b[0;32m    553\u001b[0m }\n\u001b[0;32m    555\u001b[0m \u001b[39m# replace SHFQAs with their SHFQC and drop SHFSGs:\u001b[39;00m\n\u001b[1;32m--> 556\u001b[0m instruments \u001b[39m=\u001b[39m [\n\u001b[0;32m    557\u001b[0m     shfqcs\u001b[39m.\u001b[39mget(instr\u001b[39m.\u001b[39muid, instr)\n\u001b[0;32m    558\u001b[0m     \u001b[39mfor\u001b[39;00m instr \u001b[39min\u001b[39;00m instruments\n\u001b[0;32m    559\u001b[0m     \u001b[39mif\u001b[39;00m instr\u001b[39m.\u001b[39muid \u001b[39mnot\u001b[39;00m \u001b[39min\u001b[39;00m virtual_shfsgs\n\u001b[0;32m    560\u001b[0m ]\n\u001b[0;32m    562\u001b[0m \u001b[39mfor\u001b[39;00m instr \u001b[39min\u001b[39;00m instruments:\n\u001b[0;32m    563\u001b[0m     \u001b[39m# drop any connections that still refer to the old \"_sg\" ID (e.g. PQSC's zsync)\u001b[39;00m\n\u001b[0;32m    564\u001b[0m     instr\u001b[39m.\u001b[39mconnections \u001b[39m=\u001b[39m [\n\u001b[0;32m    565\u001b[0m         conn \u001b[39mfor\u001b[39;00m conn \u001b[39min\u001b[39;00m instr\u001b[39m.\u001b[39mconnections \u001b[39mif\u001b[39;00m conn\u001b[39m.\u001b[39mremote_path \u001b[39mnot\u001b[39;00m \u001b[39min\u001b[39;00m virtual_shfsgs\n\u001b[0;32m    566\u001b[0m     ]\n",
      "File \u001b[1;32m\\\\home\\home\\sam68451\\LabOneQ Software Local Samuel\\laboneq\\laboneq\\implementation\\legacy_adapters\\device_setup_converter.py:559\u001b[0m, in \u001b[0;36m<listcomp>\u001b[1;34m(.0)\u001b[0m\n\u001b[0;32m    548\u001b[0m shfqcs \u001b[39m=\u001b[39m {\n\u001b[0;32m    549\u001b[0m     uid: combine_shfqa_and_shfsg(\n\u001b[0;32m    550\u001b[0m         shfqa, virtual_shfsgs[uid \u001b[39m+\u001b[39m VIRTUAL_SHFSG_UID_SUFFIX]\n\u001b[0;32m    551\u001b[0m     )\n\u001b[0;32m    552\u001b[0m     \u001b[39mfor\u001b[39;00m uid, shfqa \u001b[39min\u001b[39;00m (virtual_shfqas \u001b[39m|\u001b[39m extra_virtual_shfqas)\u001b[39m.\u001b[39mitems()\n\u001b[0;32m    553\u001b[0m }\n\u001b[0;32m    555\u001b[0m \u001b[39m# replace SHFQAs with their SHFQC and drop SHFSGs:\u001b[39;00m\n\u001b[0;32m    556\u001b[0m instruments \u001b[39m=\u001b[39m [\n\u001b[0;32m    557\u001b[0m     shfqcs\u001b[39m.\u001b[39mget(instr\u001b[39m.\u001b[39muid, instr)\n\u001b[0;32m    558\u001b[0m     \u001b[39mfor\u001b[39;00m instr \u001b[39min\u001b[39;00m instruments\n\u001b[1;32m--> 559\u001b[0m     \u001b[39mif\u001b[39;00m instr\u001b[39m.\u001b[39muid \u001b[39mnot\u001b[39;00m \u001b[39min\u001b[39;00m virtual_shfsgs\n\u001b[0;32m    560\u001b[0m ]\n\u001b[0;32m    562\u001b[0m \u001b[39mfor\u001b[39;00m instr \u001b[39min\u001b[39;00m instruments:\n\u001b[0;32m    563\u001b[0m     \u001b[39m# drop any connections that still refer to the old \"_sg\" ID (e.g. PQSC's zsync)\u001b[39;00m\n\u001b[0;32m    564\u001b[0m     instr\u001b[39m.\u001b[39mconnections \u001b[39m=\u001b[39m [\n\u001b[0;32m    565\u001b[0m         conn \u001b[39mfor\u001b[39;00m conn \u001b[39min\u001b[39;00m instr\u001b[39m.\u001b[39mconnections \u001b[39mif\u001b[39;00m conn\u001b[39m.\u001b[39mremote_path \u001b[39mnot\u001b[39;00m \u001b[39min\u001b[39;00m virtual_shfsgs\n\u001b[0;32m    566\u001b[0m     ]\n",
      "\u001b[1;31mAttributeError\u001b[0m: 'NoneType' object has no attribute 'uid'"
     ]
    }
   ],
   "source": [
    "# create and connect to a session\n",
    "session = Session(device_setup=device_setup)\n",
    "session.connect(do_emulation=emulate)"
   ]
  },
  {
   "attachments": {},
   "cell_type": "markdown",
   "metadata": {},
   "source": [
    "Experiment Parameters"
   ]
  },
  {
   "cell_type": "code",
   "execution_count": null,
   "metadata": {},
   "outputs": [],
   "source": [
    "# frequency range of spectroscopy scan - around expected centre frequency as defined in qubit parameters\n",
    "start_freq = -200.0e6\n",
    "stop_freq = 200.0e6\n",
    "num_points = 101\n",
    "integration_time = 1e-3\n",
    "\n",
    "# define number of averages\n",
    "# used for 2^num_averages, maximum: num_averages = 17\n",
    "num_averages = 4\n",
    "\n",
    "\n",
    "# define sweep parameter\n",
    "def create_readout_freq_sweep(qubit, start_freq, stop_freq, num_points):\n",
    "    return LinearSweepParameter(\n",
    "        uid=f\"{qubit}_res_freq\",\n",
    "        start=start_freq,\n",
    "        stop=stop_freq,\n",
    "        count=num_points,\n",
    "        axis_name=\"Frequency [Hz]\",\n",
    "    )"
   ]
  },
  {
   "attachments": {},
   "cell_type": "markdown",
   "metadata": {},
   "source": [
    "create a function which generates you CW spectroscopy experiment. In this experiment, you'll pass the LinearSweepParameter defined previously as an argument to the sweep section. Within the section, you'll create a section containing an acquire command."
   ]
  },
  {
   "cell_type": "code",
   "execution_count": null,
   "metadata": {},
   "outputs": [],
   "source": [
    "# function that defines a resonator spectroscopy experiment, and takes the frequency sweep as a parameter\n",
    "def res_spectroscopy_CW(freq_sweep, exp_settings):\n",
    "    # Create resonator spectroscopy experiment - uses only readout drive and signal acquisition\n",
    "    exp_spec = Experiment(\n",
    "        uid=\"Resonator Spectroscopy\",\n",
    "        signals=[\n",
    "            ExperimentSignal(\"measure\"),\n",
    "            ExperimentSignal(\"acquire\"),\n",
    "        ],\n",
    "    )\n",
    "\n",
    "    ## define experimental sequence\n",
    "    # loop - average multiple measurements for each frequency - measurement in spectroscopy mode\n",
    "    with exp_spec.acquire_loop_rt(\n",
    "        uid=\"shots\",\n",
    "        count=pow(2, exp_settings[\"num_averages\"]),\n",
    "        acquisition_type=AcquisitionType.SPECTROSCOPY,\n",
    "    ):\n",
    "        with exp_spec.sweep(uid=\"res_freq\", parameter=freq_sweep):\n",
    "            # readout pulse and data acquisition\n",
    "            with exp_spec.section(uid=\"spectroscopy\"):\n",
    "                # resonator signal readout\n",
    "                exp_spec.acquire(\n",
    "                    signal=\"acquire\",\n",
    "                    handle=\"res_spec\",\n",
    "                    length=exp_settings[\"integration_time\"],\n",
    "                )\n",
    "            with exp_spec.section(uid=\"delay\", length=1e-6):\n",
    "                # holdoff time after signal acquisition\n",
    "                exp_spec.reserve(signal=\"measure\")\n",
    "                exp_spec.reserve(signal=\"acquire\")\n",
    "\n",
    "    return exp_spec"
   ]
  },
  {
   "attachments": {},
   "cell_type": "markdown",
   "metadata": {},
   "source": [
    "Experiment Calibration and Signal Map"
   ]
  },
  {
   "cell_type": "code",
   "execution_count": null,
   "metadata": {},
   "outputs": [],
   "source": [
    "# function that returns the calibration of the readout line oscillator for the experimental signals\n",
    "def res_spec_calib(freq_sweep):\n",
    "    exp_calibration = Calibration()\n",
    "    # sets the oscillator of the experimental measure signal\n",
    "    exp_calibration[\"measure\"] = SignalCalibration(\n",
    "        # for spectroscopy, use the hardware oscillator of the QA, and set the sweep parameter as frequency\n",
    "        oscillator=Oscillator(\n",
    "            \"readout_osc\",\n",
    "            frequency=freq_sweep,\n",
    "            modulation_type=ModulationType.HARDWARE,\n",
    "        )\n",
    "    )\n",
    "    return exp_calibration\n",
    "\n",
    "\n",
    "# signal maps for the two different qubits - maps the logical signal of the device setup to the experimental signals of the experiment\n",
    "\n",
    "\n",
    "def res_spec_map(qubit):\n",
    "    signal_map = {\n",
    "        \"measure\": device_setup.logical_signal_groups[f\"{qubit}\"].logical_signals[\n",
    "            \"measure_line\"\n",
    "        ],\n",
    "        \"acquire\": device_setup.logical_signal_groups[f\"{qubit}\"].logical_signals[\n",
    "            \"acquire_line\"\n",
    "        ],\n",
    "    }\n",
    "    return signal_map\n",
    "\n",
    "\n",
    "# define the experiment with the frequency sweep relevant for qubit 0\n",
    "freq_sweep = create_readout_freq_sweep(\"q0\", start_freq, stop_freq, num_points)\n",
    "exp_settings = {\"integration_time\": integration_time, \"num_averages\": num_averages}\n",
    "exp_spec = res_spectroscopy_CW(freq_sweep, exp_settings)\n",
    "\n",
    "# set signal calibration and signal map for experiment to qubit 0\n",
    "exp_spec.set_calibration(res_spec_calib(freq_sweep))\n",
    "exp_spec.set_signal_map(res_spec_map(\"q0\"))"
   ]
  },
  {
   "attachments": {},
   "cell_type": "markdown",
   "metadata": {},
   "source": [
    "Compile and Generate Pulse Sheet"
   ]
  },
  {
   "cell_type": "code",
   "execution_count": null,
   "metadata": {},
   "outputs": [],
   "source": [
    "# compile the experiment on the open instrument session\n",
    "compiled_res_spec = session.compile(exp_spec)\n",
    "\n",
    "Path(\"Pulse_Sheets\").mkdir(parents=True, exist_ok=True)\n",
    "# generate a pulse sheet to inspect experiment before runtime\n",
    "show_pulse_sheet(\"Pulse_Sheets/Resonator_Spectroscopy_Pulse_Sheet\", compiled_res_spec)"
   ]
  },
  {
   "attachments": {},
   "cell_type": "markdown",
   "metadata": {},
   "source": [
    "Run, Save and Plot Results"
   ]
  },
  {
   "cell_type": "code",
   "execution_count": null,
   "metadata": {},
   "outputs": [],
   "source": [
    "# run the compiled experiemnt\n",
    "res_spec_results = session.run(compiled_res_spec)\n",
    "timestamp = time.strftime(\"%Y%m%dT%H%M%S\")\n",
    "Path(\"Results\").mkdir(parents=True, exist_ok=True)\n",
    "session.save_results(f\"Results/{timestamp}_results.json\")\n",
    "print(f\"File saved as Results/{timestamp}_results.json\")"
   ]
  },
  {
   "cell_type": "code",
   "execution_count": null,
   "metadata": {},
   "outputs": [],
   "source": [
    "# plot the results\n",
    "plot_results(res_spec_results, phase=True)"
   ]
  }
 ],
 "metadata": {
  "kernelspec": {
   "display_name": "laboneq_env",
   "language": "python",
   "name": "python3"
  },
  "language_info": {
   "codemirror_mode": {
    "name": "ipython",
    "version": 3
   },
   "file_extension": ".py",
   "mimetype": "text/x-python",
   "name": "python",
   "nbconvert_exporter": "python",
   "pygments_lexer": "ipython3",
   "version": "3.11.5"
  },
  "orig_nbformat": 4
 },
 "nbformat": 4,
 "nbformat_minor": 2
}
