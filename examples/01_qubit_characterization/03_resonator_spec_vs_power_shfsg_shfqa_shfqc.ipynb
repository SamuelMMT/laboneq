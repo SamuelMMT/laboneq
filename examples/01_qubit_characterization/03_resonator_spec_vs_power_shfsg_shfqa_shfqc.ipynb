{
 "cells": [
  {
   "attachments": {},
   "cell_type": "markdown",
   "metadata": {},
   "source": [
    "# Pulsed Resonator Spectroscopy vs Power with SHFQA or SHFQC\n",
    "\n",
    "This notebook shows you how to perform pulsed resonator spectroscopy vs power in LabOne Q with a SHFQA or the quantum analyzer channels of a SHFQC. Here, you'll find the perform a 2D sweep of the frequency vs power on the qubit readout resonator to find the optimal settings at which to drive it."
   ]
  },
  {
   "attachments": {},
   "cell_type": "markdown",
   "metadata": {},
   "source": [
    "## 0. LabOne Q Imports\n",
    "\n",
    "You'll begin by importing `laboneq.simple` and some extra helper functions to run the examples. "
   ]
  },
  {
   "cell_type": "code",
   "execution_count": 5,
   "metadata": {},
   "outputs": [],
   "source": [
    "# LabOne Q:\n",
    "from laboneq.simple import *\n",
    "\n",
    "# Helpers:\n",
    "from laboneq.contrib.example_helpers.plotting.plot_helpers import plot_results\n",
    "from laboneq.contrib.example_helpers.generate_example_datastore import (\n",
    "    generate_example_datastore,\n",
    "    get_first_named_entry,\n",
    ")\n",
    "\n",
    "from pathlib import Path\n",
    "import time"
   ]
  },
  {
   "cell_type": "code",
   "execution_count": 6,
   "metadata": {},
   "outputs": [],
   "source": [
    "# Build an in-memory data store with device setup and qubit parameters for the\n",
    "# example notebooks\n",
    "setup_db = generate_example_datastore(in_memory=True)"
   ]
  },
  {
   "cell_type": "code",
   "execution_count": 7,
   "metadata": {},
   "outputs": [],
   "source": [
    "# (re-) generate the dummy datstore used for loading device setup and qubit parameters for the example notebooks\n",
    "generate_example_datastore()\n",
    "\n",
    "setup_db = DataStore(\"laboneq_data/dummy_datastore.db\")"
   ]
  },
  {
   "attachments": {},
   "cell_type": "markdown",
   "metadata": {},
   "source": [
    "## 1. Device Setup\n",
    "\n",
    "Below, you'll create a device setup and specify to run in an emulated mode or on hardware, `emulate = True/False` respectively.\n",
    "\n",
    "If you run on your hardware, the [descriptor](https://docs.zhinst.com/labone_q_user_manual/concepts/set_up_equipment/) called by `create_device_setup` should be replaced by one of your own, generally stored as a [YAML file](https://docs.zhinst.com/labone_q_user_manual/concepts/set_up_equipment/#labone_q.func_concepts.setting_up.set_up_equipment.descriptor). Once you have this descriptor, it can be reused for all your experiments."
   ]
  },
  {
   "cell_type": "code",
   "execution_count": 8,
   "metadata": {},
   "outputs": [
    {
     "name": "stderr",
     "output_type": "stream",
     "text": [
      "\\\\home\\home\\sam68451\\LabOneQ Software Local Samuel\\laboneq\\laboneq\\dsl\\calibration\\oscillator.py:58: FutureWarning: `Oscillator` argument `carrier_type` will be removed in the future versions. It has no functionality.\n",
      "  warnings.warn(\n"
     ]
    }
   ],
   "source": [
    "# load a calibrated device setup from the dummy database\n",
    "device_setup = get_first_named_entry(\n",
    "    db=setup_db, name=\"6_qubit_setup_shfsg_shfqa_hdawg_pqsc_calibrated\"\n",
    ")\n",
    "\n",
    "emulate = True"
   ]
  },
  {
   "cell_type": "code",
   "execution_count": 9,
   "metadata": {},
   "outputs": [
    {
     "name": "stdout",
     "output_type": "stream",
     "text": [
      "[2023.10.09 11:04:08.549] INFO    Logging initialized from [Default inline config in laboneq.controller.laboneq_logging] logdir is u:\\LabOneQ Software Local Samuel\\laboneq\\examples\\01_qubit_characterization\\laboneq_output\\log\n",
      "[2023.10.09 11:04:08.560] INFO    VERSION: laboneq 2.15.0\n",
      "[2023.10.09 11:04:08.563] INFO    Connecting to data server at localhost:8004\n",
      "[2023.10.09 11:04:08.573] INFO    Connected to Zurich Instruments LabOne Data Server version 23.06 at localhost:8004\n",
      "[2023.10.09 11:04:08.608] INFO    Configuring the device setup\n",
      "[2023.10.09 11:04:08.695] INFO    The device setup is configured\n"
     ]
    },
    {
     "data": {
      "text/plain": [
       "<laboneq.dsl.session.ConnectionState at 0x16d1d673410>"
      ]
     },
     "execution_count": 9,
     "metadata": {},
     "output_type": "execute_result"
    }
   ],
   "source": [
    "# create and connect to a session\n",
    "session = Session(device_setup=device_setup)\n",
    "session.connect(do_emulation=emulate)"
   ]
  },
  {
   "attachments": {},
   "cell_type": "markdown",
   "metadata": {},
   "source": [
    "## 2. Experiment Parameters\n",
    "\n",
    "Now you'll define the frequency sweep parameters, amplitude points, and pulse to use in your experiment."
   ]
  },
  {
   "cell_type": "code",
   "execution_count": 10,
   "metadata": {},
   "outputs": [],
   "source": [
    "# frequency range of spectroscopy scan -\n",
    "# around expected centre frequency as defined in qubit parameters\n",
    "start_freq = -500e6\n",
    "stop_freq = 500e6\n",
    "num_freq_points = 1001\n",
    "\n",
    "# set number of points for amplitude sweep\n",
    "num_amp_points = 21\n",
    "\n",
    "\n",
    "# define sweep parameter\n",
    "def create_readout_freq_sweep(qubit, start_freq, stop_freq, num_points):\n",
    "    return LinearSweepParameter(\n",
    "        uid=f\"{qubit}_res_freq\",\n",
    "        start=start_freq,\n",
    "        stop=stop_freq,\n",
    "        count=num_points,\n",
    "        axis_name=\"Frequency [Hz]\",\n",
    "    )\n",
    "\n",
    "\n",
    "# define number of averages\n",
    "# used for 2^num_averages, maximum: num_averages = 17\n",
    "num_averages = 4\n",
    "\n",
    "# readout pulse parameters and definition\n",
    "envelope_duration = 2.048e-6\n",
    "envelope_rise_fall_time = 0.05e-6\n",
    "readout_pulse = pulse_library.gaussian_square(\n",
    "    uid=\"readout_pulse\", length=envelope_duration, amplitude=0.9\n",
    ")"
   ]
  },
  {
   "attachments": {},
   "cell_type": "markdown",
   "metadata": {},
   "source": [
    "## 3. Experiment Definition\n",
    "\n",
    " You'll now create a function which generates a resonator spectroscopy vs power [experiment](https://docs.zhinst.com/labone_q_user_manual/concepts/experiment/). In this experiment, you'll pass the `LinearSweepParameter` defined previously as an argument to the [sweep section](https://docs.zhinst.com/labone_q_user_manual/concepts/averaging_sweeping/#labone_q.func_concepts.experiment.averaging_sweeping.parameters_sweeps), as well as make a near-time sweep outside the real-time acquisition loop which sweeps the gain node of the SHFQA. Within the real-time frequency sweep section, you'll create a [section](https://docs.zhinst.com/labone_q_user_manual/concepts/sections_and_pulses/) containing a `play` and an `acquire` command."
   ]
  },
  {
   "cell_type": "code",
   "execution_count": 11,
   "metadata": {},
   "outputs": [],
   "source": [
    "def res_spectroscopy_pulsed_amp_sweep(\n",
    "    frequency_sweep, amplitude_sweep, num_averages, readout_pulse\n",
    "):\n",
    "    # Create resonator spectroscopy experiment - uses only readout drive and signal acquisition\n",
    "    exp_spec_amp = Experiment(\n",
    "        uid=\"Resonator Spectroscopy\",\n",
    "        signals=[\n",
    "            ExperimentSignal(\"measure\"),\n",
    "            ExperimentSignal(\"acquire\"),\n",
    "        ],\n",
    "    )\n",
    "\n",
    "    ## define experimental sequence\n",
    "    # outer, near-time loop - vary drive amplitude\n",
    "    with exp_spec_amp.sweep(uid=\"res_amp\", parameter=amplitude_sweep):\n",
    "        # averaging loop\n",
    "        with exp_spec_amp.acquire_loop_rt(\n",
    "            uid=\"shots\",\n",
    "            count=2**num_averages,\n",
    "            acquisition_type=AcquisitionType.SPECTROSCOPY,\n",
    "        ):\n",
    "            # inner, real-time loop - vary drive frequency\n",
    "            with exp_spec_amp.sweep(uid=\"res_freq\", parameter=frequency_sweep):\n",
    "                # readout pulse and data acquisition\n",
    "                with exp_spec_amp.section(uid=\"spectroscopy\"):\n",
    "                    # play resonator excitation pulse\n",
    "                    exp_spec_amp.play(signal=\"measure\", pulse=readout_pulse)\n",
    "                    # resonator signal readout\n",
    "                    exp_spec_amp.acquire(\n",
    "                        signal=\"acquire\",\n",
    "                        handle=\"res_spec_pulsed\",\n",
    "                        length=envelope_duration,\n",
    "                    )\n",
    "                with exp_spec_amp.section(uid=\"delay\"):\n",
    "                    # holdoff time after signal acquisition - minimum 1us required for data processing on UHFQA\n",
    "                    exp_spec_amp.delay(signal=\"measure\", time=1e-6)\n",
    "\n",
    "    exp_calibration = Calibration()\n",
    "    exp_calibration[\"measure\"] = SignalCalibration(\n",
    "        # for spectroscopy, use the hardware oscillator of the QA, and set the sweep parameter as frequency\n",
    "        oscillator=Oscillator(\n",
    "            \"readout_osc\",\n",
    "            frequency=frequency_sweep,\n",
    "            modulation_type=ModulationType.HARDWARE,\n",
    "        ),\n",
    "        amplitude=amplitude_sweep,\n",
    "    )\n",
    "    exp_spec_amp.set_calibration(exp_calibration)\n",
    "\n",
    "    return exp_spec_amp"
   ]
  },
  {
   "attachments": {},
   "cell_type": "markdown",
   "metadata": {},
   "source": [
    "### 3.1 Experiment Calibration and Signal Map\n",
    "\n",
    "Before running the experiment, you'll need to set an [experiment calibration](https://docs.zhinst.com/labone_q_user_manual/concepts/experiment_calibration/). The sweep parameter is assigned to the hardware oscillator modulating the readout resonator drive line. You'll also define and set the mapping between the experimental and logical lines."
   ]
  },
  {
   "cell_type": "code",
   "execution_count": 12,
   "metadata": {},
   "outputs": [],
   "source": [
    "# signal maps for the two different qubits - maps the logical signal of the device setup to the experimental signals of the experiment\n",
    "\n",
    "\n",
    "def res_spec_map(qubit):\n",
    "    signal_map = {\n",
    "        \"measure\": device_setup.logical_signal_groups[f\"{qubit}\"].logical_signals[\n",
    "            \"measure_line\"\n",
    "        ],\n",
    "        \"acquire\": device_setup.logical_signal_groups[f\"{qubit}\"].logical_signals[\n",
    "            \"acquire_line\"\n",
    "        ],\n",
    "    }\n",
    "    return signal_map\n",
    "\n",
    "\n",
    "amplitude_sweep = LinearSweepParameter(\n",
    "    uid=\"amp_sweep_param\", start=0.1, stop=0.99, count=num_amp_points\n",
    ")\n",
    "frequency_sweep = create_readout_freq_sweep(\n",
    "    \"q0\", start_freq, stop_freq, num_freq_points\n",
    ")\n",
    "\n",
    "exp_spec_amp = res_spectroscopy_pulsed_amp_sweep(\n",
    "    frequency_sweep, amplitude_sweep, num_averages, readout_pulse\n",
    ")\n",
    "exp_spec_amp.set_signal_map(res_spec_map(\"q0\"))"
   ]
  },
  {
   "attachments": {},
   "cell_type": "markdown",
   "metadata": {},
   "source": [
    "### 3.2 Compile and Generate Pulse Sheet\n",
    "\n",
    "Now you'll compile the experiment and generate a pulse sheet."
   ]
  },
  {
   "cell_type": "code",
   "execution_count": 13,
   "metadata": {},
   "outputs": [
    {
     "name": "stdout",
     "output_type": "stream",
     "text": [
      "[2023.10.09 11:04:22.406] INFO    VERSION: laboneq 2.15.0\n",
      "[2023.10.09 11:04:22.411] INFO    Connecting to data server at localhost:8004\n",
      "[2023.10.09 11:04:22.414] INFO    Connected to Zurich Instruments LabOne Data Server version 23.06 at localhost:8004\n",
      "[2023.10.09 11:04:22.426] INFO    Configuring the device setup\n",
      "[2023.10.09 11:04:22.487] INFO    The device setup is configured\n",
      "[2023.10.09 11:04:22.502] INFO    Starting LabOne Q Compiler run...\n",
      "[2023.10.09 11:04:22.763] INFO    Schedule completed\n",
      "[2023.10.09 11:04:23.917] INFO     ──────────────────────────────────────────────────────────────────── \n",
      "[2023.10.09 11:04:23.919] INFO     \u001b[1m \u001b[0m\u001b[1mDevice        \u001b[0m\u001b[1m \u001b[0m \u001b[1m \u001b[0m\u001b[1mAWG\u001b[0m\u001b[1m \u001b[0m \u001b[1m \u001b[0m\u001b[1mSeqC LOC\u001b[0m\u001b[1m \u001b[0m \u001b[1m \u001b[0m\u001b[1mCT entries\u001b[0m\u001b[1m \u001b[0m \u001b[1m \u001b[0m\u001b[1mWaveforms\u001b[0m\u001b[1m \u001b[0m \u001b[1m \u001b[0m\u001b[1mSamples\u001b[0m\u001b[1m \u001b[0m \n",
      "[2023.10.09 11:04:23.923] INFO     ──────────────────────────────────────────────────────────────────── \n",
      "[2023.10.09 11:04:23.928] INFO      SHFQA_dev12002     0         21            0           1      8192  \n",
      "[2023.10.09 11:04:23.932] INFO     ──────────────────────────────────────────────────────────────────── \n",
      "[2023.10.09 11:04:23.935] INFO     \u001b[1m \u001b[0m\u001b[1mTOTAL         \u001b[0m\u001b[1m \u001b[0m \u001b[1m \u001b[0m\u001b[1m   \u001b[0m\u001b[1m \u001b[0m \u001b[1m \u001b[0m\u001b[1m      21\u001b[0m\u001b[1m \u001b[0m \u001b[1m \u001b[0m\u001b[1m         0\u001b[0m\u001b[1m \u001b[0m \u001b[1m \u001b[0m\u001b[1m         \u001b[0m\u001b[1m \u001b[0m \u001b[1m \u001b[0m\u001b[1m   8192\u001b[0m\u001b[1m \u001b[0m \n",
      "[2023.10.09 11:04:23.937] INFO     ──────────────────────────────────────────────────────────────────── \n",
      "[2023.10.09 11:04:23.939] INFO    Finished LabOne Q Compiler run.\n",
      "[2023.10.09 11:04:23.956] INFO    Requesting more events for the PSV than currently published, recompiling experiment\n",
      "[2023.10.09 11:04:23.989] INFO    VERSION: laboneq 2.15.0\n",
      "[2023.10.09 11:04:24.001] INFO    Connecting to data server at localhost:8004\n",
      "[2023.10.09 11:04:24.023] INFO    Connected to Zurich Instruments LabOne Data Server version 23.06 at localhost:8004\n",
      "[2023.10.09 11:04:24.087] INFO    Configuring the device setup\n",
      "[2023.10.09 11:04:24.263] INFO    The device setup is configured\n",
      "[2023.10.09 11:04:24.276] INFO    Starting LabOne Q Compiler run...\n",
      "[2023.10.09 11:04:24.866] INFO    Schedule completed\n",
      "[2023.10.09 11:04:26.082] INFO    Finished LabOne Q Compiler run.\n",
      "[2023.10.09 11:04:26.246] INFO    Writing html file to u:\\LabOneQ Software Local Samuel\\laboneq\\examples\\01_qubit_characterization\\Pulse_Sheets\\Spectroscopy_vs_Amplitude_2023-10-09-11-04-23.html\n"
     ]
    },
    {
     "data": {
      "text/html": [
       "<a href='Pulse_Sheets/Spectroscopy_vs_Amplitude_2023-10-09-11-04-23.html' target='_blank'>Pulse_Sheets/Spectroscopy_vs_Amplitude_2023-10-09-11-04-23.html</a><br>"
      ],
      "text/plain": [
       "u:\\LabOneQ Software Local Samuel\\laboneq\\examples\\01_qubit_characterization\\Pulse_Sheets\\Spectroscopy_vs_Amplitude_2023-10-09-11-04-23.html"
      ]
     },
     "execution_count": 13,
     "metadata": {},
     "output_type": "execute_result"
    }
   ],
   "source": [
    "# compile the experiment on the open instrument session\n",
    "compiled_spec_amp = session.compile(exp_spec_amp)\n",
    "\n",
    "Path(\"Pulse_Sheets\").mkdir(parents=True, exist_ok=True)\n",
    "# generate a pulse sheet to inspect experiment before runtime\n",
    "show_pulse_sheet(\"Pulse_Sheets/Spectroscopy_vs_Amplitude\", compiled_spec_amp)"
   ]
  },
  {
   "attachments": {},
   "cell_type": "markdown",
   "metadata": {},
   "source": [
    "### 3.3 Run, Save, and Plot Results\n",
    "\n",
    "Finally, you'll run the experiment, save, and plot the results."
   ]
  },
  {
   "cell_type": "code",
   "execution_count": 14,
   "metadata": {},
   "outputs": [
    {
     "name": "stdout",
     "output_type": "stream",
     "text": [
      "[2023.10.09 11:04:28.387] INFO    Configuring the device setup\n",
      "[2023.10.09 11:04:28.389] INFO    The device setup is configured\n",
      "[2023.10.09 11:04:28.431] INFO    Starting near-time execution...\n",
      "[2023.10.09 11:04:28.923] INFO    Finished near-time execution.\n",
      "File saved as Results/20231009T110428_spec_amp_results.json\n"
     ]
    }
   ],
   "source": [
    "# run the compiled experiemnt\n",
    "spec_amp_results = session.run(compiled_spec_amp)\n",
    "timestamp = time.strftime(\"%Y%m%dT%H%M%S\")\n",
    "Path(\"Results\").mkdir(parents=True, exist_ok=True)\n",
    "session.save_results(f\"Results/{timestamp}_spec_amp_results.json\")\n",
    "print(f\"File saved as Results/{timestamp}_spec_amp_results.json\")"
   ]
  },
  {
   "cell_type": "code",
   "execution_count": 15,
   "metadata": {},
   "outputs": [
    {
     "data": {
      "image/png": "[encoded data removed]",
      "text/plain": [
       "<Figure size 640x480 with 4 Axes>"
      ]
     },
     "metadata": {},
     "output_type": "display_data"
    }
   ],
   "source": [
    "plot_results(spec_amp_results, phase=True)"
   ]
  },
  {
   "cell_type": "code",
   "execution_count": null,
   "metadata": {},
   "outputs": [],
   "source": []
  }
 ],
 "metadata": {
  "kernelspec": {
   "display_name": "develop",
   "language": "python",
   "name": "python3"
  },
  "language_info": {
   "codemirror_mode": {
    "name": "ipython",
    "version": 3
   },
   "file_extension": ".py",
   "mimetype": "text/x-python",
   "name": "python",
   "nbconvert_exporter": "python",
   "pygments_lexer": "ipython3",
   "version": "3.11.5"
  }
 },
 "nbformat": 4,
 "nbformat_minor": 2
}
