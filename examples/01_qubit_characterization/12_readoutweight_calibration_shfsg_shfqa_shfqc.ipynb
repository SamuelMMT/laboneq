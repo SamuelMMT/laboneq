{
 "cells": [
  {
   "attachments": {},
   "cell_type": "markdown",
   "id": "fe2d00d7-c88e-4c5c-a2ca-8d6bc78ebe3e",
   "metadata": {
    "tags": []
   },
   "source": [
    "# Readout weight calibration\n",
    "\n",
    "In this notebook, you will learn how to calibrate and use optimal integration weights to distinguish between qubits states in circuit QED.\n",
    "\n",
    "This demonstration runs without connection to real qubits, assuming a loopback on the readout drive line directly into the readoud acquisition line. We emulate the measurement signals corresponding to different qubit states by two different measurement pulses, differing only by a phase. ties of the instrument.  "
   ]
  },
  {
   "attachments": {},
   "cell_type": "markdown",
   "id": "4d4e7d0b-b53a-40e4-831c-236ed9d97c42",
   "metadata": {},
   "source": [
    "## 0. General Imports and Definitions"
   ]
  },
  {
   "attachments": {},
   "cell_type": "markdown",
   "id": "f3ecf2ff-f304-472a-b6d2-a50792a39a0d",
   "metadata": {
    "jp-MarkdownHeadingCollapsed": true,
    "tags": []
   },
   "source": [
    "### 0.1 Python Imports "
   ]
  },
  {
   "cell_type": "code",
   "execution_count": null,
   "id": "6c9d9b4c",
   "metadata": {},
   "outputs": [],
   "source": [
    "import matplotlib.pyplot as plt\n",
    "import numpy as np\n",
    "\n",
    "# all LabOne Q functionality\n",
    "from laboneq.simple import *\n",
    "\n",
    "# Helpers:\n",
    "from laboneq.contrib.example_helpers.feedback_helper import (\n",
    "    complex_freq_phase,\n",
    "    exp_raw,\n",
    "    exp_integration,\n",
    "    exp_discrimination,\n",
    ")\n",
    "\n",
    "from laboneq.contrib.example_helpers.generate_example_datastore import (\n",
    "    generate_example_datastore,\n",
    "    get_first_named_entry,\n",
    ")"
   ]
  },
  {
   "cell_type": "code",
   "execution_count": null,
   "id": "40d954b8",
   "metadata": {},
   "outputs": [],
   "source": [
    "# Build an in-memory data store with device setup and qubit parameters for the\n# example notebooks\n",
    "dummy_db = generate_example_datastore(in_memory=True)\n",
    "\n",
    "use_emulation = True\n"
   ]
  },
  {
   "cell_type": "markdown",
   "id": "7dd26aea",
   "metadata": {},
   "source": [
    "# 1. Device setup and calibration"
   ]
  },
  {
   "cell_type": "markdown",
   "id": "4c8530c1",
   "metadata": {},
   "source": [
    "## 1.1 Load a calibrated Device Setup and qubit object"
   ]
  },
  {
   "cell_type": "code",
   "execution_count": null,
   "id": "e2e93f09",
   "metadata": {},
   "outputs": [],
   "source": [
    "my_setup = get_first_named_entry(\n",
    "    db=dummy_db, name=\"12_qubit_setup_shfsg_shfqa_shfqc_hdawg_pqsc_calibrated\"\n",
    ")\n",
    "\n",
    "my_qubit = get_first_named_entry(db=dummy_db, name=\"fixed_transmon_0\")\n",
    "\n",
    "q0 = my_setup.logical_signal_groups[\"q0\"].logical_signals\n",
    "q1 = my_setup.logical_signal_groups[\"q1\"].logical_signals"
   ]
  },
  {
   "cell_type": "markdown",
   "id": "ac2de66e",
   "metadata": {},
   "source": [
    "## 1.2 Adapt setup calibration\n",
    "\n",
    "In this notebook we are using a pulse played from a second measure line to emulate the qubit being in the excited state. In this case we want to have the same instrument settings for the two used measurement lines. \n",
    "Additionally, for the method of readout weight calibration demonstrated in this notebook, the acquire line should not be modulated, as the calculated readout weights already contain the software modulation by construction."
   ]
  },
  {
   "cell_type": "code",
   "execution_count": null,
   "id": "3e1c7e84",
   "metadata": {},
   "outputs": [],
   "source": [
    "readout_weight_calibration = Calibration()\n",
    "readout_weight_calibration[\n",
    "    \"/logical_signal_groups/q1/measure_line\"\n",
    "] = my_setup.get_calibration()[\"/logical_signal_groups/q0/measure_line\"]\n",
    "readout_weight_calibration[\n",
    "    \"/logical_signal_groups/q0/acquire_line\"\n",
    "] = my_setup.get_calibration()[\"/logical_signal_groups/q0/acquire_line\"]\n",
    "readout_weight_calibration[\"/logical_signal_groups/q0/acquire_line\"].oscillator = None\n",
    "\n",
    "# print(readout_weight_calibration)\n",
    "\n",
    "my_setup.set_calibration(readout_weight_calibration)\n",
    "\n",
    "# print(my_setup.get_calibration())\n"
   ]
  },
  {
   "cell_type": "code",
   "execution_count": null,
   "id": "ead957c4",
   "metadata": {},
   "outputs": [],
   "source": [
    "# create and connect to a LabOne Q session\n",
    "my_session = Session(device_setup=my_setup)\n",
    "my_session.connect(do_emulation=use_emulation)\n"
   ]
  },
  {
   "attachments": {},
   "cell_type": "markdown",
   "metadata": {},
   "source": [
    "## 2. Calibration of readout weigths for state discrimination - two qubit states, manual calculation of readout weights\n",
    "\n",
    "We determine the optimal integration weights by subtracting and conjugating the raw response corresponding to the two different qubit states. We then additionally rotate these integration weights to result in maximum separation of the resulting IQ values on the real axis and adjust the corresponding threshold value in the device setup calibration."
   ]
  },
  {
   "attachments": {},
   "cell_type": "markdown",
   "metadata": {},
   "source": [
    "### 2.1 Define measurement pulse waveforms to simulate the return from a qubits |0> and |1> states"
   ]
  },
  {
   "cell_type": "code",
   "execution_count": null,
   "metadata": {},
   "outputs": [],
   "source": [
    "# measure pulse parameters\n",
    "pulse_len = my_qubit.parameters.user_defined[\"readout_length\"]\n",
    "pulse_phase = np.pi / 4\n",
    "\n",
    "# sampling rate of SHF instruments\n",
    "sampling_rate = 2.0e9\n",
    "\n",
    "pulse_freq = 0.0\n",
    "measure0_gen2 = pulse_library.sampled_pulse_complex(\n",
    "    complex_freq_phase(\n",
    "        sampling_rate,\n",
    "        pulse_len,\n",
    "        pulse_freq,\n",
    "        my_qubit.parameters.user_defined[\"readout_amplitude\"],\n",
    "        0,\n",
    "    )\n",
    ")\n",
    "measure1_gen2 = pulse_library.sampled_pulse_complex(\n",
    "    complex_freq_phase(\n",
    "        sampling_rate,\n",
    "        pulse_len,\n",
    "        pulse_freq,\n",
    "        my_qubit.parameters.user_defined[\"readout_amplitude\"],\n",
    "        pulse_phase,\n",
    "    )\n",
    ")"
   ]
  },
  {
   "attachments": {},
   "cell_type": "markdown",
   "metadata": {},
   "source": [
    "### 2.2 Determine optimal integration weights based on raw readout results of two measurement pulses"
   ]
  },
  {
   "cell_type": "code",
   "execution_count": null,
   "metadata": {},
   "outputs": [],
   "source": [
    "## Raw |0>\n",
    "r = my_session.run(exp_raw(measure_pulse=measure0_gen2, q0=q0, pulse_len=pulse_len))\n",
    "raw0 = r.acquired_results[\"raw\"].data\n",
    "\n",
    "## Raw |1>\n",
    "r = my_session.run(exp_raw(measure_pulse=measure1_gen2, q0=q0, pulse_len=pulse_len))\n",
    "raw1 = r.acquired_results[\"raw\"].data\n",
    "\n",
    "## optimal integration kernel\n",
    "samples_kernel = np.conj(raw1 - raw0)\n",
    "# plt.figure()\n",
    "# plt.plot(samples_kernel.real, samples_kernel.imag)\n",
    "plt.figure()\n",
    "plt.plot(samples_kernel.real)\n",
    "plt.plot(samples_kernel.imag)"
   ]
  },
  {
   "attachments": {},
   "cell_type": "markdown",
   "metadata": {},
   "source": [
    "### 2.3 Determine optimal rotation of integration weights and discrimination threshold"
   ]
  },
  {
   "cell_type": "code",
   "execution_count": null,
   "metadata": {},
   "outputs": [],
   "source": [
    "do_rotation = True\n",
    "\n",
    "my_exp = exp_integration(\n",
    "    measure0=measure0_gen2,\n",
    "    measure1=measure1_gen2,\n",
    "    q0=q0,\n",
    "    q1=q1,\n",
    "    samples_kernel=samples_kernel,\n",
    ")\n",
    "\n",
    "r = my_session.run(my_exp)\n",
    "res0 = r.acquired_results[\"data0\"].data\n",
    "res1 = r.acquired_results[\"data1\"].data\n",
    "\n",
    "connect_vector = np.median(res1) - np.median(res0)\n",
    "if do_rotation:\n",
    "    rotation_angle = -np.angle(connect_vector)\n",
    "else:\n",
    "    rotation_angle = 0\n",
    "\n",
    "res0_rot = res0 * np.exp(1j * rotation_angle)\n",
    "res1_rot = res1 * np.exp(1j * rotation_angle)\n",
    "\n",
    "my_threshold = (np.median(res0_rot.real) + np.median(res1_rot.real)) / 2\n",
    "\n",
    "if do_rotation:\n",
    "    plt.scatter(res0.real, res0.imag, c=\"k\", alpha=0.1)\n",
    "    plt.scatter(res1.real, res1.imag, c=\"g\", alpha=0.1)\n",
    "\n",
    "plt.scatter(res0_rot.real, res0_rot.imag, c=\"b\")\n",
    "plt.scatter(res1_rot.real, res1_rot.imag, c=\"r\")\n",
    "plt.plot(\n",
    "    [my_threshold, my_threshold],\n",
    "    [\n",
    "        min([*res0_rot.imag, *res1_rot.imag, *res0.imag, *res1.imag]),\n",
    "        max([*res0_rot.imag, *res1_rot.imag, *res0.imag, *res1.imag]),\n",
    "    ],\n",
    "    \"r\",\n",
    ")\n",
    "if do_rotation:\n",
    "    print(f\"Using threshold = {my_threshold:e} and rotation angle: {rotation_angle:e}\")\n",
    "else:\n",
    "    print(f\"Using threshold={my_threshold:e}\")"
   ]
  },
  {
   "cell_type": "code",
   "execution_count": null,
   "metadata": {},
   "outputs": [],
   "source": [
    "## define properly rotated integration kernel and set state discrimination threshold in device setup calibration\n",
    "my_integration_weights = pulse_library.sampled_pulse_complex(\n",
    "    samples_kernel * np.exp(1j * rotation_angle)\n",
    ")\n",
    "\n",
    "q0[\"acquire_line\"].calibration.threshold = my_threshold"
   ]
  },
  {
   "attachments": {},
   "cell_type": "markdown",
   "metadata": {},
   "source": [
    "### 2.4 Check status of state discrimination calibration\n",
    "\n",
    "#### 2.4.1 Check for proper rotation of kernel\n",
    "\n",
    "IQ values should be maximally separate on the real axis"
   ]
  },
  {
   "cell_type": "code",
   "execution_count": null,
   "metadata": {},
   "outputs": [],
   "source": [
    "my_other_exp = exp_integration(\n",
    "    measure0=measure0_gen2,\n",
    "    measure1=measure1_gen2,\n",
    "    q0=q0,\n",
    "    q1=q1,\n",
    "    samples_kernel=samples_kernel,\n",
    "    rotation_angle=rotation_angle,\n",
    ")\n",
    "\n",
    "r = my_session.run(my_other_exp)\n",
    "\n",
    "res0 = r.acquired_results[\"data0\"].data\n",
    "res1 = r.acquired_results[\"data1\"].data\n",
    "\n",
    "connect_vector = np.median(res1) - np.median(res0)\n",
    "\n",
    "threshold_rot = (np.median(res0.real) + np.median(res1.real)) / 2\n",
    "\n",
    "plt.scatter(res0.real, res0.imag, c=\"b\")\n",
    "plt.scatter(res1.real, res1.imag, c=\"r\")\n",
    "\n",
    "plt.plot(\n",
    "    [threshold_rot, threshold_rot],\n",
    "    [min([*res0.imag, *res1.imag]), max([*res0.imag, *res1.imag])],\n",
    "    \"r\",\n",
    ")\n",
    "\n",
    "print(f\"Using threshold={threshold_rot:e}\")"
   ]
  },
  {
   "attachments": {},
   "cell_type": "markdown",
   "metadata": {},
   "source": [
    "#### 2.4.2 Check correct state discrimination when including rotation of integration weights"
   ]
  },
  {
   "cell_type": "code",
   "execution_count": null,
   "metadata": {},
   "outputs": [],
   "source": [
    "r = my_session.run(\n",
    "    exp_discrimination(\n",
    "        measure0=measure0_gen2,\n",
    "        measure1=measure1_gen2,\n",
    "        q0=q0,\n",
    "        q1=q1,\n",
    "        samples_kernel=samples_kernel,\n",
    "        threshold=my_threshold,\n",
    "        rotation_angle=rotation_angle,\n",
    "    )\n",
    ")\n",
    "s0 = r.acquired_results[\"data0\"].data\n",
    "s1 = r.acquired_results[\"data1\"].data\n",
    "\n",
    "plt.plot(s0.real, \".b\")\n",
    "plt.plot(s1.real, \".r\")"
   ]
  },
  {
   "cell_type": "code",
   "execution_count": null,
   "metadata": {},
   "outputs": [],
   "source": []
  }
 ],
 "metadata": {
  "kernelspec": {
   "display_name": "ZI_LabOneQ_2p11",
   "language": "python",
   "name": "python3"
  },
  "language_info": {
   "codemirror_mode": {
    "name": "ipython",
    "version": 3
   },
   "file_extension": ".py",
   "mimetype": "text/x-python",
   "name": "python",
   "nbconvert_exporter": "python",
   "pygments_lexer": "ipython3",
   "version": "3.11.4"
  },
  "orig_nbformat": 4
 },
 "nbformat": 4,
 "nbformat_minor": 5
}
