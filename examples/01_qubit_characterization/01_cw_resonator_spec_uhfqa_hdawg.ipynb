{
 "cells": [
  {
   "attachments": {},
   "cell_type": "markdown",
   "metadata": {},
   "source": [
    "# Resonator and Qubit Spectroscopy with HDAWG and UHFQA\n",
    "\n",
    "This notebook demonstrates pulsed resonator and pulsed qubit spectroscopy experiments with the HDAWG and UHFQA.\n",
    "In contrast to the SHF instruments, which can sweep their oscillator frequencies in real time (see [this notebook](https://github.com/zhinst/laboneq/blob/main/examples/basic_experiments.ipynb)), HDAWG and UHFQA require sweeps in near time."
   ]
  },
  {
   "cell_type": "code",
   "execution_count": null,
   "metadata": {},
   "outputs": [],
   "source": [
    "# convenience import for all LabOne Q software functionality\n",
    "from laboneq.simple import *\n",
    "\n",
    "# helper import\n",
    "from laboneq.contrib.example_helpers.plotting.plot_helpers import (\n",
    "    plot_results,\n",
    "    plot_simulation,\n",
    ")\n",
    "from laboneq.contrib.example_helpers.example_notebook_helper import create_device_setup\n"
   ]
  },
  {
   "cell_type": "code",
   "execution_count": null,
   "metadata": {},
   "outputs": [],
   "source": [
    "# create device setup\n",
    "device_setup = create_device_setup(generation=1)\n",
    "use_emulation = True\n"
   ]
  },
  {
   "attachments": {},
   "cell_type": "markdown",
   "metadata": {},
   "source": [
    "# 1. Pulsed Resonator Spectroscopy\n",
    "\n",
    "Find the resonance frequency of the qubit readout resonator by looking at the transmission or reflection of a probe signal applied through the readout line."
   ]
  },
  {
   "attachments": {},
   "cell_type": "markdown",
   "metadata": {},
   "source": [
    "## 1.1 Define the Experiment"
   ]
  },
  {
   "cell_type": "code",
   "execution_count": null,
   "metadata": {},
   "outputs": [],
   "source": [
    "# define sweep parameter - sweep over frequency of readout pulse\n",
    "start = -300e6\n",
    "stop = 300e6\n",
    "count = 21\n",
    "\n",
    "frequency_sweep_parameter = LinearSweepParameter(\n",
    "    uid=\"frequency_sweep\", start=start, stop=stop, count=count\n",
    ")\n",
    "\n",
    "# define number of averages\n",
    "average_exponent = 4  # used for 2^n averages, n=average_exponent, maximum: n = 17\n",
    "\n",
    "# Create Experiment - uses only a readout pulse and a data acquisition line\n",
    "exp = Experiment(\n",
    "    uid=\"Resonator Spectroscopy\",\n",
    "    signals=[\n",
    "        ExperimentSignal(\"measure\"),\n",
    "        ExperimentSignal(\"acquire\"),\n",
    "    ],\n",
    ")\n",
    "\n",
    "## experimental pulse sequence\n",
    "# Define an acquisition loop of type SPECTROSCOPY\n",
    "with exp.sweep(uid=\"sweep\", parameter=frequency_sweep_parameter):\n",
    "    with exp.acquire_loop_rt(\n",
    "        uid=\"shots\",\n",
    "        count=pow(2, average_exponent),\n",
    "        averaging_mode=AveragingMode.SEQUENTIAL,\n",
    "        acquisition_type=AcquisitionType.SPECTROSCOPY,\n",
    "    ):\n",
    "        # readout pulse and data acquisition\n",
    "        with exp.section(uid=\"spectroscopy\"):\n",
    "            exp.play(\n",
    "                signal=\"measure\", pulse=pulse_library.const(length=1e-6, amplitude=1.0)\n",
    "            )\n",
    "            exp.acquire(\n",
    "                signal=\"acquire\",\n",
    "                handle=\"ac_0\",\n",
    "                length=1e-6,\n",
    "            )\n",
    "        # relax time after readout - for signal processing and qubit relaxation to ground state\n",
    "        with exp.section(uid=\"relax\"):\n",
    "            exp.delay(signal=\"measure\", time=1e-6)\n"
   ]
  },
  {
   "cell_type": "code",
   "execution_count": null,
   "metadata": {},
   "outputs": [],
   "source": [
    "# calibration for qubit 0\n",
    "calib_q0 = Calibration()\n",
    "calib_q0[\"measure\"] = SignalCalibration(\n",
    "    oscillator=Oscillator(\n",
    "        frequency=frequency_sweep_parameter,\n",
    "        modulation_type=ModulationType.HARDWARE,\n",
    "    )\n",
    ")\n"
   ]
  },
  {
   "cell_type": "code",
   "execution_count": null,
   "metadata": {},
   "outputs": [],
   "source": [
    "# signal map for qubit 0\n",
    "map_q0 = {\n",
    "    \"measure\": \"/logical_signal_groups/q0/measure_line\",\n",
    "    \"acquire\": \"/logical_signal_groups/q0/acquire_line\",\n",
    "}\n"
   ]
  },
  {
   "attachments": {},
   "cell_type": "markdown",
   "metadata": {},
   "source": [
    "## 1.2 Run the Experiment and Plot the Measurement Results and Pulse Sequence"
   ]
  },
  {
   "cell_type": "code",
   "execution_count": null,
   "metadata": {},
   "outputs": [],
   "source": [
    "# create and connect to session\n",
    "session = Session(device_setup=device_setup)\n",
    "session.connect(do_emulation=use_emulation)\n",
    "\n",
    "# set experiment calibration and signal map\n",
    "exp.set_calibration(calib_q0)\n",
    "exp.set_signal_map(map_q0)\n",
    "\n",
    "# run experiment\n",
    "my_results = session.run(exp)\n",
    "\n",
    "# plot measurement results\n",
    "plot_results(my_results)\n"
   ]
  },
  {
   "cell_type": "code",
   "execution_count": null,
   "metadata": {},
   "outputs": [],
   "source": [
    "# use pulse sheet viewer to display the pulse sequence - only recommended for small number of averages and sweep steps to avoid performance issues\n",
    "show_pulse_sheet(\"Resonator Spectroscopy\", session.compiled_experiment)\n"
   ]
  },
  {
   "attachments": {},
   "cell_type": "markdown",
   "metadata": {},
   "source": [
    "# 2. Pulsed Qubit Spectroscopy\n",
    "\n",
    "Find the resonance frequency of the qubit by looking at the change in resonator transmission when sweeping the frequency of a qubit excitation pulse."
   ]
  },
  {
   "cell_type": "code",
   "execution_count": null,
   "metadata": {},
   "outputs": [],
   "source": [
    "## define pulses\n",
    "\n",
    "# qubit drive pulse\n",
    "const_iq_100ns = pulse_library.const(uid=\"const_iq_100ns\", length=100e-9, amplitude=1.0)\n",
    "# readout drive pulse\n",
    "readout_pulse = pulse_library.const(uid=\"readout_pulse\", length=400e-9, amplitude=1.0)\n",
    "# readout weights for integration\n",
    "readout_weighting_function = pulse_library.const(\n",
    "    uid=\"readout_weighting_function\", length=200e-9, amplitude=1.0\n",
    ")\n"
   ]
  },
  {
   "cell_type": "code",
   "execution_count": null,
   "metadata": {},
   "outputs": [],
   "source": [
    "# define sweep parameter - sweep over the frequency of a qubit excitation pulse\n",
    "start = 40e6\n",
    "stop = 200e6\n",
    "count = 21\n",
    "\n",
    "drive_frequency_sweep = LinearSweepParameter(\n",
    "    uid=\"qubit_freq\", start=start, stop=stop, count=count\n",
    ")\n",
    "\n",
    "# define number of averages\n",
    "average_exponent = 4  # used for 2^n averages, n=average_exponent, maximum: n = 17\n",
    "\n",
    "# Create Experiment - no explicit mapping to qubit lines\n",
    "exp = Experiment(\n",
    "    uid=\"Qubit Spectroscopy\",\n",
    "    signals=[\n",
    "        ExperimentSignal(\"drive\"),\n",
    "        ExperimentSignal(\"measure\"),\n",
    "        ExperimentSignal(\"acquire\"),\n",
    "    ],\n",
    ")\n",
    "## experimental pulse sequence\n",
    "with exp.sweep(uid=\"sweep\", parameter=drive_frequency_sweep):\n",
    "    with exp.acquire_loop_rt(\n",
    "        uid=\"shots\",\n",
    "        count=pow(2, average_exponent),\n",
    "        averaging_mode=AveragingMode.SEQUENTIAL,\n",
    "        acquisition_type=AcquisitionType.INTEGRATION,\n",
    "    ):\n",
    "        # qubit excitation pulse - frequency will be swept\n",
    "        with exp.section(uid=\"qubit_excitation\", alignment=SectionAlignment.RIGHT):\n",
    "            exp.play(signal=\"drive\", pulse=const_iq_100ns)\n",
    "        # readout and data acquisition\n",
    "        with exp.section(uid=\"qubit_readout\", play_after=\"qubit_excitation\"):\n",
    "            # play readout pulse\n",
    "            exp.play(signal=\"measure\", pulse=readout_pulse)\n",
    "            # signal data acquisition\n",
    "            exp.acquire(\n",
    "                signal=\"acquire\",\n",
    "                handle=\"ac_0\",\n",
    "                kernel=readout_weighting_function,\n",
    "            )\n",
    "        # relax time after readout - for signal processing and qubit relaxation to ground state\n",
    "        with exp.section(uid=\"relax\"):\n",
    "            exp.delay(signal=\"measure\", time=1e-6)\n"
   ]
  },
  {
   "cell_type": "code",
   "execution_count": null,
   "metadata": {},
   "outputs": [],
   "source": [
    "# define experiment calibration - sweep over qubit drive frequency\n",
    "exp_calib = Calibration()\n",
    "exp_calib[\"drive\"] = SignalCalibration(\n",
    "    oscillator=Oscillator(\n",
    "        frequency=drive_frequency_sweep,\n",
    "        modulation_type=ModulationType.HARDWARE,\n",
    "    )\n",
    ")\n",
    "\n",
    "# define signal maps for qubit 0\n",
    "map_q0 = {\n",
    "    \"drive\": device_setup.logical_signal_groups[\"q0\"].logical_signals[\"drive_line\"],\n",
    "    \"measure\": device_setup.logical_signal_groups[\"q0\"].logical_signals[\"measure_line\"],\n",
    "    \"acquire\": device_setup.logical_signal_groups[\"q0\"].logical_signals[\"acquire_line\"],\n",
    "}\n"
   ]
  },
  {
   "attachments": {},
   "cell_type": "markdown",
   "metadata": {},
   "source": [
    "## 2.2 Run the Experiment and Plot the Measurement Results and Pulse Sequence"
   ]
  },
  {
   "cell_type": "code",
   "execution_count": null,
   "metadata": {},
   "outputs": [],
   "source": [
    "# set calibration and signal map for qubit 0\n",
    "exp.set_calibration(exp_calib)\n",
    "exp.set_signal_map(map_q0)\n",
    "\n",
    "# create a session and connect to it\n",
    "session = Session(device_setup=device_setup)\n",
    "session.connect(do_emulation=use_emulation)\n",
    "\n",
    "# run experiment on qubit 0\n",
    "my_results = session.run(exp)\n",
    "\n",
    "# plot measurement results\n",
    "plot_results(my_results, phase=True)\n"
   ]
  },
  {
   "cell_type": "code",
   "execution_count": null,
   "metadata": {},
   "outputs": [],
   "source": [
    "# Plot simulated output signals\n",
    "plot_simulation(session.compiled_experiment, 0, 10e-6)\n"
   ]
  }
 ],
 "metadata": {
  "kernelspec": {
   "display_name": "develop",
   "language": "python",
   "name": "develop"
  },
  "language_info": {
   "codemirror_mode": {
    "name": "ipython",
    "version": 3
   },
   "file_extension": ".py",
   "mimetype": "text/x-python",
   "name": "python",
   "nbconvert_exporter": "python",
   "pygments_lexer": "ipython3",
   "version": "3.11.0"
  },
  "orig_nbformat": 4,
  "vscode": {
   "interpreter": {
    "hash": "1b9cd87bacaca95307316567b90635eca490931021bc2a81dadc6410ac7e1912"
   }
  }
 },
 "nbformat": 4,
 "nbformat_minor": 2
}
