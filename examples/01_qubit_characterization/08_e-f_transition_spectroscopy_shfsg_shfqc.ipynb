{
 "cells": [
  {
   "attachments": {},
   "cell_type": "markdown",
   "id": "0ed599f8-b026-4714-8243-4df4bc485ea6",
   "metadata": {},
   "source": [
    "# e-f transition spectroscopy\n",
    "\n",
    "In this reference notebook, you'll learn how to use LabOne Q's [logical signals lines](https://docs.zhinst.com/labone_q_user_manual/concepts/logical_signal_lines.html) to perform spectroscopy of higher qubit levels. This functionality requires an SHFSG or SHFQC and relies on using the command table instead of `playWave` commands."
   ]
  },
  {
   "attachments": {},
   "cell_type": "markdown",
   "id": "961a420e-7dc7-46fd-aea8-12af1cea8aa2",
   "metadata": {},
   "source": [
    "## 0. General Imports and Definitions"
   ]
  },
  {
   "attachments": {},
   "cell_type": "markdown",
   "id": "2a01d7d5-527b-4324-aa74-95d768f9a2ef",
   "metadata": {},
   "source": [
    "### 0.1 Python Imports"
   ]
  },
  {
   "cell_type": "code",
   "execution_count": null,
   "id": "537d6564",
   "metadata": {
    "ExecuteTime": {
     "end_time": "2021-12-06T23:14:33.099597Z",
     "start_time": "2021-12-06T23:14:31.715508Z"
    }
   },
   "outputs": [],
   "source": [
    "# convenience import for all LabOne Q software functionality\n",
    "from laboneq.simple import *\n",
    "\n",
    "# helper import\n",
    "from laboneq.contrib.example_helpers.plotting.plot_helpers import plot_simulation\n",
    "\n",
    "from laboneq.contrib.example_helpers.descriptors.shfqc import descriptor_shfqc\n",
    "from laboneq.contrib.example_helpers.descriptors.shfsg_shfqa_hdawg_pqsc import (\n",
    "    descriptor_shfsg_shfqa_hdawg_pqsc,\n",
    ")\n",
    "from laboneq.contrib.example_helpers.descriptors.shfsg_shfqa_pqsc import (\n",
    "    descriptor_shfsg_shfqa_pqsc,\n",
    ")"
   ]
  },
  {
   "attachments": {},
   "cell_type": "markdown",
   "id": "c8aa3c8e-12ce-4f86-a5bb-7f76e0c0f5d7",
   "metadata": {},
   "source": [
    "## 1. Define Device Setup and Calibration"
   ]
  },
  {
   "attachments": {},
   "cell_type": "markdown",
   "id": "f44d74bf-d663-4421-b826-bd156e65415c",
   "metadata": {},
   "source": [
    "### 1.1 Define a Device Setup\n",
    "\n",
    "We'll load a descriptor file to define our device setup and logical signal lines. We could, instead, explicitly include the descriptor here as a string and then use `DeviceSetup.from_descriptor()` below. Choose the best method that works for you!"
   ]
  },
  {
   "cell_type": "code",
   "execution_count": null,
   "id": "88c7424d",
   "metadata": {},
   "outputs": [],
   "source": [
    "# Define and Load our Device Setup\n",
    "\n",
    "device_setup = DeviceSetup.from_descriptor(\n",
    "    descriptor_shfqc,\n",
    "    server_host=\"ip_address\",  # ip address of the LabOne dataserver used to communicate with the instruments\n",
    "    server_port=\"8004\",  # port number of the dataserver - default is 8004\n",
    "    setup_name=\"my_QCCS_setup\",  # setup name\n",
    ")\n",
    "\n",
    "use_emulation = True  # set to False to run on real hardware"
   ]
  },
  {
   "attachments": {},
   "cell_type": "markdown",
   "id": "81eae8d4-aaac-486e-ae41-0c0bc01c706e",
   "metadata": {},
   "source": [
    "### 1.2 Define Calibration Settings\n",
    "\n",
    "Modify the calibration on the device setup with known parameters for qubit control and readout - qubit control and readout frequencies, mixer calibration corrections"
   ]
  },
  {
   "cell_type": "code",
   "execution_count": null,
   "id": "c92e41eb",
   "metadata": {
    "ExecuteTime": {
     "end_time": "2021-12-06T23:14:33.151459Z",
     "start_time": "2021-12-06T23:14:33.120171Z"
    }
   },
   "outputs": [],
   "source": [
    "# functions that modifies the calibration on a given device setup\n",
    "def calibrate_devices(device_setup):\n",
    "    local_oscillator_shfsg = Oscillator(uid=\"lo_shfsg\", frequency=2e9)\n",
    "    local_oscillator_shfqa = Oscillator(uid=\"lo_shfqa\", frequency=2.5e9)\n",
    "\n",
    "    ## qubit 0\n",
    "    # calibration setting for drive line for qubit 0\n",
    "    device_setup.logical_signal_groups[\"q0\"].logical_signals[\n",
    "        \"drive_line\"\n",
    "    ].calibration = SignalCalibration(\n",
    "        # oscillator settings - frequency and type of oscillator used to modulate the pulses applied through this signal line\n",
    "        oscillator=Oscillator(\n",
    "            uid=\"ge_drive_q0\", frequency=1e8, modulation_type=ModulationType.HARDWARE\n",
    "        ),\n",
    "        local_oscillator=local_oscillator_shfsg,  # will be ignored if the instrument is not SHF*\n",
    "    )\n",
    "    device_setup.logical_signal_groups[\"q0\"].logical_signals[\n",
    "        \"drive_line_ef\"\n",
    "    ].calibration = SignalCalibration(\n",
    "        # oscillator settings - frequency and type of oscillator used to modulate the pulses applied through this signal line\n",
    "        oscillator=Oscillator(\n",
    "            uid=\"ef_drive_q0\", frequency=5e7, modulation_type=ModulationType.HARDWARE\n",
    "        ),\n",
    "        local_oscillator=local_oscillator_shfsg,  # will be ignored if the instrument is not SHF*\n",
    "    )\n",
    "    # calibration setting for readout pulse line for qubit 0\n",
    "    device_setup.logical_signal_groups[\"q0\"].logical_signals[\n",
    "        \"measure_line\"\n",
    "    ].calibration = SignalCalibration(\n",
    "        oscillator=Oscillator(\n",
    "            uid=\"measure_q0_osc\", frequency=2e8, modulation_type=ModulationType.SOFTWARE\n",
    "        ),\n",
    "        port_delay=0,  # inserted in sequencer code, bound to waveform granularity\n",
    "        local_oscillator=local_oscillator_shfqa,  # will be ignored if the instrument is not an SHF*\n",
    "    )\n",
    "    # calibration setting for data acquisition line for qubit 0\n",
    "    device_setup.logical_signal_groups[\"q0\"].logical_signals[\n",
    "        \"acquire_line\"\n",
    "    ].calibration = SignalCalibration(\n",
    "        oscillator=Oscillator(\n",
    "            uid=\"acquire_osc\", frequency=2e8, modulation_type=ModulationType.SOFTWARE\n",
    "        ),\n",
    "        # delays the start of integration in relation to the start of the readout pulse to compensate for signal propagation time\n",
    "        port_delay=10e-9,  # applied to corresponding instrument node, bound to hardware limits\n",
    "        local_oscillator=local_oscillator_shfqa,  # will be ignored if the instrument is not an SHF*\n",
    "    )\n",
    "    ## qubit 1\n",
    "    # calibration setting for drive line for qubit 1\n",
    "    device_setup.logical_signal_groups[\"q1\"].logical_signals[\n",
    "        \"drive_line\"\n",
    "    ].calibration = SignalCalibration(\n",
    "        oscillator=Oscillator(\n",
    "            uid=\"ge_drive_q1\", frequency=2e8, modulation_type=ModulationType.HARDWARE\n",
    "        ),\n",
    "        local_oscillator=local_oscillator_shfsg,  # will be ignored if the instrument is not an SHF*\n",
    "    )\n",
    "    device_setup.logical_signal_groups[\"q1\"].logical_signals[\n",
    "        \"drive_line_ef\"\n",
    "    ].calibration = SignalCalibration(\n",
    "        oscillator=Oscillator(\n",
    "            uid=\"ef_drive_q1\", frequency=1.2e8, modulation_type=ModulationType.HARDWARE\n",
    "        ),\n",
    "        local_oscillator=local_oscillator_shfsg,  # will be ignored if the instrument is not an SHF*\n",
    "    )\n",
    "    # calibration setting for readout pulse line for qubit 0\n",
    "    device_setup.logical_signal_groups[\"q1\"].logical_signals[\n",
    "        \"measure_line\"\n",
    "    ].calibration = SignalCalibration(\n",
    "        oscillator=Oscillator(\n",
    "            uid=\"measure_q1\", frequency=1e8, modulation_type=ModulationType.SOFTWARE\n",
    "        ),\n",
    "        local_oscillator=local_oscillator_shfqa,  # will be ignored if the instrument is not an SHF*\n",
    "    )\n",
    "    # calibration setting for data acquisition line for qubit 0\n",
    "    device_setup.logical_signal_groups[\"q1\"].logical_signals[\n",
    "        \"acquire_line\"\n",
    "    ].calibration = SignalCalibration(\n",
    "        oscillator=Oscillator(\n",
    "            uid=\"acquire_q1\", frequency=1e8, modulation_type=ModulationType.SOFTWARE\n",
    "        ),\n",
    "        # delays the start of integration in relation to the start of the readout pulse to compensate for signal propagation time\n",
    "        port_delay=10e-9,\n",
    "        local_oscillator=local_oscillator_shfqa,  # will be ignored if the instrument is not an SHF*\n",
    "    )"
   ]
  },
  {
   "cell_type": "code",
   "execution_count": null,
   "id": "e9ef6a1a",
   "metadata": {},
   "outputs": [],
   "source": [
    "calibrate_devices(device_setup)"
   ]
  },
  {
   "cell_type": "code",
   "execution_count": null,
   "id": "8df21a93",
   "metadata": {},
   "outputs": [],
   "source": [
    "device_setup"
   ]
  },
  {
   "attachments": {},
   "cell_type": "markdown",
   "id": "38438dd2-6905-4f99-a556-bb27363c3a1f",
   "metadata": {},
   "source": [
    "## 2. e-f Transition Spectroscopy\n",
    "\n",
    "Sweep the pulse frequency of a qubit drive pulse to determine the frequency of the e-f transition. This assumes that a pi-pulse for the first excited state is already calibrated."
   ]
  },
  {
   "attachments": {},
   "cell_type": "markdown",
   "id": "d068797e-1673-4a5b-93c2-c450e8c061ab",
   "metadata": {},
   "source": [
    "### 2.1 Define the Experiment"
   ]
  },
  {
   "cell_type": "code",
   "execution_count": null,
   "id": "b1dbdd2a",
   "metadata": {},
   "outputs": [],
   "source": [
    "## define pulses\n",
    "\n",
    "# qubit pi-pulse for first excited state\n",
    "x180 = pulse_library.drag(uid=\"x180\", length=24e-9, amplitude=0.5, sigma=0.3, beta=0.2)\n",
    "\n",
    "# long spectroscopy pulse for e-f transition - frequency will be swept\n",
    "ef_spec_pulse = pulse_library.const(uid=\"ef_pulse\", length=10e-6, amplitude=1.0)\n",
    "\n",
    "# readout drive pulse\n",
    "readout_pulse = pulse_library.const(uid=\"readout_pulse\", length=400e-9, amplitude=0.2)\n",
    "# readout integration weights\n",
    "readout_weighting_function = pulse_library.const(\n",
    "    uid=\"readout_weighting_function\", length=400e-9, amplitude=0.8\n",
    ")"
   ]
  },
  {
   "cell_type": "code",
   "execution_count": null,
   "id": "4b1deeb5",
   "metadata": {
    "ExecuteTime": {
     "end_time": "2021-12-06T23:14:35.740577Z",
     "start_time": "2021-12-06T23:14:35.139445Z"
    }
   },
   "outputs": [],
   "source": [
    "# set up sweep parameter - drive amplitude\n",
    "start = 25e6\n",
    "stop = 250e6\n",
    "count = 25\n",
    "frequency_sweep = LinearSweepParameter(\n",
    "    uid=\"frequency\", start=start, stop=stop, count=count\n",
    ")\n",
    "\n",
    "# number of averages\n",
    "average_exponent = 10  # used for 2^n averages, n=average_exponent, maximum: n = 17\n",
    "\n",
    "# Create Experiment\n",
    "exp_ef_spec = Experiment(\n",
    "    uid=\"e-f spectroscopy\",\n",
    "    signals=[\n",
    "        ExperimentSignal(\"drive\"),\n",
    "        ExperimentSignal(\"drive_ef\"),\n",
    "        ExperimentSignal(\"measure\"),\n",
    "        ExperimentSignal(\"acquire\"),\n",
    "    ],\n",
    ")\n",
    "## experimental pulse sequence\n",
    "# outer loop - real-time, cyclic averaging in standard integration mode\n",
    "with exp_ef_spec.acquire_loop_rt(\n",
    "    uid=\"shots\",\n",
    "    count=pow(2, average_exponent),\n",
    "    averaging_mode=AveragingMode.CYCLIC,\n",
    "    acquisition_type=AcquisitionType.INTEGRATION,\n",
    "):\n",
    "    # inner loop - real-time frequency sweep of qubit e-f drive pulse\n",
    "    with exp_ef_spec.sweep(uid=\"sweep\", parameter=frequency_sweep):\n",
    "        # qubit excitation - pulse amplitude will be swept\n",
    "        with exp_ef_spec.section(\n",
    "            uid=\"qubit_excitation\",\n",
    "            on_system_grid=True,\n",
    "            alignment=SectionAlignment.RIGHT,\n",
    "        ):\n",
    "            exp_ef_spec.play(signal=\"drive\", pulse=x180)\n",
    "        with exp_ef_spec.section(\n",
    "            uid=\"qubit_ef_excitation\",\n",
    "            play_after=\"qubit_excitation\",\n",
    "            on_system_grid=True,\n",
    "            alignment=SectionAlignment.RIGHT,\n",
    "        ):\n",
    "            exp_ef_spec.play(signal=\"drive_ef\", pulse=ef_spec_pulse)\n",
    "        # qubit readout pulse and data acquisition\n",
    "        with exp_ef_spec.section(uid=\"qubit_readout\", play_after=\"qubit_ef_excitation\"):\n",
    "            # play readout pulse\n",
    "            exp_ef_spec.play(signal=\"measure\", pulse=readout_pulse)\n",
    "            # signal data acquisition\n",
    "            exp_ef_spec.acquire(\n",
    "                signal=\"acquire\",\n",
    "                handle=\"ac_0\",\n",
    "                kernel=readout_weighting_function,\n",
    "            )\n",
    "        # relax time after readout - for signal processing and qubit relaxation to groundstate\n",
    "        with exp_ef_spec.section(uid=\"relax\"):\n",
    "            exp_ef_spec.delay(signal=\"measure\", time=100e-9)"
   ]
  },
  {
   "cell_type": "code",
   "execution_count": null,
   "id": "b10527ec",
   "metadata": {},
   "outputs": [],
   "source": [
    "# define signal maps for qubit 0\n",
    "map_q0 = {\n",
    "    \"drive\": device_setup.logical_signal_groups[\"q0\"].logical_signals[\"drive_line\"],\n",
    "    \"drive_ef\": device_setup.logical_signal_groups[\"q0\"].logical_signals[\n",
    "        \"drive_line_ef\"\n",
    "    ],\n",
    "    \"measure\": device_setup.logical_signal_groups[\"q0\"].logical_signals[\"measure_line\"],\n",
    "    \"acquire\": device_setup.logical_signal_groups[\"q0\"].logical_signals[\"acquire_line\"],\n",
    "}\n",
    "# ... - and qubit 1\n",
    "map_q1 = {\n",
    "    \"drive\": device_setup.logical_signal_groups[\"q1\"].logical_signals[\"drive_line\"],\n",
    "    \"drive_ef\": device_setup.logical_signal_groups[\"q1\"].logical_signals[\n",
    "        \"drive_line_ef\"\n",
    "    ],\n",
    "    \"measure\": device_setup.logical_signal_groups[\"q1\"].logical_signals[\"measure_line\"],\n",
    "    \"acquire\": device_setup.logical_signal_groups[\"q1\"].logical_signals[\"acquire_line\"],\n",
    "}"
   ]
  },
  {
   "cell_type": "code",
   "execution_count": null,
   "id": "5fcbcb6d",
   "metadata": {},
   "outputs": [],
   "source": [
    "# define experiment calibration\n",
    "exp_calibration = Calibration(\n",
    "    {\n",
    "        \"drive_ef\": SignalCalibration(\n",
    "            oscillator=Oscillator(\n",
    "                # WORKAROUND: when sweeping an oscillator on a logical line using the oscillator switching feature, need to ensure that the uid of the swept oscillator is sorted() first\n",
    "                uid=\"ef_drive_osc\",\n",
    "                frequency=frequency_sweep,\n",
    "                modulation_type=ModulationType.HARDWARE,\n",
    "            )\n",
    "        )\n",
    "    }\n",
    ")"
   ]
  },
  {
   "attachments": {},
   "cell_type": "markdown",
   "id": "7e485382-ccd1-4c32-8253-1f5e9e2ad127",
   "metadata": {},
   "source": [
    "### 2.2 Run the Experiment and Plot the Measurement Results and Pulse Sequence"
   ]
  },
  {
   "cell_type": "code",
   "execution_count": null,
   "id": "dc48e4a3",
   "metadata": {},
   "outputs": [],
   "source": [
    "# set signal map to qubit 0\n",
    "exp_ef_spec.set_signal_map(map_q0)\n",
    "exp_ef_spec.set_calibration(exp_calibration)\n",
    "\n",
    "# create and connect to session\n",
    "session = Session(device_setup=device_setup)\n",
    "session.connect(do_emulation=use_emulation)\n",
    "\n",
    "# run experiment on qubit 0\n",
    "compiled_exp_ef_spec = session.compile(exp_ef_spec)\n",
    "\n",
    "ef_espec_results = session.run(compiled_exp_ef_spec)"
   ]
  },
  {
   "cell_type": "code",
   "execution_count": null,
   "id": "d826d7bb",
   "metadata": {},
   "outputs": [],
   "source": [
    "# show_pulse_sheet(\"ef_spectroscopy\", compiled_exp_ef_spec)"
   ]
  },
  {
   "cell_type": "code",
   "execution_count": null,
   "id": "e2173634",
   "metadata": {},
   "outputs": [],
   "source": [
    "# Plot simulated output signals\n",
    "plot_simulation(compiled_exp_ef_spec, 0, 0.5e-6)"
   ]
  },
  {
   "cell_type": "code",
   "execution_count": null,
   "id": "188aca23",
   "metadata": {},
   "outputs": [],
   "source": []
  }
 ],
 "metadata": {
  "hide_input": false,
  "kernelspec": {
   "display_name": "develop",
   "language": "python",
   "name": "develop"
  },
  "language_info": {
   "codemirror_mode": {
    "name": "ipython",
    "version": 3
   },
   "file_extension": ".py",
   "mimetype": "text/x-python",
   "name": "python",
   "nbconvert_exporter": "python",
   "pygments_lexer": "ipython3",
   "version": "3.11.0"
  },
  "toc": {
   "base_numbering": 1,
   "nav_menu": {},
   "number_sections": true,
   "sideBar": true,
   "skip_h1_title": false,
   "title_cell": "Table of Contents",
   "title_sidebar": "Contents",
   "toc_cell": false,
   "toc_position": {
    "height": "calc(100% - 180px)",
    "left": "10px",
    "top": "150px",
    "width": "426.667px"
   },
   "toc_section_display": true,
   "toc_window_display": true
  },
  "varInspector": {
   "cols": {
    "lenName": 16,
    "lenType": 16,
    "lenVar": 40
   },
   "kernels_config": {
    "python": {
     "delete_cmd_postfix": "",
     "delete_cmd_prefix": "del ",
     "library": "var_list.py",
     "varRefreshCmd": "print(var_dic_list())"
    },
    "r": {
     "delete_cmd_postfix": ") ",
     "delete_cmd_prefix": "rm(",
     "library": "var_list.r",
     "varRefreshCmd": "cat(var_dic_list()) "
    }
   },
   "types_to_exclude": [
    "module",
    "function",
    "builtin_function_or_method",
    "instance",
    "_Feature"
   ],
   "window_display": false
  },
  "vscode": {
   "interpreter": {
    "hash": "663ad8cffee7d16d4a16abf16e8d21d17c08eabaea46fdaf4c26ce4207f33d42"
   }
  }
 },
 "nbformat": 4,
 "nbformat_minor": 5
}
