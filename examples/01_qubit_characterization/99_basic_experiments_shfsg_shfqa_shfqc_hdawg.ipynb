{
 "cells": [
  {
   "attachments": {},
   "cell_type": "markdown",
   "id": "0ed599f8-b026-4714-8243-4df4bc485ea6",
   "metadata": {},
   "source": [
    "# Basic Experiments\n",
    "\n",
    "This notebook demonstrates some qubit tuneup experiments, which can be used as template to create more advanced sequences.\n",
    "Please check out the [single qubit tuneup](https://github.com/zhinst/laboneq/blob/main/examples/single_qubit_tuneup.ipynb) notebook for an example of how to set up a tune-up sequence and use experimental results."
   ]
  },
  {
   "cell_type": "code",
   "execution_count": 1,
   "id": "537d6564",
   "metadata": {},
   "outputs": [],
   "source": [
    "# LabOne Q:\n",
    "from laboneq.simple import *\n",
    "\n",
    "# Helpers:\n",
    "from laboneq.contrib.example_helpers.plotting.plot_helpers import *\n",
    "from laboneq.contrib.example_helpers.example_notebook_helper import create_device_setup"
   ]
  },
  {
   "cell_type": "code",
   "execution_count": 2,
   "id": "9593232d",
   "metadata": {},
   "outputs": [],
   "source": [
    "# create device setup\n",
    "device_setup = create_device_setup(generation=2)\n",
    "use_emulation = True"
   ]
  },
  {
   "attachments": {},
   "cell_type": "markdown",
   "id": "1423f3d9",
   "metadata": {},
   "source": [
    "<div class=\"alert alert-block alert-info\">\n",
    "<b>Remark:</b> The spectroscopy experiments in this notebook rely on the real-time frequency sweep functionality of the Zurich Instruments SHF-line devices. [Another example notebook](https://github.com/zhinst/laboneq/blob/main/examples/spectroscopy_uhfqa_hdawg.ipynb) explains how to run spectroscopy experiments also with the UHFQA (resonator spectroscopy) and HDAWG (qubit spectroscopy).</div>"
   ]
  },
  {
   "attachments": {},
   "cell_type": "markdown",
   "id": "cfdea1e4-0d6e-4b6d-b9fb-5f3bdc8f84c6",
   "metadata": {},
   "source": [
    "## 1. CW Resonator Spectroscopy\n",
    "\n",
    "Find the resonance frequency of the qubit readout resonator by looking at the transmission or reflection of a probe signal applied through the readout line."
   ]
  },
  {
   "attachments": {},
   "cell_type": "markdown",
   "id": "d7caa8f4-9cd8-46b4-8ff4-543e4e56670d",
   "metadata": {},
   "source": [
    "### 1.1 Define the Experiment"
   ]
  },
  {
   "cell_type": "code",
   "execution_count": 3,
   "id": "cfeea6ba",
   "metadata": {},
   "outputs": [],
   "source": [
    "# define sweep parameter - sweep over frequency of readout pulse\n",
    "start = -700e6\n",
    "stop = 700e6\n",
    "count = 21\n",
    "\n",
    "frequency_sweep_parameter = LinearSweepParameter(\n",
    "    uid=\"frequency_sweep\", start=start, stop=stop, count=count\n",
    ")\n",
    "\n",
    "# define number of averages\n",
    "average_exponent = 4  # used for 2^n averages, n=average_exponent, maximum: n = 17\n",
    "\n",
    "# Create Experiment - uses only a readout pulse and a data acquisition line\n",
    "exp = Experiment(\n",
    "    uid=\"Resonator Spectroscopy\",\n",
    "    signals=[\n",
    "        ExperimentSignal(\"measure\"),\n",
    "        ExperimentSignal(\"acquire\"),\n",
    "    ],\n",
    ")\n",
    "\n",
    "## experimental pulse sequence\n",
    "# Define an acquisition loop of type SPECTROSCOPY\n",
    "with exp.acquire_loop_rt(\n",
    "    uid=\"shots\",\n",
    "    count=pow(2, average_exponent),\n",
    "    averaging_mode=AveragingMode.SEQUENTIAL,\n",
    "    acquisition_type=AcquisitionType.SPECTROSCOPY,\n",
    "):\n",
    "    with exp.sweep(uid=\"sweep\", parameter=frequency_sweep_parameter):\n",
    "        # readout pulse and data acquisition\n",
    "        with exp.section(uid=\"spectroscopy\"):\n",
    "            exp.acquire(\n",
    "                signal=\"acquire\",\n",
    "                handle=\"ac_0\",\n",
    "                length=15e-6,\n",
    "            )\n",
    "        # relax time after readout - for signal processing and qubit relaxation to ground state\n",
    "        with exp.section(uid=\"relax\", play_after=\"spectroscopy\"):\n",
    "            exp.delay(signal=\"acquire\", time=1e-6)"
   ]
  },
  {
   "cell_type": "code",
   "execution_count": 4,
   "id": "fa85e073",
   "metadata": {},
   "outputs": [],
   "source": [
    "# calibration for qubit 0\n",
    "# The start of acquisition is delayed by 250 ns to compensate for the reference signal propagation within the SHFQA.\n",
    "exp_calib = Calibration()\n",
    "exp_calib[\"acquire\"] = SignalCalibration(\n",
    "    oscillator=Oscillator(\n",
    "        frequency=frequency_sweep_parameter,\n",
    "        modulation_type=ModulationType.HARDWARE,\n",
    "    ),\n",
    "    port_delay=250e-9,\n",
    ")"
   ]
  },
  {
   "cell_type": "code",
   "execution_count": 5,
   "id": "0c391036",
   "metadata": {},
   "outputs": [],
   "source": [
    "# signal map for qubit 0\n",
    "\n",
    "\n",
    "def map_qubit(qubit_id):\n",
    "    return {\n",
    "        \"measure\": f\"/logical_signal_groups/q{qubit_id}/measure_line\",\n",
    "        \"acquire\": f\"/logical_signal_groups/q{qubit_id}/acquire_line\",\n",
    "    }"
   ]
  },
  {
   "attachments": {},
   "cell_type": "markdown",
   "id": "db6ec116-41db-4c23-8657-c2f3d2b27b3a",
   "metadata": {},
   "source": [
    "### 1.2 Run the Experiment and Plot the Measurement Results"
   ]
  },
  {
   "cell_type": "code",
   "execution_count": 6,
   "id": "76dc600f",
   "metadata": {},
   "outputs": [
    {
     "name": "stdout",
     "output_type": "stream",
     "text": [
      "[2023.10.09 11:38:50.005] INFO    Logging initialized from [Default inline config in laboneq.controller.laboneq_logging] logdir is u:\\LabOneQ Software Local Samuel\\laboneq\\examples\\01_qubit_characterization\\laboneq_output\\log\n",
      "[2023.10.09 11:38:50.014] INFO    VERSION: laboneq 2.15.0\n",
      "[2023.10.09 11:38:50.018] INFO    Connecting to data server at my_ip_address:8004\n",
      "[2023.10.09 11:38:50.024] INFO    Connected to Zurich Instruments LabOne Data Server version 23.06 at my_ip_address:8004\n",
      "[2023.10.09 11:38:50.054] INFO    Configuring the device setup\n",
      "[2023.10.09 11:38:50.196] INFO    The device setup is configured\n",
      "[2023.10.09 11:38:50.212] INFO    VERSION: laboneq 2.15.0\n",
      "[2023.10.09 11:38:50.216] INFO    Connecting to data server at my_ip_address:8004\n",
      "[2023.10.09 11:38:50.221] INFO    Connected to Zurich Instruments LabOne Data Server version 23.06 at my_ip_address:8004\n",
      "[2023.10.09 11:38:50.239] INFO    Configuring the device setup\n",
      "[2023.10.09 11:38:50.285] INFO    The device setup is configured\n",
      "[2023.10.09 11:38:50.291] INFO    Starting LabOne Q Compiler run...\n",
      "[2023.10.09 11:38:50.305] INFO    Schedule completed\n",
      "[2023.10.09 11:38:50.352] INFO     ────────────────────────────────────────────────────────────────── \n",
      "[2023.10.09 11:38:50.354] INFO     \u001b[1m \u001b[0m\u001b[1mDevice      \u001b[0m\u001b[1m \u001b[0m \u001b[1m \u001b[0m\u001b[1mAWG\u001b[0m\u001b[1m \u001b[0m \u001b[1m \u001b[0m\u001b[1mSeqC LOC\u001b[0m\u001b[1m \u001b[0m \u001b[1m \u001b[0m\u001b[1mCT entries\u001b[0m\u001b[1m \u001b[0m \u001b[1m \u001b[0m\u001b[1mWaveforms\u001b[0m\u001b[1m \u001b[0m \u001b[1m \u001b[0m\u001b[1mSamples\u001b[0m\u001b[1m \u001b[0m \n",
      "[2023.10.09 11:38:50.359] INFO     ────────────────────────────────────────────────────────────────── \n",
      "[2023.10.09 11:38:50.363] INFO      device_shfqa     0         23            0           0         0  \n",
      "[2023.10.09 11:38:50.366] INFO     ────────────────────────────────────────────────────────────────── \n",
      "[2023.10.09 11:38:50.370] INFO     \u001b[1m \u001b[0m\u001b[1mTOTAL       \u001b[0m\u001b[1m \u001b[0m \u001b[1m \u001b[0m\u001b[1m   \u001b[0m\u001b[1m \u001b[0m \u001b[1m \u001b[0m\u001b[1m      23\u001b[0m\u001b[1m \u001b[0m \u001b[1m \u001b[0m\u001b[1m         0\u001b[0m\u001b[1m \u001b[0m \u001b[1m \u001b[0m\u001b[1m         \u001b[0m\u001b[1m \u001b[0m \u001b[1m \u001b[0m\u001b[1m      0\u001b[0m\u001b[1m \u001b[0m \n",
      "[2023.10.09 11:38:50.376] INFO     ────────────────────────────────────────────────────────────────── \n",
      "[2023.10.09 11:38:50.378] INFO    Finished LabOne Q Compiler run.\n",
      "[2023.10.09 11:38:50.428] INFO    Starting near-time execution...\n",
      "[2023.10.09 11:38:50.554] INFO    Finished near-time execution.\n"
     ]
    },
    {
     "data": {
      "image/png": "[encoded data removed]",
      "text/plain": [
       "<Figure size 640x480 with 1 Axes>"
      ]
     },
     "metadata": {},
     "output_type": "display_data"
    }
   ],
   "source": [
    "# create and connect to session\n",
    "session = Session(device_setup=device_setup)\n",
    "session.connect(do_emulation=use_emulation)\n",
    "\n",
    "# set experiment calibration and signal map\n",
    "exp.set_calibration(exp_calib)\n",
    "exp.set_signal_map(map_qubit(0))\n",
    "\n",
    "# run experiment\n",
    "my_results = session.run(exp)\n",
    "\n",
    "# plot measurement results\n",
    "plot_result_2d(my_results, \"ac_0\")"
   ]
  },
  {
   "cell_type": "code",
   "execution_count": 7,
   "id": "f30cbce6",
   "metadata": {},
   "outputs": [
    {
     "name": "stdout",
     "output_type": "stream",
     "text": [
      "[2023.10.09 11:38:53.661] INFO    Requesting more events for the PSV than currently published, recompiling experiment\n",
      "[2023.10.09 11:38:53.674] INFO    VERSION: laboneq 2.15.0\n",
      "[2023.10.09 11:38:53.676] INFO    Connecting to data server at my_ip_address:8004\n",
      "[2023.10.09 11:38:53.679] INFO    Connected to Zurich Instruments LabOne Data Server version 23.06 at my_ip_address:8004\n",
      "[2023.10.09 11:38:53.695] INFO    Configuring the device setup\n",
      "[2023.10.09 11:38:53.754] INFO    The device setup is configured\n",
      "[2023.10.09 11:38:53.764] INFO    Starting LabOne Q Compiler run...\n",
      "[2023.10.09 11:38:53.773] INFO    Schedule completed\n",
      "[2023.10.09 11:38:53.812] INFO    Finished LabOne Q Compiler run.\n",
      "[2023.10.09 11:38:53.987] INFO    Writing html file to u:\\LabOneQ Software Local Samuel\\laboneq\\examples\\01_qubit_characterization\\Resonator Spectroscopy_2023-10-09-11-38-53.html\n"
     ]
    },
    {
     "data": {
      "text/html": [
       "<a href='Resonator Spectroscopy_2023-10-09-11-38-53.html' target='_blank'>Resonator Spectroscopy_2023-10-09-11-38-53.html</a><br>"
      ],
      "text/plain": [
       "u:\\LabOneQ Software Local Samuel\\laboneq\\examples\\01_qubit_characterization\\Resonator Spectroscopy_2023-10-09-11-38-53.html"
      ]
     },
     "execution_count": 7,
     "metadata": {},
     "output_type": "execute_result"
    }
   ],
   "source": [
    "# use pulse sheet viewer to display the pulse sequence - only recommended for small number of averages and sweep steps to avoid performance issues\n",
    "show_pulse_sheet(\"Resonator Spectroscopy\", session.compiled_experiment)"
   ]
  },
  {
   "cell_type": "code",
   "execution_count": 8,
   "id": "c77423ba",
   "metadata": {},
   "outputs": [
    {
     "name": "stdout",
     "output_type": "stream",
     "text": [
      "[2023.10.09 11:38:56.802] INFO    VERSION: laboneq 2.15.0\n",
      "[2023.10.09 11:38:56.811] INFO    Connecting to data server at my_ip_address:8004\n",
      "[2023.10.09 11:38:56.813] INFO    Connected to Zurich Instruments LabOne Data Server version 23.06 at my_ip_address:8004\n",
      "[2023.10.09 11:38:56.836] INFO    Configuring the device setup\n",
      "[2023.10.09 11:38:56.894] INFO    The device setup is configured\n",
      "[2023.10.09 11:38:56.901] INFO    Starting LabOne Q Compiler run...\n",
      "[2023.10.09 11:38:56.913] INFO    Schedule completed\n",
      "[2023.10.09 11:38:56.934] INFO     ────────────────────────────────────────────────────────────────── \n",
      "[2023.10.09 11:38:56.939] INFO     \u001b[1m \u001b[0m\u001b[1mDevice      \u001b[0m\u001b[1m \u001b[0m \u001b[1m \u001b[0m\u001b[1mAWG\u001b[0m\u001b[1m \u001b[0m \u001b[1m \u001b[0m\u001b[1mSeqC LOC\u001b[0m\u001b[1m \u001b[0m \u001b[1m \u001b[0m\u001b[1mCT entries\u001b[0m\u001b[1m \u001b[0m \u001b[1m \u001b[0m\u001b[1mWaveforms\u001b[0m\u001b[1m \u001b[0m \u001b[1m \u001b[0m\u001b[1mSamples\u001b[0m\u001b[1m \u001b[0m \n",
      "[2023.10.09 11:38:56.941] INFO     ────────────────────────────────────────────────────────────────── \n",
      "[2023.10.09 11:38:56.943] INFO      device_shfqa     0         23            0           0         0  \n",
      "[2023.10.09 11:38:56.945] INFO     ────────────────────────────────────────────────────────────────── \n",
      "[2023.10.09 11:38:56.947] INFO     \u001b[1m \u001b[0m\u001b[1mTOTAL       \u001b[0m\u001b[1m \u001b[0m \u001b[1m \u001b[0m\u001b[1m   \u001b[0m\u001b[1m \u001b[0m \u001b[1m \u001b[0m\u001b[1m      23\u001b[0m\u001b[1m \u001b[0m \u001b[1m \u001b[0m\u001b[1m         0\u001b[0m\u001b[1m \u001b[0m \u001b[1m \u001b[0m\u001b[1m         \u001b[0m\u001b[1m \u001b[0m \u001b[1m \u001b[0m\u001b[1m      0\u001b[0m\u001b[1m \u001b[0m \n",
      "[2023.10.09 11:38:56.948] INFO     ────────────────────────────────────────────────────────────────── \n",
      "[2023.10.09 11:38:56.952] INFO    Finished LabOne Q Compiler run.\n",
      "[2023.10.09 11:38:56.978] INFO    Starting near-time execution...\n",
      "[2023.10.09 11:38:57.016] INFO    Finished near-time execution.\n"
     ]
    }
   ],
   "source": [
    "# Run the same experiment on qubit 1\n",
    "exp.set_calibration(exp_calib)\n",
    "exp.set_signal_map(map_qubit(1))\n",
    "my_results = session.run(exp)"
   ]
  },
  {
   "attachments": {},
   "cell_type": "markdown",
   "id": "4ecbf581-b2e9-4f44-a6da-4f16f7a13291",
   "metadata": {},
   "source": [
    "## 2. Pulsed Qubit Spectroscopy\n",
    "\n",
    "Find the resonance frequency of the qubit by looking at the change in resonator transmission when sweeping the frequency of a qubit excitation pulse."
   ]
  },
  {
   "attachments": {},
   "cell_type": "markdown",
   "id": "55540be2-0163-4eb4-8929-068fed757795",
   "metadata": {},
   "source": [
    "### 2.1 Define the Experiment"
   ]
  },
  {
   "cell_type": "code",
   "execution_count": null,
   "id": "ec2de91b",
   "metadata": {},
   "outputs": [],
   "source": [
    "## define pulses\n",
    "\n",
    "# qubit drive pulse\n",
    "const_iq_100ns = pulse_library.const(uid=\"const_iq_100ns\", length=100e-9, amplitude=1.0)\n",
    "# readout drive pulse\n",
    "readout_pulse = pulse_library.const(uid=\"readout_pulse\", length=400e-9, amplitude=1.0)\n",
    "# readout weights for integration\n",
    "readout_weighting_function = pulse_library.const(\n",
    "    uid=\"readout_weighting_function\", length=200e-9, amplitude=1.0\n",
    ")"
   ]
  },
  {
   "cell_type": "code",
   "execution_count": null,
   "id": "48543684",
   "metadata": {},
   "outputs": [],
   "source": [
    "# define sweep parameter - sweep over the frequency of a qubit excitation pulse\n",
    "start = 40e6\n",
    "stop = 200e6\n",
    "count = 21\n",
    "\n",
    "drive_frequency_sweep = LinearSweepParameter(\n",
    "    uid=\"qubit_freq\", start=start, stop=stop, count=count\n",
    ")\n",
    "\n",
    "# define number of averages\n",
    "average_exponent = 4  # used for 2^n averages, n=average_exponent, maximum: n = 17\n",
    "\n",
    "# Create Experiment - no explicit mapping to qubit lines\n",
    "exp = Experiment(\n",
    "    uid=\"Qubit Spectroscopy\",\n",
    "    signals=[\n",
    "        ExperimentSignal(\"drive\"),\n",
    "        ExperimentSignal(\"measure\"),\n",
    "        ExperimentSignal(\"acquire\"),\n",
    "    ],\n",
    ")\n",
    "## experimental pulse sequence\n",
    "with exp.acquire_loop_rt(\n",
    "    uid=\"shots\",\n",
    "    count=pow(2, average_exponent),\n",
    "    averaging_mode=AveragingMode.SEQUENTIAL,\n",
    "    acquisition_type=AcquisitionType.INTEGRATION,\n",
    "):\n",
    "    with exp.sweep(uid=\"sweep\", parameter=drive_frequency_sweep):\n",
    "        # qubit excitation pulse - frequency will be swept\n",
    "        with exp.section(uid=\"qubit_excitation\", alignment=SectionAlignment.RIGHT):\n",
    "            exp.play(signal=\"drive\", pulse=const_iq_100ns)\n",
    "        # readout and data acquisition\n",
    "        with exp.section(uid=\"qubit_readout\", play_after=\"qubit_excitation\"):\n",
    "            # play readout pulse\n",
    "            exp.play(signal=\"measure\", pulse=readout_pulse)\n",
    "            # signal data acquisition\n",
    "            exp.acquire(\n",
    "                signal=\"acquire\",\n",
    "                handle=\"ac_0\",\n",
    "                kernel=readout_weighting_function,\n",
    "            )\n",
    "        # relax time after readout - for signal processing and qubit relaxation to ground state\n",
    "        with exp.section(uid=\"relax\", play_after=\"qubit_readout\"):\n",
    "            exp.delay(signal=\"measure\", time=1e-6)"
   ]
  },
  {
   "cell_type": "code",
   "execution_count": null,
   "id": "0a80371d",
   "metadata": {},
   "outputs": [],
   "source": [
    "# define experiment calibration - sweep over qubit drive frequency\n",
    "exp_calib = Calibration()\n",
    "exp_calib[\"drive\"] = SignalCalibration(\n",
    "    oscillator=Oscillator(\n",
    "        frequency=drive_frequency_sweep,\n",
    "        modulation_type=ModulationType.HARDWARE,\n",
    "    )\n",
    ")"
   ]
  },
  {
   "cell_type": "code",
   "execution_count": null,
   "id": "18c2f3e4",
   "metadata": {},
   "outputs": [],
   "source": [
    "def map_qubit(qubit_id):\n",
    "    return {\n",
    "        \"drive\": device_setup.logical_signal_groups[f\"q{qubit_id}\"].logical_signals[\n",
    "            \"drive_line\"\n",
    "        ],\n",
    "        \"measure\": device_setup.logical_signal_groups[f\"q{qubit_id}\"].logical_signals[\n",
    "            \"measure_line\"\n",
    "        ],\n",
    "        \"acquire\": device_setup.logical_signal_groups[f\"q{qubit_id}\"].logical_signals[\n",
    "            \"acquire_line\"\n",
    "        ],\n",
    "    }"
   ]
  },
  {
   "attachments": {},
   "cell_type": "markdown",
   "id": "192639da-1b74-43dd-a72d-923c5a0227f4",
   "metadata": {},
   "source": [
    "### 2.2 Run the Experiment and Plot the Measurement Results and Pulse Sequence"
   ]
  },
  {
   "cell_type": "code",
   "execution_count": null,
   "id": "3c6b420c",
   "metadata": {},
   "outputs": [],
   "source": [
    "# set calibration and signal map for qubit 0\n",
    "exp.set_calibration(exp_calib)\n",
    "exp.set_signal_map(map_qubit(0))\n",
    "\n",
    "# create a session and connect to it\n",
    "session = Session(device_setup=device_setup)\n",
    "session.connect(do_emulation=use_emulation)\n",
    "\n",
    "# run experiment on qubit 0\n",
    "my_results = session.run(exp)"
   ]
  },
  {
   "cell_type": "code",
   "execution_count": null,
   "id": "9a6ae803",
   "metadata": {},
   "outputs": [],
   "source": [
    "# Plot simulated output signals\n",
    "plot_simulation(session.compiled_experiment, 0, 10e-6)"
   ]
  },
  {
   "cell_type": "code",
   "execution_count": null,
   "id": "b941deda",
   "metadata": {},
   "outputs": [],
   "source": [
    "# plot measurement results\n",
    "plot_result_2d(my_results, \"ac_0\")"
   ]
  },
  {
   "cell_type": "code",
   "execution_count": null,
   "id": "46c830ba",
   "metadata": {},
   "outputs": [],
   "source": [
    "# use pulse sheet viewer to display the pulse sequence - only recommended for small number of averages and sweep steps to avoid performance issues\n",
    "show_pulse_sheet(\"Qubit Spectroscopy\", session.compiled_experiment)"
   ]
  },
  {
   "attachments": {},
   "cell_type": "markdown",
   "id": "38438dd2-6905-4f99-a556-bb27363c3a1f",
   "metadata": {},
   "source": [
    "## 3. Amplitude Rabi Experiment\n",
    "\n",
    "Sweep the pulse amplitude of a qubit drive pulse to determine the ideal amplitudes for specific qubit rotation angles."
   ]
  },
  {
   "attachments": {},
   "cell_type": "markdown",
   "id": "d068797e-1673-4a5b-93c2-c450e8c061ab",
   "metadata": {},
   "source": [
    "### 3.1 Define the Experiment"
   ]
  },
  {
   "cell_type": "code",
   "execution_count": null,
   "id": "b1dbdd2a",
   "metadata": {},
   "outputs": [],
   "source": [
    "## define pulses\n",
    "\n",
    "# qubit drive pulse - unit amplitude, but will be scaled with sweep parameter\n",
    "x90 = pulse_library.gaussian(uid=\"x90\", length=100e-9, amplitude=1.0)\n",
    "\n",
    "# readout drive pulse\n",
    "readout_pulse = pulse_library.const(uid=\"readout_pulse\", length=400e-9, amplitude=1.0)\n",
    "# readout integration weights\n",
    "readout_weighting_function = pulse_library.const(\n",
    "    uid=\"readout_weighting_function\", length=400e-9, amplitude=1.0\n",
    ")"
   ]
  },
  {
   "cell_type": "code",
   "execution_count": null,
   "id": "4b1deeb5",
   "metadata": {},
   "outputs": [],
   "source": [
    "# set up sweep parameter - drive amplitude\n",
    "start = 0.1\n",
    "stop = 1\n",
    "count = 10\n",
    "sweep_parameter = LinearSweepParameter(\n",
    "    uid=\"amplitude\", start=start, stop=stop, count=count\n",
    ")\n",
    "\n",
    "# number of averages\n",
    "average_exponent = 1  # used for 2^n averages, n=average_exponent, maximum: n = 17\n",
    "\n",
    "# Create Experiment\n",
    "exp = Experiment(\n",
    "    uid=\"Amplitude Rabi\",\n",
    "    signals=[\n",
    "        ExperimentSignal(\"drive\"),\n",
    "        ExperimentSignal(\"measure\"),\n",
    "        ExperimentSignal(\"acquire\"),\n",
    "    ],\n",
    ")\n",
    "## experimental pulse sequence\n",
    "# outer loop - real-time, cyclic averaging in standard integration mode\n",
    "with exp.acquire_loop_rt(\n",
    "    uid=\"shots\",\n",
    "    count=pow(2, average_exponent),\n",
    "    averaging_mode=AveragingMode.CYCLIC,\n",
    "    acquisition_type=AcquisitionType.INTEGRATION,\n",
    "):\n",
    "    # inner loop - real-time sweep of qubit drive pulse amplitude\n",
    "    with exp.sweep(\n",
    "        uid=\"sweep\", parameter=sweep_parameter, alignment=SectionAlignment.RIGHT\n",
    "    ):\n",
    "        # qubit excitation - pulse amplitude will be swept\n",
    "        with exp.section(uid=\"qubit_excitation\", alignment=SectionAlignment.RIGHT):\n",
    "            exp.play(signal=\"drive\", pulse=x90, amplitude=sweep_parameter)\n",
    "        # qubit readout pulse and data acquisition\n",
    "        with exp.section(uid=\"qubit_readout\", play_after=\"qubit_excitation\"):\n",
    "            # play readout pulse\n",
    "            exp.play(signal=\"measure\", pulse=readout_pulse)\n",
    "            # signal data acquisition\n",
    "            exp.acquire(\n",
    "                signal=\"acquire\",\n",
    "                handle=\"ac_0\",\n",
    "                kernel=readout_weighting_function,\n",
    "            )\n",
    "        # relax time after readout - for signal processing and qubit relaxation to ground state\n",
    "        with exp.section(uid=\"relax\", play_after=\"qubit_readout\"):\n",
    "            exp.delay(signal=\"measure\", time=1e-6)"
   ]
  },
  {
   "cell_type": "code",
   "execution_count": null,
   "id": "b10527ec",
   "metadata": {},
   "outputs": [],
   "source": [
    "def map_qubit(qubit_id):\n",
    "    return {\n",
    "        \"drive\": device_setup.logical_signal_groups[f\"q{qubit_id}\"].logical_signals[\n",
    "            \"drive_line\"\n",
    "        ],\n",
    "        \"measure\": device_setup.logical_signal_groups[f\"q{qubit_id}\"].logical_signals[\n",
    "            \"measure_line\"\n",
    "        ],\n",
    "        \"acquire\": device_setup.logical_signal_groups[f\"q{qubit_id}\"].logical_signals[\n",
    "            \"acquire_line\"\n",
    "        ],\n",
    "    }"
   ]
  },
  {
   "attachments": {},
   "cell_type": "markdown",
   "id": "7e485382-ccd1-4c32-8253-1f5e9e2ad127",
   "metadata": {},
   "source": [
    "### 3.2 Run the Experiment and Plot the Measurement Results and Pulse Sequence"
   ]
  },
  {
   "cell_type": "code",
   "execution_count": null,
   "id": "dc48e4a3",
   "metadata": {},
   "outputs": [],
   "source": [
    "# set signal map to qubit 0\n",
    "exp.set_signal_map(map_qubit(0))\n",
    "\n",
    "# create and connect to session\n",
    "session = Session(device_setup=device_setup)\n",
    "session.connect(do_emulation=use_emulation)\n",
    "\n",
    "# run experiment on qubit 0\n",
    "my_results = session.run(exp)"
   ]
  },
  {
   "cell_type": "code",
   "execution_count": null,
   "id": "225f0f78",
   "metadata": {},
   "outputs": [],
   "source": [
    "# Plot simulated output signals\n",
    "plot_simulation(session.compiled_experiment, 0, 10e-6)"
   ]
  },
  {
   "cell_type": "code",
   "execution_count": null,
   "id": "3c3cb2d3",
   "metadata": {},
   "outputs": [],
   "source": [
    "# plot measurement results\n",
    "plot_result_2d(my_results, \"ac_0\")"
   ]
  },
  {
   "cell_type": "code",
   "execution_count": null,
   "id": "71910b2b",
   "metadata": {},
   "outputs": [],
   "source": [
    "# use pulse sheet viewer to display the pulse sequence - only recommended for small number of averages and sweep steps to avoid performance issues\n",
    "show_pulse_sheet(\"Amplitude Rabi\", session.compiled_experiment)"
   ]
  },
  {
   "cell_type": "code",
   "execution_count": null,
   "id": "40402a2a",
   "metadata": {},
   "outputs": [],
   "source": [
    "# set signal map to qubit 1\n",
    "exp.set_signal_map(map_qubit(1))\n",
    "\n",
    "# create and connect to session\n",
    "session = Session(device_setup=device_setup)\n",
    "session.connect(do_emulation=use_emulation)\n",
    "\n",
    "# run experiment on qubit 1\n",
    "my_results = session.run(exp)"
   ]
  },
  {
   "attachments": {},
   "cell_type": "markdown",
   "id": "fe1dc6dc",
   "metadata": {},
   "source": [
    "## 4. Length Rabi Experiment\n",
    "\n",
    "Instead of sweeping the amplitude of the drive pulse as above, we can also sweep its length."
   ]
  },
  {
   "attachments": {},
   "cell_type": "markdown",
   "id": "c6ce2a16",
   "metadata": {},
   "source": [
    "### 4.1 Define the Experiment"
   ]
  },
  {
   "cell_type": "code",
   "execution_count": null,
   "id": "9ce99dbd",
   "metadata": {},
   "outputs": [],
   "source": [
    "## define pulses\n",
    "\n",
    "# qubit drive pulse - unit amplitude, but will be scaled with sweep parameter\n",
    "x90 = pulse_library.gaussian(uid=\"x90\", length=100e-9, amplitude=1.0)\n",
    "# readout drive pulse\n",
    "readout_pulse = pulse_library.const(uid=\"readout_pulse\", length=400e-9, amplitude=1.0)\n",
    "# readout integration weights\n",
    "readout_weighting_function = pulse_library.const(\n",
    "    uid=\"readout_weighting_function\", length=400e-9, amplitude=1.0\n",
    ")"
   ]
  },
  {
   "cell_type": "code",
   "execution_count": null,
   "id": "1bfb9964",
   "metadata": {},
   "outputs": [],
   "source": [
    "# set up sweep parameter - drive pulse length\n",
    "start = 30e-9\n",
    "stop = 200e-9\n",
    "count = 11\n",
    "length_sweep = LinearSweepParameter(uid=\"length\", start=start, stop=stop, count=count)\n",
    "\n",
    "# number of averages\n",
    "average_exponent = 1  # used for 2^n averages, n=average_exponent, maximum: n = 17\n",
    "\n",
    "# Create Experiment\n",
    "exp = Experiment(\n",
    "    uid=\"Length Rabi\",\n",
    "    signals=[\n",
    "        ExperimentSignal(\"drive\"),\n",
    "        ExperimentSignal(\"measure\"),\n",
    "        ExperimentSignal(\"acquire\"),\n",
    "    ],\n",
    ")\n",
    "## experimental pulse sequence\n",
    "# outer loop - real-time, cyclic averaging in standard integration mode\n",
    "with exp.acquire_loop_rt(\n",
    "    uid=\"shots\",\n",
    "    count=pow(2, average_exponent),\n",
    "    averaging_mode=AveragingMode.CYCLIC,\n",
    "    acquisition_type=AcquisitionType.INTEGRATION,\n",
    "    repetition_mode=RepetitionMode.AUTO,  # the compiler determines the optimal shot repetition rate\n",
    "):\n",
    "    # inner loop - real-time sweep of qubit drive pulse amplitude\n",
    "    with exp.sweep(\n",
    "        uid=\"sweep\", parameter=length_sweep, alignment=SectionAlignment.RIGHT\n",
    "    ):\n",
    "        # qubit excitation - pulse length will be swept\n",
    "        with exp.section(uid=\"qubit_excitation\", alignment=SectionAlignment.RIGHT):\n",
    "            exp.play(signal=\"drive\", pulse=x90, length=length_sweep)\n",
    "        # qubit readout pulse and data acquisition\n",
    "        with exp.section(uid=\"qubit_readout\", play_after=\"qubit_excitation\"):\n",
    "            # play readout pulse\n",
    "            exp.play(signal=\"measure\", pulse=readout_pulse)\n",
    "            # signal data acquisition\n",
    "            exp.acquire(\n",
    "                signal=\"acquire\",\n",
    "                handle=\"ac_0\",\n",
    "                kernel=readout_weighting_function,\n",
    "            )\n",
    "        # relax time after readout - for signal processing and qubit relaxation to ground state\n",
    "        with exp.section(uid=\"relax\", play_after=\"qubit_readout\"):\n",
    "            exp.delay(signal=\"measure\", time=1e-6)"
   ]
  },
  {
   "attachments": {},
   "cell_type": "markdown",
   "id": "c1155568",
   "metadata": {},
   "source": [
    "### 4.2 Run the Experiment and Plot the Measurement Results and Pulse Sequence"
   ]
  },
  {
   "cell_type": "code",
   "execution_count": null,
   "id": "20deffb6",
   "metadata": {},
   "outputs": [],
   "source": [
    "# set signal map to qubit 0\n",
    "exp.set_signal_map(map_qubit(0))\n",
    "\n",
    "# create and connect to session\n",
    "session = Session(device_setup=device_setup)\n",
    "session.connect(do_emulation=use_emulation)\n",
    "\n",
    "# run experiment on qubit 0\n",
    "my_results = session.run(exp)"
   ]
  },
  {
   "cell_type": "code",
   "execution_count": null,
   "id": "6aa08cad",
   "metadata": {},
   "outputs": [],
   "source": [
    "# Plot simulated output signals\n",
    "plot_simulation(session.compiled_experiment, 0, 10e-6)"
   ]
  },
  {
   "cell_type": "code",
   "execution_count": null,
   "id": "d361e8ca",
   "metadata": {},
   "outputs": [],
   "source": [
    "# plot measurement results\n",
    "plot_result_2d(my_results, \"ac_0\")"
   ]
  },
  {
   "cell_type": "code",
   "execution_count": null,
   "id": "b04622e1",
   "metadata": {},
   "outputs": [],
   "source": [
    "# use pulse sheet viewer to display the pulse sequence - only recommended for small number of averages and sweep steps to avoid performance issues\n",
    "show_pulse_sheet(\"Length Rabi\", session.compiled_experiment)"
   ]
  },
  {
   "cell_type": "code",
   "execution_count": null,
   "id": "b2d56028",
   "metadata": {},
   "outputs": [],
   "source": [
    "# set signal map to qubit 1\n",
    "exp.set_signal_map(map_qubit(1))\n",
    "\n",
    "# create and connect to session\n",
    "session = Session(device_setup=device_setup)\n",
    "session.connect(do_emulation=use_emulation)\n",
    "\n",
    "# run experiment on qubit 1\n",
    "my_results = session.run(exp)"
   ]
  },
  {
   "attachments": {},
   "cell_type": "markdown",
   "id": "f4a0f631-ec16-436b-9e38-fdb306ff052c",
   "metadata": {
    "tags": []
   },
   "source": [
    "## 5. Ramsey Experiment\n",
    "\n",
    "Sweep the delay between two slightly detuned pi/2 pulses to determine the qubit dephasing time as well as fine calibration its excited state frequency"
   ]
  },
  {
   "attachments": {},
   "cell_type": "markdown",
   "id": "ac0d5da7-7416-4f32-b3e8-0114efd383f7",
   "metadata": {},
   "source": [
    "### 5.1 Define the Experiment"
   ]
  },
  {
   "cell_type": "code",
   "execution_count": null,
   "id": "0dc0ba0a-bc2e-456f-a3d0-e03c1de52ec4",
   "metadata": {},
   "outputs": [],
   "source": [
    "## define pulses\n",
    "\n",
    "# qubit drive pulse - use amplitude calibrated by amplitude Rabi experiment\n",
    "x90 = pulse_library.gaussian(uid=\"x90\", length=100e-9, amplitude=0.66)\n",
    "# readout drive pulse\n",
    "readout_pulse = pulse_library.const(uid=\"readout_pulse\", length=400e-9, amplitude=1.0)\n",
    "# readout integration weights\n",
    "readout_weighting_function = pulse_library.const(\n",
    "    uid=\"readout_weighting_function\", length=400e-9, amplitude=1.0\n",
    ")"
   ]
  },
  {
   "cell_type": "code",
   "execution_count": null,
   "id": "3d1cbd3d",
   "metadata": {
    "tags": []
   },
   "outputs": [],
   "source": [
    "# set up sweep parameter - delay between pi/2 pulses\n",
    "start = 0.0\n",
    "stop = 1000e-9\n",
    "count = 10\n",
    "\n",
    "delay_sweep = LinearSweepParameter(uid=\"delay\", start=start, stop=stop, count=count)\n",
    "\n",
    "# number of averages\n",
    "average_exponent = 1  # used for 2^n averages, n=average_exponent, maximum: n = 17\n",
    "\n",
    "# Create Experiment\n",
    "exp = Experiment(\n",
    "    uid=\"Ramsey\",\n",
    "    signals=[\n",
    "        ExperimentSignal(\"drive\"),\n",
    "        ExperimentSignal(\"measure\"),\n",
    "        ExperimentSignal(\"acquire\"),\n",
    "    ],\n",
    ")\n",
    "## experimental pulse sequence\n",
    "# outer loop - real-time, cyclic averaging in standard integration mode\n",
    "with exp.acquire_loop_rt(\n",
    "    uid=\"shots\",\n",
    "    count=pow(2, average_exponent),\n",
    "    averaging_mode=AveragingMode.CYCLIC,\n",
    "    acquisition_type=AcquisitionType.INTEGRATION,\n",
    "):\n",
    "    # inner loop - real-time sweep over delay between qubit pulses\n",
    "    with exp.sweep(\n",
    "        uid=\"sweep\", parameter=delay_sweep, alignment=SectionAlignment.RIGHT\n",
    "    ):\n",
    "        # qubit drive pulses - use right-aligned, constant length section to optimize overall experimental sequence\n",
    "        # another way of implementation with a right-aligned sweep section and repetition time AUTO is shown in T1 experiment below\n",
    "        with exp.section(\n",
    "            uid=\"qubit_excitation\",\n",
    "            length=stop + 2 * x90.length,\n",
    "            alignment=SectionAlignment.RIGHT,\n",
    "        ):\n",
    "            exp.play(signal=\"drive\", pulse=x90)\n",
    "            exp.delay(signal=\"drive\", time=delay_sweep)\n",
    "            exp.play(signal=\"drive\", pulse=x90)\n",
    "        # qubit readout pulse and data acquisition\n",
    "        with exp.section(uid=\"qubit_readout\", play_after=\"qubit_excitation\"):\n",
    "            # play readout pulse\n",
    "            exp.play(signal=\"measure\", pulse=readout_pulse)\n",
    "            # signal data acquisition\n",
    "            exp.acquire(\n",
    "                signal=\"acquire\",\n",
    "                handle=\"ac_0\",\n",
    "                kernel=readout_weighting_function,\n",
    "            )\n",
    "        # relax time after readout - for signal processing and qubit relaxation to ground state\n",
    "        with exp.section(uid=\"relax\", play_after=\"qubit_readout\"):\n",
    "            exp.delay(signal=\"measure\", time=1e-6)"
   ]
  },
  {
   "cell_type": "code",
   "execution_count": null,
   "id": "4cae7fb5",
   "metadata": {},
   "outputs": [],
   "source": [
    "# define signal maps for qubit 0\n",
    "map_q0 = {\n",
    "    \"drive\": device_setup.logical_signal_groups[\"q0\"].logical_signals[\"drive_line\"],\n",
    "    \"measure\": device_setup.logical_signal_groups[\"q0\"].logical_signals[\"measure_line\"],\n",
    "    \"acquire\": device_setup.logical_signal_groups[\"q0\"].logical_signals[\"acquire_line\"],\n",
    "}"
   ]
  },
  {
   "attachments": {},
   "cell_type": "markdown",
   "id": "cd97d37a-c3d9-480a-94ed-568bc237bd64",
   "metadata": {},
   "source": [
    "### 5.2 Run the Experiment and Plot the Measurement Results and Pulse Sequence"
   ]
  },
  {
   "cell_type": "code",
   "execution_count": null,
   "id": "478636d8-c4f3-4a6d-b601-a56316735386",
   "metadata": {},
   "outputs": [],
   "source": [
    "# map exp to qubit 0\n",
    "exp.set_signal_map(map_qubit(0))\n",
    "\n",
    "# create and connect to session\n",
    "session = Session(device_setup=device_setup)\n",
    "session.connect(do_emulation=use_emulation)\n",
    "\n",
    "# run on qubit 0\n",
    "my_results = session.run(exp)"
   ]
  },
  {
   "cell_type": "code",
   "execution_count": null,
   "id": "ac624ae7",
   "metadata": {},
   "outputs": [],
   "source": [
    "# Plot simulated output signals\n",
    "plot_simulation(session.compiled_experiment, 0, 10e-6)"
   ]
  },
  {
   "cell_type": "code",
   "execution_count": null,
   "id": "13fbc2fe",
   "metadata": {},
   "outputs": [],
   "source": [
    "# plot measurement results\n",
    "plot_result_2d(my_results, \"ac_0\")"
   ]
  },
  {
   "cell_type": "code",
   "execution_count": null,
   "id": "0c71bb6c",
   "metadata": {},
   "outputs": [],
   "source": [
    "# use pulse sheet viewer to display the pulse sequence - only recommended for small number of averages and sweep steps to avoid performance issues\n",
    "show_pulse_sheet(\"Ramsey\", session.compiled_experiment)"
   ]
  },
  {
   "cell_type": "code",
   "execution_count": null,
   "id": "dc032a14",
   "metadata": {},
   "outputs": [],
   "source": [
    "# map exp to qubit 1\n",
    "exp.set_signal_map(map_qubit(1))\n",
    "\n",
    "# create and connect to session\n",
    "session = Session(device_setup=device_setup)\n",
    "session.connect(do_emulation=use_emulation)\n",
    "\n",
    "# run on qubit 1\n",
    "my_results = session.run(exp)"
   ]
  },
  {
   "attachments": {},
   "cell_type": "markdown",
   "id": "ce742ecc-02f5-4dc5-9044-5fbbbc2c5698",
   "metadata": {
    "tags": []
   },
   "source": [
    "## 6. T1 Experiment\n",
    "\n",
    "Sweep the delay between a qubit excitation pulse and the readout to measure the energy relaxation time of the qubit"
   ]
  },
  {
   "attachments": {},
   "cell_type": "markdown",
   "id": "76f8bebd-da55-487e-b290-9dc15f495678",
   "metadata": {},
   "source": [
    "### 6.1 Define the Experiment"
   ]
  },
  {
   "cell_type": "code",
   "execution_count": null,
   "id": "854c9b93",
   "metadata": {},
   "outputs": [],
   "source": [
    "## define pulses\n",
    "\n",
    "# qubit drive pulse - use amplitude calibrated by amplitude Rabi experiment\n",
    "x180 = pulse_library.gaussian(uid=\"x180\", length=100e-9, amplitude=0.66)\n",
    "# readout drive pulse\n",
    "readout_pulse = pulse_library.const(uid=\"readout_pulse\", length=400e-9, amplitude=1.0)\n",
    "# readout integration weights\n",
    "readout_weighting_function = pulse_library.const(\n",
    "    uid=\"readout_weighting_function\", length=400e-9, amplitude=1.0\n",
    ")"
   ]
  },
  {
   "cell_type": "code",
   "execution_count": null,
   "id": "f3f974fb",
   "metadata": {},
   "outputs": [],
   "source": [
    "# sweep parameter - delay before readout / after pi pulse\n",
    "count = 11\n",
    "start = 0\n",
    "stop = 1e-6\n",
    "delay_sweep = LinearSweepParameter(uid=\"delay\", start=start, stop=stop, count=count)\n",
    "\n",
    "# number of averages\n",
    "average_exponent = 4  # used for 2^n averages, n=average_exponent, maximum: n = 17\n",
    "\n",
    "# Create Experiment\n",
    "exp = Experiment(\n",
    "    uid=\"T1 experiment\",\n",
    "    signals=[\n",
    "        ExperimentSignal(\"drive\"),\n",
    "        ExperimentSignal(\"measure\"),\n",
    "        ExperimentSignal(\"acquire\"),\n",
    "    ],\n",
    ")\n",
    "## experimental pulse sequence\n",
    "# outer loop - real-time, cyclic averaging in standard integration mode\n",
    "with exp.acquire_loop_rt(\n",
    "    uid=\"shots\",\n",
    "    count=pow(2, average_exponent),\n",
    "    averaging_mode=AveragingMode.CYCLIC,\n",
    "    acquisition_type=AcquisitionType.INTEGRATION,\n",
    "    repetition_mode=RepetitionMode.AUTO,  # compiler sets repetition time to shortest possible constant time\n",
    "):\n",
    "    # inner loop - sweep over delay between qubit excitation and readout pulse\n",
    "    # right alignment makes sure the readout section follows a fixed timing, being the last element in each shot\n",
    "    with exp.sweep(\n",
    "        uid=\"sweep\", parameter=delay_sweep, alignment=SectionAlignment.RIGHT\n",
    "    ):\n",
    "        # qubit drive pulse followed by variable delay\n",
    "        with exp.section(uid=\"qubit_excitation\", alignment=SectionAlignment.RIGHT):\n",
    "            exp.play(signal=\"drive\", pulse=x180)\n",
    "            exp.delay(signal=\"drive\", time=delay_sweep)\n",
    "        # qubit readout pulse and data acquisition\n",
    "        with exp.section(uid=\"qubit_readout\", play_after=\"qubit_excitation\"):\n",
    "            # play readout pulse\n",
    "            exp.play(signal=\"measure\", pulse=readout_pulse)\n",
    "            # signal data acquisition\n",
    "            exp.acquire(\n",
    "                signal=\"acquire\",\n",
    "                handle=\"ac_0\",\n",
    "                kernel=readout_weighting_function,\n",
    "            )\n",
    "        # relax time after readout - for signal processing and qubit relaxation to ground state\n",
    "        with exp.section(uid=\"relax\", play_after=\"qubit_readout\"):\n",
    "            exp.delay(signal=\"measure\", time=1e-6)"
   ]
  },
  {
   "cell_type": "code",
   "execution_count": null,
   "id": "51b9e15f",
   "metadata": {},
   "outputs": [],
   "source": [
    "# define signal maps for qubit 0\n",
    "map_q0 = {\n",
    "    \"drive\": device_setup.logical_signal_groups[\"q0\"].logical_signals[\"drive_line\"],\n",
    "    \"measure\": device_setup.logical_signal_groups[\"q0\"].logical_signals[\"measure_line\"],\n",
    "    \"acquire\": device_setup.logical_signal_groups[\"q0\"].logical_signals[\"acquire_line\"],\n",
    "}"
   ]
  },
  {
   "attachments": {},
   "cell_type": "markdown",
   "id": "62b0e602-da60-468b-ae92-64ecc8fcc4c0",
   "metadata": {},
   "source": [
    "### 6.2 Run the Experiment and Plot the Measurement Results and Pulse Sequence"
   ]
  },
  {
   "cell_type": "code",
   "execution_count": null,
   "id": "794f06be-5a6f-4425-b678-a59c8b1ab593",
   "metadata": {},
   "outputs": [],
   "source": [
    "# map exp to qubit 0\n",
    "exp.set_signal_map(map_qubit(0))\n",
    "\n",
    "# create and connect to session\n",
    "session = Session(device_setup=device_setup)\n",
    "session.connect(do_emulation=use_emulation)\n",
    "\n",
    "# run on qubit 0\n",
    "my_results = session.run(exp)"
   ]
  },
  {
   "cell_type": "code",
   "execution_count": null,
   "id": "707f46b2",
   "metadata": {},
   "outputs": [],
   "source": [
    "# Plot simulated output signals\n",
    "plot_simulation(session.compiled_experiment, 0, 10e-6)"
   ]
  },
  {
   "cell_type": "code",
   "execution_count": null,
   "id": "afae69e0",
   "metadata": {},
   "outputs": [],
   "source": [
    "# plot measurement results\n",
    "plot_result_2d(my_results, \"ac_0\")"
   ]
  },
  {
   "cell_type": "code",
   "execution_count": null,
   "id": "91baa7a5",
   "metadata": {},
   "outputs": [],
   "source": [
    "# use pulse sheet viewer to display the pulse sequence - only recommended for small number of averages and sweep steps to avoid performance issues\n",
    "show_pulse_sheet(\"T1\", session.compiled_experiment)"
   ]
  },
  {
   "cell_type": "code",
   "execution_count": null,
   "id": "15ceb7aa",
   "metadata": {},
   "outputs": [],
   "source": [
    "# map exp to qubit 1\n",
    "exp.set_signal_map(map_qubit(1))\n",
    "\n",
    "# create and connect to session\n",
    "session = Session(device_setup=device_setup)\n",
    "session.connect(do_emulation=use_emulation)\n",
    "\n",
    "# run on qubit 1\n",
    "my_results = session.run(exp)"
   ]
  },
  {
   "attachments": {},
   "cell_type": "markdown",
   "id": "75eb03f9-bf90-4f5c-a12b-f86b73872c22",
   "metadata": {
    "tags": []
   },
   "source": [
    "## 7. Ramsey with Sampled Pulse Definition\n",
    "\n",
    "Sweep the delay between two slightly detuned pi/2 pulses to determine the qubit dephasing time as well as fine calibration its excited state frequency.\n",
    "\n",
    "Here use a user defined pulse, given as complex valued numpy array."
   ]
  },
  {
   "attachments": {},
   "cell_type": "markdown",
   "id": "f5982a0b-1c39-40bc-993e-7df9af3eb013",
   "metadata": {},
   "source": [
    "### 7.1 Pulse definition"
   ]
  },
  {
   "cell_type": "code",
   "execution_count": null,
   "id": "8b05ae3a",
   "metadata": {},
   "outputs": [],
   "source": [
    "## define pulses\n",
    "drive_sampling_rate = 2.0e9  # A setup consisting of SHF instruments and HDAWGs has a sampling rate of 2 GSa/s\n",
    "\n",
    "# qubit drive pulse as sampled complex pulse\n",
    "x90_length = 100e-9\n",
    "num_samples = round((x90_length * drive_sampling_rate))\n",
    "samples_complex = np.transpose(\n",
    "    np.array(\n",
    "        [\n",
    "            np.arange(num_samples) * (1 / num_samples),\n",
    "            np.arange(num_samples) * (1 / num_samples),\n",
    "        ]\n",
    "    )\n",
    ")\n",
    "\n",
    "x90 = pulse_library.sampled_pulse_complex(samples=samples_complex, uid=\"x90\")\n",
    "# readout drive pulse\n",
    "readout_pulse = pulse_library.const(uid=\"readout_pulse\", length=400e-9, amplitude=1.0)\n",
    "# readout integration weights\n",
    "readout_weighting_function = pulse_library.const(\n",
    "    uid=\"readout_weighting_function\", length=200e-9, amplitude=1.0\n",
    ")"
   ]
  },
  {
   "attachments": {},
   "cell_type": "markdown",
   "id": "0dcbc56d-20e2-4622-b7df-d7886e187cc8",
   "metadata": {},
   "source": [
    "### 7.2 Define the Experiment"
   ]
  },
  {
   "cell_type": "code",
   "execution_count": null,
   "id": "2d68fc64",
   "metadata": {},
   "outputs": [],
   "source": [
    "# set up sweep parameter - delay between pi/2 pulses\n",
    "start = 0.0\n",
    "stop = 1000e-9\n",
    "count = 11\n",
    "\n",
    "delay_sweep = LinearSweepParameter(uid=\"delay\", start=start, stop=stop, count=count)\n",
    "\n",
    "# number of averages\n",
    "average_exponent = 1  # used for 2^n averages, n=average_exponent, maximum: n = 17\n",
    "\n",
    "# Create Experiment\n",
    "exp = Experiment(\n",
    "    uid=\"Ramsey\",\n",
    "    signals=[\n",
    "        ExperimentSignal(\"drive\"),\n",
    "        ExperimentSignal(\"measure\"),\n",
    "        ExperimentSignal(\"acquire\"),\n",
    "    ],\n",
    ")\n",
    "## experimental sequence\n",
    "# outer loop - real-time, cyclic averaging in standard integration mode\n",
    "with exp.acquire_loop_rt(\n",
    "    uid=\"shots\",\n",
    "    count=pow(2, average_exponent),\n",
    "    averaging_mode=AveragingMode.CYCLIC,\n",
    "    acquisition_type=AcquisitionType.INTEGRATION,\n",
    "):\n",
    "    # inner loop - sweep over delay between qubit drive pulses\n",
    "    with exp.sweep(\n",
    "        uid=\"sweep\", parameter=delay_sweep, alignment=SectionAlignment.RIGHT\n",
    "    ):\n",
    "        # qubit excitation pulses - use right-aligned, constant length section to optimize pulse timings\n",
    "        with exp.section(\n",
    "            uid=\"qubit_excitation\",\n",
    "            length=stop + 2 * x90_length,\n",
    "            alignment=SectionAlignment.RIGHT,\n",
    "        ):\n",
    "            exp.play(signal=\"drive\", pulse=x90)\n",
    "            exp.delay(signal=\"drive\", time=delay_sweep)\n",
    "            exp.play(signal=\"drive\", pulse=x90)\n",
    "        # qubit readout pulse and data acquisition\n",
    "        with exp.section(uid=\"qubit_readout\", play_after=\"qubit_excitation\"):\n",
    "            # play readout pulse\n",
    "            exp.play(signal=\"measure\", pulse=readout_pulse)\n",
    "            # signal data acquisition\n",
    "            exp.acquire(\n",
    "                signal=\"acquire\",\n",
    "                handle=\"ac_0\",\n",
    "                kernel=readout_weighting_function,\n",
    "            )\n",
    "        # relax time after readout - for signal processing and qubit relaxation to ground state\n",
    "        with exp.section(uid=\"relax\", play_after=\"qubit_readout\"):\n",
    "            exp.delay(signal=\"measure\", time=1e-6)"
   ]
  },
  {
   "attachments": {},
   "cell_type": "markdown",
   "id": "07957303-15c0-4251-9783-ea3ccd31dfb6",
   "metadata": {},
   "source": [
    "###  7.3 Run the Experiment and Plot the Measurement Results and Pulse Sequence"
   ]
  },
  {
   "cell_type": "code",
   "execution_count": null,
   "id": "2a7e25cb",
   "metadata": {},
   "outputs": [],
   "source": [
    "# map exp to qubit 0\n",
    "exp.set_signal_map(map_qubit(0))\n",
    "\n",
    "# create and connect to session\n",
    "session = Session(device_setup=device_setup)\n",
    "session.connect(do_emulation=use_emulation)\n",
    "\n",
    "# run on qubit 0\n",
    "my_results = session.run(exp)"
   ]
  },
  {
   "cell_type": "code",
   "execution_count": null,
   "id": "89cdc818",
   "metadata": {},
   "outputs": [],
   "source": [
    "# Plot simulated output signals\n",
    "plot_simulation(session.compiled_experiment, 0, 10e-6)"
   ]
  },
  {
   "cell_type": "code",
   "execution_count": null,
   "id": "4c177489",
   "metadata": {},
   "outputs": [],
   "source": [
    "# plot measurement results\n",
    "plot_result_2d(my_results, \"ac_0\")"
   ]
  },
  {
   "cell_type": "code",
   "execution_count": null,
   "id": "084f4c90",
   "metadata": {},
   "outputs": [],
   "source": [
    "# use pulse sheet viewer to display the pulse sequence - only recommended for small number of averages and sweep steps to avoid performance issues\n",
    "show_pulse_sheet(\"T1\", session.compiled_experiment)"
   ]
  },
  {
   "cell_type": "code",
   "execution_count": null,
   "id": "bbf6729d",
   "metadata": {},
   "outputs": [],
   "source": [
    "# map exp to qubit 1\n",
    "exp.set_signal_map(map_qubit(1))\n",
    "\n",
    "# create and connect to session\n",
    "session = Session(device_setup=device_setup)\n",
    "session.connect(do_emulation=use_emulation)\n",
    "\n",
    "# run on qubit 1\n",
    "my_results = session.run(exp)"
   ]
  },
  {
   "attachments": {},
   "cell_type": "markdown",
   "id": "e3e6f040-090c-48ed-9822-8897636ff850",
   "metadata": {},
   "source": [
    "## 8. Pulsed Qubit Spectroscopy for Flux-Dependent Qubit\n",
    "\n",
    "Determine the flux-dependent resonance frequency of a qubit by investigating the change in resonator transmission when sweeping the frequency of a qubit excitation pulse"
   ]
  },
  {
   "attachments": {},
   "cell_type": "markdown",
   "id": "be8430c9-7c2b-4ef5-ba50-805b66c197b2",
   "metadata": {},
   "source": [
    "### 8.1 Define the Experiment"
   ]
  },
  {
   "cell_type": "code",
   "execution_count": null,
   "id": "dc70073c-413a-4314-b84e-dd092f5698b1",
   "metadata": {},
   "outputs": [],
   "source": [
    "## define pulses\n",
    "\n",
    "# flux pulse - applied during whole experimental pulse sequence\n",
    "const_flux = pulse_library.const(uid=\"const_flux\", length=600e-9, amplitude=1.0)\n",
    "# qubit drive pulse\n",
    "const_iq_100ns = pulse_library.const(uid=\"const_iq_100ns\", length=100e-9, amplitude=1.0)\n",
    "# readout drive pulse\n",
    "readout_pulse = pulse_library.const(uid=\"readout_pulse\", length=400e-9, amplitude=1.0)\n",
    "# readout weights for integration\n",
    "readout_weighting_function = pulse_library.const(\n",
    "    uid=\"readout_weighting_function\", length=400e-9, amplitude=1.0\n",
    ")"
   ]
  },
  {
   "cell_type": "code",
   "execution_count": null,
   "id": "9a935a2c-c4b7-41dd-befb-a5a63c4d362f",
   "metadata": {},
   "outputs": [],
   "source": [
    "# define sweep parameter - sweep over the frequency of a qubit excitation pulse\n",
    "start = 40e6\n",
    "stop = 200e6\n",
    "count = 11\n",
    "\n",
    "freq_sweep = LinearSweepParameter(uid=\"freq-qubit\", start=start, stop=stop, count=count)\n",
    "\n",
    "# Second sweep: Amplitude of the flux pulsed\n",
    "flux_count = 21\n",
    "\n",
    "flux_sweep = LinearSweepParameter(uid=\"flux_qubit\", start=0, stop=1, count=flux_count)\n",
    "\n",
    "# define number of averages\n",
    "average_exponent = 4  # used for 2^n averages, n=average_exponent, maximum: n = 17"
   ]
  },
  {
   "cell_type": "code",
   "execution_count": null,
   "id": "81d99b05",
   "metadata": {},
   "outputs": [],
   "source": [
    "# Create Experiment - no explicit mapping to qubit lines\n",
    "exp = Experiment(\n",
    "    uid=\"Qubit Flux Spectroscopy\",\n",
    "    signals=[\n",
    "        ExperimentSignal(\"flux\"),\n",
    "        ExperimentSignal(\"drive\"),\n",
    "        ExperimentSignal(\"measure\"),\n",
    "        ExperimentSignal(\"acquire\"),\n",
    "    ],\n",
    ")\n",
    "## experimental pulse sequence\n",
    "with exp.acquire_loop_rt(\n",
    "    uid=\"shots\",\n",
    "    count=pow(2, average_exponent),\n",
    "    averaging_mode=AveragingMode.CYCLIC,\n",
    "    acquisition_type=AcquisitionType.INTEGRATION,\n",
    "):\n",
    "    with exp.sweep(uid=\"sweep\", parameter=freq_sweep):\n",
    "        # inner loop - real-time, sequential averaging in standard integration mode\n",
    "        # inner loop - adjust flux bias to qubit\n",
    "        with exp.sweep(uid=\"flux_sweep\", parameter=flux_sweep):\n",
    "            with exp.section(uid=\"flux bias\"):\n",
    "                exp.play(signal=\"flux\", pulse=const_flux, amplitude=flux_sweep)\n",
    "            # qubit excitation pulse - frequency will be swept\n",
    "            with exp.section(uid=\"qubit_excitation\"):\n",
    "                # allow for transients to settle\n",
    "                exp.delay(signal=\"drive\", time=100e-9)\n",
    "                # play excitation pulse\n",
    "                exp.play(signal=\"drive\", pulse=const_iq_100ns)\n",
    "            # readout and data acquisition\n",
    "            with exp.section(uid=\"qubit_readout\", play_after=\"qubit_excitation\"):\n",
    "                # play readout pulse\n",
    "                exp.play(signal=\"measure\", pulse=readout_pulse)\n",
    "                # signal data acquisition\n",
    "                exp.acquire(\n",
    "                    signal=\"acquire\",\n",
    "                    handle=\"ac_0\",\n",
    "                    kernel=readout_weighting_function,\n",
    "                )\n",
    "            # relax time after readout - for signal processing and qubit relaxation to ground state\n",
    "            with exp.section(uid=\"relax\", play_after=\"qubit_readout\"):\n",
    "                exp.delay(signal=\"measure\", time=1e-6)"
   ]
  },
  {
   "cell_type": "code",
   "execution_count": null,
   "id": "2fc447da-e023-40ae-84e0-7226d7de0b97",
   "metadata": {},
   "outputs": [],
   "source": [
    "# define experiment calibration - sweep over qubit drive frequency\n",
    "exp_calib = Calibration()\n",
    "exp_calib[\"drive\"] = SignalCalibration(\n",
    "    oscillator=Oscillator(\n",
    "        frequency=freq_sweep,\n",
    "        modulation_type=ModulationType.HARDWARE,\n",
    "    )\n",
    ")\n",
    "\n",
    "\n",
    "def map_qubit(qubit_id):\n",
    "    return {\n",
    "        \"flux\": device_setup.logical_signal_groups[f\"q{qubit_id}\"].logical_signals[\n",
    "            \"flux_line\"\n",
    "        ],\n",
    "        \"drive\": device_setup.logical_signal_groups[f\"q{qubit_id}\"].logical_signals[\n",
    "            \"drive_line\"\n",
    "        ],\n",
    "        \"measure\": device_setup.logical_signal_groups[f\"q{qubit_id}\"].logical_signals[\n",
    "            \"measure_line\"\n",
    "        ],\n",
    "        \"acquire\": device_setup.logical_signal_groups[f\"q{qubit_id}\"].logical_signals[\n",
    "            \"acquire_line\"\n",
    "        ],\n",
    "    }"
   ]
  },
  {
   "attachments": {},
   "cell_type": "markdown",
   "id": "3a6f57de-d25c-4c12-9c29-072c3b75b88d",
   "metadata": {},
   "source": [
    "### 8.2 Run the Experiment and Plot the Measurement Results and Pulse Sequence"
   ]
  },
  {
   "cell_type": "code",
   "execution_count": null,
   "id": "468a5aab-a529-400a-94e6-f1137374cc78",
   "metadata": {},
   "outputs": [],
   "source": [
    "# set calibration and signal map for qubit 0\n",
    "exp.set_calibration(exp_calib)\n",
    "exp.set_signal_map(map_qubit(0))\n",
    "\n",
    "# create a session and connect to it\n",
    "session = Session(device_setup=device_setup)\n",
    "session.connect(do_emulation=use_emulation)\n",
    "\n",
    "# run experiment on qubit 0\n",
    "my_results = session.run(exp)"
   ]
  },
  {
   "cell_type": "code",
   "execution_count": null,
   "id": "aafef5bb",
   "metadata": {},
   "outputs": [],
   "source": [
    "# Plot simulated output signals\n",
    "plot_simulation(session.compiled_experiment, 0, 10e-6)"
   ]
  },
  {
   "cell_type": "code",
   "execution_count": null,
   "id": "f8e6837a-64c3-4387-8d47-38a7f28fc05c",
   "metadata": {},
   "outputs": [],
   "source": [
    "# plot measurement results\n",
    "plot_result_3d(my_results, \"ac_0\")"
   ]
  },
  {
   "cell_type": "code",
   "execution_count": null,
   "id": "57b152bc-7460-4c33-94c5-8af99ff3c4ec",
   "metadata": {},
   "outputs": [],
   "source": [
    "# use pulse sheet viewer to display the pulse sequence - only recommended for small number of averages and sweep steps to avoid performance issues\n",
    "show_pulse_sheet(\"Qubit Flux Spectroscopy\", session.compiled_experiment)"
   ]
  },
  {
   "cell_type": "code",
   "execution_count": null,
   "id": "28d6c3c7",
   "metadata": {},
   "outputs": [],
   "source": [
    "# set calibration and signal map for qubit 1\n",
    "exp.set_calibration(exp_calib)\n",
    "exp.set_signal_map(map_qubit(1))\n",
    "\n",
    "# create a session and connect to it\n",
    "session = Session(device_setup=device_setup)\n",
    "session.connect(do_emulation=use_emulation)\n",
    "\n",
    "# run experiment on qubit 1\n",
    "my_results = session.run(exp)"
   ]
  },
  {
   "attachments": {},
   "cell_type": "markdown",
   "id": "f6ead121",
   "metadata": {},
   "source": [
    "## 9. Flux-Scope Experiment\n",
    "\n",
    "Experiment to characterise the distortions of flux pulses due to the imperfect signal lines, following chapter 4.4.3 in https://www.research-collection.ethz.ch/handle/20.500.11850/153681"
   ]
  },
  {
   "attachments": {},
   "cell_type": "markdown",
   "id": "7afbdca5",
   "metadata": {},
   "source": [
    "### 9.1 Define the Experiment"
   ]
  },
  {
   "cell_type": "code",
   "execution_count": null,
   "id": "6e76d60e",
   "metadata": {},
   "outputs": [],
   "source": [
    "# Pulse definitions\n",
    "\n",
    "# qubit excitation pulse - amplitude such that if pulse is resonant, results in pi rotation\n",
    "x180 = pulse_library.gaussian(uid=\"x180\", length=20e-9, amplitude=0.66)\n",
    "\n",
    "# flux pulse - constant length and amplitude\n",
    "flux_pulse = pulse_library.const(uid=\"flux_pulse\", length=400e-9, amplitude=0.5)\n",
    "\n",
    "# readout drive pulse\n",
    "readout_pulse = pulse_library.const(uid=\"readout_pulse\", length=250e-9, amplitude=1.0)\n",
    "# readout weights for integration\n",
    "readout_weighting_function = pulse_library.const(\n",
    "    uid=\"readout_weighting_function\", length=200e-9, amplitude=1.0\n",
    ")\n",
    "\n",
    "# assuming all calibration settings are already correct"
   ]
  },
  {
   "cell_type": "code",
   "execution_count": null,
   "id": "929a268b",
   "metadata": {},
   "outputs": [],
   "source": [
    "# define sweep parameters\n",
    "\n",
    "# qubit excitation pulse frequency sweep\n",
    "start_freq = 40e6\n",
    "stop_freq = 200e6\n",
    "count_freq = 11\n",
    "\n",
    "sweep_frequency = LinearSweepParameter(\n",
    "    uid=\"freq-qubit\", start=start_freq, stop=stop_freq, count=count_freq\n",
    ")\n",
    "\n",
    "# sweep delay between start of flux pulse and start of qubit excitation pulse\n",
    "start_delay = 0\n",
    "stop_delay = flux_pulse.length - x180.length\n",
    "count_delay = 11\n",
    "\n",
    "sweep_delay = LinearSweepParameter(\n",
    "    uid=\"delay\", start=start_delay, stop=stop_delay, count=count_delay\n",
    ")\n",
    "\n",
    "# define number of averages\n",
    "average_exponent = 10  # used for 2^n averages, n=average_exponent, maximum: n = 19"
   ]
  },
  {
   "cell_type": "code",
   "execution_count": null,
   "id": "701cd1b3",
   "metadata": {},
   "outputs": [],
   "source": [
    "# Create Experiment\n",
    "exp = Experiment(\n",
    "    \"Flux Scope\",\n",
    "    signals=[\n",
    "        ExperimentSignal(\"drive\"),\n",
    "        ExperimentSignal(\"flux\"),\n",
    "        ExperimentSignal(\"measure\"),\n",
    "        ExperimentSignal(\"acquire\"),\n",
    "    ],\n",
    ")\n",
    "\n",
    "## experimental pulse sequence\n",
    "# outer sweep - qubit excitation frequency\n",
    "\n",
    "# real-time acquisition loop in integration mode\n",
    "with exp.acquire_loop_rt(\n",
    "    uid=\"shots\",\n",
    "    count=pow(2, average_exponent),\n",
    "    averaging_mode=AveragingMode.CYCLIC,\n",
    "    acquisition_type=AcquisitionType.INTEGRATION,\n",
    "):\n",
    "    with exp.sweep(uid=\"frequency_sweep\", parameter=sweep_frequency):\n",
    "        # inner sweep - delay between start of qubit excitation pulse and start of flux pulse\n",
    "        with exp.sweep(uid=\"sweep\", parameter=sweep_delay):\n",
    "            # flux pulse\n",
    "            with exp.section(uid=\"qubit_excitation\"):\n",
    "                exp.play(signal=\"flux\", pulse=flux_pulse)  # qubit detuning\n",
    "                exp.delay(signal=\"drive\", time=sweep_delay)  # delay is swept\n",
    "                exp.play(signal=\"drive\", pulse=x180)  # qubit excitation\n",
    "            # readout and data acquisition\n",
    "            with exp.section(uid=\"qubit_readout\", play_after=\"qubit_excitation\"):\n",
    "                exp.play(signal=\"measure\", pulse=readout_pulse)\n",
    "                exp.acquire(\n",
    "                    signal=\"acquire\",\n",
    "                    handle=\"ac_0\",\n",
    "                    kernel=readout_weighting_function,\n",
    "                )\n",
    "            # relax time after readout - for signal processing and qubit relaxation to ground state\n",
    "            with exp.section(uid=\"relax\", play_after=\"qubit_readout\"):\n",
    "                exp.delay(signal=\"measure\", time=1e-6)"
   ]
  },
  {
   "attachments": {},
   "cell_type": "markdown",
   "id": "2c4a02bc-a500-4acd-a5b0-d8ed4302bec0",
   "metadata": {},
   "source": [
    "### 9.2 Run the Experiment and Plot the Measurement Results and Pulse Sequence"
   ]
  },
  {
   "cell_type": "code",
   "execution_count": null,
   "id": "3e20c471-a819-4b58-8616-a9f987affd84",
   "metadata": {},
   "outputs": [],
   "source": [
    "# set calibration and signal map for qubit 0\n",
    "exp.set_calibration(exp_calib)\n",
    "exp.set_signal_map(map_qubit(0))\n",
    "\n",
    "# create a session and connect to it\n",
    "session = Session(device_setup=device_setup)\n",
    "session.connect(do_emulation=use_emulation)\n",
    "\n",
    "# run experiment on qubit 0\n",
    "my_results = session.run(exp)"
   ]
  },
  {
   "cell_type": "code",
   "execution_count": null,
   "id": "80af8a70",
   "metadata": {},
   "outputs": [],
   "source": [
    "# Plot simulated output signals\n",
    "plot_simulation(session.compiled_experiment, 0, 10e-6)"
   ]
  },
  {
   "cell_type": "code",
   "execution_count": null,
   "id": "8b89154f-b2bd-4cf9-8450-3908372618ed",
   "metadata": {},
   "outputs": [],
   "source": [
    "# plot measurement results\n",
    "plot_result_3d(my_results, \"ac_0\")"
   ]
  },
  {
   "cell_type": "code",
   "execution_count": null,
   "id": "a8c5a5fe-4a30-4922-94ad-1ff9bffe5b05",
   "metadata": {},
   "outputs": [],
   "source": [
    "# use pulse sheet viewer to display the pulse sequence - only recommended for small number of averages and sweep steps to avoid performance issues\n",
    "show_pulse_sheet(\"Flux Scope Experiment\", session.compiled_experiment)"
   ]
  },
  {
   "cell_type": "code",
   "execution_count": null,
   "id": "b8b03818",
   "metadata": {},
   "outputs": [],
   "source": [
    "# set calibration and signal map for qubit 1\n",
    "exp.set_calibration(exp_calib)\n",
    "exp.set_signal_map(map_qubit(1))\n",
    "\n",
    "# create a session and connect to it\n",
    "session = Session(device_setup=device_setup)\n",
    "session.connect(do_emulation=use_emulation)\n",
    "\n",
    "# run experiment on qubit 1\n",
    "my_results = session.run(exp)"
   ]
  },
  {
   "attachments": {},
   "cell_type": "markdown",
   "id": "4cff8208-5413-4449-982e-d68f532f5fd2",
   "metadata": {},
   "source": [
    "## 10. Cryoscope experiment\n",
    "\n",
    "Alternate experiment to characterise the pulse distortions from line impedance, following https://arxiv.org/pdf/1907.04818.pdf - Ramsey sequence with fixed timing and variable flux pulse in between - sweeping flux pulse length and amplitude"
   ]
  },
  {
   "attachments": {},
   "cell_type": "markdown",
   "id": "9543bc09-aa41-4af1-bec1-f050d61b901e",
   "metadata": {},
   "source": [
    "### 10.1 Define the Experiment"
   ]
  },
  {
   "cell_type": "code",
   "execution_count": null,
   "id": "fb419230-1410-4173-9781-ecca9017a0e1",
   "metadata": {},
   "outputs": [],
   "source": [
    "## define standard pulses\n",
    "\n",
    "# qubit drive pulse - pi/2 rotation\n",
    "x90 = pulse_library.gaussian(uid=\"x90\", length=100e-9, amplitude=0.66)\n",
    "# readout drive pulse\n",
    "readout_pulse = pulse_library.const(uid=\"readout_pulse\", length=250e-9, amplitude=1.0)\n",
    "# readout weights for integration\n",
    "readout_weighting_function = pulse_library.const(\n",
    "    uid=\"readout_weighting_function\", length=200e-9, amplitude=1.0\n",
    ")"
   ]
  },
  {
   "cell_type": "code",
   "execution_count": null,
   "id": "00fbcf36-6a9f-4541-a6b1-d79d93835abf",
   "metadata": {},
   "outputs": [],
   "source": [
    "# define near time sweep parameter - pulse length\n",
    "length_start = 10e-9\n",
    "length_stop = 100e-9\n",
    "length_count = 5  # known issue: limited to max. 30 steps\n",
    "\n",
    "flux_length_sweep = LinearSweepParameter(\n",
    "    start=length_start, stop=length_stop, count=length_count\n",
    ")\n",
    "\n",
    "flux_pulse = pulse_library.const(uid=\"flux_pulse\", length=length_start, amplitude=1.0)"
   ]
  },
  {
   "cell_type": "code",
   "execution_count": null,
   "id": "477e0940",
   "metadata": {},
   "outputs": [],
   "source": [
    "# define flux amplitude sweep parameter\n",
    "flux_amp_count = 7\n",
    "\n",
    "flux_amp_sweep = LinearSweepParameter(\n",
    "    uid=\"flux_qubit\", start=0.1, stop=1, count=flux_amp_count\n",
    ")\n",
    "\n",
    "# define number of averages\n",
    "average_exponent = 1  # used for 2^n averages, n=average_exponent, maximum: n = 17"
   ]
  },
  {
   "cell_type": "code",
   "execution_count": null,
   "id": "6c37a3b2",
   "metadata": {},
   "outputs": [],
   "source": [
    "# Create Experiment - no explicit mapping to qubit lines\n",
    "exp = Experiment(\n",
    "    uid=\"Cryoscope experiment\",\n",
    "    signals=[\n",
    "        ExperimentSignal(\"flux\"),\n",
    "        ExperimentSignal(\"drive\"),\n",
    "        ExperimentSignal(\"measure\"),\n",
    "        ExperimentSignal(\"acquire\"),\n",
    "    ],\n",
    ")\n",
    "\n",
    "with exp.acquire_loop_rt(\n",
    "    uid=\"shots\",\n",
    "    count=pow(2, average_exponent),\n",
    "    averaging_mode=AveragingMode.CYCLIC,\n",
    "    acquisition_type=AcquisitionType.INTEGRATION,\n",
    "):\n",
    "    with exp.sweep(parameter=flux_amp_sweep):\n",
    "        with exp.sweep(parameter=flux_length_sweep):\n",
    "            # qubit excitation pulses - Ramsey with fixed timing\n",
    "            with exp.section(uid=\"ramsey\"):\n",
    "                # play first Ramsey excitation pulse\n",
    "                exp.play(signal=\"drive\", pulse=x90)\n",
    "                exp.delay(signal=\"drive\", time=2 * length_stop)\n",
    "                # play second Ramsey excitation pulse\n",
    "                exp.play(signal=\"drive\", pulse=x90)\n",
    "            # interleaved flux pulse with variable length and amplitude\n",
    "            with exp.section(uid=\"flux\"):\n",
    "                # delay while first Ramsey pulse is played\n",
    "                exp.delay(signal=\"flux\", time=x90.length)\n",
    "                # flux pulse\n",
    "                exp.play(\n",
    "                    signal=\"flux\",\n",
    "                    pulse=flux_pulse,\n",
    "                    amplitude=flux_amp_sweep,\n",
    "                    length=flux_length_sweep,\n",
    "                )\n",
    "            # readout and data acquisition\n",
    "            with exp.section(uid=\"qubit_readout\"):\n",
    "                exp.reserve(signal=\"drive\")\n",
    "                exp.reserve(signal=\"flux\")\n",
    "                # play readout pulse\n",
    "                exp.play(signal=\"measure\", pulse=readout_pulse)\n",
    "                # signal data acquisition\n",
    "                exp.acquire(\n",
    "                    signal=\"acquire\",\n",
    "                    handle=\"ac_0\",\n",
    "                    kernel=readout_weighting_function,\n",
    "                )\n",
    "            # relax time after readout - for signal processing and qubit relaxation to ground state\n",
    "            with exp.section(uid=\"relax\", play_after=\"qubit_readout\"):\n",
    "                exp.delay(signal=\"measure\", time=1e-6)"
   ]
  },
  {
   "attachments": {},
   "cell_type": "markdown",
   "id": "cccae36a-a47f-4328-8f8a-062b8836f574",
   "metadata": {},
   "source": [
    "### 10.2 Run the Experiment and Plot the Measurement Results and Pulse Sequence"
   ]
  },
  {
   "cell_type": "code",
   "execution_count": null,
   "id": "0fe76b8b",
   "metadata": {},
   "outputs": [],
   "source": [
    "# set calibration and signal map for qubit 0\n",
    "exp.set_signal_map(map_qubit(0))\n",
    "\n",
    "# create a session and connect to it\n",
    "session = Session(device_setup=device_setup)\n",
    "session.connect(do_emulation=use_emulation)\n",
    "\n",
    "my_results = session.run(exp)"
   ]
  },
  {
   "cell_type": "code",
   "execution_count": null,
   "id": "d2a67b55",
   "metadata": {},
   "outputs": [],
   "source": [
    "# Plot simulated output signals\n",
    "plot_simulation(session.compiled_experiment, 0, 10e-6)"
   ]
  },
  {
   "cell_type": "code",
   "execution_count": null,
   "id": "78d14df6-7851-4551-83b5-55adcf0e8938",
   "metadata": {},
   "outputs": [],
   "source": [
    "# plot measurement results\n",
    "plot_result_3d(my_results, \"ac_0\")"
   ]
  },
  {
   "cell_type": "code",
   "execution_count": null,
   "id": "5f28d4fd",
   "metadata": {},
   "outputs": [],
   "source": [
    "# use pulse sheet viewer to display the pulse sequence - only recommended for small number of averages and sweep steps to avoid performance issues\n",
    "show_pulse_sheet(\"Cryoscope\", session.compiled_experiment)"
   ]
  },
  {
   "cell_type": "code",
   "execution_count": null,
   "id": "fab1575c",
   "metadata": {},
   "outputs": [],
   "source": [
    "# set calibration and signal map for qubit 1\n",
    "exp.set_signal_map(map_qubit(1))\n",
    "\n",
    "# create a session and connect to it\n",
    "session = Session(device_setup=device_setup)\n",
    "session.connect(do_emulation=use_emulation)\n",
    "\n",
    "my_results = session.run(exp)"
   ]
  },
  {
   "cell_type": "code",
   "execution_count": null,
   "id": "205b1cd0",
   "metadata": {},
   "outputs": [],
   "source": []
  }
 ],
 "metadata": {
  "hide_input": false,
  "kernelspec": {
   "display_name": "zi-py310",
   "language": "python",
   "name": "python3"
  },
  "language_info": {
   "codemirror_mode": {
    "name": "ipython",
    "version": 3
   },
   "file_extension": ".py",
   "mimetype": "text/x-python",
   "name": "python",
   "nbconvert_exporter": "python",
   "pygments_lexer": "ipython3",
   "version": "3.11.5"
  },
  "toc": {
   "base_numbering": 1,
   "nav_menu": {},
   "number_sections": true,
   "sideBar": true,
   "skip_h1_title": false,
   "title_cell": "Table of Contents",
   "title_sidebar": "Contents",
   "toc_cell": false,
   "toc_position": {
    "height": "calc(100% - 180px)",
    "left": "10px",
    "top": "150px",
    "width": "426.667px"
   },
   "toc_section_display": true,
   "toc_window_display": true
  },
  "varInspector": {
   "cols": {
    "lenName": 16,
    "lenType": 16,
    "lenVar": 40
   },
   "kernels_config": {
    "python": {
     "delete_cmd_postfix": "",
     "delete_cmd_prefix": "del ",
     "library": "var_list.py",
     "varRefreshCmd": "print(var_dic_list())"
    },
    "r": {
     "delete_cmd_postfix": ") ",
     "delete_cmd_prefix": "rm(",
     "library": "var_list.r",
     "varRefreshCmd": "cat(var_dic_list()) "
    }
   },
   "types_to_exclude": [
    "module",
    "function",
    "builtin_function_or_method",
    "instance",
    "_Feature"
   ],
   "window_display": false
  }
 },
 "nbformat": 4,
 "nbformat_minor": 5
}
