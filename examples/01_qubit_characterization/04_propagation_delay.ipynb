{
 "cells": [
  {
   "attachments": {},
   "cell_type": "markdown",
   "metadata": {},
   "source": [
    "# Propagation delay\n",
    "\n",
    "This notebook shows you how to perform a propagation delay experiment. You'll sweep the delay of the qantum analyzer integration and then find the maximum result. "
   ]
  },
  {
   "attachments": {},
   "cell_type": "markdown",
   "metadata": {},
   "source": [
    "## 0. LabOne Q Imports\n",
    "\n",
    "You'll begin by importing `laboneq.simple` and some extra helper functions to run the examples. "
   ]
  },
  {
   "cell_type": "code",
   "execution_count": null,
   "metadata": {},
   "outputs": [],
   "source": [
    "# convenience Import for all LabOne Q Functionality\n",
    "from laboneq.simple import *\n",
    "\n",
    "# helper import\n",
    "from laboneq.contrib.example_helpers.plotting.plot_helpers import plot_results\n",
    "from laboneq.contrib.example_helpers.example_notebook_helper import create_device_setup\n",
    "\n",
    "from pathlib import Path\n",
    "import time\n"
   ]
  },
  {
   "attachments": {},
   "cell_type": "markdown",
   "metadata": {},
   "source": [
    "## 1. Device Setup\n",
    "\n",
    "Below, you'll create a device setup and specify to run in an emulated mode or on hardware, `emulate = True/False` respectively.\n",
    "\n",
    "If you run on your hardware, the [descriptor](https://docs.zhinst.com/labone_q_user_manual/concepts/set_up_equipment.html) called by `create_device_setup` should be replaced by one of your own, generally stored as a [YAML file](https://docs.zhinst.com/labone_q_user_manual/concepts/set_up_equipment.html#labone_q.func_concepts.setting_up.set_up_equipment.descriptor). Once you have this descriptor, it can be reused for all your experiments."
   ]
  },
  {
   "cell_type": "code",
   "execution_count": null,
   "metadata": {},
   "outputs": [],
   "source": [
    "device_setup = create_device_setup(generation=2)\n",
    "emulate = True\n"
   ]
  },
  {
   "cell_type": "code",
   "execution_count": null,
   "metadata": {},
   "outputs": [],
   "source": [
    "# create and connect to a session\n",
    "session = Session(device_setup=device_setup)\n",
    "session.connect(do_emulation=emulate)\n"
   ]
  },
  {
   "attachments": {},
   "cell_type": "markdown",
   "metadata": {},
   "source": [
    "## 2. Experiment Parameters\n",
    "\n",
    "Now you'll define the frequency sweep parameters and pulse to use in your experiment."
   ]
  },
  {
   "cell_type": "code",
   "execution_count": null,
   "metadata": {},
   "outputs": [],
   "source": [
    "delay_sweep = LinearSweepParameter(\n",
    "    uid=\"delay_sweep_param\", start=0, stop=1.0e-6, count=21\n",
    ")\n",
    "\n",
    "# define number of averages\n",
    "# used for 2^num_averages, maximum: num_averages = 17\n",
    "num_averages = 4\n",
    "\n",
    "# readout pulse parameters and definiation\n",
    "envelope_duration = 2.048e-6\n",
    "envelope_rise_fall_time = 0.05e-6\n",
    "readout_pulse = pulse_library.gaussian_square(\n",
    "    uid=\"readout_pulse\", length=envelope_duration, amplitude=0.9\n",
    ")\n"
   ]
  },
  {
   "attachments": {},
   "cell_type": "markdown",
   "metadata": {},
   "source": [
    "## 3. Experiment Definition\n",
    "\n",
    "You'll now create a function to generate your propagation delay [experiment](https://docs.zhinst.com/labone_q_user_manual/concepts/experiment.html). In this experiment, you'll pass the `delay_sweep` defined previously as an argument to the near-time [sweep section](https://docs.zhinst.com/labone_q_user_manual/concepts/averaging_sweeping.html#labone_q.func_concepts.experiment.averaging_sweeping.parameters_sweeps). Within the real-time aquisition section, you'll set use `INTEGRATION` as your acquisition type, and you'll create a [section](https://docs.zhinst.com/labone_q_user_manual/concepts/sections_and_pulses.html) containing a `play` and an `acquire` command."
   ]
  },
  {
   "cell_type": "code",
   "execution_count": null,
   "metadata": {},
   "outputs": [],
   "source": [
    "# function that defines a resonator spectroscopy experiment, and takes the frequency sweep as a parameter\n",
    "def propagation_delay(readout_pulse, delay_sweep):\n",
    "    # Create resonator spectroscopy experiment - uses only readout drive and signal acquisition\n",
    "    exp_prop_delay = Experiment(\n",
    "        uid=\"Propagation Delay Measurement\",\n",
    "        signals=[\n",
    "            ExperimentSignal(\"measure\"),\n",
    "            ExperimentSignal(\"acquire\"),\n",
    "        ],\n",
    "    )\n",
    "\n",
    "    ## define experimental sequence\n",
    "    # outer loop - vary drive frequency\n",
    "    with exp_prop_delay.sweep(uid=\"del_sweep\", parameter=delay_sweep):\n",
    "        with exp_prop_delay.acquire_loop_rt(\n",
    "            uid=\"shots\",\n",
    "            count=2**num_averages,\n",
    "            acquisition_type=AcquisitionType.INTEGRATION,\n",
    "        ):\n",
    "            # readout pulse and data acquisition\n",
    "            with exp_prop_delay.section(uid=\"spectroscopy\"):\n",
    "                # play resonator excitation pulse\n",
    "                exp_prop_delay.play(signal=\"measure\", pulse=readout_pulse)\n",
    "                # resonator signal readout\n",
    "                exp_prop_delay.acquire(\n",
    "                    signal=\"acquire\", handle=\"res_prop_delay\", kernel=readout_pulse\n",
    "                )\n",
    "            with exp_prop_delay.section(uid=\"delay\"):\n",
    "                # holdoff time after signal acquisition - minimum 1us required for data processing on UHFQA\n",
    "                exp_prop_delay.delay(signal=\"measure\", time=1e-6)\n",
    "\n",
    "    cal = Calibration()\n",
    "    cal[\"acquire\"] = SignalCalibration(port_delay=delay_sweep)\n",
    "    exp_prop_delay.set_calibration(cal)\n",
    "\n",
    "    return exp_prop_delay"
   ]
  },
  {
   "attachments": {},
   "cell_type": "markdown",
   "metadata": {},
   "source": [
    "## 3.1 Signal Map\n",
    "\n",
    "Before running the experiment, you'll define and set the mapping between the experimental and logical lines."
   ]
  },
  {
   "cell_type": "code",
   "execution_count": null,
   "metadata": {},
   "outputs": [],
   "source": [
    "# signal maps for a qubit - maps the logical signal of the device setup to the experimental signals of the experiment\n",
    "def res_spec_map(qubit):\n",
    "    signal_map = {\n",
    "        \"measure\": device_setup.logical_signal_groups[f\"{qubit}\"].logical_signals[\n",
    "            \"measure_line\"\n",
    "        ],\n",
    "        \"acquire\": device_setup.logical_signal_groups[f\"{qubit}\"].logical_signals[\n",
    "            \"acquire_line\"\n",
    "        ],\n",
    "    }\n",
    "    return signal_map\n",
    "\n",
    "\n",
    "# pass sweep and pulse to experiment and apply signal map\n",
    "exp_prop_delay = propagation_delay(readout_pulse, delay_sweep)\n",
    "exp_prop_delay.set_signal_map(res_spec_map(\"q0\"))\n"
   ]
  },
  {
   "attachments": {},
   "cell_type": "markdown",
   "metadata": {},
   "source": [
    "## 3.2 Compile and Generate Pulse Sheet\n",
    "\n",
    "Now, you'll compile the experiment and generate a pulse sheet."
   ]
  },
  {
   "cell_type": "code",
   "execution_count": null,
   "metadata": {},
   "outputs": [],
   "source": [
    "# compile the experiment on the open instrument session\n",
    "compiled_prop_delay = session.compile(exp_prop_delay)\n",
    "\n",
    "Path(\"Pulse_Sheets\").mkdir(parents=True, exist_ok=True)\n",
    "# generate a pulse sheet to inspect experiment befor runtime\n",
    "show_pulse_sheet(\"Pulse_Sheets/Propagation_Delay\", compiled_prop_delay)\n"
   ]
  },
  {
   "attachments": {},
   "cell_type": "markdown",
   "metadata": {},
   "source": [
    "## 3.3 Run, Save, and Plot Results\n",
    "\n",
    "Finally, you'll run the experiment, save, and plot the results."
   ]
  },
  {
   "cell_type": "code",
   "execution_count": null,
   "metadata": {},
   "outputs": [],
   "source": [
    "# run the compiled experiemnt\n",
    "prop_delay_results = session.run(compiled_prop_delay)\n",
    "timestamp = time.strftime(\"%Y%m%dT%H%M%S\")\n",
    "Path(\"Results\").mkdir(parents=True, exist_ok=True)\n",
    "session.save_results(f\"Results/{timestamp}_prop_delay_results.json\")\n",
    "print(f\"File saved as Results/{timestamp}_prop_delay_results.json\")\n"
   ]
  },
  {
   "cell_type": "code",
   "execution_count": null,
   "metadata": {},
   "outputs": [],
   "source": [
    "plot_results(prop_delay_results, phase=True)\n"
   ]
  },
  {
   "cell_type": "code",
   "execution_count": null,
   "metadata": {},
   "outputs": [],
   "source": []
  }
 ],
 "metadata": {
  "kernelspec": {
   "display_name": "develop",
   "language": "python",
   "name": "python3"
  },
  "language_info": {
   "codemirror_mode": {
    "name": "ipython",
    "version": 3
   },
   "file_extension": ".py",
   "mimetype": "text/x-python",
   "name": "python",
   "nbconvert_exporter": "python",
   "pygments_lexer": "ipython3",
   "version": "3.11.4"
  },
  "orig_nbformat": 4
 },
 "nbformat": 4,
 "nbformat_minor": 2
}
