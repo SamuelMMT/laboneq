{
 "cells": [
  {
   "cell_type": "markdown",
   "metadata": {},
   "source": [
    "# Pulse Library\n",
    "\n",
    "This notebook demonstrates the features of the pulse library and will cover:\n",
    "\n",
    "- How to use pre-defined pulses out of the box, and how to sweep their parameters\n",
    "- How to define your own pulses and sweep their parameters"
   ]
  },
  {
   "cell_type": "markdown",
   "metadata": {},
   "source": [
    "## Setting up: Imports, Device Setup, and Calibration"
   ]
  },
  {
   "cell_type": "markdown",
   "metadata": {},
   "source": [
    "### Imports"
   ]
  },
  {
   "cell_type": "code",
   "execution_count": null,
   "metadata": {},
   "outputs": [],
   "source": [
    "%config IPCompleter.greedy=True\n",
    "\n",
    "# convenience import for all LabOne Q software functionality\n",
    "from laboneq.simple import *\n",
    "\n",
    "# helper import\n",
    "from helpers.example_notebook_helper import *"
   ]
  },
  {
   "cell_type": "markdown",
   "metadata": {},
   "source": [
    "### Define the Device Setup\n",
    "\n",
    "We'll load a descriptor file to define our device setup and logical signal lines. We could, instead, explicitly include the descriptor here as a string and then use `DeviceSetup.from_descriptor()` below. Choose the best method that works for you!"
   ]
  },
  {
   "cell_type": "code",
   "execution_count": null,
   "metadata": {},
   "outputs": [],
   "source": [
    "# Define and Load our Device Setup \n",
    "\n",
    "descriptor_0 = \"helpers/descriptor_shfqc.yml\"              # a setup using a single stand-alone SHFQC\n",
    "descriptor_1 = \"helpers/descriptor_hdawg_uhfqa_pqsc.yml\"   # a setup using HDAWG, UHFQA and PQSC\n",
    "descriptor_2 = \"helpers/descriptor_shfsg_shfqa_pqsc.yml\"   # a setup using SHFSG, SHFQA and PQSC\n",
    "\n",
    "device_setup = DeviceSetup.from_yaml(\n",
    "    filepath = descriptor_2,\n",
    "    server_host=\"ip_address\",       # ip address of the LabOne dataserver used to communicate with the instruments\n",
    "    server_port=\"8004\",             # port number of the dataserver - default is 8004\n",
    "    setup_name=\"my_QCCS_setup\",     # setup name\n",
    ") \n",
    "\n",
    "use_emulation = True  # set to False to run on real hardware"
   ]
  },
  {
   "cell_type": "markdown",
   "metadata": {},
   "source": [
    "### Calibration\n",
    "\n",
    "We go for a minimal signal line calibration here -- please refer to our `calibration_reference.ipynb` notebook for detailed info."
   ]
  },
  {
   "cell_type": "code",
   "execution_count": null,
   "metadata": {},
   "outputs": [],
   "source": [
    "# Basic calibration of IF and LO frequencies\n",
    "\n",
    "drive_q0_lo = Oscillator(\n",
    "    uid=\"drive\" + \"q0\" + \"lo\",\n",
    "    frequency=5.0e9,\n",
    ")\n",
    "\n",
    "drive_q0_if = Oscillator(\n",
    "    uid=\"drive\" + \"q0\" + \"if\",              \n",
    "    frequency=1.0e8,\n",
    "    modulation_type=ModulationType.HARDWARE\n",
    ")\n",
    "\n",
    "measure_q0_lo = Oscillator(\n",
    "    uid=\"measure\" + \"q0\" + \"lo\",\n",
    "    frequency=5.5e9\n",
    ")\n",
    "\n",
    "measure_q0_if = Oscillator(\n",
    "    uid=\"measure\" + \"q0\" + \"if\",\n",
    "    frequency = 30e6,\n",
    "    modulation_type=ModulationType.SOFTWARE\n",
    ")\n",
    "\n",
    "def calibrate_devices(device_setup):\n",
    "    ## qubit 0\n",
    "    # calibration setting for drive line for qubit 0\n",
    "    device_setup.logical_signal_groups[\"q0\"].logical_signals[\"drive_line\"].calibration = SignalCalibration(\n",
    "        # oscillator settings - frequency and type of oscillator used to modulate the pulses applied through this signal line\n",
    "        oscillator=drive_q0_if,\n",
    "        local_oscillator=drive_q0_lo,\n",
    "        range=10\n",
    "    )\n",
    "\n",
    "    device_setup.logical_signal_groups[\"q0\"].logical_signals[\"measure_line\"].calibration = SignalCalibration(\n",
    "        oscillator = measure_q0_if,\n",
    "        local_oscillator= measure_q0_lo,\n",
    "        range=10\n",
    "    )\n",
    "\n",
    "    device_setup.logical_signal_groups[\"q0\"].logical_signals[\"acquire_line\"].calibration = SignalCalibration(\n",
    "        oscillator = measure_q0_if,\n",
    "        local_oscillator=measure_q0_lo,\n",
    "        range=5\n",
    "    )"
   ]
  },
  {
   "cell_type": "code",
   "execution_count": null,
   "metadata": {},
   "outputs": [],
   "source": [
    "calibrate_devices(device_setup)"
   ]
  },
  {
   "cell_type": "markdown",
   "metadata": {},
   "source": [
    "### Create the Session and Connect to it"
   ]
  },
  {
   "cell_type": "code",
   "execution_count": null,
   "metadata": {},
   "outputs": [],
   "source": [
    "session = Session(device_setup=device_setup)\n",
    "session.connect(do_emulation=use_emulation)"
   ]
  },
  {
   "cell_type": "markdown",
   "metadata": {},
   "source": [
    "  ## Sweep parameters of an out-of-the-box pulse\n",
    "\n",
    "  In a first step, we will create a drag pulse and sweep its amplitude. In a second step, we sweep the drag parameter beta instead."
   ]
  },
  {
   "cell_type": "markdown",
   "metadata": {},
   "source": [
    "### Define Pulses"
   ]
  },
  {
   "cell_type": "code",
   "execution_count": null,
   "metadata": {},
   "outputs": [],
   "source": [
    "# qubit drive pulse\n",
    "x90 = pulse_library.drag(uid=\"drag_pulse\", length=400e-9, amplitude=1.0, beta=0.3)\n",
    "\n",
    "# measure pulse\n",
    "readout_pulse = pulse_library.const(\n",
    "    uid=\"readout_pulse\", length=200e-9, amplitude=1.0\n",
    ")\n",
    "# readout integration weights\n",
    "readout_weighting_function = pulse_library.const(\n",
    "    uid=\"readout_weighting_function\", length=200e-9, amplitude=1.0\n",
    ")"
   ]
  },
  {
   "cell_type": "markdown",
   "metadata": {},
   "source": [
    "### Define Experiment with an Amplitude Sweep\n",
    "#### Define Amplitude Sweep"
   ]
  },
  {
   "cell_type": "code",
   "execution_count": null,
   "metadata": {},
   "outputs": [],
   "source": [
    "start = 0.1\n",
    "stop = 1\n",
    "count = 5\n",
    "amplitude_sweep = LinearSweepParameter(uid=\"amplitude\", start=start, stop=stop, count=count)"
   ]
  },
  {
   "cell_type": "markdown",
   "metadata": {},
   "source": [
    "#### Define Experiment\n",
    "\n",
    "Note that the `amplitude` parameter is an argument of the `Experiment.play` command."
   ]
  },
  {
   "cell_type": "code",
   "execution_count": null,
   "metadata": {},
   "outputs": [],
   "source": [
    "# Create Experiment\n",
    "exp = Experiment(\n",
    "    uid=\"Amplitude Rabi\",\n",
    "    signals=[\n",
    "        ExperimentSignal(\"drive\"),\n",
    "        ExperimentSignal(\"measure\"),\n",
    "        ExperimentSignal(\"acquire\"),\n",
    "    ],\n",
    ")\n",
    "## experimental pulse sequence\n",
    "# outer loop - real-time, cyclic averaging in standard integration mode\n",
    "with exp.acquire_loop_rt(uid=\"shots\", count=2**5,\n",
    "    averaging_mode=AveragingMode.CYCLIC, acquisition_type=AcquisitionType.INTEGRATION\n",
    "    ):\n",
    "    # inner loop - real-time sweep of qubit drive pulse amplitude\n",
    "    with exp.sweep(uid=\"sweep\", parameter=amplitude_sweep, alignment=SectionAlignment.RIGHT):\n",
    "            # qubit excitation - pulse amplitude will be swept\n",
    "            with exp.section(uid=\"qubit_excitation\", alignment=SectionAlignment.RIGHT):\n",
    "                exp.play(signal=\"drive\", pulse=x90, amplitude=amplitude_sweep)\n",
    "            # qubit readout pulse and data acquisition\n",
    "            with exp.section(uid=\"qubit_readout\"):\n",
    "                exp.reserve(signal=\"drive\")\n",
    "                # play readout pulse\n",
    "                exp.play(signal=\"measure\", pulse=readout_pulse)\n",
    "                # signal data acquisition\n",
    "                exp.acquire(\n",
    "                    signal=\"acquire\",\n",
    "                    handle=\"ac_0\",\n",
    "                    kernel=readout_weighting_function,\n",
    "                )\n",
    "            # relax time after readout - for signal processing and qubit relaxation to ground state\n",
    "            with exp.section(uid=\"relax\"):\n",
    "                exp.delay(signal=\"measure\", time=1e-6)"
   ]
  },
  {
   "cell_type": "markdown",
   "metadata": {},
   "source": [
    "#### Define Signal Map and Run Experiment"
   ]
  },
  {
   "cell_type": "code",
   "execution_count": null,
   "metadata": {},
   "outputs": [],
   "source": [
    "# define signal maps for qubit 0\n",
    "map_q0 = {\n",
    "    \"drive\": device_setup.logical_signal_groups[\"q0\"].logical_signals[\"drive_line\"],\n",
    "    \"measure\": device_setup.logical_signal_groups[\"q0\"].logical_signals[\"measure_line\"],\n",
    "    \"acquire\": device_setup.logical_signal_groups[\"q0\"].logical_signals[\"acquire_line\"],\n",
    "}"
   ]
  },
  {
   "cell_type": "code",
   "execution_count": null,
   "metadata": {},
   "outputs": [],
   "source": [
    "exp.set_signal_map(map_q0)\n",
    "\n",
    "# run experiment on qubit 0\n",
    "my_results = session.run(exp, do_simulation=True)"
   ]
  },
  {
   "cell_type": "code",
   "execution_count": null,
   "metadata": {},
   "outputs": [],
   "source": [
    "# Plot simulated output signals\n",
    "plot_output_signals(my_results)"
   ]
  },
  {
   "cell_type": "markdown",
   "metadata": {},
   "source": [
    "### Define Experiment with a Drag Parameter Sweep\n",
    "#### Define Drag Parameter Sweep"
   ]
  },
  {
   "cell_type": "code",
   "execution_count": null,
   "metadata": {},
   "outputs": [],
   "source": [
    "start_beta = 0.\n",
    "stop_beta = 1\n",
    "count = 5\n",
    "\n",
    "beta_sweep = LinearSweepParameter(uid=\"beta\", start=start, stop=stop, count=count)"
   ]
  },
  {
   "cell_type": "markdown",
   "metadata": {},
   "source": [
    "#### Define Experiment\n",
    "\n",
    "Note that the parameter `beta` is unique to the drag pulse (Only the parameters `length` and `amplitude` are shared by all pulses).\n",
    "\n",
    "Therefore, the parameters handled by the `Experiment.play` command slightly differ from amplitude sweep above."
   ]
  },
  {
   "cell_type": "code",
   "execution_count": null,
   "metadata": {},
   "outputs": [],
   "source": [
    "# Create Experiment\n",
    "exp = Experiment(\n",
    "    uid=\"Amplitude Rabi\",\n",
    "    signals=[\n",
    "        ExperimentSignal(\"drive\"),\n",
    "        ExperimentSignal(\"measure\"),\n",
    "        ExperimentSignal(\"acquire\"),\n",
    "    ],\n",
    ")\n",
    "## experimental pulse sequence\n",
    "# outer loop - real-time, cyclic averaging in standard integration mode\n",
    "with exp.acquire_loop_rt(uid=\"shots\", count=2**5,\n",
    "    averaging_mode=AveragingMode.CYCLIC, acquisition_type=AcquisitionType.INTEGRATION\n",
    "    ):\n",
    "    # inner loop - real-time sweep of qubit drive pulse amplitude\n",
    "    with exp.sweep(uid=\"sweep\", parameter=beta_sweep, alignment=SectionAlignment.RIGHT):\n",
    "        # qubit excitation - pulse amplitude will be swept\n",
    "        with exp.section(uid=\"qubit_excitation\", alignment=SectionAlignment.RIGHT):\n",
    "            exp.play(signal=\"drive\", pulse=x90, pulse_parameters={\"beta\": beta_sweep} )\n",
    "        # qubit readout pulse and data acquisition\n",
    "        with exp.section(uid=\"qubit_readout\"):\n",
    "            exp.reserve(signal=\"drive\")\n",
    "            # play readout pulse\n",
    "            exp.play(signal=\"measure\", pulse=readout_pulse)\n",
    "            # signal data acquisition\n",
    "            exp.acquire(\n",
    "                signal=\"acquire\",\n",
    "                handle=\"ac_0\",\n",
    "                kernel=readout_weighting_function,\n",
    "            )\n",
    "        # relax time after readout - for signal processing and qubit relaxation to ground state\n",
    "        with exp.section(uid=\"relax\"):\n",
    "            exp.delay(signal=\"measure\", time=1e-6)"
   ]
  },
  {
   "cell_type": "markdown",
   "metadata": {},
   "source": [
    "#### Define Signal Map and Run the Experiment"
   ]
  },
  {
   "cell_type": "code",
   "execution_count": null,
   "metadata": {},
   "outputs": [],
   "source": [
    "# define signal maps for qubit 0\n",
    "map_q0 = {\n",
    "    \"drive\": device_setup.logical_signal_groups[\"q0\"].logical_signals[\"drive_line\"],\n",
    "    \"measure\": device_setup.logical_signal_groups[\"q0\"].logical_signals[\"measure_line\"],\n",
    "    \"acquire\": device_setup.logical_signal_groups[\"q0\"].logical_signals[\"acquire_line\"],\n",
    "}"
   ]
  },
  {
   "cell_type": "code",
   "execution_count": null,
   "metadata": {},
   "outputs": [],
   "source": [
    "exp.set_signal_map(map_q0)\n",
    "\n",
    "# run experiment on qubit 0\n",
    "my_results = session.run(exp, do_simulation=True)"
   ]
  },
  {
   "cell_type": "code",
   "execution_count": null,
   "metadata": {},
   "outputs": [],
   "source": [
    "# Plot simulated output signals\n",
    "plot_output_signals(my_results)"
   ]
  },
  {
   "cell_type": "markdown",
   "metadata": {},
   "source": [
    "## Define a new Pulse Type and Sweep it\n",
    "\n",
    "You can define arbitrary pulse types. All you need to do is to decorate your functional with the `pulse_library.register_pulse_functional` decorator delivered with LabOne Q. Please refer to the [API Documentation](https://docs.zhinst.com/labone_q_api/apidocs/laboneq.dsl.experiment.html#module-laboneq.dsl.experiment.pulse_library) for more technical details.\n",
    "\n",
    "Here, we create an example with a flat-top Gaussian pulse.\n",
    "\n",
    "When you define your own pulses, just a few constraints exist:\n",
    "- The first argument of your function is `x`, and ranges from -1 to 1.\n",
    "- The last keyword argument `**_` receives the pulse length `length` in absolute time, sampling rate `sampling_rate`, and relative amplitude `amplitude` used when the pulse is actually played. The definition of `flattop_gaussian_v2` further down shows how to use them.\n",
    "- In between, you can define an arbitrary number of your own pulses."
   ]
  },
  {
   "cell_type": "code",
   "execution_count": null,
   "metadata": {},
   "outputs": [],
   "source": [
    "@pulse_library.register_pulse_functional\n",
    "def flattop_gaussian(x, relative_length_flat = 0.8, **_):\n",
    "    sigma = (1-relative_length_flat)/3\n",
    "    res = np.ones(len(x))\n",
    "\n",
    "    res[x<=-relative_length_flat] = np.exp(-(x[x<=-relative_length_flat]+relative_length_flat)**2 / (2*sigma**2) )\n",
    "    res[x>=relative_length_flat] = np.exp(-(x[x>=relative_length_flat]-relative_length_flat)**2/(2*sigma**2))\n",
    "    \n",
    "    return res\n",
    "    "
   ]
  },
  {
   "cell_type": "markdown",
   "metadata": {},
   "source": [
    "Instead of defining everything relative to the span from -1 to 1, the length argument can be used to obtain an absolute reference in the pulse definition. \n",
    "\n",
    "For a flat-top Gaussian, this could be used to define constant, absolute rise and fall times of the pulse:"
   ]
  },
  {
   "cell_type": "code",
   "execution_count": null,
   "metadata": {},
   "outputs": [],
   "source": [
    "@pulse_library.register_pulse_functional\n",
    "def flattop_gaussian_v2(x, slope_length = 15e-9, length = ..., **_):\n",
    "    # assume that the rising and falling Gaussian parts should have 3*sigma width\n",
    "    sigma = slope_length/3\n",
    "    sigma_rel = sigma/length\n",
    "    relative_length_flat = 1-6*sigma_rel # subtract 3*sigma from the left, \n",
    "    \n",
    "    res = np.ones(len(x))\n",
    "   \n",
    "    res[x<=-relative_length_flat] = np.exp(-(x[x<=-relative_length_flat]+relative_length_flat)**2 / (2*sigma_rel**2) )\n",
    "    res[x>=relative_length_flat] = np.exp(-(x[x>=relative_length_flat]-relative_length_flat)**2/(2*sigma_rel**2))\n",
    "\n",
    "    return res\n",
    "    "
   ]
  },
  {
   "cell_type": "code",
   "execution_count": null,
   "metadata": {},
   "outputs": [],
   "source": [
    "flattop = flattop_gaussian(uid=\"flattop\", length=400e-9, amplitude=1, relative_length_flat=.9)"
   ]
  },
  {
   "cell_type": "code",
   "execution_count": null,
   "metadata": {},
   "outputs": [],
   "source": [
    "sweep_rel_flat = LinearSweepParameter(uid=\"sweep_rel_flat\", start=0.05, stop=0.95, count=5)"
   ]
  },
  {
   "cell_type": "code",
   "execution_count": null,
   "metadata": {},
   "outputs": [],
   "source": [
    "# Create Experiment\n",
    "exp = Experiment(\n",
    "    uid=\"Amplitude Rabi\",\n",
    "    signals=[\n",
    "        ExperimentSignal(\"drive\"),\n",
    "        ExperimentSignal(\"measure\"),\n",
    "        ExperimentSignal(\"acquire\"),\n",
    "    ],\n",
    ")\n",
    "## experimental pulse sequence\n",
    "# outer loop - real-time, cyclic averaging in standard integration mode\n",
    "with exp.acquire_loop_rt(uid=\"shots\", count=8,\n",
    "    averaging_mode=AveragingMode.CYCLIC, acquisition_type=AcquisitionType.INTEGRATION\n",
    "    ):\n",
    "    # inner loop - real-time sweep of qubit drive pulse amplitude\n",
    "    with exp.sweep(uid=\"sweep\", parameter=sweep_rel_flat, alignment=SectionAlignment.RIGHT):\n",
    "        # qubit excitation - pulse amplitude will be swept\n",
    "        with exp.section(uid=\"qubit_excitation\", alignment=SectionAlignment.RIGHT):\n",
    "            exp.play(signal=\"drive\", pulse=flattop, pulse_parameters={\"relative_length_flat\": sweep_rel_flat})\n",
    "        # qubit readout pulse and data acquisition\n",
    "        with exp.section(uid=\"qubit_readout\"):\n",
    "            exp.reserve(signal=\"drive\")\n",
    "            # play readout pulse\n",
    "            exp.play(signal=\"measure\", pulse=readout_pulse)#, pulse_parameters={\"relative_length_flat\": sweep_rel_flat})\n",
    "            # signal data acquisition\n",
    "            exp.acquire(\n",
    "                signal=\"acquire\",\n",
    "                handle=\"ac_0\",\n",
    "                kernel=readout_weighting_function,\n",
    "            )\n",
    "        # relax time after readout - for signal processing and qubit relaxation to ground state\n",
    "        with exp.section(uid=\"relax\"):\n",
    "            exp.delay(signal=\"measure\", time=1e-6)"
   ]
  },
  {
   "cell_type": "code",
   "execution_count": null,
   "metadata": {},
   "outputs": [],
   "source": [
    "# define signal maps for qubit 0\n",
    "map_q0 = {\n",
    "    \"drive\": device_setup.logical_signal_groups[\"q0\"].logical_signals[\"drive_line\"],\n",
    "    \"measure\": device_setup.logical_signal_groups[\"q0\"].logical_signals[\"measure_line\"],\n",
    "    \"acquire\": device_setup.logical_signal_groups[\"q0\"].logical_signals[\"acquire_line\"],\n",
    "}"
   ]
  },
  {
   "cell_type": "code",
   "execution_count": null,
   "metadata": {},
   "outputs": [],
   "source": [
    "exp.set_signal_map(map_q0)\n",
    "\n",
    "# run experiment on qubit 0\n",
    "my_results = session.run(exp, do_simulation=True)"
   ]
  },
  {
   "cell_type": "code",
   "execution_count": null,
   "metadata": {},
   "outputs": [],
   "source": [
    "# Plot simulated output signals\n",
    "plot_output_signals(my_results)"
   ]
  },
  {
   "cell_type": "markdown",
   "metadata": {},
   "source": [
    "### Same Experiment with Absolute Timings of `sigma`"
   ]
  },
  {
   "cell_type": "code",
   "execution_count": null,
   "metadata": {},
   "outputs": [],
   "source": [
    "flattop_v2 = flattop_gaussian_v2(uid=\"flattop_v2\", length=400e-9, amplitude=1, slope_length=15e-9)\n",
    "slope_sweep = LinearSweepParameter(uid=\"slope_sweep\", start=5e-9, stop=180e-9, count=5)"
   ]
  },
  {
   "cell_type": "code",
   "execution_count": null,
   "metadata": {},
   "outputs": [],
   "source": [
    "# Create Experiment\n",
    "exp = Experiment(\n",
    "    uid=\"Amplitude Rabi\",\n",
    "    signals=[\n",
    "        ExperimentSignal(\"drive\"),\n",
    "        ExperimentSignal(\"measure\"),\n",
    "        ExperimentSignal(\"acquire\"),\n",
    "    ],\n",
    ")\n",
    "## experimental pulse sequence\n",
    "# outer loop - real-time, cyclic averaging in standard integration mode\n",
    "with exp.acquire_loop_rt(uid=\"shots\", count=8,\n",
    "    averaging_mode=AveragingMode.CYCLIC, acquisition_type=AcquisitionType.INTEGRATION\n",
    "    ):\n",
    "    # inner loop - real-time sweep of qubit drive pulse amplitude\n",
    "    with exp.sweep(uid=\"sweep\", parameter=slope_sweep, alignment=SectionAlignment.RIGHT):\n",
    "        # qubit excitation - pulse amplitude will be swept\n",
    "        with exp.section(uid=\"qubit_excitation\", alignment=SectionAlignment.RIGHT):\n",
    "            exp.play(signal=\"drive\", pulse=flattop_v2, pulse_parameters={\"slope_length\": slope_sweep} )\n",
    "        # qubit readout pulse and data acquisition\n",
    "        with exp.section(uid=\"qubit_readout\"):\n",
    "            exp.reserve(signal=\"drive\")\n",
    "            # play readout pulse\n",
    "            exp.play(signal=\"measure\", pulse=readout_pulse)\n",
    "            # signal data acquisition\n",
    "            exp.acquire(\n",
    "                signal=\"acquire\",\n",
    "                handle=\"ac_0\",\n",
    "                kernel=readout_weighting_function,\n",
    "            )\n",
    "        # relax time after readout - for signal processing and qubit relaxation to ground state\n",
    "        with exp.section(uid=\"relax\"):\n",
    "            exp.delay(signal=\"measure\", time=1e-6)"
   ]
  },
  {
   "cell_type": "code",
   "execution_count": null,
   "metadata": {},
   "outputs": [],
   "source": [
    "# define signal maps for qubit 0\n",
    "map_q0 = {\n",
    "    \"drive\": device_setup.logical_signal_groups[\"q0\"].logical_signals[\"drive_line\"],\n",
    "    \"measure\": device_setup.logical_signal_groups[\"q0\"].logical_signals[\"measure_line\"],\n",
    "    \"acquire\": device_setup.logical_signal_groups[\"q0\"].logical_signals[\"acquire_line\"],\n",
    "}"
   ]
  },
  {
   "cell_type": "code",
   "execution_count": null,
   "metadata": {},
   "outputs": [],
   "source": [
    "exp.set_signal_map(map_q0)\n",
    "\n",
    "# run experiment on qubit 0\n",
    "my_results = session.run(exp, do_simulation=True)"
   ]
  },
  {
   "cell_type": "code",
   "execution_count": null,
   "metadata": {},
   "outputs": [],
   "source": [
    "# Plot simulated output signals\n",
    "plot_output_signals(my_results)"
   ]
  }
 ],
 "metadata": {
  "kernelspec": {
   "display_name": "laboneq-1.2",
   "language": "python",
   "name": "python3"
  },
  "language_info": {
   "codemirror_mode": {
    "name": "ipython",
    "version": 3
   },
   "file_extension": ".py",
   "mimetype": "text/x-python",
   "name": "python",
   "nbconvert_exporter": "python",
   "pygments_lexer": "ipython3",
   "version": "3.9.13"
  },
  "toc": {
   "base_numbering": 1,
   "nav_menu": {},
   "number_sections": true,
   "sideBar": true,
   "skip_h1_title": false,
   "title_cell": "Table of Contents",
   "title_sidebar": "Contents",
   "toc_cell": false,
   "toc_position": {},
   "toc_section_display": true,
   "toc_window_display": true
  },
  "varInspector": {
   "cols": {
    "lenName": 16,
    "lenType": 16,
    "lenVar": 40
   },
   "kernels_config": {
    "python": {
     "delete_cmd_postfix": "",
     "delete_cmd_prefix": "del ",
     "library": "var_list.py",
     "varRefreshCmd": "print(var_dic_list())"
    },
    "r": {
     "delete_cmd_postfix": ") ",
     "delete_cmd_prefix": "rm(",
     "library": "var_list.r",
     "varRefreshCmd": "cat(var_dic_list()) "
    }
   },
   "types_to_exclude": [
    "module",
    "function",
    "builtin_function_or_method",
    "instance",
    "_Feature"
   ],
   "window_display": false
  },
  "vscode": {
   "interpreter": {
    "hash": "f29e0d32c72ae52cc38a6aefbf3be0decee6db725d12da167b37de889f90861f"
   }
  }
 },
 "nbformat": 4,
 "nbformat_minor": 1
}
