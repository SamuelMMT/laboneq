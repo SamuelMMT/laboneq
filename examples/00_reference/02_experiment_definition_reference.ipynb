{
 "cells": [
  {
   "attachments": {},
   "cell_type": "markdown",
   "id": "771e7eff",
   "metadata": {},
   "source": [
    "# Prerequisites"
   ]
  },
  {
   "cell_type": "code",
   "execution_count": null,
   "id": "11b2c6af",
   "metadata": {
    "ExecuteTime": {
     "end_time": "2021-10-28T10:07:55.961234Z",
     "start_time": "2021-10-28T10:07:54.607873Z"
    }
   },
   "outputs": [],
   "source": [
    "# convenience import for all LabOne Q software functionality\n",
    "from laboneq.simple import *\n"
   ]
  },
  {
   "cell_type": "code",
   "execution_count": null,
   "id": "440e9d5b",
   "metadata": {
    "ExecuteTime": {
     "end_time": "2021-10-28T10:07:55.989382Z",
     "start_time": "2021-10-28T10:07:55.961234Z"
    }
   },
   "outputs": [],
   "source": [
    "descriptor = \"\"\"\\\n",
    "instrument_list:\n",
    "  HDAWG:\n",
    "  - address: DEV1001\n",
    "    uid: device_hdawg \n",
    "  UHFQA:\n",
    "  - address: DEV2001    \n",
    "    uid: device_uhfqa\n",
    "  PQSC:  \n",
    "  - address: DEV3001\n",
    "    uid: device_pqsc\n",
    "connections:\n",
    "  device_hdawg:    \n",
    "    - iq_signal: q0/drive_line\n",
    "      ports: [SIGOUTS/0, SIGOUTS/1]        \n",
    "    - iq_signal: q1/drive_line\n",
    "      ports: [SIGOUTS/2, SIGOUTS/3]\n",
    "    - rf_signal: q0/flux_line\n",
    "      ports: [SIGOUTS/4]        \n",
    "    - rf_signal: q1/flux_line\n",
    "      ports: [SIGOUTS/5]              \n",
    "    - to: device_uhfqa\n",
    "      port: DIOS/0\n",
    "  device_uhfqa:    \n",
    "    - iq_signal: q0/measure_line\n",
    "      ports: [SIGOUTS/0, SIGOUTS/1]        \n",
    "    - acquire_signal: q0/acquire_line\n",
    "    - iq_signal: q1/measure_line\n",
    "      ports: [SIGOUTS/0, SIGOUTS/1]        \n",
    "    - acquire_signal: q1/acquire_line\n",
    "  device_pqsc:\n",
    "    - to: device_hdawg\n",
    "      port: ZSYNCS/0\n",
    "\"\"\"\n"
   ]
  },
  {
   "cell_type": "code",
   "execution_count": null,
   "id": "785b6072",
   "metadata": {
    "ExecuteTime": {
     "end_time": "2021-10-28T10:07:56.005806Z",
     "start_time": "2021-10-28T10:07:55.991987Z"
    }
   },
   "outputs": [],
   "source": [
    "def calibrate_devices(device_setup):\n",
    "    device_setup.logical_signal_groups[\"q0\"].logical_signals[\n",
    "        \"drive_line\"\n",
    "    ].calibration = SignalCalibration(\n",
    "        oscillator=Oscillator(\n",
    "            uid=\"drive_osc\", frequency=1e8, modulation_type=ModulationType.HARDWARE\n",
    "        ),\n",
    "        mixer_calibration=MixerCalibration(\n",
    "            voltage_offsets=[0.02, 0.01],\n",
    "            correction_matrix=[\n",
    "                [1.0, 0.0],\n",
    "                [0.0, 1.0],\n",
    "            ],\n",
    "        ),\n",
    "    )\n",
    "    device_setup.logical_signal_groups[\"q0\"].logical_signals[\n",
    "        \"flux_line\"\n",
    "    ].oscillator = Oscillator(\n",
    "        uid=\"flux_q0_osc\", frequency=1e8, modulation_type=ModulationType.HARDWARE\n",
    "    )\n",
    "    device_setup.logical_signal_groups[\"q0\"].logical_signals[\n",
    "        \"measure_line\"\n",
    "    ].calibration = SignalCalibration(\n",
    "        oscillator=Oscillator(\n",
    "            uid=\"measure_q0_osc\", frequency=1e8, modulation_type=ModulationType.SOFTWARE\n",
    "        ),\n",
    "        mixer_calibration=MixerCalibration(\n",
    "            voltage_offsets=[0.02, 0.01],\n",
    "            correction_matrix=[\n",
    "                [1.0, 0.0],\n",
    "                [0.0, 1.0],\n",
    "            ],\n",
    "        ),\n",
    "    )\n",
    "    device_setup.logical_signal_groups[\"q0\"].logical_signals[\n",
    "        \"acquire_line\"\n",
    "    ].oscillator = Oscillator(\n",
    "        uid=\"acquire_q0_osc\", frequency=1e8, modulation_type=ModulationType.SOFTWARE\n",
    "    )\n",
    "\n",
    "    device_setup.logical_signal_groups[\"q1\"].logical_signals[\n",
    "        \"drive_line\"\n",
    "    ].calibration = SignalCalibration(\n",
    "        oscillator=Oscillator(\n",
    "            uid=\"drive_q1_osc\", frequency=1e8, modulation_type=ModulationType.HARDWARE\n",
    "        ),\n",
    "        mixer_calibration=MixerCalibration(\n",
    "            voltage_offsets=[0.02, 0.01],\n",
    "            correction_matrix=[\n",
    "                [1.0, 0.0],\n",
    "                [0.0, 1.0],\n",
    "            ],\n",
    "        ),\n",
    "    )\n",
    "    device_setup.logical_signal_groups[\"q1\"].logical_signals[\n",
    "        \"flux_line\"\n",
    "    ].oscillator = Oscillator(\n",
    "        uid=\"flux_q1_osc\", frequency=1e8, modulation_type=ModulationType.HARDWARE\n",
    "    )\n",
    "    device_setup.logical_signal_groups[\"q1\"].logical_signals[\n",
    "        \"measure_line\"\n",
    "    ].calibration = SignalCalibration(\n",
    "        oscillator=Oscillator(\n",
    "            uid=\"measure_q1_osc\", frequency=1e8, modulation_type=ModulationType.SOFTWARE\n",
    "        ),\n",
    "        mixer_calibration=MixerCalibration(\n",
    "            voltage_offsets=[0.02, 0.01],\n",
    "            correction_matrix=[\n",
    "                [1.0, 0.0],\n",
    "                [0.0, 1.0],\n",
    "            ],\n",
    "        ),\n",
    "    )\n",
    "    device_setup.logical_signal_groups[\"q1\"].logical_signals[\n",
    "        \"acquire_line\"\n",
    "    ].oscillator = Oscillator(\n",
    "        uid=\"acquire_q1_osc\", frequency=1e8, modulation_type=ModulationType.SOFTWARE\n",
    "    )\n"
   ]
  },
  {
   "cell_type": "code",
   "execution_count": null,
   "id": "1bdef142",
   "metadata": {
    "ExecuteTime": {
     "end_time": "2021-10-28T10:07:56.021696Z",
     "start_time": "2021-10-28T10:07:56.007805Z"
    }
   },
   "outputs": [],
   "source": [
    "device_setup = DeviceSetup.from_descriptor(\n",
    "    descriptor,\n",
    "    server_host=\"111.22.33.44\",\n",
    "    server_port=\"8004\",\n",
    "    setup_name=\"ZI_QCCS\",\n",
    ")\n",
    "calibrate_devices(device_setup)\n"
   ]
  },
  {
   "cell_type": "code",
   "execution_count": null,
   "id": "56a555c4",
   "metadata": {
    "ExecuteTime": {
     "end_time": "2021-10-28T10:07:56.037966Z",
     "start_time": "2021-10-28T10:07:56.024737Z"
    }
   },
   "outputs": [],
   "source": [
    "# Create Resonator Spectroscopy example experiment\n",
    "exp = Experiment(\n",
    "    uid=\"Resonator Spectroscopy\",\n",
    "    signals=[ExperimentSignal(uid=\"q0_measure\"), ExperimentSignal(uid=\"q0_acquire\")],\n",
    ")\n",
    "\n",
    "# Connect experiment signals to logical signals\n",
    "exp.map_signal(\n",
    "    \"q0_measure\",\n",
    "    device_setup.logical_signal_groups[\"q0\"].logical_signals[\"measure_line\"],\n",
    ")\n",
    "exp.map_signal(\n",
    "    \"q0_acquire\",\n",
    "    device_setup.logical_signal_groups[\"q0\"].logical_signals[\"acquire_line\"],\n",
    ")\n",
    "\n",
    "start = -100e6\n",
    "stop = 100e6\n",
    "count = 20\n",
    "average_exponent = 10  # used for 2^n averages, n=average_exponent, maximum: n = 17\n",
    "\n",
    "sweep_parameter = LinearSweepParameter(\n",
    "    uid=\"sweep_param\", start=start, stop=stop, count=count\n",
    ")\n",
    "\n",
    "device_setup.logical_signal_groups[\"q0\"].logical_signals[\n",
    "    \"measure_line\"\n",
    "].oscillator.frequency = sweep_parameter\n",
    "device_setup.logical_signal_groups[\"q0\"].logical_signals[\n",
    "    \"measure_line\"\n",
    "].oscillator.modulation_type = ModulationType.HARDWARE\n",
    "\n",
    "\n",
    "with exp.sweep(uid=\"sweep\", parameter=sweep_parameter):\n",
    "    with exp.acquire_loop_rt(\n",
    "        uid=\"avg\",\n",
    "        count=pow(2, average_exponent),\n",
    "        averaging_mode=AveragingMode.SEQUENTIAL,\n",
    "        acquisition_type=AcquisitionType.SPECTROSCOPY,\n",
    "    ):\n",
    "        with exp.section(uid=\"spectroscopy\"):\n",
    "            exp.play(\n",
    "                signal=\"q0_measure\",\n",
    "                pulse=pulse_library.const(length=1e-6, amplitude=1.0),\n",
    "            )\n",
    "            exp.acquire(\n",
    "                signal=\"q0_acquire\",\n",
    "                handle=\"h\",\n",
    "                length=1e-6,\n",
    "            )\n",
    "        with exp.section(uid=\"relax\"):\n",
    "            exp.play(\n",
    "                signal=\"q0_measure\",\n",
    "                pulse=pulse_library.const(length=1e-6, amplitude=0.0),\n",
    "            )  # KNOWN ISSUE: Need to wait for 1us to prevent QA holdoff error\n"
   ]
  },
  {
   "cell_type": "code",
   "execution_count": null,
   "id": "ec5c47c6",
   "metadata": {
    "ExecuteTime": {
     "end_time": "2021-10-28T10:07:56.360264Z",
     "start_time": "2021-10-28T10:07:56.038858Z"
    }
   },
   "outputs": [],
   "source": [
    "session = Session(device_setup=device_setup)\n",
    "session.connect(do_emulation=True)\n",
    "my_results = session.run(exp)\n"
   ]
  },
  {
   "attachments": {},
   "cell_type": "markdown",
   "id": "c6460f9b",
   "metadata": {},
   "source": [
    "# Experiment Instantiation"
   ]
  },
  {
   "cell_type": "code",
   "execution_count": null,
   "id": "908f939f",
   "metadata": {
    "ExecuteTime": {
     "end_time": "2021-10-28T10:07:56.376307Z",
     "start_time": "2021-10-28T10:07:56.364227Z"
    }
   },
   "outputs": [],
   "source": [
    "exp = Experiment()\n",
    "\n",
    "exp = Experiment(uid=\"MyExperiment\")\n",
    "\n",
    "exp = Experiment(\n",
    "    uid=\"MyExperiment\",\n",
    "    signals=[ExperimentSignal(uid=\"q0_measure\"), ExperimentSignal(uid=\"q0_acquire\")],\n",
    ")\n"
   ]
  },
  {
   "cell_type": "code",
   "execution_count": null,
   "id": "49138b44",
   "metadata": {
    "ExecuteTime": {
     "end_time": "2021-10-28T10:07:56.388605Z",
     "start_time": "2021-10-28T10:07:56.380284Z"
    }
   },
   "outputs": [],
   "source": [
    "exp.add_signal(uid=\"q0_drive\")\n"
   ]
  },
  {
   "cell_type": "code",
   "execution_count": null,
   "id": "4be2b546",
   "metadata": {
    "ExecuteTime": {
     "end_time": "2021-10-28T10:07:56.408508Z",
     "start_time": "2021-10-28T10:07:56.388605Z"
    }
   },
   "outputs": [],
   "source": [
    "exp.experiment_signals_uids()\n"
   ]
  },
  {
   "cell_type": "code",
   "execution_count": null,
   "id": "b30060d6",
   "metadata": {
    "ExecuteTime": {
     "end_time": "2021-10-28T10:07:56.434428Z",
     "start_time": "2021-10-28T10:07:56.410564Z"
    }
   },
   "outputs": [],
   "source": [
    "exp.is_experiment_signal(\"q0_drive\")\n"
   ]
  },
  {
   "cell_type": "code",
   "execution_count": null,
   "id": "a6134788",
   "metadata": {
    "ExecuteTime": {
     "end_time": "2021-10-28T10:07:56.450020Z",
     "start_time": "2021-10-28T10:07:56.434428Z"
    }
   },
   "outputs": [],
   "source": [
    "exp.map_signal(\n",
    "    \"q0_drive\", device_setup.logical_signal_groups[\"q0\"].logical_signals[\"drive_line\"]\n",
    ")\n",
    "exp.map_signal(\n",
    "    \"q0_measure\",\n",
    "    device_setup.logical_signal_groups[\"q0\"].logical_signals[\"measure_line\"],\n",
    ")\n",
    "exp.map_signal(\n",
    "    \"q0_acquire\",\n",
    "    device_setup.logical_signal_groups[\"q0\"].logical_signals[\"acquire_line\"],\n",
    ")\n"
   ]
  },
  {
   "cell_type": "code",
   "execution_count": null,
   "id": "a61c9c83",
   "metadata": {
    "ExecuteTime": {
     "end_time": "2021-10-28T10:07:56.465639Z",
     "start_time": "2021-10-28T10:07:56.450020Z"
    },
    "scrolled": true
   },
   "outputs": [],
   "source": [
    "exp.signal_mapping_status\n"
   ]
  },
  {
   "attachments": {},
   "cell_type": "markdown",
   "id": "91e39f06",
   "metadata": {},
   "source": [
    "# DSL Sections"
   ]
  },
  {
   "attachments": {},
   "cell_type": "markdown",
   "id": "7134963f",
   "metadata": {},
   "source": [
    "## Simple Section"
   ]
  },
  {
   "cell_type": "code",
   "execution_count": null,
   "id": "01dae9c1",
   "metadata": {
    "ExecuteTime": {
     "end_time": "2021-10-28T10:07:56.481262Z",
     "start_time": "2021-10-28T10:07:56.465639Z"
    }
   },
   "outputs": [],
   "source": [
    "with exp.section(uid=\"qubit_excitation\"):\n",
    "    # e.g. play pulses here\n",
    "    pass\n",
    "# with exp.section(uid=\"qubit_excitation\"): # Nest one section in another and inherit exec_type from parent section\n",
    "# e.g. play pulses here\n",
    "#    pass\n"
   ]
  },
  {
   "attachments": {},
   "cell_type": "markdown",
   "id": "7a33f47f",
   "metadata": {},
   "source": [
    "## Access Current Section"
   ]
  },
  {
   "cell_type": "code",
   "execution_count": null,
   "id": "bfe0ff5e",
   "metadata": {},
   "outputs": [],
   "source": [
    "def play_x90_on_drive(section):\n",
    "    section.play(\n",
    "        signal=\"q0_drive\",\n",
    "        pulse=pulse_library.gaussian(uid=\"x90\", length=100e-9, amplitude=1.0),\n",
    "    )\n",
    "\n",
    "\n",
    "with exp.section(uid=\"prepare\") as s:\n",
    "    play_x90_on_drive(s)\n",
    "\n",
    "with exp.section(uid=\"conclude\") as s:\n",
    "    play_x90_on_drive(s)\n"
   ]
  },
  {
   "attachments": {},
   "cell_type": "markdown",
   "id": "7f6d8fb3",
   "metadata": {},
   "source": [
    "## Sweep Section"
   ]
  },
  {
   "cell_type": "code",
   "execution_count": null,
   "id": "c267c312",
   "metadata": {
    "ExecuteTime": {
     "end_time": "2021-10-28T10:07:56.496889Z",
     "start_time": "2021-10-28T10:07:56.481262Z"
    }
   },
   "outputs": [],
   "source": [
    "# 1D sweep with one parameter\n",
    "sweep_parameter_1 = LinearSweepParameter(\n",
    "    uid=\"lin_sweep_1\", start=0.0, stop=1.0, count=10, axis_name=\"Amplitude\"\n",
    ")\n",
    "\n",
    "with exp.sweep(uid=\"single_sweep\", parameter=sweep_parameter_1):\n",
    "    pass\n"
   ]
  },
  {
   "cell_type": "code",
   "execution_count": null,
   "id": "b31c68d6",
   "metadata": {
    "ExecuteTime": {
     "end_time": "2021-10-28T10:07:56.513064Z",
     "start_time": "2021-10-28T10:07:56.496889Z"
    }
   },
   "outputs": [],
   "source": [
    "# 2D sweep with two parameters\n",
    "sweep_parameter_1 = LinearSweepParameter(\n",
    "    uid=\"lin_sweep_1\", start=0.0, stop=1.0, count=10, axis_name=\"Amplitude\"\n",
    ")\n",
    "sweep_parameter_2 = LinearSweepParameter(\n",
    "    uid=\"lin_sweep_2\", start=1e6, stop=1e9, count=20, axis_name=\"Frequency\"\n",
    ")\n",
    "\n",
    "with exp.sweep(uid=\"sweep_first_d\", parameter=sweep_parameter_1):\n",
    "    with exp.sweep(uid=\"sweep_second_d\", parameter=sweep_parameter_2):\n",
    "        pass\n"
   ]
  },
  {
   "cell_type": "code",
   "execution_count": null,
   "id": "66fce8ef",
   "metadata": {
    "ExecuteTime": {
     "end_time": "2021-10-28T10:07:56.529122Z",
     "start_time": "2021-10-28T10:07:56.516260Z"
    }
   },
   "outputs": [],
   "source": [
    "# 1D sweep with multiple parameter in pararallel\n",
    "sweep_parameter_1 = LinearSweepParameter(\n",
    "    uid=\"lin_sweep_1\", start=0.0, stop=1.0, count=10, axis_name=\"Amplitude\"\n",
    ")\n",
    "sweep_parameter_2 = LinearSweepParameter(\n",
    "    uid=\"lin_sweep_2\", start=1e6, stop=1e9, count=10, axis_name=\"Frequency\"\n",
    ")\n",
    "\n",
    "with exp.sweep(uid=\"multi_sweep\", parameter=[sweep_parameter_1, sweep_parameter_2]):\n",
    "    pass\n"
   ]
  },
  {
   "attachments": {},
   "cell_type": "markdown",
   "id": "8fc40e0b",
   "metadata": {},
   "source": [
    "## Averaging Acquire Loop in near time"
   ]
  },
  {
   "cell_type": "code",
   "execution_count": null,
   "id": "2605ec68",
   "metadata": {
    "ExecuteTime": {
     "end_time": "2021-10-28T10:07:56.545125Z",
     "start_time": "2021-10-28T10:07:56.531096Z"
    }
   },
   "outputs": [],
   "source": [
    "with exp.acquire_loop_nt(\n",
    "    uid=\"acquire_loop_nt\", count=10, averaging_mode=AveragingMode.SEQUENTIAL\n",
    "):\n",
    "    pass\n",
    "# TODO: parameter argument?\n"
   ]
  },
  {
   "attachments": {},
   "cell_type": "markdown",
   "id": "fd8bb93d",
   "metadata": {},
   "source": [
    "## Averaging Acquire Loop in real time"
   ]
  },
  {
   "cell_type": "code",
   "execution_count": null,
   "id": "cea1aa02",
   "metadata": {
    "ExecuteTime": {
     "end_time": "2021-10-28T10:07:56.555148Z",
     "start_time": "2021-10-28T10:07:56.548091Z"
    }
   },
   "outputs": [],
   "source": [
    "with exp.acquire_loop_rt(\n",
    "    uid=\"acquire_loop_rt\",\n",
    "    count=20,\n",
    "    averaging_mode=AveragingMode.SEQUENTIAL,\n",
    "    acquisition_type=AcquisitionType.INTEGRATION,\n",
    "    repetition_mode=RepetitionMode.CONSTANT,\n",
    "    repetition_time=1e-06,\n",
    "):\n",
    "    pass\n",
    "# TODO: parameter argument?\n"
   ]
  },
  {
   "attachments": {},
   "cell_type": "markdown",
   "id": "eef26c14",
   "metadata": {},
   "source": [
    "# DSL Operations in near time"
   ]
  },
  {
   "attachments": {},
   "cell_type": "markdown",
   "id": "feeffe27",
   "metadata": {},
   "source": [
    "## Callback Function"
   ]
  },
  {
   "cell_type": "code",
   "execution_count": null,
   "id": "dfd4d7d2",
   "metadata": {
    "ExecuteTime": {
     "end_time": "2021-10-28T10:07:56.584350Z",
     "start_time": "2021-10-28T10:07:56.555148Z"
    }
   },
   "outputs": [],
   "source": [
    "# exp.call()\n"
   ]
  },
  {
   "attachments": {},
   "cell_type": "markdown",
   "id": "54826045",
   "metadata": {},
   "source": [
    "## Set node parameter in Zurich Instruments devices"
   ]
  },
  {
   "cell_type": "code",
   "execution_count": null,
   "id": "997839c9",
   "metadata": {
    "ExecuteTime": {
     "end_time": "2021-10-28T10:07:56.615084Z",
     "start_time": "2021-10-28T10:07:56.584350Z"
    }
   },
   "outputs": [],
   "source": [
    "# exp.set_node(path='', value=value)\n"
   ]
  },
  {
   "attachments": {},
   "cell_type": "markdown",
   "id": "b05e9379",
   "metadata": {},
   "source": [
    "# DSL Operations in real time"
   ]
  },
  {
   "attachments": {},
   "cell_type": "markdown",
   "id": "0888e471",
   "metadata": {},
   "source": [
    "## Play Pulse"
   ]
  },
  {
   "cell_type": "code",
   "execution_count": null,
   "id": "eede8726",
   "metadata": {
    "ExecuteTime": {
     "end_time": "2021-10-28T10:07:56.630673Z",
     "start_time": "2021-10-28T10:07:56.615084Z"
    }
   },
   "outputs": [],
   "source": [
    "with exp.section(uid=\"drive\"):\n",
    "    exp.play(\n",
    "        signal=\"q0_drive\",\n",
    "        pulse=pulse_library.gaussian(uid=\"x90\", length=100e-9, amplitude=1.0),\n",
    "    )\n"
   ]
  },
  {
   "attachments": {},
   "cell_type": "markdown",
   "id": "bfdea064",
   "metadata": {},
   "source": [
    "## Acquire Signal"
   ]
  },
  {
   "cell_type": "code",
   "execution_count": null,
   "id": "fc1bd996",
   "metadata": {
    "ExecuteTime": {
     "end_time": "2021-10-28T10:07:56.646303Z",
     "start_time": "2021-10-28T10:07:56.630673Z"
    }
   },
   "outputs": [],
   "source": [
    "acquisition_pulse = pulse_library.const(length=1e-6, amplitude=1.0)\n",
    "qubit1_kernel = pulse_library.const(length=1e-6, amplitude=1.0)\n",
    "\n",
    "with exp.acquire_loop_rt(\n",
    "    uid=\"ac\",\n",
    "    count=1,\n",
    "    acquisition_type=AcquisitionType.INTEGRATION,\n",
    "):\n",
    "    exp.acquire(signal=\"q0_acquire\", handle=\"handle1\", kernel=qubit1_kernel)\n",
    "    exp.acquire(\n",
    "        signal=\"q1_acquire\", handle=\"handle2\", kernel=qubit1_kernel\n",
    "    )  # Would this overwrite result_buffer?\n",
    "    exp.acquire(\n",
    "        signal=\"q1_acquire\", handle=\"handle3\", kernel=qubit1_kernel\n",
    "    )  # Add Acquire() meta-info e.g. \"kernel\" to the handle?\n",
    "\n",
    "# my_results = results.get(result_buffer=\"handle\")\n"
   ]
  },
  {
   "attachments": {},
   "cell_type": "markdown",
   "id": "94b521ca",
   "metadata": {},
   "source": [
    "## Delay"
   ]
  },
  {
   "cell_type": "code",
   "execution_count": null,
   "id": "d8dd584a",
   "metadata": {
    "ExecuteTime": {
     "end_time": "2021-10-28T10:07:56.661927Z",
     "start_time": "2021-10-28T10:07:56.646303Z"
    }
   },
   "outputs": [],
   "source": [
    "with exp.section(uid=\"delay\"):\n",
    "    exp.delay(signal=\"q0_drive\", time=1e-03)\n"
   ]
  },
  {
   "attachments": {},
   "cell_type": "markdown",
   "id": "1f40cceb",
   "metadata": {},
   "source": [
    "## Signal Reservation"
   ]
  },
  {
   "cell_type": "code",
   "execution_count": null,
   "id": "e73cc824",
   "metadata": {
    "ExecuteTime": {
     "end_time": "2021-10-28T10:07:56.677560Z",
     "start_time": "2021-10-28T10:07:56.661927Z"
    }
   },
   "outputs": [],
   "source": [
    "with exp.section(uid=\"reserve\"):\n",
    "    exp.reserve(\"q0_drive\")\n"
   ]
  },
  {
   "cell_type": "code",
   "execution_count": null,
   "id": "efe83b0a",
   "metadata": {},
   "outputs": [],
   "source": []
  }
 ],
 "metadata": {
  "hide_input": false,
  "kernelspec": {
   "display_name": "develop",
   "language": "python",
   "name": "develop"
  },
  "language_info": {
   "codemirror_mode": {
    "name": "ipython",
    "version": 3
   },
   "file_extension": ".py",
   "mimetype": "text/x-python",
   "name": "python",
   "nbconvert_exporter": "python",
   "pygments_lexer": "ipython3",
   "version": "3.11.0"
  },
  "toc": {
   "base_numbering": 1,
   "nav_menu": {},
   "number_sections": true,
   "sideBar": true,
   "skip_h1_title": false,
   "title_cell": "Table of Contents",
   "title_sidebar": "Contents",
   "toc_cell": false,
   "toc_position": {
    "height": "calc(100% - 180px)",
    "left": "10px",
    "top": "150px",
    "width": "268.3px"
   },
   "toc_section_display": true,
   "toc_window_display": false
  },
  "varInspector": {
   "cols": {
    "lenName": 16,
    "lenType": 16,
    "lenVar": 40
   },
   "kernels_config": {
    "python": {
     "delete_cmd_postfix": "",
     "delete_cmd_prefix": "del ",
     "library": "var_list.py",
     "varRefreshCmd": "print(var_dic_list())"
    },
    "r": {
     "delete_cmd_postfix": ") ",
     "delete_cmd_prefix": "rm(",
     "library": "var_list.r",
     "varRefreshCmd": "cat(var_dic_list()) "
    }
   },
   "types_to_exclude": [
    "module",
    "function",
    "builtin_function_or_method",
    "instance",
    "_Feature"
   ],
   "window_display": false
  },
  "vscode": {
   "interpreter": {
    "hash": "1b9cd87bacaca95307316567b90635eca490931021bc2a81dadc6410ac7e1912"
   }
  }
 },
 "nbformat": 4,
 "nbformat_minor": 5
}
