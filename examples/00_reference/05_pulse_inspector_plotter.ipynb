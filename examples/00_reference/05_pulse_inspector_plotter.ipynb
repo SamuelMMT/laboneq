{
 "cells": [
  {
   "cell_type": "markdown",
   "metadata": {},
   "source": [
    "# Pulse Inspector and Bloch Simulator"
   ]
  },
  {
   "cell_type": "code",
   "execution_count": null,
   "metadata": {},
   "outputs": [],
   "source": [
    "from laboneq.contrib.bloch_simulator_pulse_plotter.inspector.update_inspect import (\n",
    "    pulse_update,\n",
    ")\n",
    "\n",
    "from laboneq.dsl.experiment import pulse_library\n",
    "from laboneq.contrib.bloch_simulator_pulse_plotter.inspector.update_inspect import (\n",
    "    pulse_inspector,\n",
    ")"
   ]
  },
  {
   "attachments": {},
   "cell_type": "markdown",
   "metadata": {},
   "source": [
    "## Inversion with gaussian pulse"
   ]
  },
  {
   "cell_type": "code",
   "execution_count": null,
   "metadata": {},
   "outputs": [],
   "source": [
    "## define pulse\n",
    "my_pulse = pulse_library.gaussian(uid=\"my_pulse\", length=100e-9, amplitude=1.0)\n",
    "\n",
    "## update pulse with spectral window and flip angle and subsequently, peak amplitude\n",
    "my_pulse = pulse_update(my_pulse, spectral_window=200e6, flip_angle=180)"
   ]
  },
  {
   "cell_type": "code",
   "execution_count": null,
   "metadata": {},
   "outputs": [],
   "source": [
    "## plot IQ quadratures - is default (corresponds to output of instruments)\n",
    "pulse_inspector(my_pulse)"
   ]
  },
  {
   "cell_type": "code",
   "execution_count": null,
   "metadata": {},
   "outputs": [],
   "source": [
    "## plot IQ quadratures - is default (corresponds to output of instruments)\n",
    "pulse_inspector(my_pulse, iq=True)"
   ]
  },
  {
   "cell_type": "code",
   "execution_count": null,
   "metadata": {},
   "outputs": [],
   "source": [
    "## plot amplitude and phase quadratures\n",
    "pulse_inspector(my_pulse, amp_phi=True)"
   ]
  },
  {
   "cell_type": "code",
   "execution_count": null,
   "metadata": {},
   "outputs": [],
   "source": [
    "# plot frequency response / Bloch simulation of pulse\n",
    "pulse_inspector(my_pulse, response=True)"
   ]
  },
  {
   "attachments": {},
   "cell_type": "markdown",
   "metadata": {},
   "source": [
    "## Inversion with flat-top Gaussian pulse"
   ]
  },
  {
   "cell_type": "code",
   "execution_count": null,
   "metadata": {},
   "outputs": [],
   "source": [
    "## define pulse\n",
    "my_pulse = pulse_library.gaussian_square(\n",
    "    uid=\"my_pulse\", length=100e-9, amplitude=1.0, width=80e-9\n",
    ")\n",
    "\n",
    "my_pulse = pulse_update(my_pulse, spectral_window=200e6, flip_angle=180)"
   ]
  },
  {
   "cell_type": "code",
   "execution_count": null,
   "metadata": {},
   "outputs": [],
   "source": [
    "## nothing has been provided\n",
    "pulse_inspector(my_pulse)"
   ]
  },
  {
   "cell_type": "code",
   "execution_count": null,
   "metadata": {},
   "outputs": [],
   "source": [
    "## plot IQ quadratures - is default (corresponds to output of instruments)\n",
    "pulse_inspector(my_pulse, iq=True)"
   ]
  },
  {
   "cell_type": "code",
   "execution_count": null,
   "metadata": {},
   "outputs": [],
   "source": [
    "## plot amplitude and phase quadratures\n",
    "pulse_inspector(my_pulse, amp_phi=True)"
   ]
  },
  {
   "cell_type": "code",
   "execution_count": null,
   "metadata": {},
   "outputs": [],
   "source": [
    "## plot frequency response / Bloch simulation of pulse\n",
    "pulse_inspector(my_pulse, response=True)"
   ]
  },
  {
   "attachments": {},
   "cell_type": "markdown",
   "metadata": {},
   "source": [
    "## Inversion with DRAG pulse"
   ]
  },
  {
   "cell_type": "code",
   "execution_count": null,
   "metadata": {},
   "outputs": [],
   "source": [
    "## define pulse\n",
    "my_pulse = pulse_library.drag(uid=\"my_pulse\", length=100e-9, amplitude=1.0, beta=0.2)\n",
    "\n",
    "my_pulse = pulse_update(\n",
    "    my_pulse,\n",
    "    spectral_window=200e6,\n",
    "    flip_angle=180,\n",
    "    pulse_parameters=my_pulse.pulse_parameters,\n",
    ")"
   ]
  },
  {
   "cell_type": "code",
   "execution_count": null,
   "metadata": {},
   "outputs": [],
   "source": [
    "## nothing has been provided\n",
    "pulse_inspector(my_pulse)"
   ]
  },
  {
   "cell_type": "code",
   "execution_count": null,
   "metadata": {},
   "outputs": [],
   "source": [
    "## plot IQ quadratures - is default (corresponds to output of instruments)\n",
    "pulse_inspector(my_pulse, iq=True)"
   ]
  },
  {
   "cell_type": "code",
   "execution_count": null,
   "metadata": {},
   "outputs": [],
   "source": [
    "## plot amplitude and phase quadratures\n",
    "pulse_inspector(my_pulse, amp_phi=True)"
   ]
  },
  {
   "cell_type": "code",
   "execution_count": null,
   "metadata": {
    "collapsed": false
   },
   "outputs": [],
   "source": [
    "## plot I and Q and amplitude and phase quadratures\n",
    "pulse_inspector(my_pulse, amp_phi=True, iq=True)"
   ]
  },
  {
   "cell_type": "code",
   "execution_count": null,
   "metadata": {},
   "outputs": [],
   "source": [
    "## plot frequency response / Bloch simulation of pulse\n",
    "pulse_inspector(my_pulse, response=True)"
   ]
  },
  {
   "cell_type": "code",
   "execution_count": null,
   "metadata": {},
   "outputs": [],
   "source": []
  }
 ],
 "metadata": {
  "kernelspec": {
   "display_name": "develop",
   "language": "python",
   "name": "develop"
  },
  "language_info": {
   "codemirror_mode": {
    "name": "ipython",
    "version": 3
   },
   "file_extension": ".py",
   "mimetype": "text/x-python",
   "name": "python",
   "nbconvert_exporter": "python",
   "pygments_lexer": "ipython3",
   "version": "3.11.0"
  }
 },
 "nbformat": 4,
 "nbformat_minor": 1
}
