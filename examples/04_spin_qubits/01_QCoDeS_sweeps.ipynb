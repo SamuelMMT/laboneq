{
 "cells": [
  {
   "attachments": {},
   "cell_type": "markdown",
   "id": "46cfbe23",
   "metadata": {},
   "source": [
    "# Sweeping paramters with QCoDeS in LabOne Q"
   ]
  },
  {
   "attachments": {},
   "cell_type": "markdown",
   "id": "4a5e08b0",
   "metadata": {},
   "source": [
    "This notebook shows you how to perform a very general 2D sweep. Here, the two sweep axes are set through a [QCoDeS](https://qcodes.github.io/Qcodes/) parameter, mimicing arbitrary instruments that can be controlled with a QCoDeS driver."
   ]
  },
  {
   "attachments": {},
   "cell_type": "markdown",
   "metadata": {},
   "source": [
    "# General Imports"
   ]
  },
  {
   "cell_type": "code",
   "execution_count": null,
   "id": "9c56cac7",
   "metadata": {
    "ExecuteTime": {
     "end_time": "2021-10-01T06:52:59.392055Z",
     "start_time": "2021-10-01T06:52:57.155702Z"
    }
   },
   "outputs": [],
   "source": [
    "%config IPCompleter.greedy=True\n",
    "\n",
    "import matplotlib.pyplot as plt\n",
    "import numpy as np\n",
    "import logging\n",
    "import time\n",
    "import ipywidgets as widgets\n",
    "from IPython.display import clear_output\n",
    "\n",
    "from laboneq.simple import *"
   ]
  },
  {
   "cell_type": "code",
   "execution_count": null,
   "id": "abda368b",
   "metadata": {},
   "outputs": [],
   "source": [
    "import qcodes as qc\n",
    "from qcodes.tests.instrument_mocks import DummyInstrument\n"
   ]
  },
  {
   "cell_type": "code",
   "execution_count": null,
   "id": "cfe83f26",
   "metadata": {},
   "outputs": [],
   "source": [
    "# generate dummy instruments\n",
    "my_magnet = DummyInstrument(name=\"magnet\", gates=[\"Bx\", \"By\", \"Bz\"])\n",
    "my_LO = DummyInstrument(name=\"RF_source\", gates=[\"P\", \"f\"])\n"
   ]
  },
  {
   "cell_type": "markdown",
   "id": "e66d0291",
   "metadata": {},
   "source": [
    "# Device Setup"
   ]
  },
  {
   "cell_type": "markdown",
   "id": "a36a3823",
   "metadata": {},
   "source": [
    "## Create device setup"
   ]
  },
  {
   "cell_type": "code",
   "execution_count": null,
   "id": "f142cff7",
   "metadata": {},
   "outputs": [],
   "source": [
    "descriptor = f\"\"\"\\\n",
    "instruments:\n",
    "  MFLI:\n",
    "  - address: DEV5534\n",
    "    uid: device_mfli\n",
    "\"\"\"\n",
    "\n",
    "device_setup = DeviceSetup.from_descriptor(\n",
    "    descriptor,\n",
    "    server_host=\"your_ip_address\",\n",
    "    server_port=8004,\n",
    "    setup_name=\"MySetup\",\n",
    ")\n"
   ]
  },
  {
   "cell_type": "markdown",
   "metadata": {},
   "source": [
    "## Connect session"
   ]
  },
  {
   "cell_type": "code",
   "execution_count": null,
   "metadata": {},
   "outputs": [],
   "source": [
    "# create and connect to session\n",
    "session = Session(device_setup=device_setup)\n",
    "session.connect(do_emulation=True)\n"
   ]
  },
  {
   "attachments": {},
   "cell_type": "markdown",
   "id": "476a49d2",
   "metadata": {},
   "source": [
    "# MFLI example"
   ]
  },
  {
   "attachments": {},
   "cell_type": "markdown",
   "id": "0cb835ce",
   "metadata": {},
   "source": [
    "## Connect to instrument in session"
   ]
  },
  {
   "cell_type": "code",
   "execution_count": null,
   "id": "60c1e3f6",
   "metadata": {},
   "outputs": [],
   "source": [
    "mfli = session.devices[\"device_mfli\"]\n"
   ]
  },
  {
   "attachments": {},
   "cell_type": "markdown",
   "id": "b2ed6e8f",
   "metadata": {},
   "source": [
    "## Experiment"
   ]
  },
  {
   "cell_type": "code",
   "execution_count": null,
   "id": "81c29f0d",
   "metadata": {},
   "outputs": [],
   "source": [
    "## constant definition\n",
    "INT_TIME = 30e-3\n",
    "\n",
    "# Define sweep parameter\n",
    "magnet_sweep = LinearSweepParameter(\n",
    "    uid=\"Bfield_sweep\", start=-400, stop=400, count=9, axis_name=\"Magnetic field (mT)\"\n",
    ")\n",
    "\n",
    "frequency_sweep = LinearSweepParameter(\n",
    "    uid=\"frequency_sweep\", start=0, stop=400, count=5, axis_name=\"Frequency (MHz)\"\n",
    ")\n",
    "\n",
    "## Create Experiment\n",
    "exp = Experiment(\"Generic experiment\")\n",
    "\n",
    "# define experiment\n",
    "with exp.sweep(uid=\"outer_sweep\", parameter=magnet_sweep):\n",
    "    # use user function\n",
    "    exp.call(\"set_magnet\", value=magnet_sweep)\n",
    "    with exp.sweep(uid=\"inner_sweep\", parameter=frequency_sweep):\n",
    "        # use user function\n",
    "        exp.call(\"set_frequency\", value=frequency_sweep)\n",
    "        exp.call(\"readMFLI\", settling_time=0.1)\n"
   ]
  },
  {
   "attachments": {},
   "cell_type": "markdown",
   "metadata": {},
   "source": [
    "## Configure MFLI and DAQ module"
   ]
  },
  {
   "cell_type": "code",
   "execution_count": null,
   "id": "f88760d2",
   "metadata": {},
   "outputs": [],
   "source": [
    "# configure MFLI\n",
    "demod = mfli.demods[0]  # which demodulator to use (depends on MF option)\n",
    "\n",
    "with mfli.set_transaction():\n",
    "    mfli.demods[\"*\"].enable(False)\n",
    "    mfli.oscs[0].freq(1e6)\n",
    "    demod.order(1)\n",
    "    demod.rate(1e3)\n",
    "    demod.trigger(\"continuous\")\n",
    "    demod.timeconstant(10e-3)\n",
    "    demod.enable(True)\n",
    "\n",
    "# Parameters\n",
    "DEMOD_RATE_MFLI = demod.rate()  # read the value from the instrument\n",
    "NUM_COLS = int(\n",
    "    np.ceil(DEMOD_RATE_MFLI * INT_TIME)\n",
    ")  # Number of samples per burst. Corresponds to length of time trace in units of sampling rate.\n",
    "\n",
    "# Module creation\n",
    "daq_module = mfli._session.modules.daq  # Create DAQ module\n",
    "daq_module.device(mfli)  # Assign DAQ module to instrument\n",
    "daq_module.type(0)  # Continuous acquisition\n",
    "daq_module.endless(False)  # Single acquisition/trace\n",
    "\n",
    "# Shape of my grid\n",
    "daq_module.grid.mode(\n",
    "    4\n",
    ")  # Specify how the acquired data is sampled onto the matrix’s horizontal axis (4='exact')\n",
    "daq_module.count(1)  # Number of grids to be acquired\n",
    "daq_module.grid.cols(\n",
    "    NUM_COLS\n",
    ")  # Length of acquired trace (in units of demodulator sample)\n",
    "daq_module.grid.rows(1)  # Number of rows per acquisition run\n",
    "daq_module.grid.rowrepetition(\n",
    "    False\n",
    ")  # Averaging mode of rows (irrevelant for grid.rows(1))\n",
    "# True: First average each row, then fill the next row -> sequential averaging\n",
    "# False: First fill each row, then average the rows -> cyclic averaging\n",
    "\n",
    "# Subscribe to the values that should be measured\n",
    "# Nodes to read\n",
    "sample_nodes = [\n",
    "    demod.sample.r.avg,\n",
    "    demod.sample.theta.avg,\n",
    "]\n",
    "for node in sample_nodes:\n",
    "    daq_module.subscribe(node)\n",
    "\n",
    "# Print relevant settings if needed\n",
    "# print(f\"Columns: {daq_module.grid.cols()}\")\n",
    "# print(f\"Rows: {daq_module.grid.rows()}\")\n",
    "# print(f\"Repetitions: {daq_module.grid.repetitions()}\")\n",
    "# print(f\"Holdoff: {daq_module.holdoff.time()}\")\n"
   ]
  },
  {
   "attachments": {},
   "cell_type": "markdown",
   "metadata": {},
   "source": [
    "## Define user functions for arming MFLI and reading results"
   ]
  },
  {
   "cell_type": "code",
   "execution_count": null,
   "id": "39481a91",
   "metadata": {},
   "outputs": [],
   "source": [
    "def readMFLI(session, settling_time):\n",
    "    if session.connection_state.emulated:\n",
    "        return \"Emulation running\"\n",
    "\n",
    "    clockbase = mfli.clockbase()\n",
    "    timeout = 10  # s\n",
    "\n",
    "    time.sleep(settling_time)\n",
    "    daq_module.execute()\n",
    "\n",
    "    # Retrieve data from UHFLI DAQ module\n",
    "    start_time = time.time()\n",
    "    while time.time() - start_time < timeout:\n",
    "        time.sleep(INT_TIME)\n",
    "\n",
    "        if daq_module.raw_module.finished() == True:\n",
    "            progress = daq_module.raw_module.finished()\n",
    "            # print(f\"Progress of data acquisition: {100 * progress:.2f}%.\")\n",
    "            break\n",
    "\n",
    "        progress = daq_module.raw_module.finished()\n",
    "\n",
    "    if not (time.time() - start_time < timeout):\n",
    "        print(\n",
    "            f\"Data acquisition timed out. Not all results collected, data is corrupted.\"\n",
    "        )\n",
    "\n",
    "    # Get data\n",
    "    daq_data = daq_module.read(raw=False, clk_rate=clockbase)\n",
    "\n",
    "    return daq_data\n"
   ]
  },
  {
   "cell_type": "code",
   "execution_count": null,
   "id": "494b76a7",
   "metadata": {},
   "outputs": [],
   "source": [
    "def set_magnet(session, value):\n",
    "    my_magnet.Bx.set(value)  # set new value in mT\n",
    "    print(f\"Set magnet to new value:{value}\")\n",
    "    time.sleep(0.1)  # settling time\n",
    "    return my_magnet.Bx.get()  # return new value\n",
    "\n",
    "\n",
    "def set_frequency(session, value):\n",
    "    my_LO.f.set(value)  # set new value in MHz\n",
    "    print(f\"Set new frequency:{value}\")\n",
    "    time.sleep(0.1)  # settling time\n",
    "    return my_LO.f.get()  # return new value\n"
   ]
  },
  {
   "cell_type": "code",
   "execution_count": null,
   "id": "435c6852",
   "metadata": {},
   "outputs": [],
   "source": [
    "# register user functions\n",
    "session.register_user_function(set_magnet, \"set_magnet\")\n",
    "session.register_user_function(set_frequency, \"set_frequency\")\n",
    "session.register_user_function(readMFLI, \"readMFLI\")\n"
   ]
  },
  {
   "cell_type": "markdown",
   "metadata": {},
   "source": [
    "## Run experiment"
   ]
  },
  {
   "cell_type": "code",
   "execution_count": null,
   "metadata": {},
   "outputs": [],
   "source": [
    "my_results = session.run(exp)\n"
   ]
  },
  {
   "cell_type": "markdown",
   "metadata": {},
   "source": [
    "# Plot results"
   ]
  },
  {
   "cell_type": "code",
   "execution_count": null,
   "metadata": {},
   "outputs": [],
   "source": [
    "if not session.connection_state.emulated:\n",
    "    fig, axs = plt.subplots(1, 2, figsize=(10, 7))\n",
    "    fig.tight_layout(pad=5)\n",
    "\n",
    "    sweep_axes = []\n",
    "    for x in my_results.experiment.all_sections():\n",
    "        sweep_axes.append(x.parameters[0])\n",
    "\n",
    "    for dimension, node in enumerate(sample_nodes):\n",
    "        # extract all data and put into a result list\n",
    "        values, times = ([], [])\n",
    "        for idx in range(my_results.user_func_results[\"readMFLI\"].__len__()):\n",
    "            values.append(\n",
    "                my_results.user_func_results[\"readMFLI\"][idx][node][0].value[0]\n",
    "            )\n",
    "            times.append(my_results.user_func_results[\"readMFLI\"][idx][node][0].time[0])\n",
    "\n",
    "        # post process time traces\n",
    "        # here: average\n",
    "        for ii in range(len(values)):\n",
    "            values[ii] = np.average(values[ii])\n",
    "\n",
    "        # reshape results into dimensions of original sweep\n",
    "        values = np.array(values).reshape(\n",
    "            sweep_axes[0].count,\n",
    "            # int(len(values)/sweep_axes[1].count),\n",
    "            sweep_axes[1].count,\n",
    "        )\n",
    "\n",
    "        # plot the values/datapoints\n",
    "        ax = axs[dimension]\n",
    "        pcm = ax.pcolormesh(\n",
    "            sweep_axes[1].values,\n",
    "            sweep_axes[0].values,\n",
    "            values,\n",
    "            shading=\"nearest\",\n",
    "        )\n",
    "\n",
    "        fig.colorbar(pcm, ax=ax, label=str(node))\n",
    "        ax.set_xlabel(sweep_axes[1].axis_name)\n",
    "        ax.set_ylabel(sweep_axes[0].axis_name)\n",
    "else:\n",
    "    print(\"Emulation - nothing to plot\")\n"
   ]
  },
  {
   "attachments": {},
   "cell_type": "markdown",
   "metadata": {},
   "source": [
    "## Plot individual time traces"
   ]
  },
  {
   "cell_type": "code",
   "execution_count": null,
   "id": "9208e584",
   "metadata": {},
   "outputs": [],
   "source": [
    "if not session.connection_state.emulated:\n",
    "    clockbase = mfli.clockbase()\n",
    "\n",
    "    for node in sample_nodes:\n",
    "        plt.figure()\n",
    "        for idx in range(my_results.user_func_results[\"readMFLI\"].__len__()):\n",
    "            results = my_results.user_func_results[\"readMFLI\"][idx][node][0]  # Results\n",
    "            plt.plot(results.time, results.value[0], label=f\"readout step {int(idx+1)}\")\n",
    "        plt.xlabel(\"Time [s]\")\n",
    "        plt.ylabel(str(node))\n",
    "        # plt.legend(loc='best', fontsize=8)\n",
    "        plt.title(\"MFLI time traces of demodulated data\")\n",
    "else:\n",
    "    print(\"Emulation - nothing to plot\")\n"
   ]
  }
 ],
 "metadata": {
  "kernelspec": {
   "display_name": "MyQcodesEnv",
   "language": "python",
   "name": "python3"
  },
  "language_info": {
   "codemirror_mode": {
    "name": "ipython",
    "version": 3
   },
   "file_extension": ".py",
   "mimetype": "text/x-python",
   "name": "python",
   "nbconvert_exporter": "python",
   "pygments_lexer": "ipython3",
   "version": "3.8.11"
  },
  "orig_nbformat": 4,
  "vscode": {
   "interpreter": {
    "hash": "e246a1dff379dae57e93334b1470e42a0e319b987494b841af57ed5cfd410014"
   }
  }
 },
 "nbformat": 4,
 "nbformat_minor": 2
}
