{
 "cells": [
  {
   "attachments": {},
   "cell_type": "markdown",
   "id": "46cfbe23",
   "metadata": {},
   "source": [
    "# Spin Qubit Pulse Sequences with the HDAWG"
   ]
  },
  {
   "attachments": {},
   "cell_type": "markdown",
   "id": "4a5e08b0",
   "metadata": {},
   "source": [
    "This notebook shows you how to use pulse sequences with an HDAWG to realize various experiments. While the sequences are mostly general, they are adapted to those typically used for spin qubits by adding the gate pulsing to control between Coulomb and spin blockade.\n",
    "\n",
    "List of experiemnts\n",
    "* Rabi - sweep length of burst\n",
    "* Ramsey variant 1 - sweep delay with constant burst duration\n",
    "* Ramsey variant 2 - sweep burst duration at constant delay\n",
    "* Ramsey variant 3 - sweep phase of second burst and delay between bursts"
   ]
  },
  {
   "attachments": {},
   "cell_type": "markdown",
   "id": "3647462f",
   "metadata": {},
   "source": [
    "# General Imports"
   ]
  },
  {
   "cell_type": "code",
   "execution_count": 2,
   "id": "9c56cac7",
   "metadata": {
    "ExecuteTime": {
     "end_time": "2021-10-01T06:52:59.392055Z",
     "start_time": "2021-10-01T06:52:57.155702Z"
    }
   },
   "outputs": [],
   "source": [
    "%config IPCompleter.greedy=True\n",
    "\n",
    "import matplotlib.pyplot as plt\n",
    "import numpy as np\n",
    "\n",
    "from laboneq.simple import *"
   ]
  },
  {
   "cell_type": "markdown",
   "id": "e66d0291",
   "metadata": {},
   "source": [
    "# Device Setup"
   ]
  },
  {
   "cell_type": "markdown",
   "id": "332a893d",
   "metadata": {},
   "source": [
    "## Calibration"
   ]
  },
  {
   "cell_type": "code",
   "execution_count": 3,
   "id": "3fce9ed6",
   "metadata": {
    "ExecuteTime": {
     "end_time": "2021-10-01T06:53:06.914501Z",
     "start_time": "2021-10-01T06:53:06.893519Z"
    }
   },
   "outputs": [],
   "source": [
    "def calibrate_devices(device_setup):\n",
    "\n",
    "    device_setup.logical_signal_groups[\"q0\"].logical_signals[\n",
    "        \"drive_line\"\n",
    "    ].calibration = SignalCalibration(\n",
    "        oscillator=Oscillator(\n",
    "            uid=\"drive_q0_osc\", frequency=1e8, modulation_type=ModulationType.HARDWARE\n",
    "        ),\n",
    "        mixer_calibration=MixerCalibration(\n",
    "            voltage_offsets=[0.0, 0.0],\n",
    "            correction_matrix=[\n",
    "                [1.0, 0.0],\n",
    "                [0.0, 1.0],\n",
    "            ],\n",
    "        ),\n",
    "    )\n"
   ]
  },
  {
   "cell_type": "markdown",
   "id": "a36a3823",
   "metadata": {},
   "source": [
    "## Create device setup"
   ]
  },
  {
   "cell_type": "code",
   "execution_count": 4,
   "id": "f142cff7",
   "metadata": {},
   "outputs": [],
   "source": [
    "descriptor = f\"\"\"\\\n",
    "instrument_list:\n",
    "  HDAWG:\n",
    "  - address: DEV8431\n",
    "    uid: device_hdawg\n",
    "connections:\n",
    "  device_hdawg:    \n",
    "    - iq_signal: q0/drive_line\n",
    "      ports: [SIGOUTS/2, SIGOUTS/3]\n",
    "    - rf_signal: q0/coulomb_line_1\n",
    "      ports: [SIGOUTS/0]        \n",
    "    - rf_signal: q0/coulomb_line_2\n",
    "      ports: [SIGOUTS/1]   \n",
    "\"\"\"\n",
    "\n",
    "device_setup = DeviceSetup.from_descriptor(\n",
    "    descriptor,\n",
    "    server_host=\"your_ip_address\",\n",
    "    server_port=8004,\n",
    "    setup_name=\"MySetup\",\n",
    ")\n",
    "calibrate_devices(device_setup)\n"
   ]
  },
  {
   "cell_type": "markdown",
   "id": "04cd28fe",
   "metadata": {},
   "source": [
    "# Rabi Experiment: sweep burst length"
   ]
  },
  {
   "cell_type": "markdown",
   "metadata": {},
   "source": [
    "## Define parameters for experiment"
   ]
  },
  {
   "cell_type": "code",
   "execution_count": 42,
   "metadata": {},
   "outputs": [],
   "source": [
    "## constant definition\n",
    "LEN_COULOMB_CYCLE = 200e-9\n",
    "LEN_READOUT = 2 * LEN_COULOMB_CYCLE\n",
    "X90_DURATION = 10e-9\n",
    "\n",
    "START = 0\n",
    "STOP = LEN_COULOMB_CYCLE / 2\n",
    "STEPS = 5\n",
    "NUM_REP = 2\n"
   ]
  },
  {
   "cell_type": "code",
   "execution_count": 43,
   "id": "6330d960",
   "metadata": {},
   "outputs": [],
   "source": [
    "## define length sweep parameter\n",
    "length_sweep_parameter = LinearSweepParameter(\n",
    "    uid=\"length_sweep\", start=START, stop=STOP, count=STEPS\n",
    ")\n"
   ]
  },
  {
   "cell_type": "markdown",
   "id": "687ff6a6",
   "metadata": {},
   "source": [
    "## Experiment"
   ]
  },
  {
   "cell_type": "code",
   "execution_count": 44,
   "id": "18e122d5",
   "metadata": {},
   "outputs": [],
   "source": [
    "# define pulse shapes\n",
    "coulomb_pulse = pulse_library.const(\n",
    "    uid=\"coulomb_pulse\", length=LEN_COULOMB_CYCLE / 2, amplitude=0.5\n",
    ")\n",
    "coulomb_readout = pulse_library.const(\n",
    "    uid=\"coulomb_readout\", length=LEN_READOUT, amplitude=1\n",
    ")\n",
    "drive_pulse = pulse_library.const(\n",
    "    uid=\"rabi_drive_pulse\", length=X90_DURATION, amplitude=1\n",
    ")\n"
   ]
  },
  {
   "cell_type": "code",
   "execution_count": 45,
   "id": "2c7cc860",
   "metadata": {
    "ExecuteTime": {
     "end_time": "2021-10-01T06:55:24.645031Z",
     "start_time": "2021-10-01T06:55:06.983252Z"
    }
   },
   "outputs": [],
   "source": [
    "## Create Experiment\n",
    "exp = Experiment(\n",
    "    \"Rabi with Coulomb pulse\",\n",
    "    signals=[\n",
    "        ExperimentSignal(\"drive\"),\n",
    "        ExperimentSignal(\"coulomb_1\"),\n",
    "        ExperimentSignal(\"coulomb_2\"),\n",
    "    ],\n",
    ")\n",
    "\n",
    "# define experiment\n",
    "with exp.acquire_loop_rt(\n",
    "    uid=(\"shots\"), count=NUM_REP, averaging_mode=AveragingMode.SEQUENTIAL\n",
    "):\n",
    "    with exp.sweep(parameter=length_sweep_parameter):\n",
    "        with exp.section(\n",
    "            uid=(\"empty\"),\n",
    "            length=LEN_COULOMB_CYCLE / 2,\n",
    "            alignment=SectionAlignment.RIGHT,\n",
    "        ):\n",
    "            exp.play(signal=\"coulomb_1\", pulse=coulomb_pulse, amplitude=0.5)\n",
    "            exp.play(signal=\"coulomb_2\", pulse=coulomb_pulse, amplitude=0.5)\n",
    "        with exp.section(\n",
    "            uid=(\"manipulation\"),\n",
    "            length=LEN_COULOMB_CYCLE / 2,\n",
    "            alignment=SectionAlignment.RIGHT,\n",
    "        ):\n",
    "            exp.play(signal=\"coulomb_1\", pulse=coulomb_pulse, amplitude=0.75)\n",
    "            exp.play(signal=\"coulomb_2\", pulse=coulomb_pulse, amplitude=0.75)\n",
    "            exp.play(signal=\"drive\", pulse=drive_pulse, length=length_sweep_parameter)\n",
    "        with exp.section(uid=\"qubit_readout\", length=LEN_READOUT):\n",
    "            exp.play(signal=\"coulomb_1\", pulse=coulomb_readout, amplitude=0.3)\n",
    "            exp.play(signal=\"coulomb_2\", pulse=coulomb_readout, amplitude=0.3)\n",
    "        with exp.section(\n",
    "            uid=\"outer_trigger\",\n",
    "            length=LEN_READOUT,\n",
    "            trigger={\"drive\": {\"state\": 1}},\n",
    "            alignment=SectionAlignment.RIGHT,\n",
    "        ):\n",
    "            with exp.section(\n",
    "                uid=\"inner_trigger\",\n",
    "                length=LEN_READOUT - 100e-9,\n",
    "                trigger={\"drive\": {\"state\": 2}},\n",
    "            ):\n",
    "                exp.reserve(signal=\"drive\")\n"
   ]
  },
  {
   "cell_type": "code",
   "execution_count": 46,
   "id": "eb3407dd",
   "metadata": {},
   "outputs": [],
   "source": [
    "# define signal maps for different qubits\n",
    "map_q0 = {\n",
    "    \"drive\": \"/logical_signal_groups/q0/drive_line\",\n",
    "    \"coulomb_1\": \"/logical_signal_groups/q0/coulomb_line_1\",\n",
    "    \"coulomb_2\": \"/logical_signal_groups/q0/coulomb_line_2\",\n",
    "}\n",
    "\n",
    "# calibration  for qubit 0\n",
    "calib_q0 = Calibration()\n",
    "calib_q0[\"drive\"] = SignalCalibration(\n",
    "    oscillator=Oscillator(\n",
    "        frequency=500e6,\n",
    "        modulation_type=ModulationType.HARDWARE,\n",
    "    )\n",
    ")\n"
   ]
  },
  {
   "cell_type": "code",
   "execution_count": 47,
   "id": "bd21a36c",
   "metadata": {},
   "outputs": [
    {
     "name": "stdout",
     "output_type": "stream",
     "text": [
      "2022.12.21 20:01:13.159 laboneq.controller.laboneq_logging INFO   Logging initialized from [Default inline config in laboneq.controller.laboneq_logging] logdir is c:\\Users\\florianf\\OneDrive - Zurich Instruments AG\\Documents\\QuantumPlaygrounds\\florian-playground\\LabOneQ_SpinQubits\\laboneq_output\\log\n",
      "2022.12.21 20:01:13.161 laboneq.controller.controller  INFO   VERSION: laboneq 1.6.0a20221221135807+0cba0f4d\n",
      "2022.12.21 20:01:13.162 laboneq.controller.devices.device_collection INFO   Connecting to data server at 10.42.11.2:8004\n",
      "2022.12.21 20:01:13.164 laboneq.controller.communication INFO   Connected to Zurich Instrument's Data Server version 22.08 at 10.42.11.2:8004\n",
      "2022.12.21 20:01:13.167 laboneq.controller.devices.device_collection INFO   Configuring clock sources\n",
      "2022.12.21 20:01:13.169 laboneq.controller.devices.device_collection INFO   Clock sources configured\n"
     ]
    }
   ],
   "source": [
    "# create and connect to session\n",
    "session = Session(device_setup=device_setup)\n",
    "session.connect(do_emulation=True)\n",
    "\n",
    "# set experiment calibration and signal map\n",
    "exp.set_calibration(calib_q0)\n",
    "exp.set_signal_map(map_q0)\n"
   ]
  },
  {
   "cell_type": "code",
   "execution_count": 48,
   "id": "3fadec3d",
   "metadata": {},
   "outputs": [],
   "source": [
    "if not session.connection_state.emulated:\n",
    "    instrument_serial = device_setup.instrument_by_uid(\"device_hdawg\").address\n",
    "    device = session.devices[instrument_serial]\n",
    "    device.triggers.out[2].delay(23.9e-9)\n"
   ]
  },
  {
   "cell_type": "code",
   "execution_count": 49,
   "id": "435c6852",
   "metadata": {},
   "outputs": [
    {
     "name": "stdout",
     "output_type": "stream",
     "text": [
      "2022.12.21 20:01:16.294 laboneq.compiler.workflow.compiler INFO   Starting LabOne Q Compiler run...\n",
      "2022.12.21 20:01:16.402 laboneq.compiler.workflow.compiler INFO   Total seqC lines generated: 125\n",
      "2022.12.21 20:01:16.403 laboneq.compiler.workflow.compiler INFO   Total sample points generated: 4128\n",
      "2022.12.21 20:01:16.404 laboneq.compiler.workflow.compiler INFO   Finished LabOne Q Compiler run.\n",
      "2022.12.21 20:01:16.455 laboneq.controller.controller  INFO   Starting near-time execution...\n",
      "2022.12.21 20:01:16.466 laboneq.controller.controller  INFO   Finished near-time execution.\n"
     ]
    }
   ],
   "source": [
    "session.run(exp)\n"
   ]
  },
  {
   "cell_type": "markdown",
   "id": "05562c77",
   "metadata": {},
   "source": [
    "## View experiment in pulse sheet viewer"
   ]
  },
  {
   "cell_type": "code",
   "execution_count": 19,
   "id": "a286c938",
   "metadata": {},
   "outputs": [
    {
     "name": "stdout",
     "output_type": "stream",
     "text": [
      "2022.12.21 19:35:38.020 laboneq.pulse_sheet_viewer.pulse_sheet_viewer INFO   Writing html file to c:\\Users\\florianf\\OneDrive - Zurich Instruments AG\\Documents\\QuantumPlaygrounds\\florian-playground\\LabOneQ_SpinQubits\\Spin qubit length Rabi_2022-12-21-19-35-38.html\n"
     ]
    },
    {
     "data": {
      "text/html": [
       "<a href='Spin qubit length Rabi_2022-12-21-19-35-38.html' target='_blank'>Spin qubit length Rabi_2022-12-21-19-35-38.html</a><br>"
      ],
      "text/plain": [
       "c:\\Users\\florianf\\OneDrive - Zurich Instruments AG\\Documents\\QuantumPlaygrounds\\florian-playground\\LabOneQ_SpinQubits\\Spin qubit length Rabi_2022-12-21-19-35-38.html"
      ]
     },
     "execution_count": 19,
     "metadata": {},
     "output_type": "execute_result"
    }
   ],
   "source": [
    "# use pulse sheet viewer to display the pulse sequence - only recommended for small number of averages and sweep steps to avoid performance issues\n",
    "compiled_exp = session.compiled_experiment\n",
    "show_pulse_sheet(\"Spin qubit length Rabi\", compiled_exp)\n"
   ]
  },
  {
   "cell_type": "markdown",
   "id": "bc2c27f8",
   "metadata": {},
   "source": [
    "# Ramsey Experiment I: sweep wait time at constant burst length"
   ]
  },
  {
   "cell_type": "markdown",
   "id": "55f9133a",
   "metadata": {},
   "source": [
    "## Experiment"
   ]
  },
  {
   "cell_type": "code",
   "execution_count": 56,
   "id": "4ced36a1",
   "metadata": {},
   "outputs": [],
   "source": [
    "START = 0\n",
    "STOP = LEN_COULOMB_CYCLE / 2 - 2 * X90_DURATION\n",
    "STEPS = 3\n",
    "NUM_REP = 20\n"
   ]
  },
  {
   "cell_type": "code",
   "execution_count": 57,
   "id": "b0b6d5bf",
   "metadata": {},
   "outputs": [],
   "source": [
    "## Define sweep parameter\n",
    "sweep_delay = LinearSweepParameter(\n",
    "    uid=\"Ramsey_delay\", start=START, stop=STOP, count=STEPS\n",
    ")\n"
   ]
  },
  {
   "cell_type": "code",
   "execution_count": 58,
   "id": "345a62cd",
   "metadata": {},
   "outputs": [],
   "source": [
    "## Create Experiment\n",
    "exp = Experiment(\n",
    "    \"Ramsey variant I\",\n",
    "    signals=[\n",
    "        ExperimentSignal(\"drive\"),\n",
    "        ExperimentSignal(\"coulomb_1\"),\n",
    "        ExperimentSignal(\"coulomb_2\"),\n",
    "    ],\n",
    ")\n",
    "\n",
    "# define experiment\n",
    "with exp.acquire_loop_rt(\n",
    "    uid=\"shots\", count=NUM_REP, averaging_mode=AveragingMode.SEQUENTIAL\n",
    "):\n",
    "    with exp.sweep(uid=\"sweep\", parameter=sweep_delay):\n",
    "        with exp.section(\n",
    "            uid=\"qubit_excitation\",\n",
    "            alignment=SectionAlignment.RIGHT,\n",
    "            length=LEN_COULOMB_CYCLE,\n",
    "        ):\n",
    "            exp.play(signal=\"coulomb_1\", pulse=coulomb_pulse, amplitude=0.5)\n",
    "            exp.play(signal=\"coulomb_1\", pulse=coulomb_pulse, amplitude=0.75)\n",
    "\n",
    "            exp.play(signal=\"coulomb_2\", pulse=coulomb_pulse, amplitude=0.5)\n",
    "            exp.play(signal=\"coulomb_2\", pulse=coulomb_pulse, amplitude=0.75)\n",
    "\n",
    "            exp.play(signal=\"drive\", pulse=drive_pulse)\n",
    "            exp.delay(signal=\"drive\", time=sweep_delay)\n",
    "            exp.play(signal=\"drive\", pulse=drive_pulse)\n",
    "        with exp.section(uid=\"qubit_readout\", length=LEN_READOUT):\n",
    "            exp.play(signal=\"coulomb_1\", pulse=coulomb_readout, amplitude=0.3)\n",
    "            exp.play(signal=\"coulomb_2\", pulse=coulomb_readout, amplitude=0.3)\n",
    "            with exp.section(\n",
    "                uid=\"outer_trigger\",\n",
    "                length=LEN_READOUT,\n",
    "                trigger={\"drive\": {\"state\": 1}},\n",
    "                alignment=SectionAlignment.RIGHT,\n",
    "            ):\n",
    "                with exp.section(\n",
    "                    uid=\"inner_trigger\",\n",
    "                    length=LEN_READOUT - 100e-9,\n",
    "                    trigger={\"drive\": {\"state\": 2}},\n",
    "                ):\n",
    "                    exp.reserve(signal=\"drive\")\n"
   ]
  },
  {
   "cell_type": "code",
   "execution_count": 59,
   "id": "eb3407dd",
   "metadata": {},
   "outputs": [],
   "source": [
    "# define signal maps for different qubits\n",
    "map_q0 = {\n",
    "    \"drive\": \"/logical_signal_groups/q0/drive_line\",\n",
    "    \"coulomb_1\": \"/logical_signal_groups/q0/coulomb_line_1\",\n",
    "    \"coulomb_2\": \"/logical_signal_groups/q0/coulomb_line_2\",\n",
    "}\n",
    "\n",
    "# calibration  for qubit 0\n",
    "calib_q0 = Calibration()\n",
    "calib_q0[\"drive\"] = SignalCalibration(\n",
    "    oscillator=Oscillator(\n",
    "        frequency=500e6,\n",
    "        modulation_type=ModulationType.HARDWARE,\n",
    "    )\n",
    ")\n"
   ]
  },
  {
   "cell_type": "code",
   "execution_count": 62,
   "id": "435c6852",
   "metadata": {},
   "outputs": [
    {
     "name": "stdout",
     "output_type": "stream",
     "text": [
      "2022.12.21 20:05:16.532 laboneq.controller.laboneq_logging INFO   Logging initialized from [Default inline config in laboneq.controller.laboneq_logging] logdir is c:\\Users\\florianf\\OneDrive - Zurich Instruments AG\\Documents\\QuantumPlaygrounds\\florian-playground\\LabOneQ_SpinQubits\\laboneq_output\\log\n",
      "2022.12.21 20:05:16.534 laboneq.controller.controller  INFO   VERSION: laboneq 1.6.0a20221221135807+0cba0f4d\n",
      "2022.12.21 20:05:16.535 laboneq.controller.devices.device_collection INFO   Connecting to data server at 10.42.11.2:8004\n",
      "2022.12.21 20:05:17.652 laboneq.controller.communication INFO   Connected to Zurich Instrument's Data Server version 22.08 at 10.42.11.2:8004\n",
      "2022.12.21 20:05:25.119 laboneq.controller.devices.device_collection INFO   Configuring clock sources\n",
      "2022.12.21 20:05:25.226 laboneq.controller.devices.device_collection INFO   Clock sources configured\n",
      "2022.12.21 20:05:29.788 laboneq.compiler.workflow.compiler INFO   Starting LabOne Q Compiler run...\n",
      "2022.12.21 20:05:29.908 laboneq.compiler.workflow.compiler INFO   Total seqC lines generated: 101\n",
      "2022.12.21 20:05:29.910 laboneq.compiler.workflow.compiler INFO   Total sample points generated: 3744\n",
      "2022.12.21 20:05:29.910 laboneq.compiler.workflow.compiler INFO   Finished LabOne Q Compiler run.\n",
      "2022.12.21 20:05:43.933 laboneq.controller.controller  INFO   Starting near-time execution...\n",
      "2022.12.21 20:05:44.587 laboneq.controller.controller  INFO   Finished near-time execution.\n"
     ]
    }
   ],
   "source": [
    "# create and connect to session\n",
    "session = Session(device_setup=device_setup)\n",
    "session.connect(do_emulation=False)\n",
    "\n",
    "# set experiment calibration and signal map\n",
    "exp.set_calibration(calib_q0)\n",
    "exp.set_signal_map(map_q0)\n",
    "\n",
    "session.run(exp)\n"
   ]
  },
  {
   "cell_type": "markdown",
   "id": "51ab74a9",
   "metadata": {},
   "source": [
    "## View experiment in pulse sheet viewer"
   ]
  },
  {
   "cell_type": "code",
   "execution_count": 61,
   "id": "5c1f9337",
   "metadata": {},
   "outputs": [
    {
     "name": "stdout",
     "output_type": "stream",
     "text": [
      "2022.12.21 20:02:09.568 laboneq.pulse_sheet_viewer.pulse_sheet_viewer INFO   Writing html file to c:\\Users\\florianf\\OneDrive - Zurich Instruments AG\\Documents\\QuantumPlaygrounds\\florian-playground\\LabOneQ_SpinQubits\\Ramsey variant I_2022-12-21-20-02-09.html\n"
     ]
    },
    {
     "data": {
      "text/html": [
       "<a href='Ramsey variant I_2022-12-21-20-02-09.html' target='_blank'>Ramsey variant I_2022-12-21-20-02-09.html</a><br>"
      ],
      "text/plain": [
       "c:\\Users\\florianf\\OneDrive - Zurich Instruments AG\\Documents\\QuantumPlaygrounds\\florian-playground\\LabOneQ_SpinQubits\\Ramsey variant I_2022-12-21-20-02-09.html"
      ]
     },
     "execution_count": 61,
     "metadata": {},
     "output_type": "execute_result"
    }
   ],
   "source": [
    "# use pulse sheet viewer to display the pulse sequence - only recommended for small number of averages and sweep steps to avoid performance issues\n",
    "compiled_exp = session.compiled_experiment\n",
    "show_pulse_sheet(\"Ramsey variant I\", compiled_exp)\n"
   ]
  },
  {
   "cell_type": "markdown",
   "id": "04cd28fe",
   "metadata": {},
   "source": [
    "# Ramsey Experiment II: sweep burst length at constant wait time"
   ]
  },
  {
   "cell_type": "code",
   "execution_count": 63,
   "id": "f1a97f67",
   "metadata": {},
   "outputs": [],
   "source": [
    "# define constant delay\n",
    "T_DELAY = 40e-9\n"
   ]
  },
  {
   "cell_type": "code",
   "execution_count": 64,
   "id": "e4521480",
   "metadata": {},
   "outputs": [],
   "source": [
    "## parameters for experiment\n",
    "START = 0\n",
    "STOP = (LEN_COULOMB_CYCLE / 2 - T_DELAY) / 2\n",
    "STEPS = 5\n",
    "NUM_REP = 2\n"
   ]
  },
  {
   "cell_type": "markdown",
   "id": "687ff6a6",
   "metadata": {},
   "source": [
    "## Experiment"
   ]
  },
  {
   "cell_type": "code",
   "execution_count": 65,
   "id": "34048656",
   "metadata": {},
   "outputs": [],
   "source": [
    "## Define sweep parameter\n",
    "sweep_length = LinearSweepParameter(\n",
    "    uid=\"pulse_length_sweep\", start=START, stop=STOP, count=STEPS\n",
    ")\n"
   ]
  },
  {
   "cell_type": "code",
   "execution_count": 66,
   "id": "2c7cc860",
   "metadata": {
    "ExecuteTime": {
     "end_time": "2021-10-01T06:55:24.645031Z",
     "start_time": "2021-10-01T06:55:06.983252Z"
    }
   },
   "outputs": [],
   "source": [
    "## Create Experiment\n",
    "exp = Experiment(\n",
    "    \"Ramsey variant II\",\n",
    "    signals=[\n",
    "        ExperimentSignal(\"drive\"),\n",
    "        ExperimentSignal(\"coulomb_1\"),\n",
    "        ExperimentSignal(\"coulomb_2\"),\n",
    "    ],\n",
    ")\n",
    "\n",
    "# define experiment\n",
    "with exp.acquire_loop_rt(\n",
    "    uid=\"shots\", count=NUM_REP, averaging_mode=AveragingMode.SEQUENTIAL\n",
    "):\n",
    "    with exp.sweep(uid=\"length_sweep\", parameter=sweep_length):\n",
    "        with exp.section(uid=\"qubit_excitation\", alignment=SectionAlignment.RIGHT):\n",
    "            exp.play(signal=\"coulomb_1\", pulse=coulomb_pulse, amplitude=0.5)\n",
    "            exp.play(signal=\"coulomb_1\", pulse=coulomb_pulse, amplitude=0.75)\n",
    "\n",
    "            exp.play(signal=\"coulomb_2\", pulse=coulomb_pulse, amplitude=0.5)\n",
    "            exp.play(signal=\"coulomb_2\", pulse=coulomb_pulse, amplitude=0.75)\n",
    "\n",
    "            exp.play(signal=\"drive\", pulse=drive_pulse, length=sweep_length)\n",
    "            exp.delay(signal=\"drive\", time=T_DELAY)\n",
    "            exp.play(signal=\"drive\", pulse=drive_pulse, length=sweep_length)\n",
    "        with exp.section(\n",
    "            uid=\"qubit_readout\", alignment=SectionAlignment.RIGHT, length=LEN_READOUT\n",
    "        ):\n",
    "            exp.play(signal=\"coulomb_1\", pulse=coulomb_readout, amplitude=0.3)\n",
    "            exp.play(signal=\"coulomb_2\", pulse=coulomb_readout, amplitude=0.3)\n",
    "            with exp.section(\n",
    "                uid=\"outer_trigger\",\n",
    "                length=LEN_READOUT,\n",
    "                trigger={\"drive\": {\"state\": 1}},\n",
    "                alignment=SectionAlignment.RIGHT,\n",
    "            ):\n",
    "                with exp.section(\n",
    "                    uid=\"inner_trigger\",\n",
    "                    length=LEN_READOUT - 100e-9,\n",
    "                    trigger={\"drive\": {\"state\": 2}},\n",
    "                ):\n",
    "                    exp.reserve(signal=\"drive\")\n"
   ]
  },
  {
   "cell_type": "code",
   "execution_count": 67,
   "id": "eb3407dd",
   "metadata": {},
   "outputs": [],
   "source": [
    "# define signal maps for different qubits\n",
    "map_q0 = {\n",
    "    \"drive\": \"/logical_signal_groups/q0/drive_line\",\n",
    "    \"coulomb_1\": \"/logical_signal_groups/q0/coulomb_line_1\",\n",
    "    \"coulomb_2\": \"/logical_signal_groups/q0/coulomb_line_2\",\n",
    "}\n",
    "\n",
    "# calibration  for qubit 0\n",
    "calib_q0 = Calibration()\n",
    "calib_q0[\"drive\"] = SignalCalibration(\n",
    "    oscillator=Oscillator(\n",
    "        frequency=100e6,\n",
    "        modulation_type=ModulationType.HARDWARE,\n",
    "    )\n",
    ")\n"
   ]
  },
  {
   "cell_type": "code",
   "execution_count": 68,
   "id": "435c6852",
   "metadata": {},
   "outputs": [
    {
     "name": "stdout",
     "output_type": "stream",
     "text": [
      "2022.12.21 20:10:37.317 laboneq.controller.laboneq_logging INFO   Logging initialized from [Default inline config in laboneq.controller.laboneq_logging] logdir is c:\\Users\\florianf\\OneDrive - Zurich Instruments AG\\Documents\\QuantumPlaygrounds\\florian-playground\\LabOneQ_SpinQubits\\laboneq_output\\log\n",
      "2022.12.21 20:10:37.318 laboneq.controller.controller  INFO   VERSION: laboneq 1.6.0a20221221135807+0cba0f4d\n",
      "2022.12.21 20:10:37.320 laboneq.controller.devices.device_collection INFO   Connecting to data server at 10.42.11.2:8004\n",
      "2022.12.21 20:10:38.497 laboneq.controller.communication INFO   Connected to Zurich Instrument's Data Server version 22.08 at 10.42.11.2:8004\n",
      "2022.12.21 20:10:50.073 laboneq.controller.devices.device_collection INFO   Configuring clock sources\n",
      "2022.12.21 20:10:50.174 laboneq.controller.devices.device_collection INFO   Clock sources configured\n",
      "2022.12.21 20:10:53.805 laboneq.compiler.workflow.compiler INFO   Starting LabOne Q Compiler run...\n",
      "2022.12.21 20:10:53.908 laboneq.compiler.workflow.compiler INFO   Total seqC lines generated: 137\n",
      "2022.12.21 20:10:53.909 laboneq.compiler.workflow.compiler INFO   Total sample points generated: 4416\n",
      "2022.12.21 20:10:53.909 laboneq.compiler.workflow.compiler INFO   Finished LabOne Q Compiler run.\n",
      "2022.12.21 20:11:24.076 laboneq.controller.controller  INFO   Starting near-time execution...\n",
      "2022.12.21 20:11:25.439 laboneq.controller.controller  INFO   Finished near-time execution.\n"
     ]
    }
   ],
   "source": [
    "# create and connect to session\n",
    "session = Session(device_setup=device_setup)\n",
    "session.connect(do_emulation=False)\n",
    "\n",
    "# set experiment calibration and signal map\n",
    "exp.set_calibration(calib_q0)\n",
    "exp.set_signal_map(map_q0)\n",
    "\n",
    "session.run(exp)\n"
   ]
  },
  {
   "cell_type": "markdown",
   "id": "51ab74a9",
   "metadata": {},
   "source": [
    "## View experiment in pulse sheet viewer"
   ]
  },
  {
   "cell_type": "code",
   "execution_count": 69,
   "id": "5c1f9337",
   "metadata": {},
   "outputs": [
    {
     "name": "stdout",
     "output_type": "stream",
     "text": [
      "2022.12.21 20:12:11.933 laboneq.pulse_sheet_viewer.pulse_sheet_viewer INFO   Writing html file to c:\\Users\\florianf\\OneDrive - Zurich Instruments AG\\Documents\\QuantumPlaygrounds\\florian-playground\\LabOneQ_SpinQubits\\Ramsey variant II_2022-12-21-20-12-11.html\n"
     ]
    },
    {
     "data": {
      "text/html": [
       "<a href='Ramsey variant II_2022-12-21-20-12-11.html' target='_blank'>Ramsey variant II_2022-12-21-20-12-11.html</a><br>"
      ],
      "text/plain": [
       "c:\\Users\\florianf\\OneDrive - Zurich Instruments AG\\Documents\\QuantumPlaygrounds\\florian-playground\\LabOneQ_SpinQubits\\Ramsey variant II_2022-12-21-20-12-11.html"
      ]
     },
     "execution_count": 69,
     "metadata": {},
     "output_type": "execute_result"
    }
   ],
   "source": [
    "# use pulse sheet viewer to display the pulse sequence - only recommended for small number of averages and sweep steps to avoid performance issues\n",
    "compiled_exp = session.compiled_experiment\n",
    "show_pulse_sheet(\"Ramsey variant II\", compiled_exp)\n"
   ]
  },
  {
   "cell_type": "markdown",
   "id": "daa3a73a",
   "metadata": {},
   "source": [
    "# Ramsey Experiment III: 2D sweep, wait time vs phase of second pulse"
   ]
  },
  {
   "cell_type": "markdown",
   "id": "ad40d7c9",
   "metadata": {},
   "source": [
    "## Experiment"
   ]
  },
  {
   "cell_type": "code",
   "execution_count": 79,
   "id": "70622fa8",
   "metadata": {},
   "outputs": [],
   "source": [
    "## constant definition\n",
    "X90_DURATION = 10e-9  # [s]\n",
    "\n",
    "START = 0\n",
    "STOP = 2 * np.pi\n",
    "STEPS = 5\n",
    "NUM_REP = 2\n",
    "\n",
    "START_DELAY = 0\n",
    "STOP_DELAY = LEN_COULOMB_CYCLE / 2 - 2 * X90_DURATION\n",
    "STEPS_DELAY = 3\n"
   ]
  },
  {
   "cell_type": "code",
   "execution_count": 80,
   "id": "20f6ef49",
   "metadata": {},
   "outputs": [
    {
     "name": "stdout",
     "output_type": "stream",
     "text": [
      "[0.  0.5 1.  1.5 2. ]\n"
     ]
    }
   ],
   "source": [
    "## define phase sweep parameter\n",
    "sweep_phase = LinearSweepParameter(\n",
    "    uid=\"phase_sweep\", start=START, stop=STOP, count=STEPS\n",
    ")\n",
    "sweep_delay = LinearSweepParameter(\n",
    "    uid=\"Ramsey_delay\", start=START_DELAY, stop=STOP_DELAY, count=STEPS_DELAY\n",
    ")\n",
    "\n",
    "print(sweep_phase.values / np.pi)\n"
   ]
  },
  {
   "cell_type": "code",
   "execution_count": 81,
   "id": "6dc3e35b",
   "metadata": {},
   "outputs": [],
   "source": [
    "## Create Experiment\n",
    "exp = Experiment(\n",
    "    \"Ramsey variant I\",\n",
    "    signals=[\n",
    "        ExperimentSignal(\"drive\"),\n",
    "        ExperimentSignal(\"coulomb_1\"),\n",
    "        ExperimentSignal(\"coulomb_2\"),\n",
    "    ],\n",
    ")\n",
    "\n",
    "# define experiment\n",
    "with exp.acquire_loop_rt(\n",
    "    uid=\"shots\", count=NUM_REP, averaging_mode=AveragingMode.CYCLIC\n",
    "):\n",
    "    with exp.sweep(uid=\"sweep_delay\", parameter=sweep_delay):\n",
    "        with exp.sweep(uid=\"sweep_phase\", parameter=sweep_phase):\n",
    "            with exp.section(\n",
    "                uid=\"qubit_excitation\",\n",
    "                alignment=SectionAlignment.RIGHT,\n",
    "                length=LEN_COULOMB_CYCLE,\n",
    "            ):\n",
    "                exp.play(signal=\"coulomb_1\", pulse=coulomb_pulse, amplitude=0.5)\n",
    "                exp.play(signal=\"coulomb_1\", pulse=coulomb_pulse, amplitude=0.75)\n",
    "\n",
    "                exp.play(signal=\"coulomb_2\", pulse=coulomb_pulse, amplitude=0.5)\n",
    "                exp.play(signal=\"coulomb_2\", pulse=coulomb_pulse, amplitude=0.75)\n",
    "\n",
    "                exp.play(signal=\"drive\", pulse=drive_pulse, set_oscillator_phase=0)\n",
    "                exp.delay(signal=\"drive\", time=sweep_delay)\n",
    "                exp.play(\n",
    "                    signal=\"drive\",\n",
    "                    pulse=drive_pulse,\n",
    "                    increment_oscillator_phase=sweep_phase,\n",
    "                )\n",
    "            with exp.section(\n",
    "                uid=\"qubit_readout\",\n",
    "                alignment=SectionAlignment.RIGHT,\n",
    "                length=LEN_READOUT,\n",
    "            ):\n",
    "                exp.play(signal=\"coulomb_1\", pulse=coulomb_readout, amplitude=0.3)\n",
    "                exp.play(signal=\"coulomb_2\", pulse=coulomb_readout, amplitude=0.3)\n",
    "            with exp.section(\n",
    "                uid=\"outer_trigger\",\n",
    "                length=LEN_READOUT,\n",
    "                trigger={\"drive\": {\"state\": 1}},\n",
    "                alignment=SectionAlignment.RIGHT,\n",
    "            ):\n",
    "                with exp.section(\n",
    "                    uid=\"inner_trigger\",\n",
    "                    length=LEN_READOUT - 100e-9,\n",
    "                    trigger={\"drive\": {\"state\": 2}},\n",
    "                ):\n",
    "                    exp.reserve(signal=\"drive\")\n"
   ]
  },
  {
   "cell_type": "code",
   "execution_count": 82,
   "id": "eb3407dd",
   "metadata": {},
   "outputs": [
    {
     "name": "stdout",
     "output_type": "stream",
     "text": [
      "Set modulation frequency to 0 Hz to better observe the phase sweep.\n"
     ]
    }
   ],
   "source": [
    "# define signal maps for different qubits\n",
    "map_q0 = {\n",
    "    \"drive\": \"/logical_signal_groups/q0/drive_line\",\n",
    "    \"coulomb_1\": \"/logical_signal_groups/q0/coulomb_line_1\",\n",
    "    \"coulomb_2\": \"/logical_signal_groups/q0/coulomb_line_2\",\n",
    "}\n",
    "\n",
    "# calibration  for qubit 0\n",
    "calib_q0 = Calibration()\n",
    "calib_q0[\"drive\"] = SignalCalibration(\n",
    "    oscillator=Oscillator(\n",
    "        frequency=0,\n",
    "        modulation_type=ModulationType.SOFTWARE,\n",
    "    )\n",
    ")\n",
    "\n",
    "print(\"Set modulation frequency to 0 Hz to better observe the phase sweep.\")\n"
   ]
  },
  {
   "cell_type": "code",
   "execution_count": 83,
   "id": "435c6852",
   "metadata": {},
   "outputs": [
    {
     "name": "stdout",
     "output_type": "stream",
     "text": [
      "2022.12.21 20:16:18.830 laboneq.controller.laboneq_logging INFO   Logging initialized from [Default inline config in laboneq.controller.laboneq_logging] logdir is c:\\Users\\florianf\\OneDrive - Zurich Instruments AG\\Documents\\QuantumPlaygrounds\\florian-playground\\LabOneQ_SpinQubits\\laboneq_output\\log\n",
      "2022.12.21 20:16:18.832 laboneq.controller.controller  INFO   VERSION: laboneq 1.6.0a20221221135807+0cba0f4d\n",
      "2022.12.21 20:16:18.833 laboneq.controller.devices.device_collection INFO   Connecting to data server at 10.42.11.2:8004\n",
      "2022.12.21 20:16:20.165 laboneq.controller.communication INFO   Connected to Zurich Instrument's Data Server version 22.08 at 10.42.11.2:8004\n",
      "2022.12.21 20:16:33.142 laboneq.controller.devices.device_collection INFO   Configuring clock sources\n",
      "2022.12.21 20:16:33.248 laboneq.controller.devices.device_collection INFO   Clock sources configured\n",
      "2022.12.21 20:16:41.937 laboneq.compiler.workflow.compiler INFO   Starting LabOne Q Compiler run...\n",
      "2022.12.21 20:16:42.227 laboneq.compiler.workflow.compiler INFO   Total seqC lines generated: 199\n",
      "2022.12.21 20:16:42.228 laboneq.compiler.workflow.compiler INFO   Total sample points generated: 5088\n",
      "2022.12.21 20:16:42.229 laboneq.compiler.workflow.compiler INFO   Finished LabOne Q Compiler run.\n",
      "2022.12.21 20:16:51.752 laboneq.controller.controller  INFO   Starting near-time execution...\n",
      "2022.12.21 20:16:52.310 laboneq.controller.controller  INFO   Finished near-time execution.\n"
     ]
    }
   ],
   "source": [
    "# create and connect to session\n",
    "session = Session(device_setup=device_setup)\n",
    "session.connect(do_emulation=False)\n",
    "\n",
    "# set experiment calibration and signal map\n",
    "exp.set_calibration(calib_q0)\n",
    "exp.set_signal_map(map_q0)\n",
    "\n",
    "session.run(exp)\n"
   ]
  },
  {
   "cell_type": "markdown",
   "id": "51ab74a9",
   "metadata": {},
   "source": [
    "## View experiment in pulse sheet viewer"
   ]
  },
  {
   "cell_type": "code",
   "execution_count": null,
   "id": "57bd0c30",
   "metadata": {},
   "outputs": [],
   "source": [
    "# use pulse sheet viewer to display the pulse sequence - only recommended for small number of averages and sweep steps to avoid performance issues\n",
    "compiled_exp = session.compiled_experiment\n",
    "show_pulse_sheet(\"Ramsey variant III\", compiled_exp)\n"
   ]
  }
 ],
 "metadata": {
  "hide_input": false,
  "kernelspec": {
   "display_name": "myenv",
   "language": "python",
   "name": "python3"
  },
  "language_info": {
   "codemirror_mode": {
    "name": "ipython",
    "version": 3
   },
   "file_extension": ".py",
   "mimetype": "text/x-python",
   "name": "python",
   "nbconvert_exporter": "python",
   "pygments_lexer": "ipython3",
   "version": "3.8.13"
  },
  "toc": {
   "base_numbering": 1,
   "nav_menu": {},
   "number_sections": true,
   "sideBar": true,
   "skip_h1_title": false,
   "title_cell": "Table of Contents",
   "title_sidebar": "Contents",
   "toc_cell": false,
   "toc_position": {},
   "toc_section_display": true,
   "toc_window_display": true
  },
  "varInspector": {
   "cols": {
    "lenName": 16,
    "lenType": 16,
    "lenVar": 40
   },
   "kernels_config": {
    "python": {
     "delete_cmd_postfix": "",
     "delete_cmd_prefix": "del ",
     "library": "var_list.py",
     "varRefreshCmd": "print(var_dic_list())"
    },
    "r": {
     "delete_cmd_postfix": ") ",
     "delete_cmd_prefix": "rm(",
     "library": "var_list.r",
     "varRefreshCmd": "cat(var_dic_list()) "
    }
   },
   "types_to_exclude": [
    "module",
    "function",
    "builtin_function_or_method",
    "instance",
    "_Feature"
   ],
   "window_display": false
  },
  "vscode": {
   "interpreter": {
    "hash": "1e2348b99e9b57c06dda9e7900ba673dbbad3d2fc82d9d0b061682349b938991"
   }
  }
 },
 "nbformat": 4,
 "nbformat_minor": 5
}
