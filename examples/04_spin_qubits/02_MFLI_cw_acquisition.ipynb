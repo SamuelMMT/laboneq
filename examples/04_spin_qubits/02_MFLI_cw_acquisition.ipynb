{
 "cells": [
  {
   "attachments": {},
   "cell_type": "markdown",
   "id": "46cfbe23",
   "metadata": {},
   "source": [
    "# CW Acquisition with HDAWG and MFLI"
   ]
  },
  {
   "attachments": {},
   "cell_type": "markdown",
   "id": "4a5e08b0",
   "metadata": {},
   "source": [
    "This notebook shows you how to perform a CW experiment using a HDAWG and an MFLI. On the HDAWG, a Ramsey sequence is played in sequential mode. Each iteration of the sweep is repeated for a certain time (the integration time). A trigger from the HDAWG is sent to the MFLI DAQ module, to trigger the data acquisition."
   ]
  },
  {
   "attachments": {},
   "cell_type": "markdown",
   "metadata": {},
   "source": [
    "# General Imports"
   ]
  },
  {
   "cell_type": "code",
   "execution_count": null,
   "id": "9c56cac7",
   "metadata": {
    "ExecuteTime": {
     "end_time": "2021-10-01T06:52:59.392055Z",
     "start_time": "2021-10-01T06:52:57.155702Z"
    }
   },
   "outputs": [],
   "source": [
    "%config IPCompleter.greedy=True\n",
    "\n",
    "import matplotlib.pyplot as plt\n",
    "import numpy as np\n",
    "import time\n",
    "\n",
    "from laboneq.simple import *"
   ]
  },
  {
   "cell_type": "markdown",
   "id": "e66d0291",
   "metadata": {},
   "source": [
    "# Device Setup"
   ]
  },
  {
   "cell_type": "markdown",
   "id": "332a893d",
   "metadata": {},
   "source": [
    "## Calibration"
   ]
  },
  {
   "cell_type": "code",
   "execution_count": null,
   "id": "3fce9ed6",
   "metadata": {
    "ExecuteTime": {
     "end_time": "2021-10-01T06:53:06.914501Z",
     "start_time": "2021-10-01T06:53:06.893519Z"
    }
   },
   "outputs": [],
   "source": [
    "def calibrate_devices(device_setup):\n",
    "\n",
    "    device_setup.logical_signal_groups[\"q0\"].logical_signals[\n",
    "        \"drive_line\"\n",
    "    ].calibration = SignalCalibration(\n",
    "        oscillator=Oscillator(\n",
    "            uid=\"drive_q0_osc\", frequency=1e6, modulation_type=ModulationType.HARDWARE\n",
    "        )\n",
    "    )\n"
   ]
  },
  {
   "cell_type": "markdown",
   "id": "a36a3823",
   "metadata": {},
   "source": [
    "## Create device setup"
   ]
  },
  {
   "cell_type": "code",
   "execution_count": null,
   "id": "f142cff7",
   "metadata": {},
   "outputs": [],
   "source": [
    "descriptor = f\"\"\"\\\n",
    "instruments:\n",
    "  MFLI:\n",
    "  - address: DEV5534\n",
    "    uid: device_mfli\n",
    "  HDAWG:\n",
    "  - address: DEV8434\n",
    "    uid: device_hdawg\n",
    "    interface: usb\n",
    "connections:\n",
    "  device_hdawg:    \n",
    "    - iq_signal: q0/drive_line\n",
    "      ports: [SIGOUTS/4, SIGOUTS/5]\n",
    "    - rf_signal: q0/coulomb_line_1\n",
    "      ports: [SIGOUTS/0]        \n",
    "    - rf_signal: q0/coulomb_line_2\n",
    "      ports: [SIGOUTS/1]   \n",
    "    # - external_clock_signal\n",
    "\"\"\"\n",
    "\n",
    "device_setup = DeviceSetup.from_descriptor(\n",
    "    descriptor,\n",
    "    server_host=\"your_ip_address\",\n",
    "    server_port=8004,\n",
    "    setup_name=\"MySetup\",\n",
    ")\n",
    "calibrate_devices(device_setup)\n"
   ]
  },
  {
   "cell_type": "markdown",
   "metadata": {},
   "source": [
    "## Connect session"
   ]
  },
  {
   "cell_type": "code",
   "execution_count": null,
   "metadata": {},
   "outputs": [],
   "source": [
    "# create and connect to session\n",
    "session = Session(device_setup=device_setup)\n",
    "session.connect(do_emulation=True)\n"
   ]
  },
  {
   "attachments": {},
   "cell_type": "markdown",
   "id": "476a49d2",
   "metadata": {},
   "source": [
    "# MFLI example"
   ]
  },
  {
   "attachments": {},
   "cell_type": "markdown",
   "id": "0cb835ce",
   "metadata": {},
   "source": [
    "## Connect to instrument in session"
   ]
  },
  {
   "cell_type": "code",
   "execution_count": null,
   "id": "60c1e3f6",
   "metadata": {},
   "outputs": [],
   "source": [
    "mfli = session.devices[\"device_mfli\"]\n"
   ]
  },
  {
   "attachments": {},
   "cell_type": "markdown",
   "id": "b2ed6e8f",
   "metadata": {},
   "source": [
    "## Experiment (Ramsey with marker sent to MFLI)"
   ]
  },
  {
   "cell_type": "code",
   "execution_count": null,
   "id": "81c29f0d",
   "metadata": {},
   "outputs": [],
   "source": [
    "## constant definition\n",
    "LEN_COULOMB_CYCLE = 400e-9\n",
    "TAU_X90_TIME = 75e-9  # [s]\n",
    "INT_TIME = 30e-3\n",
    "\n",
    "\n",
    "# define three stages of gate pulses\n",
    "coulomb_pulse = pulse_library.const(\n",
    "    uid=\"coulomb_manipulate\", length=LEN_COULOMB_CYCLE / 2, amplitude=0.5\n",
    ")\n",
    "\n",
    "# define drive pulse\n",
    "drive_pulse = pulse_library.const(uid=\"pihalf\", length=TAU_X90_TIME, amplitude=1)\n",
    "\n",
    "START = 0\n",
    "STOP = 50e-9\n",
    "STEPS = 10\n",
    "NUM_REP = INT_TIME / LEN_COULOMB_CYCLE\n",
    "\n",
    "sweep_delay = LinearSweepParameter(\n",
    "    uid=\"Ramsey_delay\", start=START, stop=STOP, count=STEPS\n",
    ")\n",
    "\n",
    "\n",
    "readout_parameter = LinearSweepParameter(uid=\"readoutparam\", start=0, stop=1, count=1)\n",
    "\n",
    "## Create Experiment\n",
    "exp = Experiment(\n",
    "    \"MFLI experiment\",\n",
    "    signals=[\n",
    "        ExperimentSignal(\"drive\"),\n",
    "        ExperimentSignal(\"coulomb_1\"),\n",
    "        ExperimentSignal(\"coulomb_2\"),\n",
    "    ],\n",
    ")\n",
    "\n",
    "# define experiment\n",
    "with exp.acquire_loop_rt(\n",
    "    uid=\"shots\", count=NUM_REP, averaging_mode=AveragingMode.SEQUENTIAL\n",
    "):\n",
    "    with exp.section(\n",
    "        uid=\"triggersection\",\n",
    "        trigger={\"drive\": {\"state\": 3}},\n",
    "    ):\n",
    "        with exp.sweep(\n",
    "            uid=\"sweep\", parameter=[sweep_delay], reset_oscillator_phase=True\n",
    "        ):\n",
    "            with exp.section(\n",
    "                uid=(\"empty\"),\n",
    "                length=LEN_COULOMB_CYCLE / 2,\n",
    "                alignment=SectionAlignment.RIGHT,\n",
    "            ):\n",
    "                exp.play(signal=\"coulomb_1\", pulse=coulomb_pulse, amplitude=0.5)\n",
    "                exp.play(signal=\"coulomb_2\", pulse=coulomb_pulse, amplitude=0.5)\n",
    "\n",
    "            with exp.section(\n",
    "                uid=(\"manipulation\"),\n",
    "                length=LEN_COULOMB_CYCLE / 2,\n",
    "                alignment=SectionAlignment.RIGHT,\n",
    "            ):\n",
    "                exp.play(signal=\"coulomb_1\", pulse=coulomb_pulse, amplitude=0.75)\n",
    "                exp.play(signal=\"coulomb_2\", pulse=coulomb_pulse, amplitude=0.75)\n",
    "\n",
    "                exp.play(signal=\"drive\", pulse=drive_pulse)\n",
    "                exp.delay(signal=\"drive\", time=sweep_delay)\n",
    "                exp.play(signal=\"drive\", pulse=drive_pulse)\n",
    "\n",
    "    with exp.section(uid=\"relax\", play_after=\"triggersection\"):\n",
    "        exp.delay(signal=\"drive\", time=100e-6)\n"
   ]
  },
  {
   "attachments": {},
   "cell_type": "markdown",
   "metadata": {},
   "source": [
    "## Configure MFLI and DAQ module"
   ]
  },
  {
   "cell_type": "code",
   "execution_count": null,
   "id": "f88760d2",
   "metadata": {},
   "outputs": [],
   "source": [
    "# configure MFLI\n",
    "demod = mfli.demods[0]  # which demodulator to use (depends on MF option)\n",
    "\n",
    "with mfli.set_transaction():\n",
    "    mfli.demods[\"*\"].enable(False)\n",
    "    mfli.oscs[0].freq(1e6)\n",
    "    mfli.sigouts[0].enable(True)\n",
    "    demod.order(3)\n",
    "    demod.rate(10e3)\n",
    "    demod.trigger(\"continuous\")\n",
    "    demod.timeconstant(10e-6)\n",
    "    demod.enable(True)\n",
    "\n",
    "# Parameters\n",
    "DEMOD_RATE_MFLI = demod.rate()  # read the value from the instrument\n",
    "NUM_COLS = int(\n",
    "    np.ceil(DEMOD_RATE_MFLI * INT_TIME)\n",
    ")  # Number of samples per burst. Corresponds to length of time trace in units of sampling rate.\n",
    "\n",
    "# Nodes to read\n",
    "sample_nodes = [demod.sample.x.avg, demod.sample.y.avg]\n",
    "\n",
    "# Module creation\n",
    "daq_module = mfli._session.modules.daq\n",
    "daq_module.device(mfli)\n",
    "daq_module.type(\"hardware_trigger\")\n",
    "daq_module.endless(False)\n",
    "\n",
    "# Shape of my grid\n",
    "daq_module.grid.mode(\n",
    "    4\n",
    ")  # Specify how the acquired data is sampled onto the matrix’s horizontal axis\n",
    "daq_module.count(1)\n",
    "daq_module.grid.cols(NUM_COLS)\n",
    "daq_module.grid.rows(STEPS)\n",
    "daq_module.grid.repetitions(1)\n",
    "daq_module.grid.rowrepetition(\n",
    "    False\n",
    ")  # True: First average each row, then fill the next row -> sequential averaging\n",
    "# False: First fill each row, then average the rows -> cyclic averaging\n",
    "\n",
    "\n",
    "# Acquisition using Digital Triggering\n",
    "node_trigger = demod.sample.TrigIn1\n",
    "daq_module.triggernode(node_trigger)\n",
    "daq_module.edge(\"rising\")\n",
    "\n",
    "daq_module.delay(0)\n",
    "daq_module.holdoff.time(0)\n",
    "daq_module.holdoff.count(0)\n",
    "daq_module.clearhistory(1)\n",
    "\n",
    "# print(f\"Columns: {daq_module.grid.cols()}\")\n",
    "# print(f\"Rows: {daq_module.grid.rows()}\")\n",
    "# print(f\"Repetitions: {daq_module.grid.repetitions()}\")\n",
    "# print(f\"Holdoff: {daq_module.holdoff.time()}\")\n",
    "# print(f\"Delay: {daq_module.delay()}\")\n"
   ]
  },
  {
   "attachments": {},
   "cell_type": "markdown",
   "metadata": {},
   "source": [
    "## Define user functions for arming MFLI and reading results"
   ]
  },
  {
   "cell_type": "code",
   "execution_count": null,
   "id": "39481a91",
   "metadata": {},
   "outputs": [],
   "source": [
    "def armMFLI():\n",
    "    for node in sample_nodes:\n",
    "        daq_module.subscribe(node)\n",
    "    daq_module.execute()\n",
    "\n",
    "\n",
    "def readMFLI(session):\n",
    "    if session.connection_state.emulated:\n",
    "        return \"Emulation running\"\n",
    "\n",
    "    clockbase = mfli.clockbase()\n",
    "    timeout = 5  # s\n",
    "\n",
    "    # Retrieve data from UHFLI DAQ module\n",
    "    start_time = time.time()\n",
    "    while time.time() - start_time < timeout:\n",
    "        time.sleep(INT_TIME)\n",
    "\n",
    "        if daq_module.raw_module.finished() == True:\n",
    "            progress = daq_module.raw_module.finished()\n",
    "            print(f\"Progress of data acquisition: {100 * progress:.2f}%.\")\n",
    "            break\n",
    "\n",
    "        progress = daq_module.raw_module.finished()\n",
    "    if not (time.time() - start_time < timeout):\n",
    "        print(\n",
    "            f\"Data acquisition timed out. Not all results collected, data is corrupted.\"\n",
    "        )\n",
    "\n",
    "    # Get data\n",
    "    daq_data = daq_module.read(raw=False, clk_rate=clockbase)\n",
    "\n",
    "    return daq_data\n",
    "\n",
    "\n",
    "def clearDAQmodule():\n",
    "    for node in sample_nodes:\n",
    "        daq_module.subscribe(node)\n"
   ]
  },
  {
   "cell_type": "markdown",
   "metadata": {},
   "source": [
    "## Signal mapping"
   ]
  },
  {
   "cell_type": "code",
   "execution_count": null,
   "id": "eb3407dd",
   "metadata": {},
   "outputs": [],
   "source": [
    "# define signal maps for different qubits\n",
    "map_q0 = {\n",
    "    \"drive\": \"/logical_signal_groups/q0/drive_line\",\n",
    "    \"coulomb_1\": \"/logical_signal_groups/q0/coulomb_line_1\",\n",
    "    \"coulomb_2\": \"/logical_signal_groups/q0/coulomb_line_2\",\n",
    "}\n",
    "\n",
    "# calibration  for qubit 0\n",
    "calib_q0 = Calibration()\n",
    "calib_q0[\"drive\"] = SignalCalibration(\n",
    "    oscillator=Oscillator(\n",
    "        frequency=111e6,\n",
    "        modulation_type=ModulationType.SOFTWARE,\n",
    "    )\n",
    ")\n"
   ]
  },
  {
   "attachments": {},
   "cell_type": "markdown",
   "metadata": {},
   "source": [
    "## Set calibration and signal map"
   ]
  },
  {
   "cell_type": "code",
   "execution_count": null,
   "id": "435c6852",
   "metadata": {},
   "outputs": [],
   "source": [
    "# set experiment calibration and signal map\n",
    "exp.set_calibration(calib_q0)\n",
    "exp.set_signal_map(map_q0)\n"
   ]
  },
  {
   "cell_type": "markdown",
   "metadata": {},
   "source": [
    "## Run experiment"
   ]
  },
  {
   "cell_type": "code",
   "execution_count": null,
   "metadata": {},
   "outputs": [],
   "source": [
    "exp_compiled = session.compile(exp)\n",
    "# print(exp_compiled.src[1]['text'])\n",
    "# exp_compiled.src[1]['text'] = session.compiled_experiment.src[1]['text'].replace('while(repeat_count_shots);\\n', 'while(repeat_count_shots);\\nsetTrigger(0b0);\\n')\n"
   ]
  },
  {
   "cell_type": "code",
   "execution_count": null,
   "metadata": {},
   "outputs": [],
   "source": [
    "armMFLI()\n",
    "time.sleep(0.1)\n",
    "session.run(experiment=exp_compiled)\n"
   ]
  },
  {
   "cell_type": "code",
   "execution_count": null,
   "metadata": {},
   "outputs": [],
   "source": [
    "data = readMFLI(session)\n",
    "clearDAQmodule()\n"
   ]
  },
  {
   "cell_type": "markdown",
   "metadata": {},
   "source": [
    "# Plot results"
   ]
  },
  {
   "cell_type": "code",
   "execution_count": null,
   "id": "9208e584",
   "metadata": {},
   "outputs": [],
   "source": [
    "if not session.connection_state.emulated:\n",
    "    results = []\n",
    "    ts0 = np.nan\n",
    "    plt.figure()\n",
    "    plt.xlabel(\"Time [s]\")\n",
    "\n",
    "    clockbase = mfli.clockbase()\n",
    "\n",
    "    for node in sample_nodes:\n",
    "        plt.ylabel(str(node))\n",
    "        for sig_burst in data[node]:\n",
    "            results.append(sig_burst.value)  # Results\n",
    "            if np.any(np.isnan(ts0)):\n",
    "                ts0 = sig_burst.header[\"createdtimestamp\"][0] / clockbase\n",
    "            # Convert from device ticks to time in seconds.\n",
    "            t0_burst = sig_burst.header[\"createdtimestamp\"][0] / clockbase\n",
    "            t = (sig_burst.time + t0_burst) - ts0\n",
    "            for ii, value in enumerate(results[0]):\n",
    "                plt.plot(t, value, label=\"readout step \" + str(ii + 1))\n",
    "\n",
    "    # plt.legend(loc='upper right', fontsize=8)\n",
    "    plt.title(\"Time traces MFLI\")\n",
    "else:\n",
    "    print(\"Emulation - nothing to plot\")\n"
   ]
  },
  {
   "cell_type": "code",
   "execution_count": null,
   "id": "ac2da976",
   "metadata": {},
   "outputs": [],
   "source": [
    "show_pulse_sheet(\"MFLI integration\", session.compiled_experiment)\n"
   ]
  }
 ],
 "metadata": {
  "kernelspec": {
   "display_name": "MyQcodesEnv",
   "language": "python",
   "name": "python3"
  },
  "language_info": {
   "codemirror_mode": {
    "name": "ipython",
    "version": 3
   },
   "file_extension": ".py",
   "mimetype": "text/x-python",
   "name": "python",
   "nbconvert_exporter": "python",
   "pygments_lexer": "ipython3",
   "version": "3.8.11"
  },
  "orig_nbformat": 4,
  "vscode": {
   "interpreter": {
    "hash": "e246a1dff379dae57e93334b1470e42a0e319b987494b841af57ed5cfd410014"
   }
  }
 },
 "nbformat": 4,
 "nbformat_minor": 5
}
