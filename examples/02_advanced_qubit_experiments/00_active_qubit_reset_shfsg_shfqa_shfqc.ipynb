{
 "cells": [
  {
   "attachments": {},
   "cell_type": "markdown",
   "id": "fe2d00d7-c88e-4c5c-a2ca-8d6bc78ebe3e",
   "metadata": {
    "tags": []
   },
   "source": [
    "# Active Qubit Reset Demonstration \n",
    "\n",
    "In this notebook, we demonstrate how to execute active qubit reset, i.e. active feedback based on real-time measurement of the qubit state. \n",
    "We require either a SHFQC instrument for this notebook or a combination of SHFSG and SHFQA connected via a PQSC. \n",
    "\n",
    "This demonstration runs without real qubits, assuming a loopback on the readout drive line directly into the reaoud acquisition line. We emulate the different qubit states by two different readout measurement pulses, differing by a phase. \n",
    "To demonstrate real-time feedback, we first calibrate the state discrimintation unit for the two measurement pulsese we choose to emulate the qubit response. The we use this calibration to playback an arbitrary simualted pattern of qubit states and demonstrate the real-time feedback capabilities of the instrument.  "
   ]
  },
  {
   "cell_type": "markdown",
   "id": "4d4e7d0b-b53a-40e4-831c-236ed9d97c42",
   "metadata": {},
   "source": [
    "# 0. General Imports and Definitions"
   ]
  },
  {
   "cell_type": "markdown",
   "id": "f3ecf2ff-f304-472a-b6d2-a50792a39a0d",
   "metadata": {
    "jp-MarkdownHeadingCollapsed": true,
    "tags": []
   },
   "source": [
    "## 0.1 Python Imports "
   ]
  },
  {
   "cell_type": "code",
   "execution_count": null,
   "metadata": {},
   "outputs": [],
   "source": [
    "import matplotlib.pyplot as plt\n",
    "import numpy as np\n",
    "\n",
    "# all LabOne Q functionality\n",
    "from laboneq.simple import *\n",
    "\n",
    "# helper import\n",
    "from laboneq.contrib.example_helpers.qubit_helper import QubitParameters, Qubit\n",
    "from laboneq.contrib.example_helpers.feedback_helper import (\n",
    "    complex_freq_phase,\n",
    "    exp_raw,\n",
    "    exp_integration,\n",
    "    exp_discrimination,\n",
    ")\n",
    "from laboneq.contrib.example_helpers.descriptors.shfqc import descriptor_shfqc\n",
    "from laboneq.contrib.example_helpers.descriptors.shfsg_shfqa_pqsc import descriptor_shfsg_shfqa_pqsc\n"
   ]
  },
  {
   "cell_type": "code",
   "execution_count": null,
   "metadata": {},
   "outputs": [],
   "source": [
    "use_emulation = True\n"
   ]
  },
  {
   "cell_type": "code",
   "execution_count": null,
   "metadata": {},
   "outputs": [],
   "source": [
    "compiler_settings = {\n",
    "    \"SHFSG_FORCE_COMMAND_TABLE\": True,\n",
    "    \"SHFSG_MIN_PLAYWAVE_HINT\": 32,\n",
    "    \"SHFSG_MIN_PLAYZERO_HINT\": 32,\n",
    "}\n"
   ]
  },
  {
   "cell_type": "markdown",
   "id": "ce9078f7",
   "metadata": {},
   "source": [
    "# 1. Define the Device Setup and apply baseline calibration\n",
    "\n",
    "We'll load a descriptor file to define our device setup and logical signal lines and then apply a baseline calibration to the signal lines based on a dictionary of qubit parameters"
   ]
  },
  {
   "cell_type": "markdown",
   "id": "610a3cb7",
   "metadata": {},
   "source": [
    "## 1.1 DeviceSetup from descriptor"
   ]
  },
  {
   "cell_type": "code",
   "execution_count": null,
   "metadata": {},
   "outputs": [],
   "source": [
    "# Define and Load a Device Setup\n",
    "\n",
    "# Choose your setup - local feedback on a standalone SHFQC or ...\n",
    "# feedback_type=\"local\"\n",
    "# my_descriptor = descriptor_shfqc\n",
    "# ... global feedback on a combination of SHFSG and SHFQA, connected through a PQSC \n",
    "feedback_type=\"global\"\n",
    "my_descriptor = descriptor_shfsg_shfqa_pqsc\n",
    "\n",
    "\n",
    "my_setup = DeviceSetup.from_descriptor(\n",
    "    my_descriptor,\n",
    "    server_host=\"my_ip_address\",  # ip address of the LabOne dataserver used to communicate with the instruments\n",
    "    server_port=\"8004\",  # port number of the dataserver - default is 8004\n",
    "    setup_name=\"QC_standalone\",  # setup name\n",
    ")\n"
   ]
  },
  {
   "cell_type": "markdown",
   "id": "98dc2fac",
   "metadata": {},
   "source": [
    "## 1.2 Baseline calibration parameters as dictionary"
   ]
  },
  {
   "cell_type": "code",
   "execution_count": null,
   "id": "6091325b",
   "metadata": {},
   "outputs": [],
   "source": [
    "base_qubit_parameters = {\n",
    "    \"frequency\": 100e6,  # qubit drive frequency in [Hz] - relative to local oscillator for qubit drive upconversion\n",
    "    \"readout_frequency\": -100e6,\n",
    "    \"readout_length\": 400e-9,\n",
    "    \"readout_amplitude\": 0.4,\n",
    "    \"readout_integration_delay\": 20e-9,\n",
    "    \"pi_amplitude\": 0.3,\n",
    "    \"pi_2_amplitude\": 0.1,\n",
    "    \"pulse_length\": 200e-9,\n",
    "    \"readout_data_delay\": 100e-9,\n",
    "    # local oscillator settings\n",
    "    \"readout_lo_frequency\": 1.0e9,  # readout LO Frequency\n",
    "    \"readout_range_out\": 5,\n",
    "    \"readout_range_in\": 10,\n",
    "    \"drive_lo_frequency\": 1.0e9,  # drive LO frequencies, one center frequency per two channels\n",
    "    \"drive_range\": 10,\n",
    "}\n"
   ]
  },
  {
   "cell_type": "code",
   "execution_count": null,
   "id": "099d0ecb",
   "metadata": {},
   "outputs": [],
   "source": [
    "# define qubit object, containing all relevant information for the tuneup experiments\n",
    "my_parameters = QubitParameters(base_qubit_parameters)\n",
    "my_qubit = Qubit(0, base_qubit_parameters)\n"
   ]
  },
  {
   "cell_type": "code",
   "execution_count": null,
   "metadata": {},
   "outputs": [],
   "source": [
    "# generate baseline device calibration\n",
    "my_base_calibration = Calibration()\n",
    "# qubit drive line\n",
    "my_base_calibration[\n",
    "    f\"/logical_signal_groups/q{my_qubit.id}/drive_line\"\n",
    "] = SignalCalibration(\n",
    "    oscillator=Oscillator(\n",
    "        frequency=my_qubit.parameters.frequency,\n",
    "        modulation_type=ModulationType.HARDWARE,\n",
    "    ),\n",
    "    local_oscillator=Oscillator(\n",
    "        frequency=my_qubit.parameters.drive_lo_frequency,\n",
    "    ),\n",
    "    range=my_qubit.parameters.drive_range,\n",
    ")\n",
    "# qubit measure line - for pulse emulating state 0\n",
    "my_base_calibration[\n",
    "    f\"/logical_signal_groups/q{my_qubit.id}/measure_line\"\n",
    "] = SignalCalibration(\n",
    "    oscillator=Oscillator(\n",
    "        frequency=my_qubit.parameters.readout_frequency,\n",
    "        modulation_type=ModulationType.SOFTWARE,\n",
    "    ),\n",
    "    local_oscillator=Oscillator(\n",
    "        frequency=my_qubit.parameters.readout_lo_frequency,\n",
    "    ),\n",
    "    range=my_qubit.parameters.readout_range_out,\n",
    ")\n",
    "# qubit measure line - for pulse emulating state 1\n",
    "my_base_calibration[\n",
    "    f\"/logical_signal_groups/q{my_qubit.id+1}/measure_line\"\n",
    "] = SignalCalibration(\n",
    "    oscillator=Oscillator(\n",
    "        frequency=my_qubit.parameters.readout_frequency,\n",
    "        modulation_type=ModulationType.SOFTWARE,\n",
    "    ),\n",
    "    local_oscillator=Oscillator(\n",
    "        frequency=my_qubit.parameters.readout_lo_frequency,\n",
    "    ),\n",
    "    range=my_qubit.parameters.readout_range_out,\n",
    ")\n",
    "# qubit acquire line - no baseband modulation applied\n",
    "my_base_calibration[\n",
    "    f\"/logical_signal_groups/q{my_qubit.id}/acquire_line\"\n",
    "] = SignalCalibration(\n",
    "    oscillator=None,\n",
    "    local_oscillator=Oscillator(\n",
    "        frequency=my_qubit.parameters.readout_lo_frequency,\n",
    "    ),\n",
    "    range=my_qubit.parameters.readout_range_in,\n",
    "    port_delay=my_qubit.parameters.readout_integration_delay,\n",
    ")\n"
   ]
  },
  {
   "cell_type": "code",
   "execution_count": null,
   "id": "57226b3c",
   "metadata": {
    "ExecuteTime": {
     "end_time": "2021-10-28T10:30:35.887570Z",
     "start_time": "2021-10-28T10:30:35.873938Z"
    }
   },
   "outputs": [],
   "source": [
    "# apply calibration to device setup\n",
    "my_setup.set_calibration(my_base_calibration)\n",
    "\n",
    "q0 = my_setup.logical_signal_groups[\"q0\"].logical_signals\n",
    "q1 = my_setup.logical_signal_groups[\"q1\"].logical_signals\n"
   ]
  },
  {
   "cell_type": "code",
   "execution_count": null,
   "id": "6bb93815",
   "metadata": {},
   "outputs": [],
   "source": [
    "# create and connect to a LabOne Q session\n",
    "my_session = Session(device_setup=my_setup)\n",
    "my_session.connect(do_emulation=use_emulation)\n"
   ]
  },
  {
   "attachments": {},
   "cell_type": "markdown",
   "metadata": {},
   "source": [
    "# 2. Calibration of state discrimination\n",
    "\n",
    "We determine the optimal integration weights by subtracting and conjugating the raw response corresponding to the two different qubit states. We then additionall rotate these integration weights to result in maximum separation of the resulting IQ valuebs on the real axis and set the threshold to the setup calibration."
   ]
  },
  {
   "attachments": {},
   "cell_type": "markdown",
   "metadata": {},
   "source": [
    "## 2.1 Define measurement pulse waveforms to simulate measurement of |0> and |1> qubit states"
   ]
  },
  {
   "cell_type": "code",
   "execution_count": null,
   "metadata": {},
   "outputs": [],
   "source": [
    "# measure pulse parameters\n",
    "pulse_len = my_qubit.parameters.readout_length\n",
    "pulse_phase = np.pi / 4\n",
    "\n",
    "# sampling rate of SHFQC\n",
    "sampling_rate = 2.0e9\n",
    "\n",
    "pulse_freq = 0.0\n",
    "measure0_gen2 = pulse_library.sampled_pulse_complex(\n",
    "    complex_freq_phase(\n",
    "        sampling_rate, pulse_len, pulse_freq, my_qubit.parameters.readout_amplitude, 0\n",
    "    )\n",
    ")\n",
    "measure1_gen2 = pulse_library.sampled_pulse_complex(\n",
    "    complex_freq_phase(\n",
    "        sampling_rate,\n",
    "        pulse_len,\n",
    "        pulse_freq,\n",
    "        my_qubit.parameters.readout_amplitude,\n",
    "        pulse_phase,\n",
    "    )\n",
    ")\n"
   ]
  },
  {
   "attachments": {},
   "cell_type": "markdown",
   "metadata": {},
   "source": [
    "## 2.2 Determine optimal integration weights based on raw readout results of two measurement pulses"
   ]
  },
  {
   "cell_type": "code",
   "execution_count": null,
   "metadata": {},
   "outputs": [],
   "source": [
    "## Raw |0>\n",
    "r = my_session.run(exp_raw(measure_pulse=measure0_gen2, q0=q0, pulse_len=pulse_len))\n",
    "raw0 = r.acquired_results[\"raw\"].data\n",
    "\n",
    "## Raw |1>\n",
    "r = my_session.run(exp_raw(measure_pulse=measure1_gen2, q0=q0, pulse_len=pulse_len))\n",
    "raw1 = r.acquired_results[\"raw\"].data\n",
    "\n",
    "## optimal integration kernel\n",
    "samples_kernel = np.conj(raw1 - raw0)\n",
    "# plt.figure()\n",
    "# plt.plot(samples_kernel.real, samples_kernel.imag)\n",
    "plt.figure()\n",
    "plt.plot(samples_kernel.real)\n",
    "plt.plot(samples_kernel.imag)\n"
   ]
  },
  {
   "attachments": {},
   "cell_type": "markdown",
   "metadata": {},
   "source": [
    "## 2.3 Determine optimal rotation of integration weights and discrimination threshold"
   ]
  },
  {
   "cell_type": "code",
   "execution_count": null,
   "metadata": {},
   "outputs": [],
   "source": [
    "do_rotation = True\n",
    "\n",
    "my_exp = exp_integration(\n",
    "    measure0=measure0_gen2,\n",
    "    measure1=measure1_gen2,\n",
    "    q0=q0,\n",
    "    q1=q1,\n",
    "    samples_kernel=samples_kernel,\n",
    ")\n",
    "\n",
    "r = my_session.run(my_exp)\n",
    "res0 = r.acquired_results[\"data0\"].data\n",
    "res1 = r.acquired_results[\"data1\"].data\n",
    "\n",
    "connect_vector = np.median(res1) - np.median(res0)\n",
    "if do_rotation:\n",
    "    rotation_angle = -np.angle(connect_vector)\n",
    "else:\n",
    "    rotation_angle = 0\n",
    "\n",
    "res0_rot = res0 * np.exp(1j * rotation_angle)\n",
    "res1_rot = res1 * np.exp(1j * rotation_angle)\n",
    "\n",
    "my_threshold = (np.median(res0_rot.real) + np.median(res1_rot.real)) / 2\n",
    "\n",
    "if do_rotation:\n",
    "    plt.scatter(res0.real, res0.imag, c=\"k\", alpha=0.1)\n",
    "    plt.scatter(res1.real, res1.imag, c=\"g\", alpha=0.1)\n",
    "\n",
    "plt.scatter(res0_rot.real, res0_rot.imag, c=\"b\")\n",
    "plt.scatter(res1_rot.real, res1_rot.imag, c=\"r\")\n",
    "plt.plot(\n",
    "    [my_threshold, my_threshold],\n",
    "    [\n",
    "        min([*res0_rot.imag, *res1_rot.imag, *res0.imag, *res1.imag]),\n",
    "        max([*res0_rot.imag, *res1_rot.imag, *res0.imag, *res1.imag]),\n",
    "    ],\n",
    "    \"r\",\n",
    ")\n",
    "if do_rotation:\n",
    "    print(f\"Using threshold = {my_threshold:e} and rotation angle: {rotation_angle:e}\")\n",
    "else:\n",
    "    print(f\"Using threshold={my_threshold:e}\")\n"
   ]
  },
  {
   "cell_type": "code",
   "execution_count": null,
   "metadata": {},
   "outputs": [],
   "source": [
    "## define properly rotated integration kernel and set state discrimination threshold in device setup calibration\n",
    "my_integration_weights = pulse_library.sampled_pulse_complex(\n",
    "    samples_kernel * np.exp(1j * rotation_angle)\n",
    ")\n",
    "\n",
    "q0[\"acquire_line\"].calibration.threshold = my_threshold\n"
   ]
  },
  {
   "attachments": {},
   "cell_type": "markdown",
   "metadata": {},
   "source": [
    "## 2.4 Checks status of state discrimination calibration"
   ]
  },
  {
   "attachments": {},
   "cell_type": "markdown",
   "metadata": {},
   "source": [
    "### 2.4.1 check for proper rotation of kernel - IQ values should be maximally separate on the real axis\n"
   ]
  },
  {
   "cell_type": "code",
   "execution_count": null,
   "metadata": {},
   "outputs": [],
   "source": [
    "my_other_exp = exp_integration(\n",
    "    measure0=measure0_gen2,\n",
    "    measure1=measure1_gen2,\n",
    "    q0=q0,\n",
    "    q1=q1,\n",
    "    samples_kernel=samples_kernel,\n",
    "    rotation_angle=rotation_angle,\n",
    ")\n",
    "\n",
    "r = my_session.run(my_other_exp)\n",
    "\n",
    "res0 = r.acquired_results[\"data0\"].data\n",
    "res1 = r.acquired_results[\"data1\"].data\n",
    "\n",
    "connect_vector = np.median(res1) - np.median(res0)\n",
    "\n",
    "threshold_rot = (np.median(res0.real) + np.median(res1.real)) / 2\n",
    "\n",
    "plt.scatter(res0.real, res0.imag, c=\"b\")\n",
    "plt.scatter(res1.real, res1.imag, c=\"r\")\n",
    "\n",
    "plt.plot(\n",
    "    [threshold_rot, threshold_rot],\n",
    "    [min([*res0.imag, *res1.imag]), max([*res0.imag, *res1.imag])],\n",
    "    \"r\",\n",
    ")\n",
    "\n",
    "print(f\"Using threshold={threshold_rot:e}\")\n"
   ]
  },
  {
   "attachments": {},
   "cell_type": "markdown",
   "metadata": {},
   "source": [
    "### 2.4.2 Check correct state discrimination when including rotation of integration weights"
   ]
  },
  {
   "cell_type": "code",
   "execution_count": null,
   "metadata": {},
   "outputs": [],
   "source": [
    "r = my_session.run(\n",
    "    exp_discrimination(\n",
    "        measure0=measure0_gen2,\n",
    "        measure1=measure1_gen2,\n",
    "        q0=q0,\n",
    "        q1=q1,\n",
    "        samples_kernel=samples_kernel,\n",
    "        threshold=my_threshold,\n",
    "        rotation_angle=rotation_angle,\n",
    "    )\n",
    ")\n",
    "s0 = r.acquired_results[\"data0\"].data\n",
    "s1 = r.acquired_results[\"data1\"].data\n",
    "\n",
    "plt.plot(s0.real, \".b\")\n",
    "plt.plot(s1.real, \".r\")\n"
   ]
  },
  {
   "attachments": {},
   "cell_type": "markdown",
   "metadata": {},
   "source": [
    "# 3. Feedback experiment\n",
    "\n",
    "Here we create a real-time feedback demonstration that plays back a user defined sequence of \"qubit states\" i.e. a sequences of different measurment pulses emulating different qubit states. The measured qubit state after state discrimination is used in a real-time feedback section to playback either of two pulses: x90 for the qubit in its ground state and x180 for the qubit in the excited state. "
   ]
  },
  {
   "attachments": {},
   "cell_type": "markdown",
   "metadata": {},
   "source": [
    "## 3.1 Define Experiment"
   ]
  },
  {
   "cell_type": "code",
   "execution_count": null,
   "metadata": {},
   "outputs": [],
   "source": [
    "def create_feedback_experiment(\n",
    "    feedback_pattern=\"1010111\",\n",
    "    num_average=2,\n",
    "    ## delay parameter between state readout and reset playback, needs to be minimal 120ns for local feedback and 400ns for global feedback\n",
    "    acquire_delay=120e-9,   \n",
    "    # parameters to simulate the qubit state discrimination      \n",
    "    measure_pulse0=measure0_gen2,\n",
    "    measure_pulse1=measure1_gen2,\n",
    "    integration_weights=my_integration_weights,\n",
    "    acquisition_type=AcquisitionType.DISCRIMINATION,\n",
    "    # parameters that determine the type of pulse sequence to be played\n",
    "    x90=my_qubit.pulses.qubit_x90,\n",
    "    x180=my_qubit.pulses.qubit_x180,\n",
    "    pattern_delay=1e-6,\n",
    "):\n",
    "    exp = Experiment(\n",
    "        signals=[\n",
    "            ExperimentSignal(\"drive\"),\n",
    "            ExperimentSignal(\"measure0\"),\n",
    "            ExperimentSignal(\"measure1\"),\n",
    "            ExperimentSignal(\"acquire\"),\n",
    "        ]\n",
    "    )\n",
    "    # ensure delay time is set large enough to allow for signal processing and data delivery\n",
    "    if feedback_type == \"local\" and acquire_delay < 120e-9:\n",
    "        print(\"Local feedback requires a longer additional delay time than specified, setting to 120ns.\")\n",
    "        acquire_delay=120e-9\n",
    "    elif feedback_type == \"global\" and acquire_delay < 400e-9:\n",
    "        print(\"Global feedback requires a longer additional delay time than specified, setting to 400ns.\")\n",
    "        acquire_delay=400e-9\n",
    "\n",
    "    with exp.acquire_loop_rt(\n",
    "        count=num_average,\n",
    "        averaging_mode=AveragingMode.CYCLIC,\n",
    "        acquisition_type=acquisition_type,\n",
    "    ):\n",
    "        # iterate over the letters of the given pattern\n",
    "        for id, letter in enumerate(feedback_pattern):\n",
    "            # placeholder for experiments / pulse sequences on the qubit\n",
    "            with exp.section(uid=f\"drive_{id}\"):\n",
    "                exp.delay(signal=\"drive\", time=5 * x90.length)\n",
    "            # qubit state readout\n",
    "            with exp.section(uid=f\"measure_{id}\", play_after=f\"drive_{id}\"):\n",
    "                # emulate qubit state by playing different measurment pulses based on pattern\n",
    "                if letter == \"0\":\n",
    "                    exp.play(signal=\"measure0\", pulse=measure_pulse0)\n",
    "                else:\n",
    "                    exp.play(signal=\"measure1\", pulse=measure_pulse1)\n",
    "                # acquire result, assign to handle\n",
    "                exp.acquire(\n",
    "                    signal=\"acquire\",\n",
    "                    handle=\"qubit_state\",\n",
    "                    kernel=integration_weights,\n",
    "                )\n",
    "                # delay after state discrimination and before reset pulse playback\n",
    "                exp.delay(signal=\"acquire\", time=acquire_delay)\n",
    "            # real-time feedback, fetching the measurement data identified by handle from the QA unit specified in the descriptor\n",
    "            # determines automatically if local (SHFQC only) of global (through PQSC) feedback path is to be used\n",
    "            with exp.match(\n",
    "                uid=f\"feedback_{id}\",\n",
    "                handle=\"qubit_state\",\n",
    "                play_after=f\"measure_{id}\",\n",
    "            ):\n",
    "                # measurement result 0 - ground state\n",
    "                with exp.case(state=0):\n",
    "                    # could be \"pass\". i.e. doing nothing. Here we instead play a x90 pulse, purely for visual reasons\n",
    "                    exp.play(signal=\"drive\", pulse=x90)\n",
    "                # measurement result 0 - excited state\n",
    "                with exp.case(state=1):\n",
    "                    # play x180 pulse\n",
    "                    exp.play(signal=\"drive\", pulse=x180)\n",
    "        # introduce a delay between repetitions of the pattern, only for visual distinction\n",
    "        with exp.section():\n",
    "            exp.delay(signal=\"drive\", time=pattern_delay)\n",
    "\n",
    "    return exp\n"
   ]
  },
  {
   "cell_type": "code",
   "execution_count": null,
   "metadata": {},
   "outputs": [],
   "source": [
    "my_signal_map = {\n",
    "    \"drive\": q0[\"drive_line\"],\n",
    "    \"measure0\": q0[\"measure_line\"],\n",
    "    \"measure1\": q1[\"measure_line\"],\n",
    "    \"acquire\": q0[\"acquire_line\"],\n",
    "}\n"
   ]
  },
  {
   "attachments": {},
   "cell_type": "markdown",
   "metadata": {},
   "source": [
    "## 3.3 Run experiment"
   ]
  },
  {
   "cell_type": "code",
   "execution_count": null,
   "metadata": {},
   "outputs": [],
   "source": [
    "my_feedback_exp = create_feedback_experiment(\n",
    "    feedback_pattern=\"1010111\",\n",
    "    acquire_delay=150e-9,\n",
    "    acquisition_type=AcquisitionType.INTEGRATION,\n",
    ")\n",
    "my_feedback_exp.set_signal_map(my_signal_map)\n"
   ]
  },
  {
   "cell_type": "code",
   "execution_count": null,
   "metadata": {},
   "outputs": [],
   "source": [
    "# compile experiment\n",
    "my_compiled_exp = my_session.compile(my_feedback_exp)\n"
   ]
  },
  {
   "cell_type": "code",
   "execution_count": null,
   "metadata": {},
   "outputs": [],
   "source": [
    "# run experiment and get the results\n",
    "my_results = my_session.run(my_compiled_exp)\n"
   ]
  },
  {
   "cell_type": "code",
   "execution_count": null,
   "metadata": {},
   "outputs": [],
   "source": [
    "# when executed in integration mode, IQ data of each state readout is still available\n",
    "my_data = my_results.get_data(\"qubit_state\")\n",
    "my_data\n"
   ]
  },
  {
   "cell_type": "code",
   "execution_count": null,
   "metadata": {},
   "outputs": [],
   "source": [
    "## Look at th pulse sheet - feedback is characterised by two simultaneous sections\n",
    "# show_pulse_sheet(\"feedback_experiment\", my_compiled_exp)\n"
   ]
  },
  {
   "cell_type": "code",
   "execution_count": null,
   "metadata": {},
   "outputs": [],
   "source": [
    "## have a look at the sequencer code for the QA unit, making the measurements\n",
    "print(my_compiled_exp.src[0][\"text\"])\n"
   ]
  },
  {
   "cell_type": "code",
   "execution_count": null,
   "metadata": {},
   "outputs": [],
   "source": [
    "## have a look at the sequencer code for the SG unit, playing the feedback pulses\n",
    "print(my_compiled_exp.src[1][\"text\"])\n"
   ]
  },
  {
   "cell_type": "code",
   "execution_count": null,
   "metadata": {},
   "outputs": [],
   "source": []
  }
 ],
 "metadata": {
  "kernelspec": {
   "display_name": "develop",
   "language": "python",
   "name": "develop"
  },
  "language_info": {
   "codemirror_mode": {
    "name": "ipython",
    "version": 3
   },
   "file_extension": ".py",
   "mimetype": "text/x-python",
   "name": "python",
   "nbconvert_exporter": "python",
   "pygments_lexer": "ipython3",
   "version": "3.11.0"
  },
  "orig_nbformat": 4,
  "vscode": {
   "interpreter": {
    "hash": "13449c5f825fe7a87315d4df6bc389ef4adf2b2262bad717199e4a7c71a2a192"
   }
  }
 },
 "nbformat": 4,
 "nbformat_minor": 5
}
