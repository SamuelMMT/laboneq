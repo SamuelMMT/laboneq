{
 "cells": [
  {
   "attachments": {},
   "cell_type": "markdown",
   "id": "fe2d00d7-c88e-4c5c-a2ca-8d6bc78ebe3e",
   "metadata": {
    "tags": []
   },
   "source": [
    "# Active Qudit Multistate Reset with SHF instruments\n",
    "\n",
    "In this notebook, you will learn how to execute active reset of a multistate qudit, i.e. active feedback based on real-time measurement of the qudit state. \n",
    "We require either a SHFQC instrument for this notebook or a combination of SHFSG and SHFQA connected via a PQSC. \n",
    "\n",
    "This demonstration runs without real qubits, assuming a loopback on the readout drive line directly into the readoud acquisition line. We emulate the different qubit states by up to four different readout measurement pulses, differing by a phase. \n",
    "To demonstrate real-time feedback, we first calibrate the state discrimintation unit for the four measurement pulses with which we choose to emulate the qudit response. Then we use this calibration to play an arbitrary simulated pattern of qudit states and demonstrate the real-time feedback capabilities of the instrument.  "
   ]
  },
  {
   "attachments": {},
   "cell_type": "markdown",
   "id": "4d4e7d0b-b53a-40e4-831c-236ed9d97c42",
   "metadata": {},
   "source": [
    "## 0. General Imports and Definitions"
   ]
  },
  {
   "attachments": {},
   "cell_type": "markdown",
   "id": "f3ecf2ff-f304-472a-b6d2-a50792a39a0d",
   "metadata": {
    "jp-MarkdownHeadingCollapsed": true,
    "tags": []
   },
   "source": [
    "### 0.1 Python Imports "
   ]
  },
  {
   "cell_type": "code",
   "execution_count": null,
   "id": "3514beeb",
   "metadata": {},
   "outputs": [],
   "source": [
    "import matplotlib.pyplot as plt\n",
    "import numpy as np\n",
    "\n",
    "# LabOne Q:\n",
    "from laboneq.simple import *\n",
    "from laboneq.dsl.experiment.builtins import *\n",
    "\n",
    "# utilities for multistate discrimination:\n",
    "import zhinst.utils.shfqa as shfqa_utils\n",
    "\n",
    "from laboneq.contrib.example_helpers.generate_example_datastore import (\n",
    "    generate_example_datastore,\n",
    "    get_first_named_entry,\n",
    ")\n"
   ]
  },
  {
   "cell_type": "code",
   "execution_count": null,
   "id": "978da021",
   "metadata": {},
   "outputs": [],
   "source": [
    "# Build an in-memory data store with device setup and qubit parameters for the\n",
    "# example notebooks\n",
    "dummy_db = generate_example_datastore(in_memory=True)\n",
    "\n",
    "use_emulation = True\n"
   ]
  },
  {
   "cell_type": "markdown",
   "id": "48a37d71",
   "metadata": {},
   "source": [
    "# 1. Device setup and calibration"
   ]
  },
  {
   "attachments": {},
   "cell_type": "markdown",
   "id": "ce9078f7",
   "metadata": {},
   "source": [
    "## 1.1 Load a calibrated Device Setup and qubit object"
   ]
  },
  {
   "cell_type": "code",
   "execution_count": null,
   "id": "47fcda96",
   "metadata": {},
   "outputs": [],
   "source": [
    "# Choose your setup - local feedback on a standalone SHFQC or ...\n",
    "# feedback_type=\"local\"\n",
    "# my_setup = get_first_named_entry(db=dummy_db, name=\"6_qubit_setup_shfqc_calibrated\")\n",
    "# ... global feedback on a combination of SHFSG and SHFQA, connected through a PQSC\n",
    "feedback_type = \"global\"\n",
    "my_setup = get_first_named_entry(\n",
    "    db=dummy_db, name=\"12_qubit_setup_shfsg_shfqa_shfqc_hdawg_pqsc_calibrated\"\n",
    ")\n",
    "\n",
    "my_qubit = get_first_named_entry(db=dummy_db, name=\"fixed_transmon_0\")\n",
    "\n",
    "q0 = my_setup.logical_signal_groups[\"q0\"].logical_signals\n",
    "q1 = my_setup.logical_signal_groups[\"q1\"].logical_signals\n",
    "q2 = my_setup.logical_signal_groups[\"q2\"].logical_signals\n",
    "q3 = my_setup.logical_signal_groups[\"q3\"].logical_signals\n"
   ]
  },
  {
   "cell_type": "markdown",
   "id": "e8952134",
   "metadata": {},
   "source": [
    "## 1.2 Adapt setup calibration\n",
    "\n",
    "In this notebook we are using pulses played from an additional set of measure lines to emulate the qudit being in the excited state. In this case we want to have the same instrument settings for the four used measurement lines. \n",
    "Additionally, for the method of readout weight calibration demonstrated in this notebook, the acquire line should not be modulated, as the calculated readout weights already contain the software modulation by construction."
   ]
  },
  {
   "cell_type": "code",
   "execution_count": null,
   "id": "ca08e999",
   "metadata": {},
   "outputs": [],
   "source": [
    "active_reset_calibration = Calibration()\n",
    "active_reset_calibration[\n",
    "    \"/logical_signal_groups/q1/measure_line\"\n",
    "] = my_setup.get_calibration()[\"/logical_signal_groups/q0/measure_line\"]\n",
    "active_reset_calibration[\n",
    "    \"/logical_signal_groups/q2/measure_line\"\n",
    "] = my_setup.get_calibration()[\"/logical_signal_groups/q0/measure_line\"]\n",
    "active_reset_calibration[\n",
    "    \"/logical_signal_groups/q3/measure_line\"\n",
    "] = my_setup.get_calibration()[\"/logical_signal_groups/q0/measure_line\"]\n",
    "active_reset_calibration[\n",
    "    \"/logical_signal_groups/q0/acquire_line\"\n",
    "] = my_setup.get_calibration()[\"/logical_signal_groups/q0/acquire_line\"]\n",
    "active_reset_calibration[\"/logical_signal_groups/q0/acquire_line\"].oscillator = None\n",
    "\n",
    "# print(active_reset_calibration)\n",
    "\n",
    "my_setup.set_calibration(active_reset_calibration)\n",
    "\n",
    "# print(my_setup.get_calibration())\n"
   ]
  },
  {
   "cell_type": "code",
   "execution_count": null,
   "id": "6bb93815",
   "metadata": {},
   "outputs": [],
   "source": [
    "# create and connect to a LabOne Q session\n",
    "my_session = Session(device_setup=my_setup)\n",
    "my_session.connect(do_emulation=use_emulation)\n"
   ]
  },
  {
   "attachments": {},
   "cell_type": "markdown",
   "id": "5bbb593c",
   "metadata": {},
   "source": [
    "## 2. Calibration of state discrimination\n",
    "\n",
    "We determine the optimal integration weights by measuring traces of the four qubit states (ground state, e, f, and h) and computing integration kernels using the toolkit routines. We simulate different qubit responses by playing pulses with different phases and amplitudes on the readout line. We have to make sure that the traces are a multiple of 16 samples long."
   ]
  },
  {
   "cell_type": "markdown",
   "metadata": {},
   "source": [
    "## 2.1 Obtain traces"
   ]
  },
  {
   "cell_type": "code",
   "execution_count": null,
   "id": "897d0354",
   "metadata": {},
   "outputs": [],
   "source": [
    "def create_calibration_experiment(\n",
    "    measure_pulse_time,\n",
    "    measure_pulse_phase,\n",
    "    measure_pulse_amplitude,\n",
    "    measure_signal,\n",
    "    acquire_time,\n",
    "    acquire_signal,\n",
    "):\n",
    "    @experiment(signals=[\"measure\", \"acquire\"])\n",
    "    def exp():\n",
    "        map_signal(\"measure\", measure_signal)\n",
    "        map_signal(\"acquire\", acquire_signal)\n",
    "\n",
    "        with acquire_loop_rt(count=1024, acquisition_type=AcquisitionType.RAW):\n",
    "            play(\n",
    "                signal=\"measure\",\n",
    "                pulse=pulse_library.const(length=measure_pulse_time),\n",
    "                phase=measure_pulse_phase,\n",
    "                amplitude=measure_pulse_amplitude,\n",
    "            )\n",
    "            acquire(signal=\"acquire\", handle=\"raw\", length=acquire_time)\n",
    "            delay(signal=\"measure\", time=2e-6)\n",
    "\n",
    "    return exp()"
   ]
  },
  {
   "cell_type": "code",
   "execution_count": null,
   "id": "c61c57ce",
   "metadata": {},
   "outputs": [],
   "source": [
    "num_states = 4\n",
    "phase_delta = np.pi / 2.5\n",
    "measure_pulse_time = 400e-9\n",
    "acquire_time = 300e-9\n",
    "\n",
    "experiments = [\n",
    "    create_calibration_experiment(\n",
    "        measure_pulse_time=measure_pulse_time,\n",
    "        measure_pulse_phase=phase_delta * i,\n",
    "        measure_pulse_amplitude=0.2 + 0.2 * i,\n",
    "        measure_signal=l[\"measure_line\"],\n",
    "        acquire_time=acquire_time,\n",
    "        acquire_signal=q0[\"acquire_line\"],\n",
    "    )\n",
    "    for i, l in enumerate([q0, q1, q2, q3])\n",
    "]\n",
    "\n",
    "traces = []\n",
    "for exp in experiments:\n",
    "    res = my_session.run(exp)\n",
    "    trace = res.get_data(\"raw\")\n",
    "    traces.append(trace[: (len(trace) // 16) * 16])"
   ]
  },
  {
   "cell_type": "markdown",
   "metadata": {},
   "source": [
    "## 2.2 Compute kernels"
   ]
  },
  {
   "cell_type": "markdown",
   "metadata": {},
   "source": [
    "We only need the number of states minus 1 kernels, the additional kernel is computed on the device."
   ]
  },
  {
   "cell_type": "code",
   "execution_count": null,
   "metadata": {},
   "outputs": [],
   "source": [
    "qdit_settings = shfqa_utils.multistate.QuditSettings(ref_traces=traces)\n",
    "weights = qdit_settings.weights[: num_states - 1]\n",
    "kernels = [pulse_library.sampled_pulse_complex(w.vector) for w in weights]"
   ]
  },
  {
   "cell_type": "code",
   "execution_count": null,
   "id": "ea9d2eed",
   "metadata": {},
   "outputs": [],
   "source": [
    "# Plot traces\n",
    "fig, ax = plt.subplots(2, 2)\n",
    "ax[0][0].plot(traces[0].real, alpha=0.5)\n",
    "ax[0][0].plot(traces[0].imag, alpha=0.5)\n",
    "ax[0][1].plot(traces[1].real, alpha=0.5)\n",
    "ax[0][1].plot(traces[1].imag, alpha=0.5)\n",
    "ax[1][0].plot(traces[2].real, alpha=0.5)\n",
    "ax[1][0].plot(traces[2].imag, alpha=0.5)\n",
    "ax[1][1].plot(traces[3].real, alpha=0.5)\n",
    "ax[1][1].plot(traces[3].imag, alpha=0.5)"
   ]
  },
  {
   "cell_type": "code",
   "execution_count": null,
   "id": "e98fa3fc",
   "metadata": {},
   "outputs": [],
   "source": [
    "# Plot kernels\n",
    "fig, ax = plt.subplots(2, 2)\n",
    "ax[0][0].plot(kernels[0].samples.real, alpha=0.5)\n",
    "ax[0][0].plot(kernels[0].samples.imag, alpha=0.5)\n",
    "ax[0][1].plot(kernels[1].samples.real, alpha=0.5)\n",
    "ax[0][1].plot(kernels[1].samples.imag, alpha=0.5)\n",
    "ax[1][0].plot(kernels[2].samples.real, alpha=0.5)\n",
    "ax[1][0].plot(kernels[2].samples.imag, alpha=0.5)\n",
    "for i, k in enumerate(kernels):\n",
    "    ax[1][1].plot(k.samples.real, k.samples.imag, [\"ro-\", \"gx-\", \"b+-\"][i], alpha=0.2)"
   ]
  },
  {
   "attachments": {},
   "cell_type": "markdown",
   "id": "38f12bb7",
   "metadata": {},
   "source": [
    "## 3. Feedback experiment\n",
    "\n",
    "Here, we create a real-time feedback demonstration that plays back a user defined sequence of \"qubit states\", i.e., a sequences of different measurement pulses emulating different qubit states. The measured qubit state after state discrimination is used in a real-time feedback section to play back one of four pulses. "
   ]
  },
  {
   "attachments": {},
   "cell_type": "markdown",
   "id": "879933eb",
   "metadata": {},
   "source": [
    "### 3.1 Define Experiment"
   ]
  },
  {
   "cell_type": "code",
   "execution_count": null,
   "id": "00ef4ef3",
   "metadata": {},
   "outputs": [],
   "source": [
    "def create_feedback_experiment(feedback_pattern=\".-.. *==== --.-\", kernels=kernels):\n",
    "    # Pattern example: \".-.. *==== --.-\"\n",
    "    # with:\n",
    "    # . ground state\n",
    "    # - first excited state\n",
    "    # * second excited state\n",
    "    # = third excited state\n",
    "    # (empty space) break between symbols\n",
    "\n",
    "    num_average = 4\n",
    "    space_delay = 400e-9\n",
    "    pattern_delay = 1000e-9\n",
    "    acquire_delay = 120e-9\n",
    "    measure_pulse_time = 400e-9\n",
    "    acquire_time = 300e-9\n",
    "\n",
    "    length = my_qubit.parameters.user_defined[\"pulse_length\"]\n",
    "    xg = pulse_library.drag(\n",
    "        uid=f\"xg\", length=length, amplitude=0.2, sigma=0.3, beta=0.4\n",
    "    )\n",
    "    xe = pulse_library.drag(\n",
    "        uid=f\"xe\", length=length, amplitude=0.4, sigma=0.3, beta=0.4\n",
    "    )\n",
    "    xf = pulse_library.drag(\n",
    "        uid=f\"xf\", length=length, amplitude=0.6, sigma=0.3, beta=0.4\n",
    "    )\n",
    "    xh = pulse_library.drag(\n",
    "        uid=f\"xh\", length=length, amplitude=0.8, sigma=0.3, beta=0.4\n",
    "    )\n",
    "    measure_pulse = pulse_library.const(length=measure_pulse_time)\n",
    "\n",
    "    @experiment(\n",
    "        signals=[\"drive\", \"measure\", \"measure_e\", \"measure_f\", \"measure_h\", \"acquire\"]\n",
    "    )\n",
    "    def exp():\n",
    "        map_signal(\"drive\", q0[\"drive_line\"])\n",
    "        map_signal(\"measure\", q0[\"measure_line\"])\n",
    "        map_signal(\"measure_e\", q1[\"measure_line\"])\n",
    "        map_signal(\"measure_f\", q2[\"measure_line\"])\n",
    "        map_signal(\"measure_h\", q3[\"measure_line\"])\n",
    "        map_signal(\"acquire\", q0[\"acquire_line\"])\n",
    "\n",
    "        with acquire_loop_rt(\n",
    "            count=num_average,\n",
    "            acquisition_type=AcquisitionType.DISCRIMINATION,\n",
    "            uid=\"shots\",\n",
    "        ):\n",
    "            # iterate over the letters of the given pattern\n",
    "            last = None\n",
    "            id = 0\n",
    "            for id, letter in enumerate(feedback_pattern):\n",
    "                if letter == \" \":\n",
    "                    with section(uid=f\"delay_{id}\", play_after=last):\n",
    "                        delay(signal=\"drive\", time=space_delay)\n",
    "                    last = f\"delay_{id}\"\n",
    "                    continue\n",
    "                with section(uid=f\"measure_{id}\", play_after=last):\n",
    "                    # emulate qubit state by playing different measurement pulses based on pattern\n",
    "                    idx = {\".\": 0, \"-\": 1, \"*\": 2, \"=\": 3}[letter]\n",
    "                    line = [\"measure\", \"measure_e\", \"measure_f\", \"measure_h\"][idx]\n",
    "                    phase = phase_delta * idx\n",
    "                    amp = 0.2 + 0.2 * idx\n",
    "                    play(signal=line, pulse=measure_pulse, phase=phase, amplitude=amp)\n",
    "                    acquire(signal=\"acquire\", handle=\"qubit_state\", kernel=kernels)\n",
    "                    # delay after state discrimination and before reset pulse playback\n",
    "                if acquire_delay > 0:\n",
    "                    with section(uid=f\"acquire_delay_{id}\", play_after=f\"measure_{id}\"):\n",
    "                        # delay after state discrimination and before reset pulse playback\n",
    "                        reserve(signal=\"acquire\")\n",
    "                        delay(signal=\"drive\", time=acquire_delay)\n",
    "                        last = f\"acquire_delay_{id}\"\n",
    "                # real-time feedback, fetching the measurement data identified by handle from the QA unit specified in the descriptor\n",
    "                # determines automatically if local (SHFQC only) of global (through PQSC) feedback path is to be used\n",
    "                with match(uid=f\"feedback_{id}\", handle=\"qubit_state\", play_after=last):\n",
    "                    with case(state=0):\n",
    "                        play(signal=\"drive\", pulse=xg)\n",
    "                    with case(state=1):\n",
    "                        play(signal=\"drive\", pulse=xe)\n",
    "                    if len(kernels) > 1:\n",
    "                        with case(state=2):\n",
    "                            play(signal=\"drive\", pulse=xf)\n",
    "                    if len(kernels) > 2:\n",
    "                        with case(state=3):\n",
    "                            play(signal=\"drive\", pulse=xh)\n",
    "                last = f\"feedback_{id}\"\n",
    "            # introduce a delay between repetitions of the pattern, only for visual distinction\n",
    "            with section(uid=f\"pattern_delay{id}\", play_after=last):\n",
    "                delay(signal=\"drive\", time=pattern_delay)\n",
    "            last = f\"pattern_delay{id}\"\n",
    "\n",
    "    return exp()"
   ]
  },
  {
   "attachments": {},
   "cell_type": "markdown",
   "id": "8fbdf1f3",
   "metadata": {},
   "source": [
    "### 3.2 Run experiment"
   ]
  },
  {
   "cell_type": "code",
   "execution_count": null,
   "id": "698c049c",
   "metadata": {},
   "outputs": [],
   "source": [
    "my_feedback_exp = create_feedback_experiment()\n"
   ]
  },
  {
   "cell_type": "code",
   "execution_count": null,
   "id": "fc7e15b3",
   "metadata": {},
   "outputs": [],
   "source": [
    "# compile experiment\n",
    "my_compiled_exp = my_session.compile(my_feedback_exp)\n"
   ]
  },
  {
   "cell_type": "code",
   "execution_count": null,
   "id": "cc52e915",
   "metadata": {},
   "outputs": [],
   "source": [
    "# run experiment and get the results\n",
    "my_results = my_session.run(my_compiled_exp)\n"
   ]
  },
  {
   "cell_type": "code",
   "execution_count": null,
   "id": "207ef9fa",
   "metadata": {},
   "outputs": [],
   "source": [
    "# verify results (will return False in emulation mode)\n",
    "my_data = my_results.get_data(\"qubit_state\")\n",
    "print(my_data)\n",
    "all(my_data.real.astype(np.int16) == [0, 1, 0, 0, 2, 3, 3, 3, 3, 1, 1, 0, 1])\n"
   ]
  },
  {
   "cell_type": "code",
   "execution_count": null,
   "id": "21a5ecc2",
   "metadata": {},
   "outputs": [],
   "source": [
    "## Look at th pulse sheet - feedback is characterised by two simultaneous sections\n",
    "# show_pulse_sheet(\"feedback_experiment\", my_compiled_exp)\n"
   ]
  },
  {
   "cell_type": "code",
   "execution_count": null,
   "id": "7dafdd44",
   "metadata": {},
   "outputs": [],
   "source": [
    "## have a look at the sequencer code for the QA unit, making the measurements\n",
    "print(my_compiled_exp.src[0][\"text\"])\n"
   ]
  },
  {
   "cell_type": "code",
   "execution_count": null,
   "id": "c862456d",
   "metadata": {},
   "outputs": [],
   "source": [
    "## have a look at the sequencer code for the SG unit, playing the feedback pulses\n",
    "print(my_compiled_exp.src[1][\"text\"])\n"
   ]
  }
 ],
 "metadata": {
  "kernelspec": {
   "display_name": "ZI_LabOneQ_2p11",
   "language": "python",
   "name": "python3"
  },
  "language_info": {
   "codemirror_mode": {
    "name": "ipython",
    "version": 3
   },
   "file_extension": ".py",
   "mimetype": "text/x-python",
   "name": "python",
   "nbconvert_exporter": "python",
   "pygments_lexer": "ipython3",
   "version": "3.11.4"
  },
  "orig_nbformat": 4
 },
 "nbformat": 4,
 "nbformat_minor": 5
}
